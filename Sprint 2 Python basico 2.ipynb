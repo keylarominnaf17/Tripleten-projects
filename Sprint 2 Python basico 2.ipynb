{
 "cells": [
  {
   "cell_type": "markdown",
   "metadata": {},
   "source": [
    "<div class=\"alert alert-block alert-danger\">\n",
    "<b>Comentario del revisor (2da Iteracion)</b> <a class=“tocSkip”></a>\n",
    "\n",
    "Muy buen avance Keyla! Sólo hace falta una corrección en el paso 4 para que tu proyecto esté completo, te he dejado más detalles en el ejercicio\n",
    "</div>"
   ]
  },
  {
   "cell_type": "markdown",
   "metadata": {},
   "source": [
    "Hola **Keyla**!\n",
    "\n",
    "Soy **Patricio Requena** 👋. Es un placer ser el revisor de tu proyecto el día de hoy!\n",
    "\n",
    "Revisaré tu proyecto detenidamente con el objetivo de ayudarte a mejorar y perfeccionar tus habilidades. Durante mi revisión, identificaré áreas donde puedas hacer mejoras en tu código, señalando específicamente qué y cómo podrías ajustar para optimizar el rendimiento y la claridad de tu proyecto. Además, es importante para mí destacar los aspectos que has manejado excepcionalmente bien. Reconocer tus fortalezas te ayudará a entender qué técnicas y métodos están funcionando a tu favor y cómo puedes aplicarlos en futuras tareas. \n",
    "\n",
    "_**Recuerda que al final de este notebook encontrarás un comentario general de mi parte**_, empecemos!\n",
    "\n",
    "Encontrarás mis comentarios dentro de cajas verdes, amarillas o rojas, ⚠️ **por favor, no muevas, modifiques o borres mis comentarios** ⚠️:\n",
    "\n",
    "\n",
    "<div class=\"alert alert-block alert-success\">\n",
    "<b>Comentario del revisor</b> <a class=“tocSkip”></a>\n",
    "Si todo está perfecto.\n",
    "</div>\n",
    "\n",
    "<div class=\"alert alert-block alert-warning\">\n",
    "<b>Comentario del revisor</b> <a class=“tocSkip”></a>\n",
    "Si tu código está bien pero se puede mejorar o hay algún detalle que le hace falta.\n",
    "</div>\n",
    "\n",
    "<div class=\"alert alert-block alert-danger\">\n",
    "<b>Comentario del revisor</b> <a class=“tocSkip”></a>\n",
    "Si de pronto hace falta algo o existe algún problema con tu código o conclusiones.\n",
    "</div>\n",
    "\n",
    "Puedes responderme de esta forma:\n",
    "<div class=\"alert alert-block alert-info\">\n",
    "<b>Respuesta del estudiante</b> <a class=“tocSkip”></a>\n",
    "</div>"
   ]
  },
  {
   "cell_type": "markdown",
   "metadata": {
    "id": "UCjlyTyyJm9R"
   },
   "source": [
    "\n",
    "\n",
    "Todavía desempeñándote como miembro del equipo analítico, en el primer proyecto hemos sentado las bases para la segunda fase. ¡Hemos llegado! Ahora aplicarás técnicas avanzadas para extraer datos significativos, atendiendo a las crecientes necesidades del cliente."
   ]
  },
  {
   "cell_type": "markdown",
   "metadata": {
    "id": "4ZzATQthJm9Y"
   },
   "source": [
    "Como sabes, las empresas recopilan y almacenan datos de una forma particular. Store 1 quiere almacenar toda la información de sus clientes en una tabla.\n",
    "\n",
    "\n",
    "| user_id | user_name | user_age | purchase_category | spending_per_category |\n",
    "| --- | --- | --- | --- | --- |\n",
    "| '32415' | 'mike', 'reed' | 32 | 'electronics', 'sport', 'books' | 894, 213, 173 |\n",
    "| '31980' | 'kate', 'morgan' | 24 | 'clothes', 'shoes' | 439, 390 |\n",
    "\n",
    "En términos técnicos, una tabla es simplemente una lista anidada que contiene una sublista para cada usuario o usuaria.\n",
    "\n",
    "Store 1 ha creado una tabla de este tipo para sus usuarios. Está almacenada en la variable \"users\". Cada sublista contiene el ID del usuario, nombre y apellido, edad, categorías favoritas y el importe gastado en cada categoría."
   ]
  },
  {
   "cell_type": "markdown",
   "metadata": {
    "id": "EMQlsEYlxGET"
   },
   "source": [
    "-\t**user_id:** el identificador único para cada usuario.\n",
    "-\t**user_name:** el nombre de usuario.\n",
    "-\t**user_age:** la edad del usuario.\n",
    "-\t**fav_categories:** las categorías de artículos comprados por el usuario, como 'ELECTRONICS', 'SPORT', 'BOOKS', etc.\n",
    "-\t**total_spendings:** la lista de enteros que indican la cantidad gastada en cada una de sus categorías favoritas.\n"
   ]
  },
  {
   "cell_type": "code",
   "execution_count": 1,
   "metadata": {
    "id": "LfBCH4crxLOt"
   },
   "outputs": [],
   "source": [
    "users = [\n",
    "    ['32415', ' mike_reed ', 32.0, ['ELECTRONICS', 'SPORT', 'BOOKS'], [894, 213, 173]],\n",
    "    ['31980', 'kate morgan', 24.0, ['CLOTHES', 'BOOKS'], [439, 390]],\n",
    "    ['32156', ' john doe ', 37.0, ['ELECTRONICS', 'HOME', 'FOOD'], [459, 120, 99]],\n",
    "    ['32761', 'SAMANTHA SMITH', 29.0, ['CLOTHES', 'ELECTRONICS', 'BEAUTY'], [299, 679, 85]],\n",
    "    ['32984', 'David White', 41.0, ['BOOKS', 'HOME', 'SPORT'], [234, 329, 243]],\n",
    "    ['33001', 'emily brown', 26.0, ['BEAUTY', 'HOME', 'FOOD'], [213, 659, 79]],\n",
    "    ['33767', ' Maria Garcia', 33.0, ['CLOTHES', 'FOOD', 'BEAUTY'], [499, 189, 63]],\n",
    "    ['33912', 'JOSE MARTINEZ', 22.0, ['SPORT', 'ELECTRONICS', 'HOME'], [259, 549, 109]],\n",
    "    ['34009', 'lisa wilson ', 35.0, ['HOME', 'BOOKS', 'CLOTHES'], [329, 189, 329]],\n",
    "    ['34278', 'James Lee', 28.0, ['BEAUTY', 'CLOTHES', 'ELECTRONICS'], [189, 299, 579]],\n",
    "]\n"
   ]
  },
  {
   "cell_type": "markdown",
   "metadata": {
    "id": "vgnoxECvlWvr"
   },
   "source": [
    "# Paso 1\n",
    "\n",
    "En la última tarea de la primera parte de este proyecto escribiste código para:\n",
    "\n",
    "1. Eliminar todos los espacios iniciales y finales de los nombres, así como cualquier guion bajo.\n",
    "2. Convertir todas las edades en números enteros.\n",
    "3. Separar todos los nombres y apellidos en una sublista.\n",
    "\n",
    "Hagámoslo ahora una función para que podamos usarla para fijar a cualquier cliente. Nombra a tu función `clean_user`. Debe recibir una lista con toda la información del cliente (user_info), así como dos enteros. Uno de ellos señala el índice del nombre del cliente y el otro es el índice de la edad del cliente en la lista. Debe devolver la lista limpia después de aplicar todos los cambios anteriores. Pruébala llamándola, pasándole la lista `test_user[]` y luego muéstrala en pantalla.\n"
   ]
  },
  {
   "cell_type": "code",
   "execution_count": 2,
   "metadata": {
    "colab": {
     "base_uri": "https://localhost:8080/"
    },
    "id": "RN6LIlHelWvr",
    "outputId": "632ceadd-0f9a-46cf-91c1-b4bea53623d0"
   },
   "outputs": [
    {
     "name": "stdout",
     "output_type": "stream",
     "text": [
      "['32415', ['mike', 'reed'], 32, ['ELECTRONICS', 'SPORT', 'BOOKS'], [894, 213, 173]]\n"
     ]
    }
   ],
   "source": [
    "def clean_user(user, name_index, age_index):\n",
    "\n",
    "    # Paso 1: elimina del nombre espacios iniciales y finales, así como guiones\n",
    "    user_name_1 = user[name_index].strip().replace('_', ' ')\n",
    "\n",
    "    # Paso 2: convierte la edad en entero\n",
    "    user_age_1 = int(user[age_index])\n",
    "\n",
    "    # Paso 3: separa el nombre y el apellido en una sublista\n",
    "    user_name_1 = user_name_1.split()\n",
    "\n",
    "    # Prepara la lista con la información completa del usuario\n",
    "    # Reemplaza el nombre y la edad originales con los datos limpios\n",
    "    user[name_index] = user_name_1\n",
    "    user[age_index] = user_age_1\n",
    "\n",
    "    return user\n",
    "\n",
    "# Prueba la función\n",
    "test_user = ['32415', ' mike_reed ', 32.0, ['ELECTRONICS', 'SPORT', 'BOOKS'], [894, 213, 173]]\n",
    "name_index = 1\n",
    "age_index = 2\n",
    "\n",
    "print(clean_user(test_user, name_index, age_index))"
   ]
  },
  {
   "cell_type": "markdown",
   "metadata": {},
   "source": [
    "<div class=\"alert alert-block alert-success\">\n",
    "<b>Comentario del revisor (1ra Iteracion)</b> <a class=“tocSkip”></a>\n",
    "\n",
    "Perfecto! Bien hecho el armado y llamado a la función. Aplicaste las operaciones correctas sobre las variables adecuadas sin perder el progreso entre línea y línea\n",
    "</div>"
   ]
  },
  {
   "cell_type": "markdown",
   "metadata": {
    "id": "E8u2OO1YlWvr"
   },
   "source": [
    "********Pista********\n",
    "\n",
    "Para implementar la función `clean_user`, efectúa los siguientes pasos:\n",
    "\n",
    "1. **Recortar y reemplazar:** utiliza `strip()` para eliminar espacios iniciales y finales del nombre del usuario y `replace('_', ' ')` para eliminar guiones bajos con espacios.\n",
    "2. **Convertir la edad:** convierte la edad en entero utilizando la función `int()`.\n",
    "3. **Separar el nombre:** utiliza el método `split()` para separar el nombre y el apellido, creando una sublista.\n",
    "\n",
    "Asegúrate de modificar la lista `user_info` que aparece actualizando el nombre y la edad con los datos limpios antes de devolver la lista. Prueba tu función con un usuario de ejemplo para verificar que funciona correctamente.\n"
   ]
  },
  {
   "cell_type": "markdown",
   "metadata": {
    "id": "zF6ADQNLJm9W"
   },
   "source": [
    "# Paso 2\n",
    "\n",
    "Observa que todas las categorías favoritas están almacenadas en mayúsculas. Llena una nueva lista llamada `fav_categories_low` con las mismas categorías, pero en minúsculas, iterando sobre los valores en la lista `fav_categories`, modificándolos y luego añade los nuevos valores a la lista `fav_categories_low`. Como siempre, muestra el resultado final.\n"
   ]
  },
  {
   "cell_type": "code",
   "execution_count": 3,
   "metadata": {
    "colab": {
     "base_uri": "https://localhost:8080/"
    },
    "id": "Ltoq2LXjJm9W",
    "outputId": "5a05c845-8d3c-4890-8070-38ccb63dd5b4"
   },
   "outputs": [
    {
     "name": "stdout",
     "output_type": "stream",
     "text": [
      "['electronics', 'sport', 'books']\n"
     ]
    }
   ],
   "source": [
    "fav_categories = ['ELECTRONICS', 'SPORT', 'BOOKS']\n",
    "fav_categories_low = []\n",
    "\n",
    "for value in fav_categories:\n",
    "    fav_categories_low.append(value.lower())\n",
    "\n",
    "print(fav_categories_low)"
   ]
  },
  {
   "cell_type": "markdown",
   "metadata": {},
   "source": [
    "<div class=\"alert alert-block alert-success\">\n",
    "<b>Comentario del revisor (1ra Iteracion)</b> <a class=“tocSkip”></a>\n",
    "\n",
    "Muy bien aplicado el uso del bucle for para cambiar a minúsculas las categorías\n",
    "</div>"
   ]
  },
  {
   "cell_type": "markdown",
   "metadata": {
    "id": "w0fevXJTJm9X"
   },
   "source": [
    "********Pista********\n",
    "\n",
    "Crea un bucle `for` que itere sobre la lista `fav_categories`. Utiliza el método `lower()` para transformar cada categoría a minúsculas. Luego, utiliza el método `append()` para agregar los valores actualizados a la lista `fav_categories_low`."
   ]
  },
  {
   "cell_type": "markdown",
   "metadata": {
    "id": "xhKqJwaqdrRu"
   },
   "source": [
    "# Paso 3\n",
    "\n",
    "Ahora hagamos lo mismo, pero para cada uno de los usuarios de la empresa. Llena una lista nueva llamada `users_categories_low` con los mismos usuarios, pero con sus categorías en minúsculas, iterando sobre los valores en la lista `users`, luego itera sobre los valores en `user_categories`, modificándolos, y después agrega los nuevos valores de usuarios a la lista `users_categories_low`. Como siempre, muestra el resultado final.\n"
   ]
  },
  {
   "cell_type": "code",
   "execution_count": 4,
   "metadata": {
    "colab": {
     "base_uri": "https://localhost:8080/"
    },
    "id": "uBfnDzZfdrR1",
    "outputId": "6e0b3a3b-c94e-4402-a9d1-dc88fe07256e"
   },
   "outputs": [
    {
     "name": "stdout",
     "output_type": "stream",
     "text": [
      "[['32415', ' mike_reed ', 32.0, ['electronics', 'sport', 'books'], [894, 213, 173]], ['31980', 'kate morgan', 24.0, ['clothes', 'books'], [439, 390]], ['32156', ' john doe ', 37.0, ['electronics', 'home', 'food'], [459, 120, 99]], ['32761', 'SAMANTHA SMITH', 29.0, ['clothes', 'electronics', 'beauty'], [299, 679, 85]], ['32984', 'David White', 41.0, ['books', 'home', 'sport'], [234, 329, 243]], ['33001', 'emily brown', 26.0, ['beauty', 'home', 'food'], [213, 659, 79]], ['33767', ' Maria Garcia', 33.0, ['clothes', 'food', 'beauty'], [499, 189, 63]], ['33912', 'JOSE MARTINEZ', 22.0, ['sport', 'electronics', 'home'], [259, 549, 109]], ['34009', 'lisa wilson ', 35.0, ['home', 'books', 'clothes'], [329, 189, 329]], ['34278', 'James Lee', 28.0, ['beauty', 'clothes', 'electronics'], [189, 299, 579]]]\n"
     ]
    }
   ],
   "source": [
    "users = [\n",
    "    ['32415', ' mike_reed ', 32.0, ['ELECTRONICS', 'SPORT', 'BOOKS'], [894, 213, 173]],\n",
    "    ['31980', 'kate morgan', 24.0, ['CLOTHES', 'BOOKS'], [439, 390]],\n",
    "    ['32156', ' john doe ', 37.0, ['ELECTRONICS', 'HOME', 'FOOD'], [459, 120, 99]],\n",
    "    ['32761', 'SAMANTHA SMITH', 29.0, ['CLOTHES', 'ELECTRONICS', 'BEAUTY'], [299, 679, 85]],\n",
    "    ['32984', 'David White', 41.0, ['BOOKS', 'HOME', 'SPORT'], [234, 329, 243]],\n",
    "    ['33001', 'emily brown', 26.0, ['BEAUTY', 'HOME', 'FOOD'], [213, 659, 79]],\n",
    "    ['33767', ' Maria Garcia', 33.0, ['CLOTHES', 'FOOD', 'BEAUTY'], [499, 189, 63]],\n",
    "    ['33912', 'JOSE MARTINEZ', 22.0, ['SPORT', 'ELECTRONICS', 'HOME'], [259, 549, 109]],\n",
    "    ['34009', 'lisa wilson ', 35.0, ['HOME', 'BOOKS', 'CLOTHES'], [329, 189, 329]],\n",
    "    ['34278', 'James Lee', 28.0, ['BEAUTY', 'CLOTHES', 'ELECTRONICS'], [189, 299, 579]],\n",
    "]\n",
    "users_categories_low = []\n",
    "\n",
    "for user in users:\n",
    "    user_copy = user.copy()\n",
    "    categories_low = []\n",
    "    for category in user_copy[3]:\n",
    "        categories_low.append(category.lower())\n",
    "    user_copy.pop(3)\n",
    "    user_copy.insert(3, categories_low)\n",
    "    \n",
    "    users_categories_low.append(user_copy)\n",
    "\n",
    "print(users_categories_low)"
   ]
  },
  {
   "cell_type": "markdown",
   "metadata": {
    "id": "lom04QHKdrR1"
   },
   "source": [
    "********Pista********\n",
    "\n",
    "Crea un bucle `for` que itere sobre la lista `users`. Luego crea otro bucle `for` que itere sobre las categorías de usuarios para acceder al usuario y modificarlo. Utiliza el método `lower()` para transformar cada categoría a minúsculas. Luego, modifica al usuario eliminando la lista de categorías anteriores con `pop()` y con `insert()` inserta la nueva en su lugar. A continuación utiliza el método `append()` para agregar a los usuarios actualizados a la lista `users_categories_low`."
   ]
  },
  {
   "cell_type": "markdown",
   "metadata": {},
   "source": [
    "<div class=\"alert alert-block alert-success\">\n",
    "<b>Comentario del revisor (1ra Iteracion)</b> <a class=“tocSkip”></a>\n",
    "\n",
    "Buen trabajo! Obtuviste la nueva lista con las correcciones aplicadas en el bucle for\n",
    "</div>"
   ]
  },
  {
   "cell_type": "markdown",
   "metadata": {
    "id": "uisdgp0or8rS"
   },
   "source": [
    "# Paso 4\n",
    "\n",
    "Ahora, completemos el código de nuestra función `clean_user` para limpiar la categoría:\n",
    "1. Añade otro parámetro con el índice de categorías.\n",
    "2. Pon todos los nombres en minúsculas antes de aplicar \"strip\" y \"replace\".\n",
    "\n",
    "Después, crea un bucle y aplica tu función a toda la lista de usuarios, agregando tus resultados a la lista `users_clean`. Después muéstralo"
   ]
  },
  {
   "cell_type": "code",
   "execution_count": 5,
   "metadata": {
    "colab": {
     "base_uri": "https://localhost:8080/"
    },
    "id": "ioGD_Cs5r8ra",
    "outputId": "fddb59df-a686-4270-9a01-1803d53a0da9"
   },
   "outputs": [
    {
     "name": "stdout",
     "output_type": "stream",
     "text": [
      "[['32415', [' mike', 'reed '], 32, ['electronics', 'sport', 'books'], [894, 213, 173]], ['31980', ['kate morgan'], 24, ['clothes', 'books'], [439, 390]], ['32156', [' john doe '], 37, ['electronics', 'home', 'food'], [459, 120, 99]], ['32761', ['SAMANTHA SMITH'], 29, ['clothes', 'electronics', 'beauty'], [299, 679, 85]], ['32984', ['David White'], 41, ['books', 'home', 'sport'], [234, 329, 243]], ['33001', ['emily brown'], 26, ['beauty', 'home', 'food'], [213, 659, 79]], ['33767', [' Maria Garcia'], 33, ['clothes', 'food', 'beauty'], [499, 189, 63]], ['33912', ['JOSE MARTINEZ'], 22, ['sport', 'electronics', 'home'], [259, 549, 109]], ['34009', ['lisa wilson '], 35, ['home', 'books', 'clothes'], [329, 189, 329]], ['34278', ['James Lee'], 28, ['beauty', 'clothes', 'electronics'], [189, 299, 579]]]\n"
     ]
    }
   ],
   "source": [
    "def clean_user(user_info, name_index, age_index, cat_index):\n",
    "\n",
    "  # Paso 1: pon todo en minúsculas y elimina del nombre espacios iniciales y finales, así como guiones\n",
    "    user_name_1 = user_info[name_index].lower().replace(\"_\",\"\").strip()\n",
    "\n",
    "  # Paso 2: convierte la edad en entero\n",
    "    user_age_1 = int(user_info[age_index])\n",
    "\n",
    "  # Paso 3: separa el nombre y el apellido en una sublista\n",
    "    user_name_1 = user_info[name_index].split(\"_\")\n",
    "\n",
    "  # Paso 4: convierte las categorías en minúsculas\n",
    "    categories_low = []\n",
    "\n",
    "    for category in user_info[cat_index]:\n",
    "        categories_low.append(category.lower())    \n",
    "              \n",
    "  # Prepara la lista con la información completa del usuario\n",
    "  # Reemplaza el nombre y la edad originales con los datos limpios\n",
    "  # escribe tu código aquí\n",
    "    \n",
    "    user_info[name_index] = user_name_1\n",
    "    user_info[age_index] = user_age_1\n",
    "    user_info[cat_index] = categories_low\n",
    " \n",
    "    return user_info\n",
    "\n",
    "users = [\n",
    "    ['32415', ' mike_reed ', 32.0, ['ELECTRONICS', 'SPORT', 'BOOKS'], [894, 213, 173]],\n",
    "    ['31980', 'kate morgan', 24.0, ['CLOTHES', 'BOOKS'], [439, 390]],\n",
    "    ['32156', ' john doe ', 37.0, ['ELECTRONICS', 'HOME', 'FOOD'], [459, 120, 99]],\n",
    "    ['32761', 'SAMANTHA SMITH', 29.0, ['CLOTHES', 'ELECTRONICS', 'BEAUTY'], [299, 679, 85]],\n",
    "    ['32984', 'David White', 41.0, ['BOOKS', 'HOME', 'SPORT'], [234, 329, 243]],\n",
    "    ['33001', 'emily brown', 26.0, ['BEAUTY', 'HOME', 'FOOD'], [213, 659, 79]],\n",
    "    ['33767', ' Maria Garcia', 33.0, ['CLOTHES', 'FOOD', 'BEAUTY'], [499, 189, 63]],\n",
    "    ['33912', 'JOSE MARTINEZ', 22.0, ['SPORT', 'ELECTRONICS', 'HOME'], [259, 549, 109]],\n",
    "    ['34009', 'lisa wilson ', 35.0, ['HOME', 'BOOKS', 'CLOTHES'], [329, 189, 329]],\n",
    "    ['34278', 'James Lee', 28.0, ['BEAUTY', 'CLOTHES', 'ELECTRONICS'], [189, 299, 579]],\n",
    "]\n",
    "\n",
    "name_index = 1\n",
    "age_index = 2\n",
    "cat_index = 3\n",
    "users_cleaned = []\n",
    "\n",
    "for user in users:\n",
    "    user_cleaned = clean_user(user, name_index, age_index, cat_index)\n",
    "    users_cleaned.append(user_cleaned)\n",
    "\n",
    "print(users_cleaned)"
   ]
  },
  {
   "cell_type": "code",
   "execution_count": 6,
   "metadata": {
    "scrolled": true
   },
   "outputs": [
    {
     "data": {
      "text/plain": [
       "['31980', ['kate morgan'], 24, ['clothes', 'books'], [439, 390]]"
      ]
     },
     "execution_count": 6,
     "metadata": {},
     "output_type": "execute_result"
    }
   ],
   "source": [
    "users[1]"
   ]
  },
  {
   "cell_type": "markdown",
   "metadata": {},
   "source": [
    "<div class=\"alert alert-block alert-danger\">\n",
    "<b>Comentario del revisor (1ra Iteracion)</b> <a class=“tocSkip”></a>\n",
    "\n",
    "por favor, completa este ejercicio. Es la combinación de los pasos anteriores.\n",
    "</div>"
   ]
  },
  {
   "cell_type": "markdown",
   "metadata": {},
   "source": [
    "<div class=\"alert alert-block alert-danger\">\n",
    "<b>Comentario del revisor (2da Iteracion)</b> <a class=“tocSkip”></a>\n",
    "\n",
    "Si revisas el resultado puedes observar que `mike_reed` continúa igual, esto debido al órden en el que estás aplicando strip y replace, en el paso 1 estás aplicando el replace, pero luego en el paso 3 estás usando strip sin considerar los cambios antes realizados. Si ya realizaste un cambio y lo guardaste en la variable user_name_1 debes seguir usando esa misma variable en paso 3 de lo contrario es cómo que nunca aplicaste el replace\n",
    "</div>"
   ]
  },
  {
   "cell_type": "markdown",
   "metadata": {
    "id": "h5SOurz6r8ra"
   },
   "source": [
    "********Pista********\n",
    "\n",
    "Efectúa los siguientes pasos para implementar la función `clean_user`:\n",
    "\n",
    "1. **Copia y adapta:** copia el código de tu función anterior `clean_user`.\n",
    "\n",
    "2. **Pon el nombre en minúsculas:** antes de aplicar `split()` y `replace()`, aplica `lower()` al nombre del cliente.\n",
    "\n",
    "3. **Procesa las categorías:** agrega una sección nueva para gestionar las categorías. Pon cada categoría de la lista en minúsculas y almacénalas en una nueva lista.\n",
    "\n",
    "4. **Ejecuta tu código:** asegúrate de que la función `clean_user` actualice la lista `user_info` con el nombre, edad y categorías limpias. Haz un bucle en la lista `users` y llama a la función `clean_user`, pasando el usuario, `name_index`, `age_index` y `cat_index` para especificar los índices correctos para el nombre, la edad y las categorías, respectivamente.\n",
    "\n",
    "5. Guarda cada nuevo usuario limpio en la lista nueva `users_cleaned`.\n",
    "\n",
    "Muestra en pantalla la lista `users_cleaned` para asegurarte de que tu código realiza las respectivas transformaciones.\n"
   ]
  },
  {
   "cell_type": "markdown",
   "metadata": {
    "id": "eONfrv9nJm9Y"
   },
   "source": [
    "# Paso 5\n",
    "\n",
    "La empresa desea conocer sus ingresos totales y te pide que proporciones este valor.\n",
    "Para calcular los ingresos de la empresa, sigue estos pasos:\n",
    "\n",
    "1. Utiliza `for` para iterar sobre la lista `users`.\n",
    "2. Extrae la lista de gastos de cada usuario y suma los valores.\n",
    "3. Actualiza el valor de los ingresos con el total de cada usuario.\n",
    "\n",
    "Así obtendrás los ingresos totales de la empresa que mostrarás en la pantalla al final.\n"
   ]
  },
  {
   "cell_type": "code",
   "execution_count": 7,
   "metadata": {
    "colab": {
     "base_uri": "https://localhost:8080/"
    },
    "id": "ijzboKgoJm9Y",
    "outputId": "9aad5fe8-55ec-475b-9b40-afc590ae05e6"
   },
   "outputs": [
    {
     "name": "stdout",
     "output_type": "stream",
     "text": [
      "[894, 213, 173]\n",
      "[439, 390]\n",
      "[459, 120, 99]\n",
      "[299, 679, 85]\n",
      "[234, 329, 243]\n",
      "[213, 659, 79]\n",
      "[499, 189, 63]\n",
      "[259, 549, 109]\n",
      "[329, 189, 329]\n",
      "[189, 299, 579]\n",
      "Total revenue: 9189\n"
     ]
    }
   ],
   "source": [
    "users = [['32415', ['mike', 'reed'], 32, ['electronics', 'sport', 'books'], [894, 213, 173]],\n",
    "         ['31980', ['kate', 'morgan'], 24, ['clothes', 'books'], [439, 390]],\n",
    "         ['32156', ['john', 'doe'], 37, ['electronics', 'home', 'food'], [459, 120, 99]],\n",
    "         ['32761', ['samantha', 'smith'], 29, ['clothes', 'electronics', 'beauty'], [299, 679, 85]],\n",
    "         ['32984', ['david', 'white'], 41, ['books', 'home', 'sport'], [234, 329, 243]],\n",
    "         ['33001', ['emily', 'brown'], 26, ['beauty', 'home', 'food'], [213, 659, 79]],\n",
    "         ['33767', ['maria', 'garcia'], 33, ['clothes', 'food', 'beauty'], [499, 189, 63]],\n",
    "         ['33912', ['jose', 'martinez'], 22, ['sport', 'electronics', 'home'], [259, 549, 109]],\n",
    "         ['34009', ['lisa', 'wilson'], 35, ['home', 'books', 'clothes'], [329, 189, 329]],\n",
    "         ['34278', ['james', 'lee'], 28, ['beauty', 'clothes', 'electronics'], [189, 299, 579]]]\n",
    "\n",
    "revenue = 0\n",
    "\n",
    "for user in users:\n",
    "    spendings_list = user[4]\n",
    "    print(spendings_list)\n",
    "\n",
    "for user in users:\n",
    "    spendings_list = user[4]\n",
    "    revenue += sum(spendings_list)\n",
    "\n",
    "print(f\"Total revenue: {revenue}\")"
   ]
  },
  {
   "cell_type": "markdown",
   "metadata": {
    "id": "s_1nxg0nJm9Y"
   },
   "source": [
    "********Pista********\n",
    "\n",
    "Para extraer la lista de gastos realizados por un usuario, utiliza la indexación y asígnala a la variable `spendings_list`. Luego, utiliza la función integrada para calcular la suma de `spending_list`. Por último, actualiza el valor de `revenue` añadiéndole  `total_spendings` mediante la asignación aumentada."
   ]
  },
  {
   "cell_type": "markdown",
   "metadata": {
    "id": "R1wNYes8Jm9X"
   },
   "source": [
    "# Paso 6\n",
    "\n",
    "La empresa quiere ofrecer descuentos a sus clientes leales. Los clientes que realizan compras por un importe total mayor a $1500 se consideran leales y recibirán un descuento.\n",
    "\n",
    "Nuestro objetivo es crear un bucle `while` que compruebe el importe total gastado y se detenga al alcanzarlo. Para simular nuevas compras, la variable `new_purchase` genera un número entre 30 y 80 en cada iteración del bucle. Esto representa la cantidad de dinero gastada en una nueva compra y es lo que debes agregar al total.\n",
    "\n",
    "Una vez que se alcance el importe objetivo y se termine el bucle `while`, se mostrará la cantidad final.\n"
   ]
  },
  {
   "cell_type": "code",
   "execution_count": 8,
   "metadata": {
    "colab": {
     "base_uri": "https://localhost:8080/"
    },
    "id": "eVBfoyx7Jm9X",
    "outputId": "27091cb5-f5f4-4b74-f92a-c2d822354a40"
   },
   "outputs": [
    {
     "name": "stdout",
     "output_type": "stream",
     "text": [
      "1504\n"
     ]
    }
   ],
   "source": [
    "from random import randint\n",
    "\n",
    "total_amount_spent = 1280\n",
    "target_amount = 1500\n",
    "\n",
    "while total_amount_spent < target_amount:\n",
    "\tnew_purchase = randint(30, 80) # generamos un número aleatorio de 30 a 80\n",
    "\ttotal_amount_spent += new_purchase\n",
    "\n",
    "print(total_amount_spent)"
   ]
  },
  {
   "cell_type": "markdown",
   "metadata": {},
   "source": [
    "<div class=\"alert alert-block alert-success\">\n",
    "<b>Comentario del revisor (1ra Iteracion)</b> <a class=“tocSkip”></a>\n",
    "\n",
    "Perfecto! Bien usado el operador para la sumatoria dentro los diferentes bucles\n",
    "</div>"
   ]
  },
  {
   "cell_type": "markdown",
   "metadata": {
    "id": "u7GIkFFnJm9Y"
   },
   "source": [
    "********Pista********\n",
    "\n",
    "En el bucle `while`, debes comparar `total_amount_spent` (importe total gastado) con `target_amount` (importe objetivo). Durante cada iteración del bucle, actualiza la variable `total_amount_spent` agregándole el valor `new_purchase`."
   ]
  },
  {
   "cell_type": "markdown",
   "metadata": {
    "id": "IoyNnalCJm9Z"
   },
   "source": [
    "# Paso 7\n",
    "\n",
    "Recorre la lista de usuarios que te hemos proporcionado y muestra los nombres de los clientes menores de 30 años.\n"
   ]
  },
  {
   "cell_type": "code",
   "execution_count": 9,
   "metadata": {
    "colab": {
     "base_uri": "https://localhost:8080/"
    },
    "id": "pn5WkcpJJm9Z",
    "outputId": "e95fe449-868e-4a89-f9e6-6e3c7b62bd80"
   },
   "outputs": [
    {
     "name": "stdout",
     "output_type": "stream",
     "text": [
      "['31980', ['kate', 'morgan'], 24, ['clothes', 'books'], [439, 390]]\n",
      "['32761', ['samantha', 'smith'], 29, ['clothes', 'electronics', 'beauty'], [299, 679, 85]]\n",
      "['33001', ['emily', 'brown'], 26, ['beauty', 'home', 'food'], [213, 659, 79]]\n",
      "['33912', ['jose', 'martinez'], 22, ['sport', 'electronics', 'home'], [259, 549, 109]]\n",
      "['34278', ['james', 'lee'], 28, ['beauty', 'clothes', 'electronics'], [189, 299, 579]]\n"
     ]
    }
   ],
   "source": [
    "users = [['32415', ['mike', 'reed'], 32, ['electronics', 'sport', 'books'], [894, 213, 173]],\n",
    "         ['31980', ['kate', 'morgan'], 24, ['clothes', 'books'], [439, 390]],\n",
    "         ['32156', ['john', 'doe'], 37, ['electronics', 'home', 'food'], [459, 120, 99]],\n",
    "         ['32761', ['samantha', 'smith'], 29, ['clothes', 'electronics', 'beauty'], [299, 679, 85]],\n",
    "         ['32984', ['david', 'white'], 41, ['books', 'home', 'sport'], [234, 329, 243]],\n",
    "         ['33001', ['emily', 'brown'], 26, ['beauty', 'home', 'food'], [213, 659, 79]],\n",
    "         ['33767', ['maria', 'garcia'], 33, ['clothes', 'food', 'beauty'], [499, 189, 63]],\n",
    "         ['33912', ['jose', 'martinez'], 22, ['sport', 'electronics', 'home'], [259, 549, 109]],\n",
    "         ['34009', ['lisa', 'wilson'], 35, ['home', 'books', 'clothes'], [329, 189, 329]],\n",
    "         ['34278', ['james', 'lee'], 28, ['beauty', 'clothes', 'electronics'], [189, 299, 579]]]\n",
    "\n",
    "\n",
    "for user in users: \n",
    "    if user[2] < 30:\n",
    "        print(user)"
   ]
  },
  {
   "cell_type": "markdown",
   "metadata": {
    "id": "23wCUaWZJm9Z"
   },
   "source": [
    "********Pista********\n",
    "\n",
    "Utiliza el bucle for para iterar sobre cada fila de la tabla. Utiliza `if` dentro de un bucle `for` para imprimir el nombre de usuario o usuaria. El campo `age` tiene el índice 2"
   ]
  },
  {
   "cell_type": "markdown",
   "metadata": {},
   "source": [
    "<div class=\"alert alert-block alert-danger\">\n",
    "<b>Comentario del revisor (1ra Iteracion)</b> <a class=“tocSkip”></a>\n",
    "\n",
    "No se está mostrando el resultado correcto. Debes mostrar los nombres y aquí estás mostrando la edad\n",
    "</div>"
   ]
  },
  {
   "cell_type": "markdown",
   "metadata": {},
   "source": [
    "<div class=\"alert alert-block alert-success\">\n",
    "<b>Comentario del revisor (2da Iteracion)</b> <a class=“tocSkip”></a>\n",
    "\n",
    "Buen trabajo! Ahora se muestra los resultados según el condicional\n",
    "</div>"
   ]
  },
  {
   "cell_type": "markdown",
   "metadata": {
    "id": "0ok38JMoJm9Z"
   },
   "source": [
    "# Paso 8\n",
    "\n",
    "Mostremos en pantalla los nombres de los usuarios menores de 30 años que acumulan un gasto total superior a 1000 dólares.\n"
   ]
  },
  {
   "cell_type": "code",
   "execution_count": 10,
   "metadata": {
    "colab": {
     "base_uri": "https://localhost:8080/"
    },
    "id": "4oAW1QDFJm9Z",
    "outputId": "c514027b-62cc-42bd-a8bb-d29975abd663"
   },
   "outputs": [
    {
     "name": "stdout",
     "output_type": "stream",
     "text": [
      "['samantha', 'smith']\n",
      "['james', 'lee']\n"
     ]
    }
   ],
   "source": [
    "users = [['32415', ['mike', 'reed'], 32, ['electronics', 'sport', 'books'], [894, 213, 173]],\n",
    "         ['31980', ['kate', 'morgan'], 24, ['clothes', 'books'], [439, 390]],\n",
    "         ['32156', ['john', 'doe'], 37, ['electronics', 'home', 'food'], [459, 120, 99]],\n",
    "         ['32761', ['samantha', 'smith'], 29, ['clothes', 'electronics', 'beauty'], [299, 679, 85]],\n",
    "         ['32984', ['david', 'white'], 41, ['books', 'home', 'sport'], [234, 329, 243]],\n",
    "         ['33001', ['emily', 'brown'], 26, ['beauty', 'home', 'food'], [213, 659, 79]],\n",
    "         ['33767', ['maria', 'garcia'], 33, ['clothes', 'food', 'beauty'], [499, 189, 63]],\n",
    "         ['33912', ['jose', 'martinez'], 22, ['sport', 'electronics', 'home'], [259, 549, 109]],\n",
    "         ['34009', ['lisa', 'wilson'], 35, ['home', 'books', 'clothes'], [329, 189, 329]],\n",
    "         ['34278', ['james', 'lee'], 28, ['beauty', 'clothes', 'electronics'], [189, 299, 579]]]\n",
    "\n",
    "for user in users:\n",
    "    age = user[2]\n",
    "    total_spent = sum(user[4])\n",
    "    \n",
    "    if age < 30 and total_spent > 1000:\n",
    "        print(user[1])"
   ]
  },
  {
   "cell_type": "markdown",
   "metadata": {
    "id": "5atbF9e_Jm9Z"
   },
   "source": [
    "********Pista********\n",
    "\n",
    "Utiliza el bucle for para iterar sobre cada fila de la tabla. Utiliza `if` dentro de un bucle `for` para imprimir el nombre de usuario o usuaria. El campo `age` tiene el índice 2. Utiliza la función `sum` para sumar los gastos y luego comprueba si es mayor de 1000 dólares."
   ]
  },
  {
   "cell_type": "markdown",
   "metadata": {},
   "source": [
    "<div class=\"alert alert-block alert-success\">\n",
    "<b>Comentario del revisor (1ra Iteracion)</b> <a class=“tocSkip”></a>\n",
    "\n",
    "Correcto! El uso de condicionales es un paso importante para definir la lógica en tus proyectos. \n",
    "</div>"
   ]
  },
  {
   "cell_type": "markdown",
   "metadata": {
    "id": "H2jI5ljVJm9d"
   },
   "source": [
    "# Paso 9\n",
    "\n",
    "Ahora vamos a mostrar el nombre y la edad de todos los usuarios y todas las usuarias que han comprado ropa (\"clothes\"). Imprime el nombre y la edad en la misma declaración print.\n"
   ]
  },
  {
   "cell_type": "code",
   "execution_count": 11,
   "metadata": {
    "colab": {
     "base_uri": "https://localhost:8080/"
    },
    "id": "oSLk86udJm9d",
    "outputId": "5c323307-6591-4af9-c2d2-529a329367d6"
   },
   "outputs": [
    {
     "name": "stdout",
     "output_type": "stream",
     "text": [
      "['kate', 'morgan'] 24\n",
      "['samantha', 'smith'] 29\n",
      "['maria', 'garcia'] 33\n",
      "['lisa', 'wilson'] 35\n",
      "['james', 'lee'] 28\n"
     ]
    }
   ],
   "source": [
    "users = [['32415', ['mike', 'reed'], 32, ['electronics', 'sport', 'books'], [894, 213, 173]],\n",
    "         ['31980', ['kate', 'morgan'], 24, ['clothes', 'books'], [439, 390]],\n",
    "         ['32156', ['john', 'doe'], 37, ['electronics', 'home', 'food'], [459, 120, 99]],\n",
    "         ['32761', ['samantha', 'smith'], 29, ['clothes', 'electronics', 'beauty'], [299, 679, 85]],\n",
    "         ['32984', ['david', 'white'], 41, ['books', 'home', 'sport'], [234, 329, 243]],\n",
    "         ['33001', ['emily', 'brown'], 26, ['beauty', 'home', 'food'], [213, 659, 79]],\n",
    "         ['33767', ['maria', 'garcia'], 33, ['clothes', 'food', 'beauty'], [499, 189, 63]],\n",
    "         ['33912', ['jose', 'martinez'], 22, ['sport', 'electronics', 'home'], [259, 549, 109]],\n",
    "         ['34009', ['lisa', 'wilson'], 35, ['home', 'books', 'clothes'], [329, 189, 329]],\n",
    "         ['34278', ['james', 'lee'], 28, ['beauty', 'clothes', 'electronics'], [189, 299, 579]]]\n",
    "\n",
    "for user in users:\n",
    "    first_name = user[1]\n",
    "    age = user[2]\n",
    "    categories = user[3]\n",
    "   \n",
    "    if 'clothes' in categories:\n",
    "        print(first_name, age)"
   ]
  },
  {
   "cell_type": "markdown",
   "metadata": {
    "id": "EasWyEPqJm9d"
   },
   "source": [
    "********Pista********\n",
    "\n",
    "Utiliza el bucle for para iterar sobre cada fila de la tabla. A continuación, utiliza otro bucle para comprobar si este usuario ha comprado ropa (\"clothes\") y, en caso afirmativo, muestra el nombre y la edad dentro de la misma declaración print, separándolos por comas: `print(firstname, age)`."
   ]
  },
  {
   "cell_type": "markdown",
   "metadata": {},
   "source": [
    "<div class=\"alert alert-block alert-success\">\n",
    "<b>Comentario del revisor (1ra Iteracion)</b> <a class=“tocSkip”></a>\n",
    "\n",
    "Muy bien utilizado `in` para buscar dentro de la lista la categoría correcta\n",
    "</div>"
   ]
  },
  {
   "cell_type": "markdown",
   "metadata": {
    "id": "88QES-0NJzCJ"
   },
   "source": [
    "# Paso 10\n",
    "\n",
    "La dirección requiere de una función que proporcione información sobre los clientes, incluyendo sus nombres, edades y gasto total, filtrada por categorías específicas. Con base en fragmentos de código anteriores, crearemos una función llamada `get_client_by_cat` con las siguientes especificaciones:\n",
    "\n",
    "1. **Parámetros:**\n",
    "   - **users:** una lista con los datos de los usuarios.\n",
    "   - **id_index:** el índice donde está almacenado el ID del cliente en la lista de usuarios.\n",
    "   - **name_index:** el índice donde está almacenado el nombre del cliente en la lista de usuarios.\n",
    "   - **age_index:** el índice donde la edad del cliente está almacenada en la lista de usuarios.\n",
    "   - **category_index:** el índice donde las categorías de compras del cliente están listadas.\n",
    "   - **amounts_index:** el índice donde las cantidades gastadas en cada categoría están almacenadas.\n",
    "   - **filter_category:** un string que representa el nombre de la categoría para filtrar clientes.\n",
    "\n",
    "2. **Salida:**\n",
    "   - La función devuelve una lista de sublistas. Cada sublista contiene:\n",
    "     - El número ID del cliente.\n",
    "     - Una sublista con el nombre y apellido del cliente.\n",
    "     - La edad del cliente.\n",
    "     - Un entero que representa la cantidad total gastada por el cliente.\n",
    "\n",
    "Por ejemplo, si llamas a la función con los siguientes parámetros:\n",
    "\n",
    "\n",
    "```python\n",
    "get_client_by_cat([\n",
    "    ['32415', ['mike', 'reed'], 32, ['electronics', 'sport', 'books'], [894, 213, 173]]\n",
    "], 0, 1, 2, 3, 4, 'books')\n",
    "```\n",
    "\n",
    "La salida será:\n",
    "\n",
    "```python\n",
    "[['32415', ['mike', 'reed'], 32, 1280]]\n",
    "```\n",
    "\n",
    "Esta salida muestra que el cliente con el ID '32415', llamado Mike Reed, de 32 años, gastó un total de 1280 en la categoría 'books' y otras compras.\n",
    "\n",
    "Después de hacer tu función, llámala pasándole nuestra lista de usuarios, los índices adecuados y la categoría 'home' y muestra en pantalla la lista que resulta.\n",
    "\n"
   ]
  },
  {
   "cell_type": "code",
   "execution_count": 12,
   "metadata": {
    "colab": {
     "base_uri": "https://localhost:8080/"
    },
    "id": "-Iqf7AcXJzCP",
    "outputId": "ab62869b-a028-4096-9553-e0a5b5a8c92e"
   },
   "outputs": [
    {
     "name": "stdout",
     "output_type": "stream",
     "text": [
      "[['32156', ['john', 'doe'], 37, 678], ['32984', ['david', 'white'], 41, 806], ['33001', ['emily', 'brown'], 26, 951], ['33912', ['jose', 'martinez'], 22, 917], ['34009', ['lisa', 'wilson'], 35, 847]]\n"
     ]
    }
   ],
   "source": [
    "def get_client_by_cat(users, id_index, name_index, age_index, category_index, amounts_index, filter_category):\n",
    "    result = []\n",
    "    \n",
    "    for user in users:\n",
    "        categories = user[category_index]\n",
    "        if filter_category in categories:\n",
    "            idx = categories.index(filter_category)\n",
    "            total_spent = sum(user[amounts_index])\n",
    "            \n",
    "            result.append([user[id_index], user[name_index], user[age_index], total_spent])\n",
    "    return result\n",
    "    \n",
    "\n",
    "# La lista de usuarios\n",
    "users = [\n",
    "    ['32415', ['mike', 'reed'], 32, ['electronics', 'sport', 'books'], [894, 213, 173]],\n",
    "    ['31980', ['kate', 'morgan'], 24, ['clothes', 'books'], [439, 390]],\n",
    "    ['32156', ['john', 'doe'], 37, ['electronics', 'home', 'food'], [459, 120, 99]],\n",
    "    ['32761', ['samantha', 'smith'], 29, ['clothes', 'electronics', 'beauty'], [299, 679, 85]],\n",
    "    ['32984', ['david', 'white'], 41, ['books', 'home', 'sport'], [234, 329, 243]],\n",
    "    ['33001', ['emily', 'brown'], 26, ['beauty', 'home', 'food'], [213, 659, 79]],\n",
    "    ['33767', ['maria', 'garcia'], 33, ['clothes', 'food', 'beauty'], [499, 189, 63]],\n",
    "    ['33912', ['jose', 'martinez'], 22, ['sport', 'electronics', 'home'], [259, 549, 109]],\n",
    "    ['34009', ['lisa', 'wilson'], 35, ['home', 'books', 'clothes'], [329, 189, 329]],\n",
    "    ['34278', ['james', 'lee'], 28, ['beauty', 'clothes', 'electronics'], [189, 299, 579]]\n",
    "]\n",
    "\n",
    "# Llama a la función con la categoría 'home'\n",
    "result = get_client_by_cat(users, 0, 1, 2, 3, 4, 'home')\n",
    "\n",
    "print(result)"
   ]
  },
  {
   "cell_type": "markdown",
   "metadata": {
    "id": "wkWQL9Z9JzCP"
   },
   "source": [
    "********Pista********\n",
    "\n",
    "Utiliza un bucle for para iterar sobre cada usuario en la lista. Para cada usuario, verifica que la categoría deseada (\"filter_category\") esté en su lista de categorías de compras. Si se encuentra la categoría, calcula la cantidad total gastada sumando las cantidades en la lista correspondiente. Después, crea una sublista con el ID, nombre (como una lista de nombres y apellidos), edad y cantidad total gastada del usuario. Añade esta sublista a la lista final que resulta."
   ]
  },
  {
   "cell_type": "markdown",
   "metadata": {},
   "source": [
    "<div class=\"alert alert-block alert-info\">\n",
    "<b>Comentario general (1ra Iteracion)</b> <a class=“tocSkip”></a>\n",
    "    \n",
    "\n",
    "Hiciste un buen trabajo con tu proyecto aplicando Python! No olvides que la práctica ayuda mucho a profundizar y asimilar los temas visto en este proyecto.\n",
    "<br>\n",
    "<br>\n",
    "Los condicionales, los bucles, los condicionales es algo que usarás en tu día a día al tener que usar Python para tus análisis. En este proyecto aprendiste una herramienta importante cómo son las funciones para poder evitar duplicado de código en tus proyectos, ya que por ejemplo, si quisieras hacer ese mismo proceso en diferentes partes de tu proyecto pero con otros datos simplemente debes llamar la función y pasarle los argumentos requeridos y obtendrás el proceso.\n",
    "<br>\n",
    "<br>\n",
    "Hay un par de ejercicios que necesitan unos cambios para que proyecto esté completo.\n",
    "<br>\n",
    "<br>\n",
    "Un saludo! 🦾\n",
    "</div>"
   ]
  }
 ],
 "metadata": {
  "ExecuteTimeLog": [
   {
    "duration": 170,
    "start_time": "2024-10-20T22:34:58.459Z"
   },
   {
    "duration": 3,
    "start_time": "2024-10-20T22:35:06.059Z"
   },
   {
    "duration": 13,
    "start_time": "2024-10-20T23:12:31.307Z"
   },
   {
    "duration": 13,
    "start_time": "2024-10-20T23:12:44.078Z"
   },
   {
    "duration": 12,
    "start_time": "2024-10-20T23:31:12.710Z"
   },
   {
    "duration": 13,
    "start_time": "2024-10-20T23:39:38.236Z"
   },
   {
    "duration": 13,
    "start_time": "2024-10-20T23:40:58.570Z"
   },
   {
    "duration": 4,
    "start_time": "2024-10-20T23:42:41.342Z"
   },
   {
    "duration": 3,
    "start_time": "2024-10-20T23:43:30.311Z"
   },
   {
    "duration": 15,
    "start_time": "2024-10-20T23:43:40.371Z"
   },
   {
    "duration": 4,
    "start_time": "2024-10-20T23:43:47.625Z"
   },
   {
    "duration": 35,
    "start_time": "2024-10-20T23:45:14.370Z"
   },
   {
    "duration": 4,
    "start_time": "2024-10-20T23:45:32.025Z"
   },
   {
    "duration": 13,
    "start_time": "2024-10-20T23:45:39.435Z"
   },
   {
    "duration": 3,
    "start_time": "2024-10-20T23:46:19.478Z"
   },
   {
    "duration": 8,
    "start_time": "2024-10-21T00:22:59.857Z"
   },
   {
    "duration": 9,
    "start_time": "2024-10-21T00:23:55.649Z"
   },
   {
    "duration": 187,
    "start_time": "2024-10-21T00:24:00.425Z"
   },
   {
    "duration": 33,
    "start_time": "2024-10-21T00:24:36.357Z"
   },
   {
    "duration": 6,
    "start_time": "2024-10-21T00:26:37.816Z"
   },
   {
    "duration": 9,
    "start_time": "2024-10-21T00:26:45.244Z"
   },
   {
    "duration": 8,
    "start_time": "2024-10-21T00:27:30.844Z"
   },
   {
    "duration": 5,
    "start_time": "2024-10-21T00:27:54.305Z"
   },
   {
    "duration": 6,
    "start_time": "2024-10-21T00:28:26.927Z"
   },
   {
    "duration": 5,
    "start_time": "2024-10-21T00:28:32.027Z"
   },
   {
    "duration": 10,
    "start_time": "2024-10-21T01:28:01.491Z"
   },
   {
    "duration": 7,
    "start_time": "2024-10-21T01:29:05.241Z"
   },
   {
    "duration": 7,
    "start_time": "2024-10-21T01:31:10.194Z"
   },
   {
    "duration": 6,
    "start_time": "2024-10-21T01:36:59.483Z"
   },
   {
    "duration": 8,
    "start_time": "2024-10-21T01:37:07.618Z"
   },
   {
    "duration": 6,
    "start_time": "2024-10-21T01:38:04.924Z"
   },
   {
    "duration": 6,
    "start_time": "2024-10-21T01:38:42.085Z"
   },
   {
    "duration": 5,
    "start_time": "2024-10-21T01:43:27.022Z"
   },
   {
    "duration": 5,
    "start_time": "2024-10-21T01:43:33.798Z"
   },
   {
    "duration": 5,
    "start_time": "2024-10-21T01:44:38.111Z"
   },
   {
    "duration": 6,
    "start_time": "2024-10-21T01:45:31.206Z"
   },
   {
    "duration": 8,
    "start_time": "2024-10-21T01:45:38.354Z"
   },
   {
    "duration": 5,
    "start_time": "2024-10-21T01:45:57.580Z"
   },
   {
    "duration": 6,
    "start_time": "2024-10-21T01:46:29.025Z"
   },
   {
    "duration": 6,
    "start_time": "2024-10-21T01:46:36.962Z"
   },
   {
    "duration": 6,
    "start_time": "2024-10-21T01:50:45.291Z"
   },
   {
    "duration": 5,
    "start_time": "2024-10-21T01:52:29.134Z"
   },
   {
    "duration": 5,
    "start_time": "2024-10-21T01:55:30.324Z"
   },
   {
    "duration": 6,
    "start_time": "2024-10-21T01:57:01.542Z"
   },
   {
    "duration": 7,
    "start_time": "2024-10-21T01:57:08.121Z"
   },
   {
    "duration": 5303,
    "start_time": "2024-10-21T01:58:36.011Z"
   },
   {
    "duration": 7,
    "start_time": "2024-10-21T02:03:38.493Z"
   },
   {
    "duration": 5,
    "start_time": "2024-10-21T02:03:38.502Z"
   },
   {
    "duration": 0,
    "start_time": "2024-10-21T02:03:38.508Z"
   },
   {
    "duration": 0,
    "start_time": "2024-10-21T02:03:38.510Z"
   },
   {
    "duration": 0,
    "start_time": "2024-10-21T02:03:38.511Z"
   },
   {
    "duration": 6,
    "start_time": "2024-10-21T02:03:38.516Z"
   },
   {
    "duration": 0,
    "start_time": "2024-10-21T02:03:38.524Z"
   },
   {
    "duration": 0,
    "start_time": "2024-10-21T02:03:38.525Z"
   },
   {
    "duration": 0,
    "start_time": "2024-10-21T02:03:38.527Z"
   },
   {
    "duration": 0,
    "start_time": "2024-10-21T02:03:38.528Z"
   },
   {
    "duration": 1,
    "start_time": "2024-10-21T02:03:38.529Z"
   },
   {
    "duration": 4,
    "start_time": "2024-10-21T02:08:04.112Z"
   },
   {
    "duration": 6,
    "start_time": "2024-10-21T02:08:10.361Z"
   },
   {
    "duration": 166,
    "start_time": "2024-10-21T02:09:05.636Z"
   },
   {
    "duration": 21,
    "start_time": "2024-10-21T02:12:01.905Z"
   },
   {
    "duration": 4,
    "start_time": "2024-10-21T02:12:15.088Z"
   },
   {
    "duration": 4,
    "start_time": "2024-10-21T02:13:58.203Z"
   },
   {
    "duration": 3,
    "start_time": "2024-10-21T02:16:17.981Z"
   },
   {
    "duration": 6,
    "start_time": "2024-10-21T02:23:30.828Z"
   },
   {
    "duration": 5,
    "start_time": "2024-10-21T02:25:00.193Z"
   },
   {
    "duration": 22,
    "start_time": "2024-10-21T02:38:56.737Z"
   },
   {
    "duration": 8,
    "start_time": "2024-10-21T02:39:14.908Z"
   },
   {
    "duration": 6,
    "start_time": "2024-10-21T02:42:34.859Z"
   },
   {
    "duration": 5,
    "start_time": "2024-10-21T02:43:16.295Z"
   },
   {
    "duration": 8,
    "start_time": "2024-10-21T02:44:35.149Z"
   },
   {
    "duration": 8,
    "start_time": "2024-10-21T02:44:41.910Z"
   },
   {
    "duration": 7,
    "start_time": "2024-10-21T02:44:47.013Z"
   },
   {
    "duration": 44,
    "start_time": "2024-10-21T02:46:10.933Z"
   },
   {
    "duration": 6,
    "start_time": "2024-10-21T03:04:29.156Z"
   },
   {
    "duration": 3,
    "start_time": "2024-10-21T03:04:38.283Z"
   },
   {
    "duration": 7,
    "start_time": "2024-10-21T03:06:31.039Z"
   },
   {
    "duration": 11,
    "start_time": "2024-10-21T03:06:40.822Z"
   },
   {
    "duration": 8,
    "start_time": "2024-10-21T03:24:45.754Z"
   },
   {
    "duration": 6,
    "start_time": "2024-10-21T03:24:52.694Z"
   },
   {
    "duration": 10,
    "start_time": "2024-10-21T03:32:53.054Z"
   },
   {
    "duration": 6,
    "start_time": "2024-10-21T03:33:21.920Z"
   },
   {
    "duration": 6,
    "start_time": "2024-10-21T03:33:41.230Z"
   },
   {
    "duration": 8,
    "start_time": "2024-10-21T03:33:45.963Z"
   },
   {
    "duration": 5,
    "start_time": "2024-10-21T03:33:54.369Z"
   },
   {
    "duration": 6,
    "start_time": "2024-10-21T03:38:20.764Z"
   },
   {
    "duration": 7,
    "start_time": "2024-10-21T03:41:03.455Z"
   },
   {
    "duration": 7,
    "start_time": "2024-10-21T03:41:13.820Z"
   },
   {
    "duration": 7,
    "start_time": "2024-10-21T03:41:44.341Z"
   },
   {
    "duration": 7,
    "start_time": "2024-10-21T03:41:48.715Z"
   },
   {
    "duration": 23,
    "start_time": "2024-10-21T03:45:05.939Z"
   },
   {
    "duration": 7,
    "start_time": "2024-10-21T03:45:18.797Z"
   },
   {
    "duration": 7,
    "start_time": "2024-10-22T02:29:49.014Z"
   },
   {
    "duration": 4,
    "start_time": "2024-10-22T02:29:49.023Z"
   },
   {
    "duration": 4,
    "start_time": "2024-10-22T02:29:49.028Z"
   },
   {
    "duration": 5,
    "start_time": "2024-10-22T02:29:49.078Z"
   },
   {
    "duration": 8,
    "start_time": "2024-10-22T02:29:49.085Z"
   },
   {
    "duration": 5,
    "start_time": "2024-10-22T02:29:49.118Z"
   },
   {
    "duration": 3,
    "start_time": "2024-10-22T02:29:49.126Z"
   },
   {
    "duration": 5,
    "start_time": "2024-10-22T02:29:49.146Z"
   },
   {
    "duration": 6,
    "start_time": "2024-10-22T02:29:49.153Z"
   },
   {
    "duration": 6,
    "start_time": "2024-10-22T02:29:49.161Z"
   },
   {
    "duration": 7,
    "start_time": "2024-10-22T02:29:49.169Z"
   },
   {
    "duration": 12,
    "start_time": "2024-10-22T22:33:51.956Z"
   },
   {
    "duration": 165,
    "start_time": "2024-10-22T22:34:15.263Z"
   },
   {
    "duration": 21,
    "start_time": "2024-10-22T22:34:33.064Z"
   },
   {
    "duration": 26,
    "start_time": "2024-10-22T22:35:05.698Z"
   },
   {
    "duration": 20,
    "start_time": "2024-10-22T22:35:56.281Z"
   },
   {
    "duration": 41,
    "start_time": "2024-10-22T22:37:26.075Z"
   },
   {
    "duration": 6,
    "start_time": "2024-10-22T22:38:30.355Z"
   },
   {
    "duration": 167,
    "start_time": "2024-10-23T03:26:26.386Z"
   },
   {
    "duration": 22,
    "start_time": "2024-10-23T03:26:59.767Z"
   },
   {
    "duration": 7,
    "start_time": "2024-10-23T03:54:15.213Z"
   },
   {
    "duration": 8,
    "start_time": "2024-10-23T03:55:49.354Z"
   },
   {
    "duration": 4,
    "start_time": "2024-10-23T03:57:09.274Z"
   },
   {
    "duration": 7,
    "start_time": "2024-10-23T03:58:16.709Z"
   },
   {
    "duration": 6,
    "start_time": "2024-10-23T03:59:45.494Z"
   },
   {
    "duration": 9,
    "start_time": "2024-10-23T04:38:48.631Z"
   },
   {
    "duration": 6,
    "start_time": "2024-10-23T04:38:56.041Z"
   },
   {
    "duration": 21,
    "start_time": "2024-10-23T04:39:04.259Z"
   },
   {
    "duration": 7,
    "start_time": "2024-10-23T04:43:41.887Z"
   },
   {
    "duration": 8,
    "start_time": "2024-10-23T04:47:20.525Z"
   },
   {
    "duration": 8,
    "start_time": "2024-10-23T05:11:46.094Z"
   },
   {
    "duration": 7,
    "start_time": "2024-10-23T05:11:55.524Z"
   },
   {
    "duration": 43,
    "start_time": "2024-10-23T05:12:02.306Z"
   },
   {
    "duration": 21,
    "start_time": "2024-10-23T05:12:28.861Z"
   },
   {
    "duration": 4,
    "start_time": "2024-10-23T06:04:23.591Z"
   },
   {
    "duration": 22,
    "start_time": "2024-10-23T06:05:24.962Z"
   },
   {
    "duration": 7,
    "start_time": "2024-10-23T06:06:11.074Z"
   },
   {
    "duration": 11,
    "start_time": "2024-10-23T23:08:27.277Z"
   },
   {
    "duration": 176,
    "start_time": "2024-10-23T23:10:58.090Z"
   },
   {
    "duration": 5,
    "start_time": "2024-10-23T23:18:56.301Z"
   },
   {
    "duration": 32,
    "start_time": "2024-10-23T23:21:43.852Z"
   },
   {
    "duration": 3,
    "start_time": "2024-10-23T23:21:47.213Z"
   },
   {
    "duration": 7,
    "start_time": "2024-10-23T23:26:23.465Z"
   },
   {
    "duration": 6,
    "start_time": "2024-10-23T23:31:24.871Z"
   },
   {
    "duration": 8,
    "start_time": "2024-10-24T02:44:50.077Z"
   },
   {
    "duration": 4,
    "start_time": "2024-10-24T02:44:50.087Z"
   },
   {
    "duration": 38,
    "start_time": "2024-10-24T02:44:50.093Z"
   },
   {
    "duration": 6,
    "start_time": "2024-10-24T02:44:50.134Z"
   },
   {
    "duration": 8,
    "start_time": "2024-10-24T02:44:50.142Z"
   },
   {
    "duration": 7,
    "start_time": "2024-10-24T02:44:50.152Z"
   },
   {
    "duration": 7,
    "start_time": "2024-10-24T02:44:50.161Z"
   },
   {
    "duration": 3,
    "start_time": "2024-10-24T02:44:50.233Z"
   },
   {
    "duration": 6,
    "start_time": "2024-10-24T02:44:50.238Z"
   },
   {
    "duration": 7,
    "start_time": "2024-10-24T02:44:50.247Z"
   },
   {
    "duration": 6,
    "start_time": "2024-10-24T02:44:50.256Z"
   },
   {
    "duration": 71,
    "start_time": "2024-10-24T02:44:50.263Z"
   },
   {
    "duration": 4,
    "start_time": "2024-10-24T02:45:34.831Z"
   },
   {
    "duration": 7,
    "start_time": "2024-10-24T02:46:14.782Z"
   },
   {
    "duration": 9,
    "start_time": "2024-10-24T02:46:42.037Z"
   },
   {
    "duration": 11,
    "start_time": "2024-10-24T02:47:04.622Z"
   },
   {
    "duration": 6,
    "start_time": "2024-10-24T02:47:28.180Z"
   },
   {
    "duration": 7,
    "start_time": "2024-10-24T02:48:22.657Z"
   },
   {
    "duration": 11,
    "start_time": "2024-10-24T17:55:26.416Z"
   },
   {
    "duration": 7,
    "start_time": "2024-10-24T17:56:50.548Z"
   },
   {
    "duration": 7,
    "start_time": "2024-10-24T17:57:10.295Z"
   },
   {
    "duration": 7,
    "start_time": "2024-10-24T17:57:37.213Z"
   },
   {
    "duration": 6,
    "start_time": "2024-10-24T17:57:50.051Z"
   },
   {
    "duration": 6,
    "start_time": "2024-10-24T17:58:00.833Z"
   },
   {
    "duration": 204,
    "start_time": "2024-10-24T17:58:14.857Z"
   },
   {
    "duration": 7,
    "start_time": "2024-10-24T17:58:22.400Z"
   },
   {
    "duration": 8,
    "start_time": "2024-10-24T20:32:27.551Z"
   },
   {
    "duration": 4,
    "start_time": "2024-10-24T20:32:27.561Z"
   },
   {
    "duration": 3,
    "start_time": "2024-10-24T20:32:27.567Z"
   },
   {
    "duration": 6,
    "start_time": "2024-10-24T20:32:27.572Z"
   },
   {
    "duration": 7,
    "start_time": "2024-10-24T20:32:27.580Z"
   },
   {
    "duration": 6,
    "start_time": "2024-10-24T20:32:27.589Z"
   },
   {
    "duration": 5,
    "start_time": "2024-10-24T20:32:27.597Z"
   },
   {
    "duration": 5,
    "start_time": "2024-10-24T20:32:27.604Z"
   },
   {
    "duration": 5,
    "start_time": "2024-10-24T20:32:27.612Z"
   },
   {
    "duration": 6,
    "start_time": "2024-10-24T20:32:27.619Z"
   },
   {
    "duration": 5,
    "start_time": "2024-10-24T20:32:27.627Z"
   },
   {
    "duration": 7,
    "start_time": "2024-10-24T20:32:27.634Z"
   }
  ],
  "colab": {
   "provenance": []
  },
  "kernelspec": {
   "display_name": "Python 3 (ipykernel)",
   "language": "python",
   "name": "python3"
  },
  "language_info": {
   "codemirror_mode": {
    "name": "ipython",
    "version": 3
   },
   "file_extension": ".py",
   "mimetype": "text/x-python",
   "name": "python",
   "nbconvert_exporter": "python",
   "pygments_lexer": "ipython3",
   "version": "3.9.19"
  },
  "toc": {
   "base_numbering": 1,
   "nav_menu": {},
   "number_sections": true,
   "sideBar": true,
   "skip_h1_title": true,
   "title_cell": "Table of Contents",
   "title_sidebar": "Contents",
   "toc_cell": false,
   "toc_position": {},
   "toc_section_display": true,
   "toc_window_display": false
  }
 },
 "nbformat": 4,
 "nbformat_minor": 1
}
