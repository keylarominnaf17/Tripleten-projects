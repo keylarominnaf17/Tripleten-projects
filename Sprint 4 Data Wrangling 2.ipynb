{
 "cells": [
  {
   "cell_type": "markdown",
   "id": "a8acf458",
   "metadata": {},
   "source": [
    "# ¡Hola Keyla!\n",
    "\n",
    "Mi nombre es Ezequiel Ferrario, soy code reviewer en Tripleten y tengo el agrado de revisar el proyecto que entregaste.\n",
    "\n",
    "Para simular la dinámica de un ambiente de trabajo, si veo algún error, en primer instancia solo los señalaré, dándote la oportunidad de encontrarlos y corregirlos por tu cuenta. En un trabajo real, el líder de tu equipo hará una dinámica similar. En caso de que no puedas resolver la tarea, te daré una información más precisa en la próxima revisión.\n",
    "\n",
    "Encontrarás mis comentarios más abajo - **por favor, no los muevas, no los modifiques ni los borres**.\n",
    "\n",
    "¿Cómo lo voy a hacer? Voy a leer detenidamente cada una de las implementaciones que has llevado a cabo para cumplir con lo solicitado. Verás los comentarios de esta forma:\n",
    "\n",
    "\n",
    "<div class=\"alert alert-block alert-success\">\n",
    "<b>Comentario del revisor</b> <a class=\"tocSkip\"></a>\n",
    "\n",
    "Si todo está perfecto.\n",
    "</div>\n",
    "\n",
    "\n",
    "<div class=\"alert alert-block alert-warning\">\n",
    "<b>Comentario del revisor</b> <a class=\"tocSkip\"></a>\n",
    "\n",
    "Si tu código está bien pero se puede mejorar o hay algún detalle que le hace falta. Se aceptan uno o dos comentarios de este tipo en el borrador, pero si hay más, deberá hacer las correcciones. Es como una tarea de prueba al solicitar un trabajo: muchos pequeños errores pueden hacer que un candidato sea rechazado.\n",
    "</div>\n",
    "\n",
    "<div class=\"alert alert-block alert-danger\">\n",
    "\n",
    "<b>Comentario del revisor</b> <a class=\"tocSkip\"></a>\n",
    "\n",
    "Si de pronto hace falta algo o existe algún problema con tu código o conclusiones.\n",
    "</div>\n",
    "\n",
    "Puedes responderme de esta forma:\n",
    "\n",
    "<div class=\"alert alert-block alert-info\">\n",
    "<b>Respuesta del estudiante</b> <a class=\"tocSkip\"></a>\n",
    "\n",
    "Hola, muchas gracias por tus comentarios y la revisión.        \n",
    "</div>\n",
    "\n",
    "¡Empecemos!"
   ]
  },
  {
   "cell_type": "markdown",
   "id": "2fced0f7",
   "metadata": {},
   "source": [
    "------------\n",
    "\n",
    "<div class=\"alert alert-block alert-danger\">\n",
    "\n",
    "<b>Comentario general #1</b> <a class=\"tocSkip\"></a>\n",
    "\n",
    "Keyla, has realizado un buen proyecto donde abarcaste perfecto todos los puntos.\n",
    "    \n",
    " Llegaste a muy buenas extracciones y la exploracion inicial en conjunto con la limpieza de los datasets es perfecto lo realizado.\n",
    "    \n",
    " En general las correcciones pasan por conclusiones que no fueron dejadas, aun asi, valoro mucho las que hiciste ya que fueron claras y concisas por lo que agregaron valor.\n",
    "    \n",
    "  Quedo a la espera de tu correccion.\n",
    "    \n",
    "  Saludos.\n",
    "    \n",
    " \n",
    "\n",
    "</div>\n",
    "\n",
    "------------\n",
    "\n",
    "<div class=\"alert alert-block alert-success\">\n",
    "\n",
    "<b>Comentario general #2</b> <a class=\"tocSkip\"></a>\n",
    "\n",
    "Keyla, abarcaste todos los puntos de este trabajo. \n",
    "    \n",
    "Todas las conclusiones vertidas fueron excelentes, dando un marco de claridad sobre lo realizado.\n",
    "    \n",
    "  Me gustaron los nuevos graficos y asi finalizas un muy buen proyecto.\n",
    "    \n",
    "  Dicho esto, este trabajo pasa a estar **aprobado**.\n",
    "    \n",
    "  Exitos en lo que viene, saludos.\n",
    "    \n",
    "    \n",
    "    \n",
    "</div>\n",
    "\n",
    "\n",
    "----"
   ]
  },
  {
   "cell_type": "markdown",
   "id": "3Xg_RQfnafXz",
   "metadata": {
    "id": "3Xg_RQfnafXz"
   },
   "source": [
    "# ¡Llena ese carrito!"
   ]
  },
  {
   "cell_type": "markdown",
   "id": "mhIvmmkW414q",
   "metadata": {
    "id": "mhIvmmkW414q"
   },
   "source": [
    "# Introducción\n",
    "\n",
    "Instacart es una plataforma de entregas de comestibles donde la clientela puede registrar un pedido y hacer que se lo entreguen, similar a Uber Eats y Door Dash.\n",
    "El conjunto de datos que te hemos proporcionado tiene modificaciones del original. Redujimos el tamaño del conjunto para que tus cálculos se hicieran más rápido e introdujimos valores ausentes y duplicados. Tuvimos cuidado de conservar las distribuciones de los datos originales cuando hicimos los cambios.\n",
    "\n",
    "Debes completar tres pasos. Para cada uno de ellos, escribe una breve introducción que refleje con claridad cómo pretendes resolver cada paso, y escribe párrafos explicatorios que justifiquen tus decisiones al tiempo que avanzas en tu solución.  También escribe una conclusión que resuma tus hallazgos y elecciones.\n"
   ]
  },
  {
   "cell_type": "markdown",
   "id": "3MbyzpOQZ5Or",
   "metadata": {
    "id": "3MbyzpOQZ5Or"
   },
   "source": [
    "## Diccionario de datos\n",
    "\n",
    "Hay cinco tablas en el conjunto de datos, y tendrás que usarlas todas para hacer el preprocesamiento de datos y el análisis exploratorio de datos. A continuación se muestra un diccionario de datos que enumera las columnas de cada tabla y describe los datos que contienen.\n",
    "\n",
    "- `instacart_orders.csv`: cada fila corresponde a un pedido en la aplicación Instacart.\n",
    "    - `'order_id'`: número de ID que identifica de manera única cada pedido.\n",
    "    - `'user_id'`: número de ID que identifica de manera única la cuenta de cada cliente.\n",
    "    - `'order_number'`: el número de veces que este cliente ha hecho un pedido.\n",
    "    - `'order_dow'`: día de la semana en que se hizo el pedido (0 si es domingo).\n",
    "    - `'order_hour_of_day'`: hora del día en que se hizo el pedido.\n",
    "    - `'days_since_prior_order'`: número de días transcurridos desde que este cliente hizo su pedido anterior.\n",
    "- `products.csv`: cada fila corresponde a un producto único que pueden comprar los clientes.\n",
    "    - `'product_id'`: número ID que identifica de manera única cada producto.\n",
    "    - `'product_name'`: nombre del producto.\n",
    "    - `'aisle_id'`: número ID que identifica de manera única cada categoría de pasillo de víveres.\n",
    "    - `'department_id'`: número ID que identifica de manera única cada departamento de víveres.\n",
    "- `order_products.csv`: cada fila corresponde a un artículo pedido en un pedido.\n",
    "    - `'order_id'`: número de ID que identifica de manera única cada pedido.\n",
    "    - `'product_id'`: número ID que identifica de manera única cada producto.\n",
    "    - `'add_to_cart_order'`: el orden secuencial en el que se añadió cada artículo en el carrito.\n",
    "    - `'reordered'`: 0 si el cliente nunca ha pedido este producto antes, 1 si lo ha pedido.\n",
    "- `aisles.csv`\n",
    "    - `'aisle_id'`: número ID que identifica de manera única cada categoría de pasillo de víveres.\n",
    "    - `'aisle'`: nombre del pasillo.\n",
    "- `departments.csv`\n",
    "    - `'department_id'`: número ID que identifica de manera única cada departamento de víveres.\n",
    "    - `'department'`: nombre del departamento."
   ]
  },
  {
   "cell_type": "markdown",
   "id": "26a2a9be",
   "metadata": {},
   "source": [
    "<div class=\"alert alert-block alert-warning\">\n",
    "\n",
    "<b>Comentario del revisor</b> <a class=\"tocSkip\"></a>\n",
    "\n",
    "En este caso podes hacer una tabla de contenidos que este  linkeada a las secciones (al clickear debe llevarnos a esa seccion) de esta menera es mas facil desplazarse.\n",
    "\n",
    "Como consejo, si realizas bien todas las secciones (con su respectivo #) podes generarlo automáticamente desde jupyter lab. Para hacerlo, en la pestaña de herramientas de jupyter lab clickeas en el **botón de los puntos y barras**  (Table of contents) te generara automáticamente una tabla de contenidos linkeable y estética. A la **derecha** del seleccionador del tipo de celda (code/markdown)\n",
    "</div>"
   ]
  },
  {
   "cell_type": "markdown",
   "id": "n3Ha_cNSZ8lK",
   "metadata": {
    "id": "n3Ha_cNSZ8lK"
   },
   "source": [
    "# Paso 1. Descripción de los datos\n",
    "\n",
    "Lee los archivos de datos (`/datasets/instacart_orders.csv`, `/datasets/products.csv`, `/datasets/aisles.csv`, `/datasets/departments.csv` y `/datasets/order_products.csv`) con `pd.read_csv()` usando los parámetros adecuados para leer los datos correctamente. Verifica la información para cada DataFrame creado.\n"
   ]
  },
  {
   "cell_type": "markdown",
   "id": "OmlQPLlyaAfR",
   "metadata": {
    "id": "OmlQPLlyaAfR"
   },
   "source": [
    "## Plan de solución\n",
    "\n",
    "Escribe aquí tu plan de solución para el Paso 1. Descripción de los datos.\n",
    "Importare los 5 archivos como pandas y despues los importare con la libreria de marplotlib para lograr hacer graficas mas adelante. Agregue sep=\";\" al parametro de read_csv para que las columnas esten separadas de manera legible y ordenada. Llame al metodo info() para saber la informacion general de cada dataframe. Por ultimo, revisare los valores nulos que me aparezcan en dicha informacion. "
   ]
  },
  {
   "cell_type": "code",
   "execution_count": 1,
   "id": "fbf1adab",
   "metadata": {
    "id": "fbf1adab"
   },
   "outputs": [],
   "source": [
    "import pandas as pd\n",
    "from matplotlib import pyplot as plt"
   ]
  },
  {
   "cell_type": "code",
   "execution_count": 2,
   "id": "ad36396d",
   "metadata": {
    "id": "ad36396d"
   },
   "outputs": [],
   "source": [
    "df_orders = pd.read_csv(\"/datasets/instacart_orders.csv\", sep=\";\")\n",
    "df_products = pd.read_csv(\"/datasets/products.csv\", sep=\";\")\n",
    "df_aisles = pd.read_csv(\"/datasets/aisles.csv\", sep=\";\")\n",
    "df_departments = pd.read_csv(\"/datasets/departments.csv\", sep=\";\")\n",
    "df_order_products = pd.read_csv(\"/datasets/order_products.csv\", sep=\";\")"
   ]
  },
  {
   "cell_type": "code",
   "execution_count": 3,
   "id": "ad6a1efa",
   "metadata": {
    "id": "ad6a1efa"
   },
   "outputs": [
    {
     "name": "stdout",
     "output_type": "stream",
     "text": [
      "        order_id  user_id  order_number  order_dow  order_hour_of_day  \\\n",
      "0        1515936   183418            11          6                 13   \n",
      "1        1690866   163593             5          5                 12   \n",
      "2        1454967    39980             4          5                 19   \n",
      "3        1768857    82516            56          0                 20   \n",
      "4        3007858   196724             2          4                 12   \n",
      "...          ...      ...           ...        ...                ...   \n",
      "478962   3210681     5617             5          1                 14   \n",
      "478963   3270802   112087             2          3                 13   \n",
      "478964    885349    82944            16          2                 11   \n",
      "478965    216274     4391             3          3                  8   \n",
      "478966   2071924     1730            18          1                 14   \n",
      "\n",
      "        days_since_prior_order  \n",
      "0                         30.0  \n",
      "1                          9.0  \n",
      "2                          2.0  \n",
      "3                         10.0  \n",
      "4                         17.0  \n",
      "...                        ...  \n",
      "478962                     7.0  \n",
      "478963                     6.0  \n",
      "478964                     6.0  \n",
      "478965                     8.0  \n",
      "478966                    15.0  \n",
      "\n",
      "[478967 rows x 6 columns]\n",
      "<class 'pandas.core.frame.DataFrame'>\n",
      "RangeIndex: 478967 entries, 0 to 478966\n",
      "Data columns (total 6 columns):\n",
      " #   Column                  Non-Null Count   Dtype  \n",
      "---  ------                  --------------   -----  \n",
      " 0   order_id                478967 non-null  int64  \n",
      " 1   user_id                 478967 non-null  int64  \n",
      " 2   order_number            478967 non-null  int64  \n",
      " 3   order_dow               478967 non-null  int64  \n",
      " 4   order_hour_of_day       478967 non-null  int64  \n",
      " 5   days_since_prior_order  450148 non-null  float64\n",
      "dtypes: float64(1), int64(5)\n",
      "memory usage: 21.9 MB\n"
     ]
    }
   ],
   "source": [
    "print(df_orders)\n",
    "df_orders.info()"
   ]
  },
  {
   "cell_type": "code",
   "execution_count": 4,
   "id": "5130e05e",
   "metadata": {
    "id": "5130e05e"
   },
   "outputs": [
    {
     "name": "stdout",
     "output_type": "stream",
     "text": [
      "       product_id                                       product_name  \\\n",
      "0               1                         Chocolate Sandwich Cookies   \n",
      "1               2                                   All-Seasons Salt   \n",
      "2               3               Robust Golden Unsweetened Oolong Tea   \n",
      "3               4  Smart Ones Classic Favorites Mini Rigatoni Wit...   \n",
      "4               5                          Green Chile Anytime Sauce   \n",
      "...           ...                                                ...   \n",
      "49689       49690                      HIGH PERFORMANCE ENERGY DRINK   \n",
      "49690       49691                      ORIGINAL PANCAKE & WAFFLE MIX   \n",
      "49691       49692    ORGANIC INSTANT OATMEAL LIGHT MAPLE BROWN SUGAR   \n",
      "49692       49693                             SPRING WATER BODY WASH   \n",
      "49693       49694                            BURRITO- STEAK & CHEESE   \n",
      "\n",
      "       aisle_id  department_id  \n",
      "0            61             19  \n",
      "1           104             13  \n",
      "2            94              7  \n",
      "3            38              1  \n",
      "4             5             13  \n",
      "...         ...            ...  \n",
      "49689        64              7  \n",
      "49690       130             14  \n",
      "49691       130             14  \n",
      "49692       127             11  \n",
      "49693        38              1  \n",
      "\n",
      "[49694 rows x 4 columns]\n",
      "<class 'pandas.core.frame.DataFrame'>\n",
      "RangeIndex: 49694 entries, 0 to 49693\n",
      "Data columns (total 4 columns):\n",
      " #   Column         Non-Null Count  Dtype \n",
      "---  ------         --------------  ----- \n",
      " 0   product_id     49694 non-null  int64 \n",
      " 1   product_name   48436 non-null  object\n",
      " 2   aisle_id       49694 non-null  int64 \n",
      " 3   department_id  49694 non-null  int64 \n",
      "dtypes: int64(3), object(1)\n",
      "memory usage: 1.5+ MB\n"
     ]
    }
   ],
   "source": [
    "print(df_products)\n",
    "df_products.info()"
   ]
  },
  {
   "cell_type": "code",
   "execution_count": 5,
   "id": "d8370c05",
   "metadata": {
    "id": "d8370c05"
   },
   "outputs": [
    {
     "name": "stdout",
     "output_type": "stream",
     "text": [
      "     aisle_id                       aisle\n",
      "0           1       prepared soups salads\n",
      "1           2           specialty cheeses\n",
      "2           3         energy granola bars\n",
      "3           4               instant foods\n",
      "4           5  marinades meat preparation\n",
      "..        ...                         ...\n",
      "129       130    hot cereal pancake mixes\n",
      "130       131                   dry pasta\n",
      "131       132                      beauty\n",
      "132       133  muscles joints pain relief\n",
      "133       134  specialty wines champagnes\n",
      "\n",
      "[134 rows x 2 columns]\n",
      "<class 'pandas.core.frame.DataFrame'>\n",
      "RangeIndex: 134 entries, 0 to 133\n",
      "Data columns (total 2 columns):\n",
      " #   Column    Non-Null Count  Dtype \n",
      "---  ------    --------------  ----- \n",
      " 0   aisle_id  134 non-null    int64 \n",
      " 1   aisle     134 non-null    object\n",
      "dtypes: int64(1), object(1)\n",
      "memory usage: 2.2+ KB\n"
     ]
    }
   ],
   "source": [
    "print(df_aisles)\n",
    "df_aisles.info()"
   ]
  },
  {
   "cell_type": "code",
   "execution_count": 6,
   "id": "59e2090f",
   "metadata": {
    "id": "59e2090f"
   },
   "outputs": [
    {
     "name": "stdout",
     "output_type": "stream",
     "text": [
      "    department_id       department\n",
      "0               1           frozen\n",
      "1               2            other\n",
      "2               3           bakery\n",
      "3               4          produce\n",
      "4               5          alcohol\n",
      "5               6    international\n",
      "6               7        beverages\n",
      "7               8             pets\n",
      "8               9  dry goods pasta\n",
      "9              10             bulk\n",
      "10             11    personal care\n",
      "11             12     meat seafood\n",
      "12             13           pantry\n",
      "13             14        breakfast\n",
      "14             15     canned goods\n",
      "15             16       dairy eggs\n",
      "16             17        household\n",
      "17             18           babies\n",
      "18             19           snacks\n",
      "19             20             deli\n",
      "20             21          missing\n",
      "<class 'pandas.core.frame.DataFrame'>\n",
      "RangeIndex: 21 entries, 0 to 20\n",
      "Data columns (total 2 columns):\n",
      " #   Column         Non-Null Count  Dtype \n",
      "---  ------         --------------  ----- \n",
      " 0   department_id  21 non-null     int64 \n",
      " 1   department     21 non-null     object\n",
      "dtypes: int64(1), object(1)\n",
      "memory usage: 464.0+ bytes\n"
     ]
    }
   ],
   "source": [
    "print(df_departments)\n",
    "df_departments.info()"
   ]
  },
  {
   "cell_type": "code",
   "execution_count": 7,
   "id": "6fc81694",
   "metadata": {
    "id": "6fc81694"
   },
   "outputs": [
    {
     "name": "stdout",
     "output_type": "stream",
     "text": [
      "         order_id  product_id  add_to_cart_order  reordered\n",
      "0         2141543       11440               17.0          0\n",
      "1          567889        1560                1.0          1\n",
      "2         2261212       26683                1.0          1\n",
      "3          491251        8670               35.0          1\n",
      "4         2571142        1940                5.0          1\n",
      "...           ...         ...                ...        ...\n",
      "4545002    577211       15290               12.0          1\n",
      "4545003   1219554       21914                9.0          0\n",
      "4545004    692640       47766                4.0          1\n",
      "4545005    319435         691                8.0          1\n",
      "4545006   1398151       28733                9.0          0\n",
      "\n",
      "[4545007 rows x 4 columns]\n",
      "<class 'pandas.core.frame.DataFrame'>\n",
      "RangeIndex: 4545007 entries, 0 to 4545006\n",
      "Data columns (total 4 columns):\n",
      " #   Column             Non-Null Count    Dtype  \n",
      "---  ------             --------------    -----  \n",
      " 0   order_id           4545007 non-null  int64  \n",
      " 1   product_id         4545007 non-null  int64  \n",
      " 2   add_to_cart_order  4544171 non-null  float64\n",
      " 3   reordered          4545007 non-null  int64  \n",
      "dtypes: float64(1), int64(3)\n",
      "memory usage: 138.7 MB\n"
     ]
    }
   ],
   "source": [
    "print(df_order_products)\n",
    "df_order_products.info(show_counts=True)"
   ]
  },
  {
   "cell_type": "markdown",
   "id": "t75BD19oaR5f",
   "metadata": {
    "id": "t75BD19oaR5f"
   },
   "source": [
    "## Conclusiones\n",
    "\n",
    "Escribe aquí tus conclusiones intermedias sobre el Paso 1. Descripción de los datos.\n",
    "\n",
    "En 3 de los 5 archivos hay columnas con valores ausentes que pueden ser de importancia. \n",
    "En el dataframe df_orders tiene datos ausentes en la columna \"days_since_prior_order\",\n",
    "df_products en la columna \"product_name\", y por ultimo en el dataframe df_order_products tiene valores ausentes en la columna add_to_cart."
   ]
  },
  {
   "cell_type": "markdown",
   "id": "42e4231d",
   "metadata": {},
   "source": [
    "<div class=\"alert alert-block alert-success\">\n",
    "\n",
    "<b>Comentario del revisor</b> <a class=\"tocSkip\"></a>\n",
    "\n",
    "Excelente exploracion inicial.\n",
    "\n",
    "\n",
    "</div>"
   ]
  },
  {
   "cell_type": "markdown",
   "id": "8RJHqxVmaVsF",
   "metadata": {
    "id": "8RJHqxVmaVsF"
   },
   "source": [
    "# Paso 2. Preprocesamiento de los datos\n",
    "\n",
    "Preprocesa los datos de la siguiente manera:\n",
    "\n",
    "- Verifica y corrige los tipos de datos (por ejemplo, asegúrate de que las columnas de ID sean números enteros).\n",
    "- Identifica y completa los valores ausentes.\n",
    "- Identifica y elimina los valores duplicados.\n",
    "\n",
    "Asegúrate de explicar qué tipos de valores ausentes y duplicados encontraste, cómo los completaste o eliminaste y por qué usaste esos métodos. ¿Por qué crees que estos valores ausentes y duplicados pueden haber estado presentes en el conjunto de datos?"
   ]
  },
  {
   "cell_type": "markdown",
   "id": "p6poABZQaZYb",
   "metadata": {
    "id": "p6poABZQaZYb"
   },
   "source": [
    "## Plan de solución\n",
    "\n",
    "Escribe aquí tu plan para el Paso 2. Preprocesamiento de los datos.\n",
    "\n",
    "Para identificar y completar valores ausentes utilizare isna().sum()para identificarlos y contarlos. Despues llamare al metodo fillna para rellenar los datos con valores como Nan o None. Ademas, utilizare .duplicated() y drop_duplicates() para identificar y eliminar duplicados."
   ]
  },
  {
   "cell_type": "markdown",
   "id": "07357848-dc64-4156-9cc3-01ff4365226d",
   "metadata": {
    "id": "07357848-dc64-4156-9cc3-01ff4365226d"
   },
   "source": [
    "## Encuentra y elimina los valores duplicados (y describe cómo tomaste tus decisiones)."
   ]
  },
  {
   "cell_type": "markdown",
   "id": "f179f0a9",
   "metadata": {
    "id": "f179f0a9"
   },
   "source": [
    "### `instacart_orders` data frame"
   ]
  },
  {
   "cell_type": "code",
   "execution_count": 8,
   "id": "b99297a5-405a-463d-8535-9adc3da4ad74",
   "metadata": {
    "id": "b99297a5-405a-463d-8535-9adc3da4ad74",
    "scrolled": true
   },
   "outputs": [
    {
     "name": "stdout",
     "output_type": "stream",
     "text": [
      "15\n",
      "        order_id  user_id  order_number  order_dow  order_hour_of_day  \\\n",
      "145574    794638    50898            24          3                  2   \n",
      "223105   2160484   107525            16          3                  2   \n",
      "230807   1918001   188546            14          3                  2   \n",
      "266232   1782114   106752             1          3                  2   \n",
      "273805   1112182   202304            84          3                  2   \n",
      "284038   2845099    31189            11          3                  2   \n",
      "311713   1021560    53767             3          3                  2   \n",
      "321100    408114    68324             4          3                  2   \n",
      "323900   1919531   191501            32          3                  2   \n",
      "345917   2232988    82565             1          3                  2   \n",
      "371905    391768    57671            19          3                  2   \n",
      "394347    467134    63189            21          3                  2   \n",
      "411408   1286742   183220            48          3                  2   \n",
      "415163   2282673    86751            49          3                  2   \n",
      "441599   2125197    14050            48          3                  2   \n",
      "\n",
      "        days_since_prior_order  \n",
      "145574                     2.0  \n",
      "223105                    30.0  \n",
      "230807                    16.0  \n",
      "266232                     NaN  \n",
      "273805                     6.0  \n",
      "284038                     7.0  \n",
      "311713                     9.0  \n",
      "321100                    18.0  \n",
      "323900                     7.0  \n",
      "345917                     NaN  \n",
      "371905                    10.0  \n",
      "394347                     2.0  \n",
      "411408                     4.0  \n",
      "415163                     2.0  \n",
      "441599                     3.0  \n"
     ]
    }
   ],
   "source": [
    "df_orders_duplicated = df_orders.duplicated().sum()\n",
    "print(df_orders_duplicated)\n",
    "\n",
    "df_duplicated = df_orders.duplicated()\n",
    "df_duplicated_rows = df_orders[df_duplicated]\n",
    "print(df_duplicated_rows)\n"
   ]
  },
  {
   "cell_type": "markdown",
   "id": "PEkwUX_gvt5A",
   "metadata": {
    "id": "PEkwUX_gvt5A"
   },
   "source": [
    "¿Tienes líneas duplicadas? Si sí, ¿qué tienen en común?"
   ]
  },
  {
   "cell_type": "markdown",
   "id": "d893751d",
   "metadata": {},
   "source": [
    "<div class=\"alert alert-block alert-danger\">\n",
    "\n",
    "<b>Comentario del revisor</b> <a class=\"tocSkip\"></a>\n",
    "\n",
    "Recorda dejar tus observaciones, hallazgos y cambios en formato **markdown**.</div>\n",
    "\n",
    "<div class=\"alert alert-block alert-success\">\n",
    "\n",
    "<b>Comentario del revisor #2</b> <a class=\"tocSkip\"></a>\n",
    "\n",
    "Corregido, muy bien.\n",
    "\n",
    "</div>"
   ]
  },
  {
   "cell_type": "markdown",
   "id": "e1ca9219",
   "metadata": {},
   "source": [
    "Estas filas salen como duplicadas con el codigo de python. Yo lo que veo de duplicados es que tienen la misma hora y dia de compra. Solamente. "
   ]
  },
  {
   "cell_type": "code",
   "execution_count": 9,
   "id": "0d44de5d",
   "metadata": {
    "id": "0d44de5d"
   },
   "outputs": [
    {
     "name": "stdout",
     "output_type": "stream",
     "text": [
      "        order_id  user_id  order_number  order_dow  order_hour_of_day  \\\n",
      "4838     2766110   162084            41          3                  2   \n",
      "5156     2190225   138285            18          3                  2   \n",
      "15506     553049    58599            13          3                  2   \n",
      "18420     382357   120200            19          3                  2   \n",
      "24691     690242    77357             2          3                  2   \n",
      "...          ...      ...           ...        ...                ...   \n",
      "457013   3384021    14881             6          3                  2   \n",
      "458816    910166   164782            18          3                  2   \n",
      "459635   1680532   106435             6          3                  2   \n",
      "468324    222962    54979            59          3                  2   \n",
      "477526   2592344    46860            38          3                  2   \n",
      "\n",
      "        days_since_prior_order  \n",
      "4838                      16.0  \n",
      "5156                      11.0  \n",
      "15506                      7.0  \n",
      "18420                     11.0  \n",
      "24691                      9.0  \n",
      "...                        ...  \n",
      "457013                    30.0  \n",
      "458816                     4.0  \n",
      "459635                    21.0  \n",
      "468324                     3.0  \n",
      "477526                     3.0  \n",
      "\n",
      "[121 rows x 6 columns]\n"
     ]
    }
   ],
   "source": [
    "orders_wed_2 = df_orders[(df_orders[\"order_dow\"] == 3) & (df_orders[\"order_hour_of_day\"] == 2)]\n",
    "print(orders_wed_2)\n",
    "# Basándote en tus hallazgos,\n",
    "# Verifica todos los pedidos que se hicieron el miércoles a las 2:00 a.m."
   ]
  },
  {
   "cell_type": "markdown",
   "id": "vu2OWyoqwOx5",
   "metadata": {
    "id": "vu2OWyoqwOx5"
   },
   "source": [
    "¿Qué sugiere este resultado?"
   ]
  },
  {
   "cell_type": "markdown",
   "id": "b6f08874",
   "metadata": {},
   "source": [
    "Este resultado muestra que hay 121 pedidos realizados el miércoles "
   ]
  },
  {
   "cell_type": "markdown",
   "id": "ed7f93cb",
   "metadata": {},
   "source": [
    "<div class=\"alert alert-block alert-danger\">\n",
    "\n",
    "<b>Comentario del revisor</b> <a class=\"tocSkip\"></a>\n",
    "\n",
    "Recorda dejar tus observaciones, hallazgos y cambios en formato **markdown**.</div>\n",
    "\n",
    "<div class=\"alert alert-block alert-success\">\n",
    "\n",
    "<b>Comentario del revisor #2</b> <a class=\"tocSkip\"></a>\n",
    "\n",
    "Corregido\n",
    "\n",
    "</div>"
   ]
  },
  {
   "cell_type": "code",
   "execution_count": 10,
   "id": "480563c7",
   "metadata": {
    "id": "480563c7"
   },
   "outputs": [
    {
     "name": "stdout",
     "output_type": "stream",
     "text": [
      "        order_id  user_id  order_number  order_dow  order_hour_of_day  \\\n",
      "0        1515936   183418            11          6                 13   \n",
      "1        1690866   163593             5          5                 12   \n",
      "2        1454967    39980             4          5                 19   \n",
      "3        1768857    82516            56          0                 20   \n",
      "4        3007858   196724             2          4                 12   \n",
      "...          ...      ...           ...        ...                ...   \n",
      "478947   3210681     5617             5          1                 14   \n",
      "478948   3270802   112087             2          3                 13   \n",
      "478949    885349    82944            16          2                 11   \n",
      "478950    216274     4391             3          3                  8   \n",
      "478951   2071924     1730            18          1                 14   \n",
      "\n",
      "        days_since_prior_order  \n",
      "0                         30.0  \n",
      "1                          9.0  \n",
      "2                          2.0  \n",
      "3                         10.0  \n",
      "4                         17.0  \n",
      "...                        ...  \n",
      "478947                     7.0  \n",
      "478948                     6.0  \n",
      "478949                     6.0  \n",
      "478950                     8.0  \n",
      "478951                    15.0  \n",
      "\n",
      "[478952 rows x 6 columns]\n",
      "\n",
      "0\n"
     ]
    }
   ],
   "source": [
    "df_orders = df_orders.drop_duplicates().reset_index(drop=True)\n",
    "print(df_orders)\n",
    "print()\n",
    "print(df_orders.duplicated().sum())"
   ]
  },
  {
   "cell_type": "code",
   "execution_count": 11,
   "id": "0b2396a2",
   "metadata": {
    "id": "0b2396a2"
   },
   "outputs": [
    {
     "name": "stdout",
     "output_type": "stream",
     "text": [
      "0\n"
     ]
    }
   ],
   "source": [
    "print(df_orders.duplicated().sum())"
   ]
  },
  {
   "cell_type": "code",
   "execution_count": 12,
   "id": "f6113ef1",
   "metadata": {
    "id": "f6113ef1"
   },
   "outputs": [
    {
     "name": "stdout",
     "output_type": "stream",
     "text": [
      "0\n"
     ]
    }
   ],
   "source": [
    "print(df_orders[\"order_id\"].duplicated().sum())"
   ]
  },
  {
   "cell_type": "markdown",
   "id": "5e8905ae",
   "metadata": {
    "id": "5e8905ae"
   },
   "source": [
    "Describe brevemente tus hallazgos y lo que hiciste con ellos"
   ]
  },
  {
   "cell_type": "markdown",
   "id": "37de94a9",
   "metadata": {},
   "source": [
    "Este codigo muestra que ya se eliminaron de manera exitosa todos aquellos datos que pudieran estar duplicados"
   ]
  },
  {
   "cell_type": "markdown",
   "id": "446ff386",
   "metadata": {},
   "source": [
    "<div class=\"alert alert-block alert-danger\">\n",
    "\n",
    "<b>Comentario del revisor</b> <a class=\"tocSkip\"></a>\n",
    "\n",
    "Recorda dejar tus observaciones, hallazgos y cambios en formato **markdown**.</div>\n",
    "\n",
    "<div class=\"alert alert-block alert-success\">\n",
    "\n",
    "<b>Comentario del revisor #2</b> <a class=\"tocSkip\"></a>\n",
    "\n",
    "Corregido\n",
    "\n",
    "</div>"
   ]
  },
  {
   "cell_type": "markdown",
   "id": "45e6bc46",
   "metadata": {
    "id": "45e6bc46"
   },
   "source": [
    "### `products` data frame"
   ]
  },
  {
   "cell_type": "code",
   "execution_count": 13,
   "id": "5f526b5b-8175-46fa-a0fd-441767d50e64",
   "metadata": {
    "id": "5f526b5b-8175-46fa-a0fd-441767d50e64"
   },
   "outputs": [
    {
     "name": "stdout",
     "output_type": "stream",
     "text": [
      "0\n"
     ]
    }
   ],
   "source": [
    "# Verifica si hay filas totalmente duplicadas\n",
    "print(df_products.duplicated().sum())"
   ]
  },
  {
   "cell_type": "code",
   "execution_count": 14,
   "id": "88daa4f4",
   "metadata": {
    "id": "88daa4f4"
   },
   "outputs": [
    {
     "name": "stdout",
     "output_type": "stream",
     "text": [
      "0\n"
     ]
    }
   ],
   "source": [
    "# Verifica si hay IDs duplicadas de productos\n",
    "print(df_products[\"product_id\"].duplicated().sum())"
   ]
  },
  {
   "cell_type": "code",
   "execution_count": 15,
   "id": "c773f0bf",
   "metadata": {
    "id": "c773f0bf"
   },
   "outputs": [
    {
     "data": {
      "text/plain": [
       "1361"
      ]
     },
     "execution_count": 15,
     "metadata": {},
     "output_type": "execute_result"
    }
   ],
   "source": [
    "# Revisa si hay nombres duplicados de productos (convierte los nombres a letras mayúsculas para compararlos mejor)\n",
    "df_products[\"product_name\"].str.upper().duplicated().sum()"
   ]
  },
  {
   "cell_type": "code",
   "execution_count": 16,
   "id": "01efd02e",
   "metadata": {
    "id": "01efd02e"
   },
   "outputs": [
    {
     "data": {
      "text/plain": [
       "104"
      ]
     },
     "execution_count": 16,
     "metadata": {},
     "output_type": "execute_result"
    }
   ],
   "source": [
    "# Revisa si hay nombres duplicados de productos no faltantes\n",
    "df_products[~df_products[\"product_name\"].isna()][\"product_name\"].str.upper().duplicated().sum()"
   ]
  },
  {
   "cell_type": "markdown",
   "id": "9da8d293",
   "metadata": {
    "id": "9da8d293"
   },
   "source": [
    "Describe brevemente tus hallazgos y lo que hiciste con ellos.\n",
    "El dataframe de products no tiene duplicados exactas en las filas, ni duplicados en el product_id. Sin embargo tiene 49,693 duplicados en product name. "
   ]
  },
  {
   "cell_type": "markdown",
   "id": "9a421b17",
   "metadata": {},
   "source": [
    "<div class=\"alert alert-block alert-success\">\n",
    "\n",
    "<b>Comentario del revisor</b> <a class=\"tocSkip\"></a>\n",
    "\n",
    "Muy bien.\n",
    "\n",
    "</div>"
   ]
  },
  {
   "cell_type": "markdown",
   "id": "60f30db1",
   "metadata": {
    "id": "60f30db1"
   },
   "source": [
    "### `departments` data frame"
   ]
  },
  {
   "cell_type": "code",
   "execution_count": 17,
   "id": "fb410ad4-0fbf-4b80-bb09-23fdea79afe3",
   "metadata": {
    "id": "fb410ad4-0fbf-4b80-bb09-23fdea79afe3"
   },
   "outputs": [
    {
     "name": "stdout",
     "output_type": "stream",
     "text": [
      "0\n"
     ]
    }
   ],
   "source": [
    "# Revisa si hay filas totalmente duplicadas\n",
    "df_departments_duplicates = df_departments.duplicated().sum()\n",
    "print(df_departments_duplicates)"
   ]
  },
  {
   "cell_type": "code",
   "execution_count": 18,
   "id": "332b12bb",
   "metadata": {
    "id": "332b12bb"
   },
   "outputs": [
    {
     "name": "stdout",
     "output_type": "stream",
     "text": [
      "0\n"
     ]
    }
   ],
   "source": [
    "# Revisa si hay IDs duplicadas de productos\n",
    "df_departments_id = df_departments[\"department_id\"].duplicated().sum()\n",
    "print(df_departments_id)"
   ]
  },
  {
   "cell_type": "markdown",
   "id": "bd30d78e",
   "metadata": {
    "id": "bd30d78e"
   },
   "source": [
    "Describe brevemente tus hallazgos y lo que hiciste con ellos.\n",
    "Utilice .duplicated().sum() en ambos codigos y no hay ningun duplicado. En el primero lo utilice en el dataframe original y en el segundo en la columna \"department_id\" del dataframe. Ambos resultados arrojaron 0.  "
   ]
  },
  {
   "cell_type": "markdown",
   "id": "889349c1",
   "metadata": {
    "id": "889349c1"
   },
   "source": [
    "### `aisles` data frame"
   ]
  },
  {
   "cell_type": "code",
   "execution_count": 19,
   "id": "9da89fb9-4679-40f5-ad0d-c34df753a3f8",
   "metadata": {
    "id": "9da89fb9-4679-40f5-ad0d-c34df753a3f8"
   },
   "outputs": [
    {
     "name": "stdout",
     "output_type": "stream",
     "text": [
      "0\n"
     ]
    }
   ],
   "source": [
    "# Revisa si hay filas totalmente duplicadas\n",
    "print(df_aisles.duplicated().sum())"
   ]
  },
  {
   "cell_type": "code",
   "execution_count": 20,
   "id": "da7c2822",
   "metadata": {
    "id": "da7c2822",
    "scrolled": true
   },
   "outputs": [
    {
     "name": "stdout",
     "output_type": "stream",
     "text": [
      "0\n"
     ]
    }
   ],
   "source": [
    "# Revisa si hay IDs duplicadas de productos\n",
    "df_aisles_dup = df_aisles[\"aisle_id\"].duplicated().sum()\n",
    "print(df_aisles_dup)"
   ]
  },
  {
   "cell_type": "markdown",
   "id": "ac63826f",
   "metadata": {
    "id": "ac63826f"
   },
   "source": [
    "Describe brevemente tus hallazgos y lo que hiciste con ellos.\n",
    "Aqui, como en el ejercicio anterior utilizamos duplicated().sum() en el data frame original y el resultado es cero. Y en el ejercicio de abajo utilizamos los mismos metodos pero en la columna \"aisle_id\". Ambos ejercicios confirman lo que ya se habia visto antes en el metodo info(). "
   ]
  },
  {
   "cell_type": "markdown",
   "id": "274cd06a",
   "metadata": {
    "id": "274cd06a"
   },
   "source": [
    "### `order_products` data frame"
   ]
  },
  {
   "cell_type": "code",
   "execution_count": 21,
   "id": "52326689-84a8-4b8f-a881-7c68780f62c9",
   "metadata": {
    "id": "52326689-84a8-4b8f-a881-7c68780f62c9"
   },
   "outputs": [
    {
     "name": "stdout",
     "output_type": "stream",
     "text": [
      "0\n"
     ]
    }
   ],
   "source": [
    "# Revisa si hay filas totalmente duplicadas\n",
    "print(df_order_products.duplicated().sum())"
   ]
  },
  {
   "cell_type": "code",
   "execution_count": 22,
   "id": "7b861391",
   "metadata": {
    "id": "7b861391"
   },
   "outputs": [
    {
     "name": "stdout",
     "output_type": "stream",
     "text": [
      "order_id             0.0\n",
      "product_id           0.0\n",
      "add_to_cart_order    0.0\n",
      "reordered            0.0\n",
      "dtype: float64\n"
     ]
    }
   ],
   "source": [
    "# Vuelve a verificar si hay cualquier otro duplicado engañoso\n",
    "duplicated_rows = df_order_products[df_order_products.duplicated(subset=['order_id', 'product_id'])]\n",
    "print(duplicated_rows.sum())"
   ]
  },
  {
   "cell_type": "markdown",
   "id": "0b890492",
   "metadata": {
    "id": "0b890492"
   },
   "source": [
    "Describe brevemente tus hallazgos y lo que hiciste con ellos.\n",
    "En el primer ejercicio se utiliza los metodos duplicated().sum() y estos arrojan que no hay duplicados exactos. Al momento de buscar duplicados engañosos utilizamos las dos columnas \"order_id\" y \"product_id\" para hacer una busqueda con una combinacion de ambas. "
   ]
  },
  {
   "cell_type": "markdown",
   "id": "c4bbee31",
   "metadata": {},
   "source": [
    "<div class=\"alert alert-block alert-success\">\n",
    "\n",
    "<b>Comentario del revisor</b> <a class=\"tocSkip\"></a>\n",
    "\n",
    "Muy buena seccion.\n",
    "\n",
    "</div>"
   ]
  },
  {
   "cell_type": "markdown",
   "id": "1e46de76",
   "metadata": {
    "id": "1e46de76"
   },
   "source": [
    "## Encuentra y elimina los valores ausentes\n",
    "\n",
    "Al trabajar con valores duplicados, pudimos observar que también nos falta investigar valores ausentes:\n",
    "\n",
    "* La columna `'product_name'` de la tabla products.\n",
    "* La columna `'days_since_prior_order'` de la tabla orders.\n",
    "* La columna `'add_to_cart_order'` de la tabla order_productos."
   ]
  },
  {
   "cell_type": "markdown",
   "id": "c0aebd78",
   "metadata": {
    "id": "c0aebd78"
   },
   "source": [
    "### `products` data frame"
   ]
  },
  {
   "cell_type": "code",
   "execution_count": 23,
   "id": "fe4a8b0f",
   "metadata": {
    "id": "fe4a8b0f"
   },
   "outputs": [
    {
     "name": "stdout",
     "output_type": "stream",
     "text": [
      "       product_id product_name  aisle_id  department_id\n",
      "37             38          NaN       100             21\n",
      "71             72          NaN       100             21\n",
      "109           110          NaN       100             21\n",
      "296           297          NaN       100             21\n",
      "416           417          NaN       100             21\n",
      "...           ...          ...       ...            ...\n",
      "49552       49553          NaN       100             21\n",
      "49574       49575          NaN       100             21\n",
      "49640       49641          NaN       100             21\n",
      "49663       49664          NaN       100             21\n",
      "49668       49669          NaN       100             21\n",
      "\n",
      "[1258 rows x 4 columns]\n"
     ]
    }
   ],
   "source": [
    "# Encuentra los valores ausentes en la columna 'product_name'\n",
    "df_products[\"product_name\"].isna().sum()\n",
    "print(df_products[df_products[\"product_name\"].isna()])"
   ]
  },
  {
   "cell_type": "markdown",
   "id": "-A6x1AbJhjkp",
   "metadata": {
    "id": "-A6x1AbJhjkp"
   },
   "source": [
    "Describe brevemente cuáles son tus hallazgos.\n",
    "#Los hallazgos que se pueden ver es que muchos comparten el mismo aisle_id y department_id. "
   ]
  },
  {
   "cell_type": "code",
   "execution_count": 24,
   "id": "e96167bc",
   "metadata": {
    "id": "e96167bc"
   },
   "outputs": [
    {
     "name": "stdout",
     "output_type": "stream",
     "text": [
      "1258\n"
     ]
    }
   ],
   "source": [
    "#  ¿Todos los nombres de productos ausentes están relacionados con el pasillo con ID 100?\n",
    "value_100 = df_products[df_products[\"aisle_id\"] == 100]\n",
    "print(value_100[\"product_name\"].isna().sum())\n",
    "\n",
    "#No se puede apreciar si todos los productos ausentes estan relacionados con el pasillo con ID 100, pero su mayoria si. "
   ]
  },
  {
   "cell_type": "markdown",
   "id": "WRpIfXRphpSL",
   "metadata": {
    "id": "WRpIfXRphpSL"
   },
   "source": [
    "Describe brevemente cuáles son tus hallazgos.\n",
    "En el ejercicio anterior podemos ver como "
   ]
  },
  {
   "cell_type": "markdown",
   "id": "f37ba736",
   "metadata": {},
   "source": [
    "Se observa que los productos ausentes estan relacionados con el pasillo con ID 100. "
   ]
  },
  {
   "cell_type": "markdown",
   "id": "19f6d54c",
   "metadata": {},
   "source": [
    "<div class=\"alert alert-block alert-danger\">\n",
    "\n",
    "<b>Comentario del revisor</b> <a class=\"tocSkip\"></a>\n",
    "\n",
    "Recorda dejar tus observaciones, hallazgos y cambios en formato **markdown**.</div>\n",
    "\n",
    "<div class=\"alert alert-block alert-success\">\n",
    "\n",
    "<b>Comentario del revisor #2</b> <a class=\"tocSkip\"></a>\n",
    "\n",
    "Corregido\n",
    "\n",
    "</div>"
   ]
  },
  {
   "cell_type": "code",
   "execution_count": 25,
   "id": "8fd0a541",
   "metadata": {
    "id": "8fd0a541"
   },
   "outputs": [
    {
     "name": "stdout",
     "output_type": "stream",
     "text": [
      "product_id          0\n",
      "product_name     1258\n",
      "aisle_id            0\n",
      "department_id       0\n",
      "dtype: int64\n"
     ]
    }
   ],
   "source": [
    "# ¿Todos los nombres de productos ausentes están relacionados con el departamento con ID 21?\n",
    "aisle_21 = df_products[df_products[\"department_id\"] == 21]\n",
    "print(aisle_21.isna().sum())"
   ]
  },
  {
   "cell_type": "markdown",
   "id": "qDpdYn1Fht_I",
   "metadata": {
    "id": "qDpdYn1Fht_I"
   },
   "source": [
    "Describe brevemente cuáles son tus hallazgos."
   ]
  },
  {
   "cell_type": "markdown",
   "id": "c41afa30",
   "metadata": {},
   "source": [
    "El resultado muestra que hay 1,258 valores ausentes en la columna product_name dentro del departamento con ID 21."
   ]
  },
  {
   "cell_type": "markdown",
   "id": "9e198fb0",
   "metadata": {},
   "source": [
    "<div class=\"alert alert-block alert-danger\">\n",
    "\n",
    "<b>Comentario del revisor</b> <a class=\"tocSkip\"></a>\n",
    "\n",
    "Recorda dejar tus observaciones, hallazgos y cambios en formato **markdown**.</div>\n",
    "\n",
    "\n",
    "<div class=\"alert alert-block alert-success\">\n",
    "\n",
    "<b>Comentario del revisor #2</b> <a class=\"tocSkip\"></a>\n",
    "\n",
    "Corregido\n",
    "\n",
    "</div>"
   ]
  },
  {
   "cell_type": "code",
   "execution_count": 26,
   "id": "325c3464",
   "metadata": {
    "id": "325c3464"
   },
   "outputs": [
    {
     "name": "stdout",
     "output_type": "stream",
     "text": [
      "    aisle_id    aisle\n",
      "99       100  missing\n",
      "    department_id department\n",
      "20             21    missing\n"
     ]
    }
   ],
   "source": [
    "# Usa las tablas department y aisle para revisar los datos del pasillo con ID 100 y el departamento con ID 21.\n",
    "print(df_aisles[df_aisles[\"aisle_id\"] == 100])\n",
    "print(df_departments[df_departments[\"department_id\"] == 21])"
   ]
  },
  {
   "cell_type": "markdown",
   "id": "nqhSTUPhhvEJ",
   "metadata": {
    "id": "nqhSTUPhhvEJ"
   },
   "source": [
    "Describe brevemente cuáles son tus hallazgos.\n",
    "Hay 1258 columnas que tienen el mismo aisle_id y department_id. Estas mismas son las que salen en duplicados. "
   ]
  },
  {
   "cell_type": "code",
   "execution_count": 27,
   "id": "6b295120",
   "metadata": {
    "id": "6b295120"
   },
   "outputs": [
    {
     "name": "stdout",
     "output_type": "stream",
     "text": [
      "<class 'pandas.core.frame.DataFrame'>\n",
      "RangeIndex: 49694 entries, 0 to 49693\n",
      "Data columns (total 4 columns):\n",
      " #   Column         Non-Null Count  Dtype \n",
      "---  ------         --------------  ----- \n",
      " 0   product_id     49694 non-null  int64 \n",
      " 1   product_name   49694 non-null  object\n",
      " 2   aisle_id       49694 non-null  int64 \n",
      " 3   department_id  49694 non-null  int64 \n",
      "dtypes: int64(3), object(1)\n",
      "memory usage: 1.5+ MB\n"
     ]
    }
   ],
   "source": [
    "# Completa los nombres de productos ausentes con 'Unknown'\n",
    "df_products[\"product_name\"].fillna(\"Unknown\", inplace=True)\n",
    "df_products.info()"
   ]
  },
  {
   "cell_type": "markdown",
   "id": "fc70e5ad",
   "metadata": {
    "id": "fc70e5ad"
   },
   "source": [
    "Describe brevemente tus hallazgos y lo que hiciste con ellos.\n",
    "Rellene los valores ausentes utilizando el metodo fillna() con el parametro inplace=True y con la palabra Unknown. Despues imprimi info para asegurarme de que todos los valores estuvieran no nulos. "
   ]
  },
  {
   "cell_type": "markdown",
   "id": "af1b03a9",
   "metadata": {},
   "source": [
    "<div class=\"alert alert-block alert-success\">\n",
    "\n",
    "<b>Comentario del revisor</b> <a class=\"tocSkip\"></a>\n",
    "\n",
    "Muy bien encontrando el patron de estos nulos.\n",
    "\n",
    "</div>"
   ]
  },
  {
   "cell_type": "markdown",
   "id": "7eb45c86",
   "metadata": {
    "id": "7eb45c86"
   },
   "source": [
    "### `orders` data frame"
   ]
  },
  {
   "cell_type": "code",
   "execution_count": 28,
   "id": "93e41d96",
   "metadata": {
    "id": "93e41d96"
   },
   "outputs": [
    {
     "name": "stdout",
     "output_type": "stream",
     "text": [
      "        order_id  user_id  order_number  order_dow  order_hour_of_day  \\\n",
      "28        133707   182261             1          3                 10   \n",
      "96        787445    25685             1          6                 18   \n",
      "100       294410   111449             1          0                 19   \n",
      "103      2869915   123958             1          4                 16   \n",
      "104      2521921    42286             1          3                 18   \n",
      "...          ...      ...           ...        ...                ...   \n",
      "478880   2589657   205028             1          0                 16   \n",
      "478881   2222353   141211             1          2                 13   \n",
      "478907   2272807   204154             1          1                 15   \n",
      "478911   2499542    68810             1          4                 19   \n",
      "478930   1387033    22496             1          5                 14   \n",
      "\n",
      "        days_since_prior_order  \n",
      "28                         NaN  \n",
      "96                         NaN  \n",
      "100                        NaN  \n",
      "103                        NaN  \n",
      "104                        NaN  \n",
      "...                        ...  \n",
      "478880                     NaN  \n",
      "478881                     NaN  \n",
      "478907                     NaN  \n",
      "478911                     NaN  \n",
      "478930                     NaN  \n",
      "\n",
      "[28817 rows x 6 columns]\n"
     ]
    }
   ],
   "source": [
    "# Encuentra los valores ausentes\n",
    "df_orders.isna().sum()\n",
    "print(df_orders[df_orders[\"days_since_prior_order\"].isna()])"
   ]
  },
  {
   "cell_type": "code",
   "execution_count": 29,
   "id": "166e5a86",
   "metadata": {
    "id": "166e5a86"
   },
   "outputs": [
    {
     "name": "stdout",
     "output_type": "stream",
     "text": [
      "0\n"
     ]
    }
   ],
   "source": [
    "# ¿Hay algún valor ausente que no sea el primer pedido del cliente?\n",
    "non_first_orders = df_orders[df_orders[\"order_number\"] != 1]\n",
    "missing_data = non_first_orders.isnull().any()\n",
    "\n",
    "print(missing_data.sum())"
   ]
  },
  {
   "cell_type": "markdown",
   "id": "4e23d089",
   "metadata": {
    "id": "4e23d089"
   },
   "source": [
    "Describe brevemente tus hallazgos y lo que hiciste con ellos.\n",
    "Al filtrar el dataframe orders por el numero de orden y buscar valores ausentes en ellos el codigo arrojo false en todas las columnas, lo que significa que no hay valores ausentes en filas que no sea el primer pedido. "
   ]
  },
  {
   "cell_type": "markdown",
   "id": "6aabb073",
   "metadata": {},
   "source": [
    "<div class=\"alert alert-block alert-success\">\n",
    "\n",
    "<b>Comentario del revisor</b> <a class=\"tocSkip\"></a>\n",
    "\n",
    "Excelente entendiendo estos nulos.\n",
    "\n",
    "\n",
    "</div>"
   ]
  },
  {
   "cell_type": "markdown",
   "id": "69dc9ca4",
   "metadata": {
    "id": "69dc9ca4"
   },
   "source": [
    "### `order_products` data frame"
   ]
  },
  {
   "cell_type": "code",
   "execution_count": 30,
   "id": "b8240253",
   "metadata": {
    "id": "b8240253"
   },
   "outputs": [
    {
     "name": "stdout",
     "output_type": "stream",
     "text": [
      "         order_id  product_id  add_to_cart_order  reordered\n",
      "737       2449164        5068                NaN          0\n",
      "9926      1968313       43867                NaN          0\n",
      "14394     2926893       11688                NaN          0\n",
      "16418     1717990        4142                NaN          0\n",
      "30114     1959075       42828                NaN          1\n",
      "...           ...         ...                ...        ...\n",
      "4505662   1800005        7411                NaN          0\n",
      "4511400   1633337         260                NaN          0\n",
      "4517562    404157        9517                NaN          0\n",
      "4534112   1673227       17835                NaN          0\n",
      "4535739   1832957       17949                NaN          1\n",
      "\n",
      "[836 rows x 4 columns]\n"
     ]
    }
   ],
   "source": [
    "# Encuentra los valores ausentes\n",
    "df_order_products.isna().sum()\n",
    "print(df_order_products[df_order_products[\"add_to_cart_order\"].isna()])"
   ]
  },
  {
   "cell_type": "code",
   "execution_count": 31,
   "id": "9a78e5ee",
   "metadata": {
    "id": "9a78e5ee"
   },
   "outputs": [
    {
     "name": "stdout",
     "output_type": "stream",
     "text": [
      "1.0\n",
      "64.0\n"
     ]
    }
   ],
   "source": [
    "# ¿Cuáles son los valores mínimos y máximos en esta columna?\n",
    "min_value = df_order_products[\"add_to_cart_order\"].min()\n",
    "max_value = df_order_products[\"add_to_cart_order\"].max()\n",
    "print(min_value)\n",
    "print(max_value)"
   ]
  },
  {
   "cell_type": "markdown",
   "id": "-Z2Ja215jW78",
   "metadata": {
    "id": "-Z2Ja215jW78"
   },
   "source": [
    "Describe brevemente cuáles son tus hallazgos."
   ]
  },
  {
   "cell_type": "markdown",
   "id": "1a092b51",
   "metadata": {},
   "source": [
    "El valor mínimo en la columna es 1.0, indicando que hay productos que fueron los primeros en ser añadidos al carrito.\n",
    "El valor máximo es 64.0, lo que sugiere que, en al menos un pedido, un usuario añadió hasta 64 productos en total al carrito.\n"
   ]
  },
  {
   "cell_type": "markdown",
   "id": "61e96829",
   "metadata": {},
   "source": [
    "<div class=\"alert alert-block alert-danger\">\n",
    "\n",
    "<b>Comentario del revisor</b> <a class=\"tocSkip\"></a>\n",
    "\n",
    "Recorda dejar tus observaciones, hallazgos y cambios en formato **markdown**.</div>\n",
    "\n",
    "<div class=\"alert alert-block alert-success\">\n",
    "\n",
    "<b>Comentario del revisor #2</b> <a class=\"tocSkip\"></a>\n",
    "\n",
    "Corregido, muy buneo\n",
    "\n",
    "</div>"
   ]
  },
  {
   "cell_type": "code",
   "execution_count": 32,
   "id": "ab9d0c2b",
   "metadata": {
    "id": "ab9d0c2b"
   },
   "outputs": [
    {
     "name": "stdout",
     "output_type": "stream",
     "text": [
      "737        2449164\n",
      "9926       1968313\n",
      "14394      2926893\n",
      "16418      1717990\n",
      "30114      1959075\n",
      "            ...   \n",
      "4505662    1800005\n",
      "4511400    1633337\n",
      "4517562     404157\n",
      "4534112    1673227\n",
      "4535739    1832957\n",
      "Name: order_id, Length: 836, dtype: int64\n"
     ]
    }
   ],
   "source": [
    "# Guarda todas las IDs de pedidos que tengan un valor ausente en 'add_to_cart_order'\n",
    "print(df_order_products[df_order_products[\"add_to_cart_order\"].isna()][\"order_id\"])"
   ]
  },
  {
   "cell_type": "code",
   "execution_count": 33,
   "id": "54c31695",
   "metadata": {
    "id": "54c31695"
   },
   "outputs": [
    {
     "data": {
      "text/plain": [
       "65"
      ]
     },
     "execution_count": 33,
     "metadata": {},
     "output_type": "execute_result"
    }
   ],
   "source": [
    "# ¿Todos los pedidos con valores ausentes tienen más de 64 productos?\n",
    "# Agrupa todos los pedidos con datos ausentes por su ID de pedido.\n",
    "# Cuenta el número de 'product_id' en cada pedido y revisa el valor mínimo del conteo.\n",
    "add_to_cart_order_filtered = df_order_products[df_order_products[\"add_to_cart_order\"].isna()][\"order_id\"]\n",
    "order_id_nan = df_order_products[df_order_products[\"order_id\"].isin(add_to_cart_order_filtered)]\n",
    "order_id_nan.groupby(\"order_id\")[\"product_id\"].nunique().min()                                                     "
   ]
  },
  {
   "cell_type": "markdown",
   "id": "p9V6pddtjglj",
   "metadata": {
    "id": "p9V6pddtjglj"
   },
   "source": [
    "Describe brevemente cuáles son tus hallazgos."
   ]
  },
  {
   "cell_type": "markdown",
   "id": "3cbc358c",
   "metadata": {},
   "source": [
    "Todos los pedidos con valores ausentes tienen más de 65 productos"
   ]
  },
  {
   "cell_type": "markdown",
   "id": "c8c676d1",
   "metadata": {},
   "source": [
    "<div class=\"alert alert-block alert-danger\">\n",
    "\n",
    "<b>Comentario del revisor</b> <a class=\"tocSkip\"></a>\n",
    "\n",
    "Recorda dejar tus observaciones, hallazgos y cambios en formato **markdown**.</div>\n",
    "\n",
    "<div class=\"alert alert-block alert-success\">\n",
    "\n",
    "<b>Comentario del revisor #2</b> <a class=\"tocSkip\"></a>\n",
    "\n",
    "Corregido, excelente.\n",
    "\n",
    "</div>"
   ]
  },
  {
   "cell_type": "code",
   "execution_count": 34,
   "id": "7a987d08",
   "metadata": {
    "id": "7a987d08"
   },
   "outputs": [
    {
     "name": "stdout",
     "output_type": "stream",
     "text": [
      "<class 'pandas.core.frame.DataFrame'>\n",
      "RangeIndex: 4545007 entries, 0 to 4545006\n",
      "Data columns (total 4 columns):\n",
      " #   Column             Dtype\n",
      "---  ------             -----\n",
      " 0   order_id           int64\n",
      " 1   product_id         int64\n",
      " 2   add_to_cart_order  int64\n",
      " 3   reordered          int64\n",
      "dtypes: int64(4)\n",
      "memory usage: 138.7 MB\n"
     ]
    }
   ],
   "source": [
    "# Remplaza los valores ausentes en la columna 'add_to_cart? con 999 y convierte la columna al tipo entero.\n",
    "df_order_products[\"add_to_cart_order\"].fillna(999, inplace=True)\n",
    "df_order_products[\"add_to_cart_order\"]= df_order_products[\"add_to_cart_order\"].astype(\"int64\")\n",
    "df_order_products.info()"
   ]
  },
  {
   "cell_type": "markdown",
   "id": "fea4bcc7",
   "metadata": {
    "id": "fea4bcc7"
   },
   "source": [
    "Describe brevemente tus hallazgos y lo que hiciste con ellos."
   ]
  },
  {
   "cell_type": "markdown",
   "id": "7848956b",
   "metadata": {},
   "source": [
    "Los valores ausentes en add_to_cart_order se reemplazaron por 999, una constante distintiva que indica que no se registró el orden en el carrito para esos productos.\n",
    "Ademas, se convirtieron los datos a tipo entero utilizando int64"
   ]
  },
  {
   "cell_type": "markdown",
   "id": "07c666d7",
   "metadata": {},
   "source": [
    "<div class=\"alert alert-block alert-danger\">\n",
    "\n",
    "<b>Comentario del revisor</b> <a class=\"tocSkip\"></a>\n",
    "\n",
    "Recorda dejar tus observaciones, hallazgos y cambios en formato **markdown**.</div>\n",
    "\n",
    "<div class=\"alert alert-block alert-success\">\n",
    "\n",
    "<b>Comentario del revisor #2</b> <a class=\"tocSkip\"></a>\n",
    "\n",
    "Corregido.\n",
    "\n",
    "</div>"
   ]
  },
  {
   "cell_type": "markdown",
   "id": "RnplPFY1gSrb",
   "metadata": {
    "id": "RnplPFY1gSrb"
   },
   "source": [
    "## Conclusiones\n",
    "\n",
    "Escribe aquí tus conclusiones intermedias sobre el Paso 2. Preprocesamiento de los datos\n"
   ]
  },
  {
   "cell_type": "markdown",
   "id": "111b202c",
   "metadata": {},
   "source": [
    "Verifique y correji los tipo de datos, identifique y elimine datos duplicados, maneje los valores ausentes, todo esto con el fin de analizar los datos de manera mas precisa "
   ]
  },
  {
   "cell_type": "markdown",
   "id": "411b2849",
   "metadata": {},
   "source": [
    "<div class=\"alert alert-block alert-danger\">\n",
    "\n",
    "<b>Comentario del revisor</b> <a class=\"tocSkip\"></a>\n",
    "\n",
    "Recorda dejar tus conclusiones intermedias de este proyecto en formato **markdown**.</div>\n",
    "\n",
    "<div class=\"alert alert-block alert-success\">\n",
    "\n",
    "<b>Comentario del revisor #2</b> <a class=\"tocSkip\"></a>\n",
    "\n",
    "Corregido.\n",
    "\n",
    "</div>"
   ]
  },
  {
   "cell_type": "markdown",
   "id": "UjrOIwTcz3ri",
   "metadata": {
    "id": "UjrOIwTcz3ri"
   },
   "source": [
    "# Paso 3. Análisis de los datos\n",
    "\n",
    "Una vez los datos estén procesados y listos, haz el siguiente análisis:"
   ]
  },
  {
   "cell_type": "markdown",
   "id": "turkish-kidney",
   "metadata": {
    "id": "turkish-kidney"
   },
   "source": [
    "# [A] Fácil (deben completarse todos para aprobar)\n",
    "\n",
    "1. Verifica que los valores en las columnas `'order_hour_of_day'` y `'order_dow'` en la tabla orders sean razonables (es decir, `'order_hour_of_day'` oscile entre 0 y 23 y `'order_dow'` oscile entre 0 y 6).\n",
    "2. Crea un gráfico que muestre el número de personas que hacen pedidos dependiendo de la hora del día.\n",
    "3. Crea un gráfico que muestre qué día de la semana la gente hace sus compras.\n",
    "4. Crea un gráfico que muestre el tiempo que la gente espera hasta hacer su siguiente pedido, y comenta sobre los valores mínimos y máximos."
   ]
  },
  {
   "cell_type": "markdown",
   "id": "short-capability",
   "metadata": {
    "id": "short-capability"
   },
   "source": [
    "### [A1] Verifica que los valores sean sensibles"
   ]
  },
  {
   "cell_type": "code",
   "execution_count": 35,
   "id": "growing-fruit",
   "metadata": {
    "id": "growing-fruit"
   },
   "outputs": [
    {
     "name": "stdout",
     "output_type": "stream",
     "text": [
      "[0, 1, 2, 3, 4, 5, 6, 7, 8, 9, 10, 11, 12, 13, 14, 15, 16, 17, 18, 19, 20, 21, 22, 23]\n"
     ]
    }
   ],
   "source": [
    "unique_values = df_orders[\"order_hour_of_day\"].unique()\n",
    "print(sorted(unique_values))"
   ]
  },
  {
   "cell_type": "code",
   "execution_count": 36,
   "id": "accessory-malaysia",
   "metadata": {
    "id": "accessory-malaysia"
   },
   "outputs": [
    {
     "name": "stdout",
     "output_type": "stream",
     "text": [
      "[0, 1, 2, 3, 4, 5, 6]\n"
     ]
    }
   ],
   "source": [
    "unique_dow = df_orders[\"order_dow\"].unique()\n",
    "print(sorted(unique_dow))"
   ]
  },
  {
   "cell_type": "markdown",
   "id": "hmR2GNQ6lCsX",
   "metadata": {
    "id": "hmR2GNQ6lCsX"
   },
   "source": [
    "Conlcusiones: Ambos conjuntos de valores parecen ser consistentes"
   ]
  },
  {
   "cell_type": "markdown",
   "id": "5776c6bd",
   "metadata": {},
   "source": [
    "<div class=\"alert alert-block alert-danger\">\n",
    "\n",
    "<b>Comentario del revisor</b> <a class=\"tocSkip\"></a>\n",
    "\n",
    "Recorda dejar tus conclusiones sobre esta extracción, podes comentar acerca de lo donde se produce el común de los resultados.</div>\n",
    "\n",
    "<div class=\"alert alert-block alert-success\">\n",
    "\n",
    "<b>Comentario del revisor #2</b> <a class=\"tocSkip\"></a>\n",
    "\n",
    "Corregido, muy bien.\n",
    "\n",
    "</div>"
   ]
  },
  {
   "cell_type": "markdown",
   "id": "a6743a70",
   "metadata": {
    "id": "a6743a70"
   },
   "source": [
    "### [A2] Para cada hora del día, ¿cuántas personas hacen órdenes?"
   ]
  },
  {
   "cell_type": "code",
   "execution_count": 37,
   "id": "a36cca27",
   "metadata": {
    "id": "a36cca27"
   },
   "outputs": [
    {
     "name": "stdout",
     "output_type": "stream",
     "text": [
      "order_hour_of_day\n",
      "0      2991\n",
      "1      1671\n",
      "2       958\n",
      "3       744\n",
      "4       735\n",
      "5      1281\n",
      "6      3757\n",
      "7     10993\n",
      "8     20268\n",
      "9     28112\n",
      "10    32195\n",
      "11    32660\n",
      "12    31754\n",
      "13    32433\n",
      "14    32797\n",
      "15    32894\n",
      "16    31579\n",
      "17    26825\n",
      "18    21795\n",
      "19    17026\n",
      "20    12891\n",
      "21     9806\n",
      "22     7670\n",
      "23     5167\n",
      "Name: user_id, dtype: int64\n"
     ]
    },
    {
     "data": {
      "text/plain": [
       "<AxesSubplot:xlabel='order_hour_of_day'>"
      ]
     },
     "execution_count": 37,
     "metadata": {},
     "output_type": "execute_result"
    },
    {
     "data": {
      "image/png": "[encoded data removed]",
      "text/plain": [
       "<Figure size 640x480 with 1 Axes>"
      ]
     },
     "metadata": {},
     "output_type": "display_data"
    }
   ],
   "source": [
    "orders_per_hour = df_orders.groupby(\"order_hour_of_day\")[\"user_id\"].nunique()\n",
    "print(orders_per_hour)\n",
    "\n",
    "orders_per_hour.plot(kind= \"bar\")"
   ]
  },
  {
   "cell_type": "markdown",
   "id": "11270eed",
   "metadata": {
    "id": "11270eed"
   },
   "source": [
    "Escribe aquí tus conclusiones\n",
    "Aqui se puede analizar visualmente como es que la mayoria de las compras son de 10:00 a 16:00 hrs. "
   ]
  },
  {
   "cell_type": "markdown",
   "id": "f27ec694",
   "metadata": {},
   "source": [
    "<div class=\"alert alert-block alert-success\">\n",
    "\n",
    "<b>Comentario del revisor</b> <a class=\"tocSkip\"></a>\n",
    "\n",
    "Excelente.\n",
    "\n",
    "\n",
    "</div>"
   ]
  },
  {
   "cell_type": "markdown",
   "id": "documented-command",
   "metadata": {
    "id": "documented-command"
   },
   "source": [
    "### [A3] ¿Qué día de la semana compran víveres las personas?"
   ]
  },
  {
   "cell_type": "code",
   "execution_count": 38,
   "id": "chief-digit",
   "metadata": {
    "id": "chief-digit"
   },
   "outputs": [
    {
     "name": "stdout",
     "output_type": "stream",
     "text": [
      "order_dow\n",
      "0    84090\n",
      "1    82185\n",
      "2    65833\n",
      "3    60897\n",
      "4    59810\n",
      "5    63488\n",
      "6    62649\n",
      "Name: order_id, dtype: int64\n"
     ]
    },
    {
     "data": {
      "text/plain": [
       "<AxesSubplot:xlabel='order_dow'>"
      ]
     },
     "execution_count": 38,
     "metadata": {},
     "output_type": "execute_result"
    },
    {
     "data": {
      "image/png": "[encoded data removed]",
      "text/plain": [
       "<Figure size 640x480 with 1 Axes>"
      ]
     },
     "metadata": {},
     "output_type": "display_data"
    }
   ],
   "source": [
    "orders_per_day = df_orders.groupby(\"order_dow\")[\"order_id\"].count()\n",
    "print(orders_per_day)\n",
    "\n",
    "orders_per_day.plot(kind = \"bar\")"
   ]
  },
  {
   "cell_type": "markdown",
   "id": "dominant-lightning",
   "metadata": {
    "id": "dominant-lightning"
   },
   "source": [
    "Escribe aquí tus conclusiones\n",
    "El dia de la semana que mas se compra viveres es el domingo y le sigue el lunes. "
   ]
  },
  {
   "cell_type": "markdown",
   "id": "6e1c8f64",
   "metadata": {},
   "source": [
    "<div class=\"alert alert-block alert-success\">\n",
    "\n",
    "<b>Comentario del revisor</b> <a class=\"tocSkip\"></a>\n",
    "\n",
    "Muy bien.\n",
    "\n",
    "</div>"
   ]
  },
  {
   "cell_type": "markdown",
   "id": "cutting-concert",
   "metadata": {
    "id": "cutting-concert"
   },
   "source": [
    "### [A4] ¿Cuánto tiempo esperan las personas hasta hacer otro pedido? Comenta sobre los valores mínimos y máximos."
   ]
  },
  {
   "cell_type": "code",
   "execution_count": 39,
   "id": "c231f523",
   "metadata": {
    "id": "c231f523"
   },
   "outputs": [
    {
     "name": "stdout",
     "output_type": "stream",
     "text": [
      "Min days are 0.0\n",
      "Max days are 30.0\n"
     ]
    },
    {
     "data": {
      "text/plain": [
       "<AxesSubplot:xlabel='days_since_prior_order'>"
      ]
     },
     "execution_count": 39,
     "metadata": {},
     "output_type": "execute_result"
    },
    {
     "data": {
      "image/png": "[encoded data removed]",
      "text/plain": [
       "<Figure size 640x480 with 1 Axes>"
      ]
     },
     "metadata": {},
     "output_type": "display_data"
    }
   ],
   "source": [
    "min_days = df_orders[\"days_since_prior_order\"].min()\n",
    "max_days = df_orders[\"days_since_prior_order\"].max()\n",
    "print(\"Min days are\", min_days)\n",
    "print(\"Max days are\", max_days)\n",
    "df_orders.groupby(\"days_since_prior_order\")[\"user_id\"].count().plot(kind=\"bar\")"
   ]
  },
  {
   "cell_type": "markdown",
   "id": "discrete-vertex",
   "metadata": {
    "id": "discrete-vertex"
   },
   "source": [
    "Escribe aquí tus conclusiones\n",
    "Hay personas que han hecho mas de una compra el mismo dias y personas que se han esperado hasta 30 dias para volver a hacer una compra. \n",
    "\n",
    "Los dias que tienen 0 corresponden a personas que han hecho mas de una compra en el mismo dia.\n",
    "\n",
    "Es posible que haya compras cada 7 dias por compras que deban ser semanales o suscripciones. "
   ]
  },
  {
   "cell_type": "markdown",
   "id": "dcc90081",
   "metadata": {},
   "source": [
    "<div class=\"alert alert-block alert-warning\">\n",
    "<b>Comentario del revisor</b> <a class=\"tocSkip\"></a>\n",
    "\n",
    "¿Los dias entre pedidos que tienen 0 a que corresponderia?\n",
    "\n",
    "¿Porque crees la razon en que estan concentrados los mayores datos en que se piden cada siete dias? .\n",
    "\n",
    "Responder este tipo de preguntas robustecen nuestro proyecto y le dan valor a nuestro rol de analista.</div>\n",
    "\n",
    "<div class=\"alert alert-block alert-success\">\n",
    "\n",
    "<b>Comentario del revisor #2</b> <a class=\"tocSkip\"></a>\n",
    "\n",
    "Corregido, buena observacion.\n",
    "\n",
    "</div>"
   ]
  },
  {
   "cell_type": "markdown",
   "id": "tight-staff",
   "metadata": {
    "id": "tight-staff"
   },
   "source": [
    "# [B] Intermedio (deben completarse todos para aprobar)\n",
    "\n",
    "1. ¿Existe alguna diferencia entre las distribuciones `'order_hour_of_day'` de los miércoles y los sábados? Traza gráficos de barra de `'order_hour_of_day'` para ambos días en la misma figura y describe las diferencias que observes.\n",
    "2. Grafica la distribución para el número de órdenes que hacen los clientes (es decir, cuántos clientes hicieron solo 1 pedido, cuántos hicieron 2, cuántos 3, y así sucesivamente...).\n",
    "3. ¿Cuáles son los 20 principales productos que se piden con más frecuencia (muestra su identificación y nombre)?"
   ]
  },
  {
   "cell_type": "markdown",
   "id": "packed-classic",
   "metadata": {
    "id": "packed-classic"
   },
   "source": [
    "### [B1] Diferencia entre miércoles y sábados para  `'order_hour_of_day'`. Traza gráficos de barra para los dos días y describe las diferencias que veas."
   ]
  },
  {
   "cell_type": "code",
   "execution_count": 40,
   "id": "d89b8403",
   "metadata": {
    "id": "d89b8403"
   },
   "outputs": [
    {
     "name": "stdout",
     "output_type": "stream",
     "text": [
      "order_hour_of_day\n",
      "0      373\n",
      "1      215\n",
      "2      106\n",
      "3      101\n",
      "4      108\n",
      "5      170\n",
      "6      643\n",
      "7     1732\n",
      "8     3125\n",
      "9     4490\n",
      "10    5026\n",
      "11    5004\n",
      "12    4688\n",
      "13    4674\n",
      "14    4774\n",
      "15    5163\n",
      "16    4976\n",
      "17    4175\n",
      "18    3463\n",
      "19    2652\n",
      "20    1917\n",
      "21    1450\n",
      "22    1154\n",
      "23     718\n",
      "Name: user_id, dtype: int64\n"
     ]
    }
   ],
   "source": [
    "order_wed = df_orders[df_orders[\"order_dow\"] == 3]\n",
    "\n",
    "wed_counts = order_wed.groupby(\"order_hour_of_day\")[\"user_id\"].count()\n",
    "print(wed_counts)"
   ]
  },
  {
   "cell_type": "code",
   "execution_count": 41,
   "id": "94e54e8a",
   "metadata": {
    "id": "94e54e8a"
   },
   "outputs": [
    {
     "name": "stdout",
     "output_type": "stream",
     "text": [
      "order_hour_of_day\n",
      "0      464\n",
      "1      254\n",
      "2      177\n",
      "3      125\n",
      "4      118\n",
      "5      161\n",
      "6      451\n",
      "7     1619\n",
      "8     3246\n",
      "9     4311\n",
      "10    4919\n",
      "11    5116\n",
      "12    5132\n",
      "13    5323\n",
      "14    5375\n",
      "15    5188\n",
      "16    5029\n",
      "17    4295\n",
      "18    3338\n",
      "19    2610\n",
      "20    1847\n",
      "21    1473\n",
      "22    1185\n",
      "23     893\n",
      "Name: user_id, dtype: int64\n"
     ]
    }
   ],
   "source": [
    "order_sat = df_orders[df_orders[\"order_dow\"] == 6]\n",
    "\n",
    "sat_counts = order_sat.groupby(\"order_hour_of_day\")[\"user_id\"].count()\n",
    "print(sat_counts)"
   ]
  },
  {
   "cell_type": "code",
   "execution_count": 42,
   "id": "797c90a8",
   "metadata": {
    "id": "797c90a8"
   },
   "outputs": [
    {
     "data": {
      "text/plain": [
       "<AxesSubplot:xlabel='order_hour_of_day'>"
      ]
     },
     "execution_count": 42,
     "metadata": {},
     "output_type": "execute_result"
    },
    {
     "data": {
      "image/png": "[encoded data removed]",
      "text/plain": [
       "<Figure size 640x480 with 1 Axes>"
      ]
     },
     "metadata": {},
     "output_type": "display_data"
    }
   ],
   "source": [
    "wed_sat_counts = pd.concat([wed_counts,sat_counts], axis=1)\n",
    "wed_sat_counts.columns = [\"miercoles\", \"sabado\"]\n",
    "wed_sat_counts.plot(kind=\"bar\")"
   ]
  },
  {
   "cell_type": "markdown",
   "id": "66d261c6",
   "metadata": {
    "id": "35bcea30"
   },
   "source": [
    "#El miercoles hay mas compras a las 9-10 am y despues a las 2-4 pm, mientras que en sabado de 11 a 4 hay varias compras. "
   ]
  },
  {
   "cell_type": "markdown",
   "id": "charitable-congo",
   "metadata": {
    "id": "charitable-congo"
   },
   "source": [
    "Escribe aquí tus conclusiones"
   ]
  },
  {
   "cell_type": "markdown",
   "id": "cdb0e9ef",
   "metadata": {},
   "source": [
    "<div class=\"alert alert-block alert-success\">\n",
    "\n",
    "<b>Comentario del revisor</b> <a class=\"tocSkip\"></a>\n",
    "\n",
    "Muy buen grafico, queda clara la diferencia.\n",
    "\n",
    "</div>"
   ]
  },
  {
   "cell_type": "markdown",
   "id": "e3891143",
   "metadata": {
    "id": "e3891143"
   },
   "source": [
    "### [B2] ¿Cuál es la distribución para el número de pedidos por cliente?"
   ]
  },
  {
   "cell_type": "code",
   "execution_count": 43,
   "id": "d8c26c23",
   "metadata": {
    "id": "d8c26c23"
   },
   "outputs": [
    {
     "name": "stdout",
     "output_type": "stream",
     "text": [
      "1\n",
      "28\n",
      "user_id\n",
      "2         2\n",
      "4         2\n",
      "5         1\n",
      "6         2\n",
      "7         2\n",
      "         ..\n",
      "206203    1\n",
      "206206    7\n",
      "206207    5\n",
      "206208    9\n",
      "206209    2\n",
      "Name: order_number, Length: 157437, dtype: int64\n"
     ]
    },
    {
     "data": {
      "image/png": "[encoded data removed]",
      "text/plain": [
       "<Figure size 640x480 with 1 Axes>"
      ]
     },
     "metadata": {},
     "output_type": "display_data"
    }
   ],
   "source": [
    "df_orders.groupby(\"user_id\")[\"order_number\"].count().plot(kind=\"hist\")\n",
    "order_number_min = df_orders.groupby(\"user_id\")[\"order_number\"].count().min()\n",
    "order_number_max = df_orders.groupby(\"user_id\")[\"order_number\"].count().max()\n",
    "print(order_number_min)\n",
    "print(order_number_max)\n",
    "print(df_orders.groupby(\"user_id\")[\"order_number\"].count())"
   ]
  },
  {
   "cell_type": "markdown",
   "id": "98251ce1",
   "metadata": {
    "id": "00e69a66"
   },
   "source": [
    "#La mayoria de los usuarios ha hecho menos de 5 pedidos. Sin embargo, me arroja que el numero maximo de pedidos por usuarios es de 28 pedidos por un usuario. Sin embargo, en la grafica no me representa que haya algun usuario de 28 pedidos.\n",
    "#Son 478966 entradas en user_id, o sea 478966 clientes y en esta grafica son 157437 clientes. "
   ]
  },
  {
   "cell_type": "markdown",
   "id": "d2eff7d5",
   "metadata": {
    "id": "d2eff7d5"
   },
   "source": [
    "Escribe aquí tus conclusiones"
   ]
  },
  {
   "cell_type": "markdown",
   "id": "8816dd9e",
   "metadata": {},
   "source": [
    "<div class=\"alert alert-block alert-success\">\n",
    "\n",
    "<b>Comentario del revisor</b> <a class=\"tocSkip\"></a>\n",
    "\n",
    "Muy buenas conclusiones.\n",
    "\n",
    "</div>"
   ]
  },
  {
   "cell_type": "markdown",
   "id": "54a0319c",
   "metadata": {
    "id": "54a0319c"
   },
   "source": [
    "### [B3] ¿Cuáles son los 20 productos más populares (muestra su ID y nombre)?"
   ]
  },
  {
   "cell_type": "code",
   "execution_count": 44,
   "id": "exterior-arizona",
   "metadata": {
    "id": "exterior-arizona",
    "scrolled": true
   },
   "outputs": [
    {
     "name": "stdout",
     "output_type": "stream",
     "text": [
      "product_id\n",
      "24852    66050\n",
      "13176    53297\n",
      "21137    37039\n",
      "21903    33971\n",
      "47209    29773\n",
      "47766    24689\n",
      "47626    21495\n",
      "16797    20018\n",
      "26209    19690\n",
      "27845    19600\n",
      "27966    19197\n",
      "22935    15898\n",
      "24964    15292\n",
      "45007    14584\n",
      "39275    13879\n",
      "49683    13675\n",
      "28204    12544\n",
      "5876     12232\n",
      "8277     11993\n",
      "40706    11781\n",
      "Name: order_id, dtype: int64\n"
     ]
    }
   ],
   "source": [
    "product_name_number = df_order_products.groupby(\"product_id\")[\"order_id\"].count()\n",
    "product_name_number_sorted = product_name_number.sort_values(ascending=False)\n",
    "popular_products = product_name_number_sorted.head(20)\n",
    "print(popular_products)"
   ]
  },
  {
   "cell_type": "code",
   "execution_count": 45,
   "id": "universal-facial",
   "metadata": {
    "id": "universal-facial"
   },
   "outputs": [
    {
     "name": "stdout",
     "output_type": "stream",
     "text": [
      "                product_name  product_id\n",
      "0                     Banana       24852\n",
      "1     Bag of Organic Bananas       13176\n",
      "2       Organic Strawberries       21137\n",
      "3       Organic Baby Spinach       21903\n",
      "4       Organic Hass Avocado       47209\n",
      "5            Organic Avocado       47766\n",
      "6                Large Lemon       47626\n",
      "7               Strawberries       16797\n",
      "8                      Limes       26209\n",
      "9         Organic Whole Milk       27845\n",
      "10       Organic Raspberries       27966\n",
      "11      Organic Yellow Onion       22935\n",
      "12            Organic Garlic       24964\n",
      "13          Organic Zucchini       45007\n",
      "14       Organic Blueberries       39275\n",
      "15            Cucumber Kirby       49683\n",
      "16        Organic Fuji Apple       28204\n",
      "17             Organic Lemon        5876\n",
      "18  Apple Honeycrisp Organic        8277\n",
      "19    Organic Grape Tomatoes       40706\n"
     ]
    },
    {
     "data": {
      "text/plain": [
       "<AxesSubplot:>"
      ]
     },
     "execution_count": 45,
     "metadata": {},
     "output_type": "execute_result"
    },
    {
     "data": {
      "image/png": "[encoded data removed]",
      "text/plain": [
       "<Figure size 640x480 with 1 Axes>"
      ]
     },
     "metadata": {},
     "output_type": "display_data"
    }
   ],
   "source": [
    "popular_products_df = popular_products.reset_index()\n",
    "popular_products_names_df = popular_products_df.merge(df_products, on=\"product_id\")\n",
    "print(popular_products_names_df[[\"product_name\", \"product_id\"]])\n",
    "\n",
    "popular_products_names_df.plot(kind=\"bar\")"
   ]
  },
  {
   "cell_type": "markdown",
   "id": "527bcd96",
   "metadata": {
    "id": "bbcdd20b"
   },
   "source": [
    "<div class=\"alert alert-block alert-warning\">\n",
    "<b>Comentario del revisor</b> <a class=\"tocSkip\"></a>\n",
    "\n",
    "Recorda que en este caso le agregaria valor graficar ese top 20 con un grafico de barras. Tener a mano el grafico hara mas amena y legible la experiencia del cliente.</div>"
   ]
  },
  {
   "cell_type": "markdown",
   "id": "7df00f47",
   "metadata": {
    "id": "7df00f47"
   },
   "source": [
    "Escribe aquí tus conclusiones\n",
    "\n",
    "Los 20 articulos mas populares son de comida, esto se podria deber a que son articulos que mayoria de la gente necesita diariamente. "
   ]
  },
  {
   "cell_type": "markdown",
   "id": "06d926ca",
   "metadata": {},
   "source": [
    "<div class=\"alert alert-block alert-danger\">\n",
    "\n",
    "<b>Comentario del revisor</b> <a class=\"tocSkip\"></a>\n",
    "\n",
    "Recorda dejar tus conclusiones sobre esta extracción, podes comentar acerca de lo donde se produce el común de los resultados.</div>\n",
    "\n",
    "<div class=\"alert alert-block alert-success\">\n",
    "\n",
    "<b>Comentario del revisor #2</b> <a class=\"tocSkip\"></a>\n",
    "\n",
    "Corregido.\n",
    "\n",
    "</div>"
   ]
  },
  {
   "cell_type": "markdown",
   "id": "gross-theme",
   "metadata": {
    "id": "gross-theme"
   },
   "source": [
    "# [C] Difícil (deben completarse todos para aprobar)\n",
    "\n",
    "1. ¿Cuántos artículos suelen comprar las personas en un pedido? ¿Cómo es la distribución?\n",
    "2. ¿Cuáles son los 20 principales artículos que vuelven a pedirse con mayor frecuencia (muestra sus nombres e IDs de los productos)?\n",
    "3. Para cada producto, ¿cuál es la tasa de repetición del pedido (número de repeticiones de pedido/total de pedidos?\n",
    "4. Para cada cliente, ¿qué proporción de los productos que pidió ya los había pedido? Calcula la tasa de repetición de pedido para cada usuario en lugar de para cada producto.\n",
    "5. ¿Cuáles son los 20 principales artículos que la gente pone primero en sus carritos (muestra las IDs de los productos, sus nombres, y el número de veces en que fueron el primer artículo en añadirse al carrito)?"
   ]
  },
  {
   "cell_type": "markdown",
   "id": "romantic-deposit",
   "metadata": {
    "id": "romantic-deposit"
   },
   "source": [
    "### [C1] ¿Cuántos artículos compran normalmente las personas en un pedido? ¿Cómo es la distribución?"
   ]
  },
  {
   "cell_type": "code",
   "execution_count": 46,
   "id": "virtual-punch",
   "metadata": {
    "id": "virtual-punch"
   },
   "outputs": [
    {
     "name": "stdout",
     "output_type": "stream",
     "text": [
      "order_id\n",
      "4          13\n",
      "9          15\n",
      "11          5\n",
      "19          3\n",
      "20          8\n",
      "           ..\n",
      "3421034    17\n",
      "3421053     9\n",
      "3421071     5\n",
      "3421077     4\n",
      "3421079     1\n",
      "Name: product_id, Length: 450046, dtype: int64\n",
      "count    450046.000000\n",
      "mean         10.098983\n",
      "std           7.540206\n",
      "min           1.000000\n",
      "25%           5.000000\n",
      "50%           8.000000\n",
      "75%          14.000000\n",
      "max         127.000000\n",
      "Name: product_id, dtype: float64\n"
     ]
    }
   ],
   "source": [
    "products_per_order = df_order_products.groupby(\"order_id\")[\"product_id\"].count()\n",
    "print(products_per_order)\n",
    "print(products_per_order.describe())"
   ]
  },
  {
   "cell_type": "code",
   "execution_count": 47,
   "id": "sensitive-breathing",
   "metadata": {
    "id": "sensitive-breathing"
   },
   "outputs": [
    {
     "data": {
      "text/plain": [
       "<AxesSubplot:title={'center':'Distribución Promedio Articulos por Pedido'}, ylabel='Frequency'>"
      ]
     },
     "execution_count": 47,
     "metadata": {},
     "output_type": "execute_result"
    },
    {
     "data": {
      "image/png": "[encoded data removed]",
      "text/plain": [
       "<Figure size 640x480 with 1 Axes>"
      ]
     },
     "metadata": {},
     "output_type": "display_data"
    }
   ],
   "source": [
    "products_per_order.plot(kind= \"hist\", title= \"Distribución Promedio Articulos por Pedido\", bins=6, xlabel=\"Articulos por pedido\", ylabel=\"Cantidad de pedidos\")"
   ]
  },
  {
   "cell_type": "markdown",
   "id": "97df846c",
   "metadata": {
    "id": "completed-frank"
   },
   "source": [
    "<div class=\"alert alert-block alert-warning\">\n",
    "<b>Comentario del revisor</b> <a class=\"tocSkip\"></a>\n",
    "\n",
    "Esta perfecto el grafico, como consejo podrias graficar  (en otra celda) el top 30 o 40 para visualizar mejor los datos ya que a partir de alli practicamente no tenemos informacion.</div>\n",
    "\n",
    "<div class=\"alert alert-block alert-warning\">\n",
    "\n",
    "<b>Comentario del revisor #2</b> <a class=\"tocSkip\"></a>\n",
    "\n",
    " Se podria hacer limitando los valores del muesteo a 40.\n",
    "\n",
    "</div>"
   ]
  },
  {
   "cell_type": "markdown",
   "id": "1808c682",
   "metadata": {},
   "source": [
    "No entendi como se pudiera hacer (lo que me pides)"
   ]
  },
  {
   "cell_type": "markdown",
   "id": "designed-mortality",
   "metadata": {
    "id": "designed-mortality"
   },
   "source": [
    "Escribe aquí tus conclusiones:\n",
    "Mayoria de los pedidos son de menos de 20 articulos. De hecho, segun el metodo describe() el 75% es de menos de 14 articulos. "
   ]
  },
  {
   "cell_type": "markdown",
   "id": "5e6b5537",
   "metadata": {
    "id": "5e6b5537"
   },
   "source": [
    "### [C2] ¿Cuáles son los 20 principales artículos que vuelven a pedirse con mayor frecuencia (muestra sus nombres e IDs de los productos)?"
   ]
  },
  {
   "cell_type": "code",
   "execution_count": 48,
   "id": "9374e55a",
   "metadata": {
    "id": "9374e55a"
   },
   "outputs": [
    {
     "name": "stdout",
     "output_type": "stream",
     "text": [
      "product_id\n",
      "1        158\n",
      "3         31\n",
      "4         25\n",
      "7          1\n",
      "8          6\n",
      "        ... \n",
      "49690      4\n",
      "49691     31\n",
      "49692      5\n",
      "49693     11\n",
      "49694      3\n",
      "Name: reordered, Length: 36228, dtype: int64\n"
     ]
    }
   ],
   "source": [
    "reordered_filter = df_order_products[df_order_products[\"reordered\"] == 1]\n",
    "product_reordered = reordered_filter.groupby(\"product_id\")[\"reordered\"].count()\n",
    "print(product_reordered)"
   ]
  },
  {
   "cell_type": "code",
   "execution_count": 49,
   "id": "possible-change",
   "metadata": {
    "id": "possible-change",
    "scrolled": true
   },
   "outputs": [
    {
     "name": "stdout",
     "output_type": "stream",
     "text": [
      "product_id\n",
      "24852    55763\n",
      "13176    44450\n",
      "21137    28639\n",
      "21903    26233\n",
      "47209    23629\n",
      "47766    18743\n",
      "27845    16251\n",
      "47626    15044\n",
      "27966    14748\n",
      "16797    13945\n",
      "26209    13327\n",
      "22935    11145\n",
      "24964    10411\n",
      "45007    10076\n",
      "49683     9538\n",
      "28204     8989\n",
      "8277      8836\n",
      "39275     8799\n",
      "5876      8412\n",
      "49235     8389\n",
      "Name: reordered, dtype: int64\n"
     ]
    }
   ],
   "source": [
    "reordered_count = product_reordered.sort_values(ascending=False)\n",
    "reordered_count_20 = reordered_count.head(20)\n",
    "print(reordered_count_20)"
   ]
  },
  {
   "cell_type": "code",
   "execution_count": 56,
   "id": "professional-surfing",
   "metadata": {
    "id": "professional-surfing",
    "scrolled": false
   },
   "outputs": [
    {
     "name": "stdout",
     "output_type": "stream",
     "text": [
      "    product_id              product_name  reordered\n",
      "0        24852                    Banana      55763\n",
      "1        13176    Bag of Organic Bananas      44450\n",
      "2        21137      Organic Strawberries      28639\n",
      "3        21903      Organic Baby Spinach      26233\n",
      "4        47209      Organic Hass Avocado      23629\n",
      "5        47766           Organic Avocado      18743\n",
      "6        27845        Organic Whole Milk      16251\n",
      "7        47626               Large Lemon      15044\n",
      "8        27966       Organic Raspberries      14748\n",
      "9        16797              Strawberries      13945\n",
      "10       26209                     Limes      13327\n",
      "11       22935      Organic Yellow Onion      11145\n",
      "12       24964            Organic Garlic      10411\n",
      "13       45007          Organic Zucchini      10076\n",
      "14       49683            Cucumber Kirby       9538\n",
      "15       28204        Organic Fuji Apple       8989\n",
      "16        8277  Apple Honeycrisp Organic       8836\n",
      "17       39275       Organic Blueberries       8799\n",
      "18        5876             Organic Lemon       8412\n",
      "19       49235       Organic Half & Half       8389\n"
     ]
    }
   ],
   "source": [
    "reordered_count_20 = reordered_count_20.reset_index().merge(df_products, on='product_id')\n",
    "print(reordered_count_20[['product_id', 'product_name', 'reordered']])"
   ]
  },
  {
   "cell_type": "markdown",
   "id": "7d44f51a",
   "metadata": {
    "id": "48dd3658"
   },
   "source": [
    "<div class=\"alert alert-block alert-warning\">\n",
    "<b>Comentario del revisor</b> <a class=\"tocSkip\"></a>\n",
    "\n",
    "Recorda que en este caso le agregaria valor graficar ese top 20 con un grafico de barras. Tener a mano el grafico hara mas amena y legible la experiencia del cliente.</div>"
   ]
  },
  {
   "cell_type": "markdown",
   "id": "80e70c74",
   "metadata": {
    "id": "80e70c74"
   },
   "source": [
    "Escribe aquí tus conclusiones:\n",
    "Los articulos que mas se piden son productos basicos de almentación. "
   ]
  },
  {
   "cell_type": "markdown",
   "id": "9d312b14",
   "metadata": {
    "id": "9d312b14"
   },
   "source": [
    "### [C3] Para cada producto, ¿cuál es la proporción de las veces que se pide y que se vuelve a pedir?"
   ]
  },
  {
   "cell_type": "code",
   "execution_count": 51,
   "id": "8ae9f4b1",
   "metadata": {
    "id": "8ae9f4b1"
   },
   "outputs": [
    {
     "name": "stdout",
     "output_type": "stream",
     "text": [
      "product_id\n",
      "1        158\n",
      "2          0\n",
      "3         31\n",
      "4         25\n",
      "7          1\n",
      "        ... \n",
      "49690      4\n",
      "49691     31\n",
      "49692      5\n",
      "49693     11\n",
      "49694      3\n",
      "Name: reordered, Length: 45573, dtype: int64\n"
     ]
    }
   ],
   "source": [
    "total_orders = df_order_products.groupby('product_id')['order_id'].count()\n",
    "reordered_orders = df_order_products.groupby('product_id')['reordered'].sum()\n",
    "print(reordered_orders)"
   ]
  },
  {
   "cell_type": "code",
   "execution_count": 52,
   "id": "103e7fe1",
   "metadata": {
    "id": "103e7fe1"
   },
   "outputs": [
    {
     "name": "stdout",
     "output_type": "stream",
     "text": [
      "product_id\n",
      "1        0.564286\n",
      "2        0.000000\n",
      "3        0.738095\n",
      "4        0.510204\n",
      "7        0.500000\n",
      "           ...   \n",
      "49690    0.800000\n",
      "49691    0.430556\n",
      "49692    0.416667\n",
      "49693    0.440000\n",
      "49694    0.333333\n",
      "Length: 45573, dtype: float64\n"
     ]
    }
   ],
   "source": [
    "reorder_proportion = reordered_orders / total_orders\n",
    "print(reorder_proportion)"
   ]
  },
  {
   "cell_type": "code",
   "execution_count": null,
   "id": "social-individual",
   "metadata": {
    "id": "social-individual"
   },
   "outputs": [],
   "source": []
  },
  {
   "cell_type": "markdown",
   "id": "I10dEIAyldcO",
   "metadata": {
    "id": "I10dEIAyldcO"
   },
   "source": [
    "Escribe aquí tus conclusiones:\n",
    "Los productos que tienen un numero alto son los que mas se vuelven a pedir mientras que los que tienen numeros bajos e incluso0 son pedidos que no son populares al momento de una reelección. "
   ]
  },
  {
   "cell_type": "markdown",
   "id": "939682a1",
   "metadata": {},
   "source": [
    "<div class=\"alert alert-block alert-danger\">\n",
    "<b>Comentario del revisor</b> <a class=\"tocSkip\"></a>\n",
    "\n",
    "Esta perfecto lo realizado, conclui al respecto de este punto, podrias comentar que hiciste, que informacion nos aporta y porque puede ser interesante.\n",
    "\n",
    "Recorda que realizar una conclusion de cada punto agregara valor a nuestro tabajo de cara al cliente.\n",
    "</div>\n",
    "\n",
    "<div class=\"alert alert-block alert-success\">\n",
    "\n",
    "<b>Comentario del revisor #2</b> <a class=\"tocSkip\"></a>\n",
    "\n",
    "Corregido, perfecto.\n",
    "\n",
    "</div>"
   ]
  },
  {
   "cell_type": "markdown",
   "id": "subject-boxing",
   "metadata": {
    "id": "subject-boxing"
   },
   "source": [
    "### [C4] Para cada cliente, ¿qué proporción de sus productos ya los había pedido?"
   ]
  },
  {
   "cell_type": "code",
   "execution_count": 61,
   "id": "medical-couple",
   "metadata": {
    "id": "medical-couple",
    "scrolled": true
   },
   "outputs": [
    {
     "name": "stdout",
     "output_type": "stream",
     "text": [
      "         order_id  user_id  order_number  order_dow  order_hour_of_day  \\\n",
      "3368081    548042   200208            31          3                 12   \n",
      "638301    1201849    28683             9          0                  9   \n",
      "638340     101534   158241            26          1                  7   \n",
      "638339     101534   158241            26          1                  7   \n",
      "638338     101534   158241            26          1                  7   \n",
      "...           ...      ...           ...        ...                ...   \n",
      "3010557    617625    47080             5          1                 14   \n",
      "3010558    617625    47080             5          1                 14   \n",
      "829026    1048446    43752             3          4                 14   \n",
      "829025    1048446    43752             3          4                 14   \n",
      "1253827   1569507    91921             1          5                 13   \n",
      "\n",
      "         days_since_prior_order  product_id  add_to_cart_order  reordered  \\\n",
      "3368081                    18.0        6184                  1          1   \n",
      "638301                     13.0       25138                  2          1   \n",
      "638340                     11.0       42300                  3          1   \n",
      "638339                     11.0       22825                  8          1   \n",
      "638338                     11.0        5450                  9          1   \n",
      "...                         ...         ...                ...        ...   \n",
      "3010557                    30.0       39921                  2          0   \n",
      "3010558                    30.0       19167                  3          0   \n",
      "829026                     22.0       30106                  5          0   \n",
      "829025                     22.0       22166                  4          0   \n",
      "1253827                     NaN       13870                 42          0   \n",
      "\n",
      "         reorder_proportion  \n",
      "3368081                 1.0  \n",
      "638301                  1.0  \n",
      "638340                  1.0  \n",
      "638339                  1.0  \n",
      "638338                  1.0  \n",
      "...                     ...  \n",
      "3010557                 0.0  \n",
      "3010558                 0.0  \n",
      "829026                  0.0  \n",
      "829025                  0.0  \n",
      "1253827                 0.0  \n",
      "\n",
      "[4545007 rows x 10 columns]\n"
     ]
    }
   ],
   "source": [
    "total_product_prop = df_orders.merge(df_order_products, on=\"order_id\")\n",
    "reorder_prop = total_product_prop.groupby(\"user_id\")[\"reordered\"].mean()\n",
    "reorder_prop= reorder_prop.reset_index()\n",
    "reorder_prop.columns = ['user_id', 'reorder_proportion']\n",
    "total_product_prop = total_product_prop.merge(reorder_prop, on='user_id', how='left')\n",
    "total_product_prop_sorted = total_product_prop.sort_values(by=\"reorder_proportion\", ascending=False)\n",
    "print(total_product_prop_sorted)"
   ]
  },
  {
   "cell_type": "markdown",
   "id": "d555aa58",
   "metadata": {},
   "source": [
    "<div class=\"alert alert-block alert-danger\">\n",
    "<b>Comentario del revisor</b> <a class=\"tocSkip\"></a>\n",
    "\n",
    "No estamos logrando el resultado esperado.\n",
    "\n",
    "Primero, combinamos las tablas order_products y orders. Esto lo hacemos para que el registro de pedido tiene detalles tanto sobre los productos pedidos como sobre el usuario que realizó el pedido.\n",
    "\n",
    "Luego centrate en la columna reordered dentro de la tabla fusionada. La columna nos dicesi un producto fue reordenado (marcado como 1) o no (marcado como 0) dentro de ese pedido específico.\n",
    "\n",
    "Agrupa los datos por user_id (para analizar los pedidos de cada usuario por separado). Para cada grupo de usuarios, calculamos el valor promedio de la columna reordered. Y ahi tendras el porcentaje.\n",
    "\n",
    "Al final ordena la tabla para observar cuales son los productos con mayor frecuencia.</div>\n",
    "\n",
    "<div class=\"alert alert-block alert-success\">\n",
    "\n",
    "<b>Comentario del revisor #2</b> <a class=\"tocSkip\"></a>\n",
    "\n",
    "Corregido, muy bueno.\n",
    "\n",
    "</div>"
   ]
  },
  {
   "cell_type": "markdown",
   "id": "8cdf5160",
   "metadata": {
    "id": "8892e4b4"
   },
   "source": [
    "Hay varios articulos cuya proporcion es igual a 1.0 lo que quiere decir que su proporcion de ser reordenados es del 100%."
   ]
  },
  {
   "cell_type": "markdown",
   "id": "BgJSvXDsleXz",
   "metadata": {
    "id": "BgJSvXDsleXz"
   },
   "source": [
    "Escribe aquí tus conclusiones"
   ]
  },
  {
   "cell_type": "markdown",
   "id": "92d35137",
   "metadata": {
    "id": "92d35137"
   },
   "source": [
    "### [C5] ¿Cuáles son los 20 principales artículos que las personas ponen primero en sus carritos?"
   ]
  },
  {
   "cell_type": "code",
   "execution_count": 62,
   "id": "0ae57274",
   "metadata": {
    "id": "0ae57274",
    "scrolled": true
   },
   "outputs": [
    {
     "name": "stdout",
     "output_type": "stream",
     "text": [
      "product_id\n",
      "24852    15562\n",
      "13176    11026\n",
      "27845     4363\n",
      "21137     3946\n",
      "47209     3390\n",
      "         ...  \n",
      "10981        1\n",
      "10985        1\n",
      "38272        1\n",
      "10989        1\n",
      "36996        1\n",
      "Length: 26760, dtype: int64\n",
      "    product_id                 product_name      0\n",
      "0        24852                       Banana  15562\n",
      "1        13176       Bag of Organic Bananas  11026\n",
      "2        27845           Organic Whole Milk   4363\n",
      "3        21137         Organic Strawberries   3946\n",
      "4        47209         Organic Hass Avocado   3390\n",
      "5        21903         Organic Baby Spinach   3336\n",
      "6        47766              Organic Avocado   3044\n",
      "7        19660                 Spring Water   2336\n",
      "8        16797                 Strawberries   2308\n",
      "9        27966          Organic Raspberries   2024\n",
      "10       44632   Sparkling Water Grapefruit   1914\n",
      "11       49235          Organic Half & Half   1797\n",
      "12       47626                  Large Lemon   1737\n",
      "13         196                         Soda   1733\n",
      "14       38689     Organic Reduced Fat Milk   1397\n",
      "15       26209                        Limes   1370\n",
      "16       12341                Hass Avocados   1340\n",
      "17        5785  Organic Reduced Fat 2% Milk   1310\n",
      "18       27086                  Half & Half   1309\n",
      "19       43352                  Raspberries   1246\n"
     ]
    },
    {
     "data": {
      "text/plain": [
       "<AxesSubplot:>"
      ]
     },
     "execution_count": 62,
     "metadata": {},
     "output_type": "execute_result"
    },
    {
     "data": {
      "image/png": "[encoded data removed]",
      "text/plain": [
       "<Figure size 640x480 with 1 Axes>"
      ]
     },
     "metadata": {},
     "output_type": "display_data"
    }
   ],
   "source": [
    "first_added_products = df_order_products[df_order_products['add_to_cart_order'] == 1]\n",
    "first_added_products_count = first_added_products.groupby('product_id').size()\n",
    "first_added_products_sorted = first_added_products_count.sort_values(ascending=False)\n",
    "print(first_added_products_sorted)\n",
    "\n",
    "top_20_first_added = first_added_products_sorted.head(20)\n",
    "top_20_first_added_with_names = top_20_first_added.reset_index().merge(df_products[['product_id', 'product_name']], on='product_id')\n",
    "\n",
    "# Mostrar los 20 principales productos con sus nombres\n",
    "print(top_20_first_added_with_names[['product_id', 'product_name', 0]])  # El '0' es la columna que contiene las cuentas\n",
    "top_20_first_added_with_names.plot(kind=\"bar\")"
   ]
  },
  {
   "cell_type": "code",
   "execution_count": null,
   "id": "forty-netherlands",
   "metadata": {
    "id": "forty-netherlands",
    "scrolled": true
   },
   "outputs": [],
   "source": []
  },
  {
   "cell_type": "markdown",
   "id": "f2ee5cbf",
   "metadata": {
    "id": "08e41ec2"
   },
   "source": [
    "<div class=\"alert alert-block alert-warning\">\n",
    "<b>Comentario del revisor</b> <a class=\"tocSkip\"></a>\n",
    "\n",
    "Recorda que en este caso le agregaria valor graficar ese top 20 con un grafico de barras. Tener a mano el grafico hara mas amena y legible la experiencia del cliente.</div>"
   ]
  },
  {
   "cell_type": "markdown",
   "id": "28ce9872",
   "metadata": {
    "id": "28ce9872"
   },
   "source": [
    "Escribe aquí tus conclusiones: Los 20 articulos mas populares son de comida ya que son articulos que se utilizan diariamente y tienen mas posibilidades de ser reordenados. "
   ]
  },
  {
   "cell_type": "markdown",
   "id": "62c58ec3",
   "metadata": {},
   "source": [
    "<div class=\"alert alert-block alert-danger\">\n",
    "\n",
    "<b>Comentario del revisor</b> <a class=\"tocSkip\"></a>\n",
    "\n",
    "Recorda dejar tus conclusiones sobre esta extracción, podes comentar acerca de lo donde se produce el común de los resultados.</div>\n",
    "\n",
    "<div class=\"alert alert-block alert-success\">\n",
    "\n",
    "<b>Comentario del revisor #2</b> <a class=\"tocSkip\"></a>\n",
    "\n",
    "Corregido.\n",
    "\n",
    "</div>"
   ]
  },
  {
   "cell_type": "markdown",
   "id": "uITbFCEoDosC",
   "metadata": {
    "id": "uITbFCEoDosC"
   },
   "source": [
    "### Conclusion general del proyecto:"
   ]
  },
  {
   "cell_type": "markdown",
   "id": "4de07d9c",
   "metadata": {
    "id": "Nk-4GS7mDwqY"
   },
   "source": [
    "El proyecto estuvo divido en 3 etapas: descrpicion de datos, preprocesamiento de datos y analisis de datos. \n",
    "\n",
    "En la primera etapa, descripcion de datos: \n",
    "e observaron todos los datos identificando posibles datos duplicados o ausentes. Asimismo, se observo que cada dato fuera un dato razonable. \n",
    "\n",
    "En la segunda etapa, preprocesamiento de datos: \n",
    "Se eliminaron los datos duplicados, rellenaron y eliminaron los datos ausentes, y se utilizaron graficas para visualizar los datos presentados de manera efectiva\n",
    "\n",
    "En la ultima etapa, el analisis de datos:\n",
    "Se observó que la mayoria de las compras fueron hechas entre las 10:00 y 16:00 hrs en temas generales. Asimismo, se observo que el dia mas popular para hacer compras es el domingo. Hay personas que realizan varios pedidos el mismo dia y quienes se esperan al menos 30 dias para realizar otro pedido. Sin embargo, el tiempo mas comun para realizar otro pedido es de 7 dias. Se puede deducir que es por suscripciones o por articulos que se deben de comprar semanalmente. Mayoria de los usuarios ha hecho menos de 5 pedidos, teniendo menos de 20 articulos por pedido. Y por ultimo los articulos mas populares tienden a ser alimentos. "
   ]
  },
  {
   "cell_type": "markdown",
   "id": "73b7a124",
   "metadata": {},
   "source": [
    "<div class=\"alert alert-block alert-danger\">\n",
    "\n",
    "<b>Comentario del revisor</b> <a class=\"tocSkip\"></a>\n",
    "\n",
    "Recorda realizar una conclusion general orientada al cliente. Esta debe contener todo lo que se hizo en el proyecto de forma enumerada o items.\n",
    "\n",
    "Desde la carga e importacion, pasando por los cambios realizado (Y el porque de esas decisiones). Agregando lo que se hizo en cada seccion a modo resumen y las conclusiones del  trabajo.\n",
    "\n",
    "Sirve como resumen de lo realizado en cada proyecto.</div>\n",
    "\n",
    "<div class=\"alert alert-block alert-success\">\n",
    "\n",
    "<b>Comentario del revisor #2</b> <a class=\"tocSkip\"></a>\n",
    "\n",
    "Corregido, excelente conclusio ngeneral.\n",
    "\n",
    "</div>"
   ]
  },
  {
   "cell_type": "code",
   "execution_count": null,
   "id": "9727da02",
   "metadata": {},
   "outputs": [],
   "source": []
  }
 ],
 "metadata": {
  "ExecuteTimeLog": [
   {
    "duration": 160,
    "start_time": "2024-11-18T02:50:37.819Z"
   },
   {
    "duration": 303,
    "start_time": "2024-11-18T02:51:17.973Z"
   },
   {
    "duration": 2362,
    "start_time": "2024-11-18T02:51:19.834Z"
   },
   {
    "duration": 6,
    "start_time": "2024-11-18T02:51:31.596Z"
   },
   {
    "duration": 6,
    "start_time": "2024-11-18T02:51:42.384Z"
   },
   {
    "duration": 4,
    "start_time": "2024-11-18T02:52:00.324Z"
   },
   {
    "duration": 4,
    "start_time": "2024-11-18T02:52:14.530Z"
   },
   {
    "duration": 5,
    "start_time": "2024-11-18T02:52:34.820Z"
   },
   {
    "duration": 158,
    "start_time": "2024-11-18T03:12:15.002Z"
   },
   {
    "duration": 13,
    "start_time": "2024-11-18T03:12:20.806Z"
   },
   {
    "duration": 270,
    "start_time": "2024-11-18T03:12:27.416Z"
   },
   {
    "duration": 2450,
    "start_time": "2024-11-18T03:12:29.236Z"
   },
   {
    "duration": 8,
    "start_time": "2024-11-18T03:12:31.688Z"
   },
   {
    "duration": 3,
    "start_time": "2024-11-18T03:13:31.235Z"
   },
   {
    "duration": 908,
    "start_time": "2024-11-18T03:13:32.427Z"
   },
   {
    "duration": 6,
    "start_time": "2024-11-18T03:13:34.401Z"
   },
   {
    "duration": 5,
    "start_time": "2024-11-18T03:13:38.113Z"
   },
   {
    "duration": 5,
    "start_time": "2024-11-18T03:13:40.979Z"
   },
   {
    "duration": 5,
    "start_time": "2024-11-18T03:13:43.093Z"
   },
   {
    "duration": 6,
    "start_time": "2024-11-18T03:13:47.124Z"
   },
   {
    "duration": 6,
    "start_time": "2024-11-18T03:14:01.624Z"
   },
   {
    "duration": 13,
    "start_time": "2024-11-18T03:14:14.099Z"
   },
   {
    "duration": 13,
    "start_time": "2024-11-18T03:14:27.539Z"
   },
   {
    "duration": 11,
    "start_time": "2024-11-18T03:14:41.157Z"
   },
   {
    "duration": 9,
    "start_time": "2024-11-18T03:14:52.853Z"
   },
   {
    "duration": 37,
    "start_time": "2024-11-18T03:15:05.558Z"
   },
   {
    "duration": 9,
    "start_time": "2024-11-18T03:15:11.579Z"
   },
   {
    "duration": 25,
    "start_time": "2024-11-18T03:15:58.857Z"
   },
   {
    "duration": 563,
    "start_time": "2024-11-18T05:20:31.106Z"
   },
   {
    "duration": 296,
    "start_time": "2024-11-18T05:21:08.034Z"
   },
   {
    "duration": 130,
    "start_time": "2024-11-18T05:21:23.660Z"
   },
   {
    "duration": 283,
    "start_time": "2024-11-18T05:23:52.955Z"
   },
   {
    "duration": 185,
    "start_time": "2024-11-18T05:24:03.761Z"
   },
   {
    "duration": 177,
    "start_time": "2024-11-18T05:27:49.481Z"
   },
   {
    "duration": 233,
    "start_time": "2024-11-18T05:28:21.145Z"
   },
   {
    "duration": 237,
    "start_time": "2024-11-18T05:31:41.993Z"
   },
   {
    "duration": 228,
    "start_time": "2024-11-18T05:31:50.971Z"
   },
   {
    "duration": 237,
    "start_time": "2024-11-18T05:37:18.707Z"
   },
   {
    "duration": 272,
    "start_time": "2024-11-18T05:40:39.983Z"
   },
   {
    "duration": 241,
    "start_time": "2024-11-18T05:41:24.731Z"
   },
   {
    "duration": 247,
    "start_time": "2024-11-18T05:41:41.680Z"
   },
   {
    "duration": 268,
    "start_time": "2024-11-18T05:42:07.097Z"
   },
   {
    "duration": 13,
    "start_time": "2024-11-18T06:09:10.329Z"
   },
   {
    "duration": 7,
    "start_time": "2024-11-18T06:09:24.333Z"
   },
   {
    "duration": 17,
    "start_time": "2024-11-18T06:12:20.460Z"
   },
   {
    "duration": 9,
    "start_time": "2024-11-18T06:14:14.031Z"
   },
   {
    "duration": 27,
    "start_time": "2024-11-18T06:14:25.873Z"
   },
   {
    "duration": 8,
    "start_time": "2024-11-18T06:14:46.354Z"
   },
   {
    "duration": 25,
    "start_time": "2024-11-18T06:15:26.351Z"
   },
   {
    "duration": 9,
    "start_time": "2024-11-18T06:15:35.492Z"
   },
   {
    "duration": 8,
    "start_time": "2024-11-18T06:16:00.287Z"
   },
   {
    "duration": 9,
    "start_time": "2024-11-18T06:16:33.830Z"
   },
   {
    "duration": 7,
    "start_time": "2024-11-18T06:27:06.991Z"
   },
   {
    "duration": 9,
    "start_time": "2024-11-18T06:28:34.745Z"
   },
   {
    "duration": 5,
    "start_time": "2024-11-18T06:29:06.845Z"
   },
   {
    "duration": 9,
    "start_time": "2024-11-18T06:29:25.204Z"
   },
   {
    "duration": 7,
    "start_time": "2024-11-18T06:29:29.282Z"
   },
   {
    "duration": 10,
    "start_time": "2024-11-18T06:33:17.962Z"
   },
   {
    "duration": 2529,
    "start_time": "2024-11-18T06:39:28.430Z"
   },
   {
    "duration": 1136,
    "start_time": "2024-11-18T06:39:31.020Z"
   },
   {
    "duration": 15,
    "start_time": "2024-11-18T06:39:34.655Z"
   },
   {
    "duration": 13,
    "start_time": "2024-11-18T06:39:40.231Z"
   },
   {
    "duration": 9,
    "start_time": "2024-11-18T06:39:45.844Z"
   },
   {
    "duration": 10,
    "start_time": "2024-11-18T06:39:48.102Z"
   },
   {
    "duration": 43,
    "start_time": "2024-11-18T06:39:50.436Z"
   },
   {
    "duration": 2,
    "start_time": "2024-11-18T06:55:23.550Z"
   },
   {
    "duration": 88,
    "start_time": "2024-11-18T07:40:37.307Z"
   },
   {
    "duration": 81,
    "start_time": "2024-11-18T07:41:35.605Z"
   },
   {
    "duration": 371,
    "start_time": "2024-11-18T07:45:41.991Z"
   },
   {
    "duration": 166,
    "start_time": "2024-11-18T07:45:49.756Z"
   },
   {
    "duration": 185,
    "start_time": "2024-11-18T07:46:01.426Z"
   },
   {
    "duration": 157,
    "start_time": "2024-11-18T07:46:34.611Z"
   },
   {
    "duration": 13,
    "start_time": "2024-11-18T07:53:25.026Z"
   },
   {
    "duration": 103,
    "start_time": "2024-11-18T07:54:27.046Z"
   },
   {
    "duration": 178,
    "start_time": "2024-11-18T07:54:56.560Z"
   },
   {
    "duration": 17,
    "start_time": "2024-11-18T07:55:19.766Z"
   },
   {
    "duration": 91,
    "start_time": "2024-11-18T07:55:27.681Z"
   },
   {
    "duration": 8,
    "start_time": "2024-11-18T07:55:55.369Z"
   },
   {
    "duration": 13,
    "start_time": "2024-11-18T07:56:49.386Z"
   },
   {
    "duration": 3,
    "start_time": "2024-11-18T07:57:32.985Z"
   },
   {
    "duration": 5,
    "start_time": "2024-11-18T07:59:04.195Z"
   },
   {
    "duration": 16,
    "start_time": "2024-11-18T07:59:17.997Z"
   },
   {
    "duration": 15,
    "start_time": "2024-11-18T07:59:59.929Z"
   },
   {
    "duration": 26,
    "start_time": "2024-11-18T08:00:41.284Z"
   },
   {
    "duration": 260,
    "start_time": "2024-11-18T08:01:05.385Z"
   },
   {
    "duration": 81,
    "start_time": "2024-11-18T08:01:19.934Z"
   },
   {
    "duration": 32,
    "start_time": "2024-11-18T08:03:30.142Z"
   },
   {
    "duration": 38,
    "start_time": "2024-11-18T08:04:21.003Z"
   },
   {
    "duration": 300,
    "start_time": "2024-11-18T08:06:29.094Z"
   },
   {
    "duration": 56,
    "start_time": "2024-11-18T08:07:00.390Z"
   },
   {
    "duration": 49,
    "start_time": "2024-11-18T08:07:48.015Z"
   },
   {
    "duration": 42,
    "start_time": "2024-11-18T08:08:11.600Z"
   },
   {
    "duration": 41,
    "start_time": "2024-11-18T08:22:26.818Z"
   },
   {
    "duration": 5,
    "start_time": "2024-11-18T08:30:24.197Z"
   },
   {
    "duration": 12,
    "start_time": "2024-11-18T08:30:56.490Z"
   },
   {
    "duration": 40,
    "start_time": "2024-11-18T08:31:03.104Z"
   },
   {
    "duration": 40,
    "start_time": "2024-11-18T08:33:11.258Z"
   },
   {
    "duration": 37,
    "start_time": "2024-11-18T08:33:14.081Z"
   },
   {
    "duration": 37,
    "start_time": "2024-11-18T08:33:26.493Z"
   },
   {
    "duration": 3,
    "start_time": "2024-11-18T08:35:08.388Z"
   },
   {
    "duration": 3,
    "start_time": "2024-11-18T08:36:04.364Z"
   },
   {
    "duration": 3,
    "start_time": "2024-11-18T08:36:12.833Z"
   },
   {
    "duration": 4,
    "start_time": "2024-11-18T08:37:20.272Z"
   },
   {
    "duration": 12,
    "start_time": "2024-11-18T08:37:34.620Z"
   },
   {
    "duration": 14,
    "start_time": "2024-11-18T08:50:46.761Z"
   },
   {
    "duration": 78,
    "start_time": "2024-11-18T08:52:30.071Z"
   },
   {
    "duration": 13,
    "start_time": "2024-11-18T08:54:45.167Z"
   },
   {
    "duration": 12,
    "start_time": "2024-11-18T08:55:45.372Z"
   },
   {
    "duration": 13,
    "start_time": "2024-11-18T08:56:03.065Z"
   },
   {
    "duration": 162,
    "start_time": "2024-11-18T21:01:37.784Z"
   },
   {
    "duration": 12,
    "start_time": "2024-11-18T21:02:11.235Z"
   },
   {
    "duration": 13,
    "start_time": "2024-11-18T21:03:39.152Z"
   },
   {
    "duration": 2182,
    "start_time": "2024-11-18T21:03:47.085Z"
   },
   {
    "duration": 1045,
    "start_time": "2024-11-18T21:03:49.269Z"
   },
   {
    "duration": 15,
    "start_time": "2024-11-18T21:03:50.316Z"
   },
   {
    "duration": 11,
    "start_time": "2024-11-18T21:03:50.334Z"
   },
   {
    "duration": 9,
    "start_time": "2024-11-18T21:03:50.346Z"
   },
   {
    "duration": 10,
    "start_time": "2024-11-18T21:03:50.357Z"
   },
   {
    "duration": 58,
    "start_time": "2024-11-18T21:03:50.368Z"
   },
   {
    "duration": 172,
    "start_time": "2024-11-18T21:03:50.428Z"
   },
   {
    "duration": 16,
    "start_time": "2024-11-18T21:03:50.602Z"
   },
   {
    "duration": 182,
    "start_time": "2024-11-18T21:03:50.621Z"
   },
   {
    "duration": 87,
    "start_time": "2024-11-18T21:03:50.806Z"
   },
   {
    "duration": 20,
    "start_time": "2024-11-18T21:03:50.895Z"
   },
   {
    "duration": 13,
    "start_time": "2024-11-18T21:03:50.917Z"
   },
   {
    "duration": 4,
    "start_time": "2024-11-18T21:03:50.933Z"
   },
   {
    "duration": 21,
    "start_time": "2024-11-18T21:03:50.938Z"
   },
   {
    "duration": 71,
    "start_time": "2024-11-18T21:03:50.961Z"
   },
   {
    "duration": 4,
    "start_time": "2024-11-18T21:03:51.034Z"
   },
   {
    "duration": 4,
    "start_time": "2024-11-18T21:03:51.039Z"
   },
   {
    "duration": 4,
    "start_time": "2024-11-18T21:03:51.044Z"
   },
   {
    "duration": 654,
    "start_time": "2024-11-18T21:03:51.049Z"
   },
   {
    "duration": 0,
    "start_time": "2024-11-18T21:03:51.706Z"
   },
   {
    "duration": 0,
    "start_time": "2024-11-18T21:03:51.712Z"
   },
   {
    "duration": 0,
    "start_time": "2024-11-18T21:03:51.713Z"
   },
   {
    "duration": 0,
    "start_time": "2024-11-18T21:03:51.715Z"
   },
   {
    "duration": 0,
    "start_time": "2024-11-18T21:03:51.716Z"
   },
   {
    "duration": 0,
    "start_time": "2024-11-18T21:03:51.717Z"
   },
   {
    "duration": 0,
    "start_time": "2024-11-18T21:03:51.719Z"
   },
   {
    "duration": 0,
    "start_time": "2024-11-18T21:03:51.720Z"
   },
   {
    "duration": 0,
    "start_time": "2024-11-18T21:03:51.722Z"
   },
   {
    "duration": 0,
    "start_time": "2024-11-18T21:03:51.723Z"
   },
   {
    "duration": 0,
    "start_time": "2024-11-18T21:03:51.725Z"
   },
   {
    "duration": 0,
    "start_time": "2024-11-18T21:03:51.726Z"
   },
   {
    "duration": 0,
    "start_time": "2024-11-18T21:03:51.728Z"
   },
   {
    "duration": 0,
    "start_time": "2024-11-18T21:03:51.730Z"
   },
   {
    "duration": 772,
    "start_time": "2024-11-18T21:04:21.861Z"
   },
   {
    "duration": 14,
    "start_time": "2024-11-18T21:04:53.438Z"
   },
   {
    "duration": 4,
    "start_time": "2024-11-18T21:04:58.824Z"
   },
   {
    "duration": 44,
    "start_time": "2024-11-18T21:07:12.839Z"
   },
   {
    "duration": 93,
    "start_time": "2024-11-18T21:09:15.631Z"
   },
   {
    "duration": 682,
    "start_time": "2024-11-18T21:10:50.558Z"
   },
   {
    "duration": 819,
    "start_time": "2024-11-18T21:47:12.587Z"
   },
   {
    "duration": 7,
    "start_time": "2024-11-18T21:58:45.829Z"
   },
   {
    "duration": 4,
    "start_time": "2024-11-18T21:59:33.695Z"
   },
   {
    "duration": 42,
    "start_time": "2024-11-18T21:59:51.637Z"
   },
   {
    "duration": 43,
    "start_time": "2024-11-18T22:00:11.874Z"
   },
   {
    "duration": 6,
    "start_time": "2024-11-18T22:02:28.307Z"
   },
   {
    "duration": 25,
    "start_time": "2024-11-18T22:02:54.281Z"
   },
   {
    "duration": 3,
    "start_time": "2024-11-18T22:05:20.322Z"
   },
   {
    "duration": 9,
    "start_time": "2024-11-18T22:05:30.646Z"
   },
   {
    "duration": 2,
    "start_time": "2024-11-18T22:05:45.845Z"
   },
   {
    "duration": 39,
    "start_time": "2024-11-18T22:23:45.467Z"
   },
   {
    "duration": 11,
    "start_time": "2024-11-18T22:23:53.514Z"
   },
   {
    "duration": 12,
    "start_time": "2024-11-18T22:24:15.074Z"
   },
   {
    "duration": 5,
    "start_time": "2024-11-18T22:24:57.000Z"
   },
   {
    "duration": 43,
    "start_time": "2024-11-18T22:25:36.431Z"
   },
   {
    "duration": 5,
    "start_time": "2024-11-18T22:25:47.461Z"
   },
   {
    "duration": 4,
    "start_time": "2024-11-18T22:29:01.678Z"
   },
   {
    "duration": 39,
    "start_time": "2024-11-18T22:29:45.836Z"
   },
   {
    "duration": 5,
    "start_time": "2024-11-18T22:30:17.727Z"
   },
   {
    "duration": 13,
    "start_time": "2024-11-18T22:32:47.509Z"
   },
   {
    "duration": 40,
    "start_time": "2024-11-18T22:33:06.438Z"
   },
   {
    "duration": 5,
    "start_time": "2024-11-18T22:33:23.878Z"
   },
   {
    "duration": 15,
    "start_time": "2024-11-18T22:37:39.259Z"
   },
   {
    "duration": 3,
    "start_time": "2024-11-18T22:38:28.453Z"
   },
   {
    "duration": 9,
    "start_time": "2024-11-18T22:39:02.407Z"
   },
   {
    "duration": 12,
    "start_time": "2024-11-18T22:40:43.783Z"
   },
   {
    "duration": 11,
    "start_time": "2024-11-18T22:40:58.888Z"
   },
   {
    "duration": 8,
    "start_time": "2024-11-18T23:36:41.664Z"
   },
   {
    "duration": 10,
    "start_time": "2024-11-18T23:41:33.499Z"
   },
   {
    "duration": 9,
    "start_time": "2024-11-18T23:41:58.914Z"
   },
   {
    "duration": 40,
    "start_time": "2024-11-18T23:42:50.727Z"
   },
   {
    "duration": 14,
    "start_time": "2024-11-18T23:42:59.091Z"
   },
   {
    "duration": 20,
    "start_time": "2024-11-18T23:55:55.664Z"
   },
   {
    "duration": 14,
    "start_time": "2024-11-18T23:56:01.446Z"
   },
   {
    "duration": 17,
    "start_time": "2024-11-18T23:57:53.295Z"
   },
   {
    "duration": 13,
    "start_time": "2024-11-18T23:58:42.151Z"
   },
   {
    "duration": 17,
    "start_time": "2024-11-18T23:59:05.082Z"
   },
   {
    "duration": 18,
    "start_time": "2024-11-18T23:59:16.018Z"
   },
   {
    "duration": 35,
    "start_time": "2024-11-19T00:00:03.110Z"
   },
   {
    "duration": 7,
    "start_time": "2024-11-19T00:04:26.779Z"
   },
   {
    "duration": 160,
    "start_time": "2024-11-19T01:40:26.292Z"
   },
   {
    "duration": 22,
    "start_time": "2024-11-19T01:44:27.736Z"
   },
   {
    "duration": 626,
    "start_time": "2024-11-19T01:56:39.443Z"
   },
   {
    "duration": 17,
    "start_time": "2024-11-19T02:10:21.349Z"
   },
   {
    "duration": 43,
    "start_time": "2024-11-19T02:10:33.607Z"
   },
   {
    "duration": 7,
    "start_time": "2024-11-19T02:10:54.211Z"
   },
   {
    "duration": 7,
    "start_time": "2024-11-19T02:11:00.815Z"
   },
   {
    "duration": 3,
    "start_time": "2024-11-19T03:03:47.571Z"
   },
   {
    "duration": 25,
    "start_time": "2024-11-19T03:04:22.767Z"
   },
   {
    "duration": 25,
    "start_time": "2024-11-19T03:04:29.709Z"
   },
   {
    "duration": 24,
    "start_time": "2024-11-19T03:04:38.364Z"
   },
   {
    "duration": 6,
    "start_time": "2024-11-19T03:04:47.969Z"
   },
   {
    "duration": 163,
    "start_time": "2024-11-19T04:00:37.567Z"
   },
   {
    "duration": 13,
    "start_time": "2024-11-19T04:01:14.401Z"
   },
   {
    "duration": 2149,
    "start_time": "2024-11-19T04:01:36.370Z"
   },
   {
    "duration": 1035,
    "start_time": "2024-11-19T04:01:38.521Z"
   },
   {
    "duration": 15,
    "start_time": "2024-11-19T04:01:39.558Z"
   },
   {
    "duration": 11,
    "start_time": "2024-11-19T04:01:39.576Z"
   },
   {
    "duration": 9,
    "start_time": "2024-11-19T04:01:39.589Z"
   },
   {
    "duration": 9,
    "start_time": "2024-11-19T04:01:39.599Z"
   },
   {
    "duration": 48,
    "start_time": "2024-11-19T04:01:39.611Z"
   },
   {
    "duration": 189,
    "start_time": "2024-11-19T04:01:39.661Z"
   },
   {
    "duration": 8,
    "start_time": "2024-11-19T04:01:39.852Z"
   },
   {
    "duration": 194,
    "start_time": "2024-11-19T04:01:39.864Z"
   },
   {
    "duration": 98,
    "start_time": "2024-11-19T04:01:40.061Z"
   },
   {
    "duration": 32,
    "start_time": "2024-11-19T04:01:40.161Z"
   },
   {
    "duration": 15,
    "start_time": "2024-11-19T04:01:40.195Z"
   },
   {
    "duration": 4,
    "start_time": "2024-11-19T04:01:40.212Z"
   },
   {
    "duration": 43,
    "start_time": "2024-11-19T04:01:40.218Z"
   },
   {
    "duration": 7,
    "start_time": "2024-11-19T04:01:40.263Z"
   },
   {
    "duration": 3,
    "start_time": "2024-11-19T04:01:40.272Z"
   },
   {
    "duration": 4,
    "start_time": "2024-11-19T04:01:40.277Z"
   },
   {
    "duration": 3,
    "start_time": "2024-11-19T04:01:40.283Z"
   },
   {
    "duration": 4,
    "start_time": "2024-11-19T04:01:40.288Z"
   },
   {
    "duration": 851,
    "start_time": "2024-11-19T04:01:40.293Z"
   },
   {
    "duration": 717,
    "start_time": "2024-11-19T04:01:41.146Z"
   },
   {
    "duration": 10,
    "start_time": "2024-11-19T04:01:41.865Z"
   },
   {
    "duration": 5,
    "start_time": "2024-11-19T04:01:41.876Z"
   },
   {
    "duration": 0,
    "start_time": "2024-11-19T04:01:41.883Z"
   },
   {
    "duration": 0,
    "start_time": "2024-11-19T04:01:41.884Z"
   },
   {
    "duration": 0,
    "start_time": "2024-11-19T04:01:41.886Z"
   },
   {
    "duration": 0,
    "start_time": "2024-11-19T04:01:41.888Z"
   },
   {
    "duration": 0,
    "start_time": "2024-11-19T04:01:41.889Z"
   },
   {
    "duration": 0,
    "start_time": "2024-11-19T04:01:41.891Z"
   },
   {
    "duration": 0,
    "start_time": "2024-11-19T04:01:41.892Z"
   },
   {
    "duration": 0,
    "start_time": "2024-11-19T04:01:41.894Z"
   },
   {
    "duration": 0,
    "start_time": "2024-11-19T04:01:41.895Z"
   },
   {
    "duration": 0,
    "start_time": "2024-11-19T04:01:41.897Z"
   },
   {
    "duration": 20,
    "start_time": "2024-11-19T04:02:27.769Z"
   },
   {
    "duration": 158,
    "start_time": "2024-11-19T04:22:45.788Z"
   },
   {
    "duration": 466,
    "start_time": "2024-11-19T04:23:00.999Z"
   },
   {
    "duration": 973,
    "start_time": "2024-11-19T04:23:02.022Z"
   },
   {
    "duration": 15,
    "start_time": "2024-11-19T04:23:03.587Z"
   },
   {
    "duration": 13,
    "start_time": "2024-11-19T04:23:04.601Z"
   },
   {
    "duration": 10,
    "start_time": "2024-11-19T04:23:05.119Z"
   },
   {
    "duration": 8,
    "start_time": "2024-11-19T04:23:05.817Z"
   },
   {
    "duration": 25,
    "start_time": "2024-11-19T04:23:06.354Z"
   },
   {
    "duration": 191,
    "start_time": "2024-11-19T04:23:12.336Z"
   },
   {
    "duration": 9,
    "start_time": "2024-11-19T04:23:15.904Z"
   },
   {
    "duration": 194,
    "start_time": "2024-11-19T04:23:18.681Z"
   },
   {
    "duration": 100,
    "start_time": "2024-11-19T04:23:22.366Z"
   },
   {
    "duration": 29,
    "start_time": "2024-11-19T04:23:23.917Z"
   },
   {
    "duration": 13,
    "start_time": "2024-11-19T04:23:26.515Z"
   },
   {
    "duration": 4,
    "start_time": "2024-11-19T04:23:28.051Z"
   },
   {
    "duration": 23,
    "start_time": "2024-11-19T04:23:30.957Z"
   },
   {
    "duration": 24,
    "start_time": "2024-11-19T04:24:03.927Z"
   },
   {
    "duration": 2,
    "start_time": "2024-11-19T04:25:33.281Z"
   },
   {
    "duration": 4,
    "start_time": "2024-11-19T04:25:50.172Z"
   },
   {
    "duration": 4,
    "start_time": "2024-11-19T04:25:51.948Z"
   },
   {
    "duration": 4,
    "start_time": "2024-11-19T04:25:55.324Z"
   },
   {
    "duration": 3,
    "start_time": "2024-11-19T04:25:56.779Z"
   },
   {
    "duration": 848,
    "start_time": "2024-11-19T04:25:59.365Z"
   },
   {
    "duration": 41,
    "start_time": "2024-11-19T04:30:56.882Z"
   },
   {
    "duration": 745,
    "start_time": "2024-11-19T04:31:50.509Z"
   },
   {
    "duration": 718,
    "start_time": "2024-11-19T04:33:36.386Z"
   },
   {
    "duration": 9,
    "start_time": "2024-11-19T04:34:53.789Z"
   },
   {
    "duration": 6,
    "start_time": "2024-11-19T04:38:18.441Z"
   },
   {
    "duration": 13,
    "start_time": "2024-11-19T04:38:38.026Z"
   },
   {
    "duration": 20,
    "start_time": "2024-11-19T04:39:04.917Z"
   },
   {
    "duration": 7,
    "start_time": "2024-11-19T04:39:17.837Z"
   },
   {
    "duration": 16,
    "start_time": "2024-11-19T04:39:39.587Z"
   },
   {
    "duration": 7,
    "start_time": "2024-11-19T04:39:51.248Z"
   },
   {
    "duration": 11,
    "start_time": "2024-11-19T04:40:18.167Z"
   },
   {
    "duration": 17,
    "start_time": "2024-11-19T04:40:48.643Z"
   },
   {
    "duration": 16,
    "start_time": "2024-11-19T04:40:55.662Z"
   },
   {
    "duration": 21,
    "start_time": "2024-11-19T04:41:41.241Z"
   },
   {
    "duration": 31,
    "start_time": "2024-11-19T04:41:49.644Z"
   },
   {
    "duration": 7,
    "start_time": "2024-11-19T04:59:34.440Z"
   },
   {
    "duration": 9,
    "start_time": "2024-11-19T05:07:58.544Z"
   },
   {
    "duration": 5,
    "start_time": "2024-11-19T05:20:20.621Z"
   },
   {
    "duration": 3,
    "start_time": "2024-11-19T05:20:49.032Z"
   },
   {
    "duration": 145,
    "start_time": "2024-11-19T05:21:01.695Z"
   },
   {
    "duration": 26,
    "start_time": "2024-11-19T05:26:04.961Z"
   },
   {
    "duration": 23,
    "start_time": "2024-11-19T05:47:09.383Z"
   },
   {
    "duration": 27,
    "start_time": "2024-11-19T05:48:22.538Z"
   },
   {
    "duration": 624,
    "start_time": "2024-11-19T05:49:02.388Z"
   },
   {
    "duration": 27,
    "start_time": "2024-11-19T05:51:23.152Z"
   },
   {
    "duration": 5,
    "start_time": "2024-11-19T06:14:32.652Z"
   },
   {
    "duration": 12,
    "start_time": "2024-11-19T06:14:40.334Z"
   },
   {
    "duration": 16,
    "start_time": "2024-11-19T06:14:51.959Z"
   },
   {
    "duration": 6,
    "start_time": "2024-11-19T06:16:41.899Z"
   },
   {
    "duration": 5,
    "start_time": "2024-11-19T06:17:03.108Z"
   },
   {
    "duration": 68,
    "start_time": "2024-11-19T06:19:56.242Z"
   },
   {
    "duration": 7,
    "start_time": "2024-11-19T06:30:50.755Z"
   },
   {
    "duration": 8,
    "start_time": "2024-11-19T06:31:02.880Z"
   },
   {
    "duration": 7,
    "start_time": "2024-11-19T06:34:51.992Z"
   },
   {
    "duration": 237,
    "start_time": "2024-11-19T06:43:19.843Z"
   },
   {
    "duration": 111,
    "start_time": "2024-11-19T06:44:40.280Z"
   },
   {
    "duration": 9,
    "start_time": "2024-11-19T06:50:58.254Z"
   },
   {
    "duration": 7,
    "start_time": "2024-11-19T06:52:07.696Z"
   },
   {
    "duration": 19,
    "start_time": "2024-11-19T06:52:51.566Z"
   },
   {
    "duration": 186,
    "start_time": "2024-11-19T06:55:41.064Z"
   },
   {
    "duration": 44,
    "start_time": "2024-11-19T06:56:28.521Z"
   },
   {
    "duration": 43,
    "start_time": "2024-11-19T06:56:56.242Z"
   },
   {
    "duration": 9,
    "start_time": "2024-11-19T07:01:22.404Z"
   },
   {
    "duration": 10,
    "start_time": "2024-11-19T07:04:46.422Z"
   },
   {
    "duration": 141,
    "start_time": "2024-11-19T07:06:44.296Z"
   },
   {
    "duration": 10,
    "start_time": "2024-11-19T07:07:07.345Z"
   },
   {
    "duration": 9,
    "start_time": "2024-11-19T07:07:19.824Z"
   },
   {
    "duration": 13,
    "start_time": "2024-11-19T07:10:51.101Z"
   },
   {
    "duration": 8,
    "start_time": "2024-11-19T07:12:57.012Z"
   },
   {
    "duration": 9,
    "start_time": "2024-11-19T07:13:34.631Z"
   },
   {
    "duration": 10,
    "start_time": "2024-11-19T07:15:11.055Z"
   },
   {
    "duration": 8,
    "start_time": "2024-11-19T07:15:22.303Z"
   },
   {
    "duration": 5,
    "start_time": "2024-11-19T07:25:59.521Z"
   },
   {
    "duration": 44,
    "start_time": "2024-11-19T07:32:03.154Z"
   },
   {
    "duration": 4,
    "start_time": "2024-11-19T07:32:29.708Z"
   },
   {
    "duration": 31,
    "start_time": "2024-11-19T07:32:48.148Z"
   },
   {
    "duration": 373,
    "start_time": "2024-11-19T07:32:58.710Z"
   },
   {
    "duration": 160,
    "start_time": "2024-11-19T20:47:07.349Z"
   },
   {
    "duration": 2253,
    "start_time": "2024-11-19T20:47:30.735Z"
   },
   {
    "duration": 1017,
    "start_time": "2024-11-19T20:47:32.990Z"
   },
   {
    "duration": 16,
    "start_time": "2024-11-19T20:47:37.042Z"
   },
   {
    "duration": 13,
    "start_time": "2024-11-19T20:47:41.446Z"
   },
   {
    "duration": 10,
    "start_time": "2024-11-19T20:47:45.621Z"
   },
   {
    "duration": 9,
    "start_time": "2024-11-19T20:47:47.915Z"
   },
   {
    "duration": 9,
    "start_time": "2024-11-19T20:47:50.815Z"
   },
   {
    "duration": 3,
    "start_time": "2024-11-19T20:48:05.655Z"
   },
   {
    "duration": 933,
    "start_time": "2024-11-19T20:48:06.338Z"
   },
   {
    "duration": 13,
    "start_time": "2024-11-19T20:48:07.274Z"
   },
   {
    "duration": 15,
    "start_time": "2024-11-19T20:48:07.627Z"
   },
   {
    "duration": 10,
    "start_time": "2024-11-19T20:48:08.369Z"
   },
   {
    "duration": 10,
    "start_time": "2024-11-19T20:48:08.952Z"
   },
   {
    "duration": 31,
    "start_time": "2024-11-19T20:48:09.413Z"
   },
   {
    "duration": 164,
    "start_time": "2024-11-19T20:48:11.513Z"
   },
   {
    "duration": 9,
    "start_time": "2024-11-19T20:48:12.086Z"
   },
   {
    "duration": 243,
    "start_time": "2024-11-19T20:48:12.617Z"
   },
   {
    "duration": 96,
    "start_time": "2024-11-19T20:48:12.886Z"
   },
   {
    "duration": 29,
    "start_time": "2024-11-19T20:48:13.289Z"
   },
   {
    "duration": 13,
    "start_time": "2024-11-19T20:48:14.197Z"
   },
   {
    "duration": 4,
    "start_time": "2024-11-19T20:48:14.591Z"
   },
   {
    "duration": 23,
    "start_time": "2024-11-19T20:48:14.949Z"
   },
   {
    "duration": 23,
    "start_time": "2024-11-19T20:48:15.331Z"
   },
   {
    "duration": 4,
    "start_time": "2024-11-19T20:48:16.521Z"
   },
   {
    "duration": 3,
    "start_time": "2024-11-19T20:48:16.849Z"
   },
   {
    "duration": 3,
    "start_time": "2024-11-19T20:48:17.913Z"
   },
   {
    "duration": 4,
    "start_time": "2024-11-19T20:48:18.315Z"
   },
   {
    "duration": 738,
    "start_time": "2024-11-19T20:48:19.446Z"
   },
   {
    "duration": 692,
    "start_time": "2024-11-19T20:48:20.186Z"
   },
   {
    "duration": 10,
    "start_time": "2024-11-19T20:48:22.367Z"
   },
   {
    "duration": 7,
    "start_time": "2024-11-19T20:48:25.693Z"
   },
   {
    "duration": 4,
    "start_time": "2024-11-19T20:49:10.413Z"
   },
   {
    "duration": 7,
    "start_time": "2024-11-19T20:50:37.860Z"
   },
   {
    "duration": 6,
    "start_time": "2024-11-19T20:50:38.446Z"
   },
   {
    "duration": 11,
    "start_time": "2024-11-19T20:50:41.799Z"
   },
   {
    "duration": 12,
    "start_time": "2024-11-19T20:50:43.145Z"
   },
   {
    "duration": 13,
    "start_time": "2024-11-19T20:50:43.567Z"
   },
   {
    "duration": 22,
    "start_time": "2024-11-19T20:50:45.040Z"
   },
   {
    "duration": 31,
    "start_time": "2024-11-19T20:50:45.462Z"
   },
   {
    "duration": 7,
    "start_time": "2024-11-19T20:50:46.521Z"
   },
   {
    "duration": 37,
    "start_time": "2024-11-19T20:50:47.261Z"
   },
   {
    "duration": 26,
    "start_time": "2024-11-19T20:50:48.621Z"
   },
   {
    "duration": 5,
    "start_time": "2024-11-19T20:50:52.936Z"
   },
   {
    "duration": 5,
    "start_time": "2024-11-19T20:50:53.524Z"
   },
   {
    "duration": 234,
    "start_time": "2024-11-19T20:50:56.636Z"
   },
   {
    "duration": 108,
    "start_time": "2024-11-19T20:51:09.530Z"
   },
   {
    "duration": 6,
    "start_time": "2024-11-19T20:51:14.107Z"
   },
   {
    "duration": 203,
    "start_time": "2024-11-19T20:56:14.121Z"
   },
   {
    "duration": 45,
    "start_time": "2024-11-19T20:58:12.756Z"
   },
   {
    "duration": 9,
    "start_time": "2024-11-19T20:58:19.874Z"
   },
   {
    "duration": 434,
    "start_time": "2024-11-19T20:58:28.011Z"
   },
   {
    "duration": 936,
    "start_time": "2024-11-19T20:58:28.447Z"
   },
   {
    "duration": 17,
    "start_time": "2024-11-19T20:58:29.385Z"
   },
   {
    "duration": 13,
    "start_time": "2024-11-19T20:58:29.412Z"
   },
   {
    "duration": 10,
    "start_time": "2024-11-19T20:58:29.426Z"
   },
   {
    "duration": 9,
    "start_time": "2024-11-19T20:58:29.437Z"
   },
   {
    "duration": 26,
    "start_time": "2024-11-19T20:58:29.448Z"
   },
   {
    "duration": 209,
    "start_time": "2024-11-19T20:58:29.475Z"
   },
   {
    "duration": 8,
    "start_time": "2024-11-19T20:58:29.685Z"
   },
   {
    "duration": 201,
    "start_time": "2024-11-19T20:58:29.697Z"
   },
   {
    "duration": 96,
    "start_time": "2024-11-19T20:58:29.900Z"
   },
   {
    "duration": 38,
    "start_time": "2024-11-19T20:58:29.998Z"
   },
   {
    "duration": 12,
    "start_time": "2024-11-19T20:58:30.038Z"
   },
   {
    "duration": 4,
    "start_time": "2024-11-19T20:58:30.052Z"
   },
   {
    "duration": 21,
    "start_time": "2024-11-19T20:58:30.058Z"
   },
   {
    "duration": 50,
    "start_time": "2024-11-19T20:58:30.080Z"
   },
   {
    "duration": 4,
    "start_time": "2024-11-19T20:58:30.132Z"
   },
   {
    "duration": 4,
    "start_time": "2024-11-19T20:58:30.138Z"
   },
   {
    "duration": 4,
    "start_time": "2024-11-19T20:58:30.144Z"
   },
   {
    "duration": 4,
    "start_time": "2024-11-19T20:58:30.150Z"
   },
   {
    "duration": 841,
    "start_time": "2024-11-19T20:58:30.155Z"
   },
   {
    "duration": 746,
    "start_time": "2024-11-19T20:58:30.998Z"
   },
   {
    "duration": 10,
    "start_time": "2024-11-19T20:58:31.747Z"
   },
   {
    "duration": 5,
    "start_time": "2024-11-19T20:58:31.759Z"
   },
   {
    "duration": 3,
    "start_time": "2024-11-19T20:58:31.766Z"
   },
   {
    "duration": 0,
    "start_time": "2024-11-19T20:58:31.772Z"
   },
   {
    "duration": 0,
    "start_time": "2024-11-19T20:58:31.774Z"
   },
   {
    "duration": 0,
    "start_time": "2024-11-19T20:58:31.775Z"
   },
   {
    "duration": 0,
    "start_time": "2024-11-19T20:58:31.776Z"
   },
   {
    "duration": 0,
    "start_time": "2024-11-19T20:58:31.811Z"
   },
   {
    "duration": 0,
    "start_time": "2024-11-19T20:58:31.812Z"
   },
   {
    "duration": 0,
    "start_time": "2024-11-19T20:58:31.814Z"
   },
   {
    "duration": 0,
    "start_time": "2024-11-19T20:58:31.815Z"
   },
   {
    "duration": 0,
    "start_time": "2024-11-19T20:58:31.816Z"
   },
   {
    "duration": 0,
    "start_time": "2024-11-19T20:58:31.817Z"
   },
   {
    "duration": 0,
    "start_time": "2024-11-19T20:58:31.818Z"
   },
   {
    "duration": 0,
    "start_time": "2024-11-19T20:58:31.820Z"
   },
   {
    "duration": 0,
    "start_time": "2024-11-19T20:58:31.821Z"
   },
   {
    "duration": 0,
    "start_time": "2024-11-19T20:58:31.822Z"
   },
   {
    "duration": 0,
    "start_time": "2024-11-19T20:58:31.823Z"
   },
   {
    "duration": 0,
    "start_time": "2024-11-19T20:58:31.825Z"
   },
   {
    "duration": 0,
    "start_time": "2024-11-19T20:58:31.825Z"
   },
   {
    "duration": 2,
    "start_time": "2024-11-19T20:58:45.526Z"
   },
   {
    "duration": 6,
    "start_time": "2024-11-19T20:58:47.472Z"
   },
   {
    "duration": 11,
    "start_time": "2024-11-19T20:58:47.812Z"
   },
   {
    "duration": 449,
    "start_time": "2024-11-19T20:58:52.763Z"
   },
   {
    "duration": 915,
    "start_time": "2024-11-19T20:58:53.214Z"
   },
   {
    "duration": 14,
    "start_time": "2024-11-19T20:58:54.131Z"
   },
   {
    "duration": 10,
    "start_time": "2024-11-19T20:58:54.148Z"
   },
   {
    "duration": 9,
    "start_time": "2024-11-19T20:58:54.160Z"
   },
   {
    "duration": 8,
    "start_time": "2024-11-19T20:58:54.171Z"
   },
   {
    "duration": 55,
    "start_time": "2024-11-19T20:58:54.180Z"
   },
   {
    "duration": 180,
    "start_time": "2024-11-19T20:58:54.237Z"
   },
   {
    "duration": 11,
    "start_time": "2024-11-19T20:58:54.418Z"
   },
   {
    "duration": 191,
    "start_time": "2024-11-19T20:58:54.432Z"
   },
   {
    "duration": 103,
    "start_time": "2024-11-19T20:58:54.625Z"
   },
   {
    "duration": 27,
    "start_time": "2024-11-19T20:58:54.730Z"
   },
   {
    "duration": 11,
    "start_time": "2024-11-19T20:58:54.759Z"
   },
   {
    "duration": 3,
    "start_time": "2024-11-19T20:58:54.772Z"
   },
   {
    "duration": 50,
    "start_time": "2024-11-19T20:58:54.777Z"
   },
   {
    "duration": 22,
    "start_time": "2024-11-19T20:58:54.829Z"
   },
   {
    "duration": 4,
    "start_time": "2024-11-19T20:58:54.853Z"
   },
   {
    "duration": 5,
    "start_time": "2024-11-19T20:58:54.858Z"
   },
   {
    "duration": 3,
    "start_time": "2024-11-19T20:58:54.865Z"
   },
   {
    "duration": 3,
    "start_time": "2024-11-19T20:58:54.870Z"
   },
   {
    "duration": 824,
    "start_time": "2024-11-19T20:58:54.875Z"
   },
   {
    "duration": 761,
    "start_time": "2024-11-19T20:58:55.701Z"
   },
   {
    "duration": 10,
    "start_time": "2024-11-19T20:58:56.464Z"
   },
   {
    "duration": 4,
    "start_time": "2024-11-19T20:58:56.476Z"
   },
   {
    "duration": 2,
    "start_time": "2024-11-19T20:58:56.483Z"
   },
   {
    "duration": 29,
    "start_time": "2024-11-19T20:58:56.487Z"
   },
   {
    "duration": 11,
    "start_time": "2024-11-19T20:58:56.518Z"
   },
   {
    "duration": 11,
    "start_time": "2024-11-19T20:58:56.532Z"
   },
   {
    "duration": 12,
    "start_time": "2024-11-19T20:58:56.545Z"
   },
   {
    "duration": 21,
    "start_time": "2024-11-19T20:58:56.559Z"
   },
   {
    "duration": 32,
    "start_time": "2024-11-19T20:58:56.612Z"
   },
   {
    "duration": 7,
    "start_time": "2024-11-19T20:58:56.646Z"
   },
   {
    "duration": 25,
    "start_time": "2024-11-19T20:58:56.655Z"
   },
   {
    "duration": 52,
    "start_time": "2024-11-19T20:58:56.682Z"
   },
   {
    "duration": 5,
    "start_time": "2024-11-19T20:58:56.735Z"
   },
   {
    "duration": 4,
    "start_time": "2024-11-19T20:58:56.742Z"
   },
   {
    "duration": 275,
    "start_time": "2024-11-19T20:58:56.747Z"
   },
   {
    "duration": 136,
    "start_time": "2024-11-19T20:58:57.024Z"
   },
   {
    "duration": 219,
    "start_time": "2024-11-19T20:58:57.162Z"
   },
   {
    "duration": 8,
    "start_time": "2024-11-19T20:58:57.383Z"
   },
   {
    "duration": 20,
    "start_time": "2024-11-19T20:58:57.393Z"
   },
   {
    "duration": 9,
    "start_time": "2024-11-19T20:58:57.415Z"
   },
   {
    "duration": 206,
    "start_time": "2024-11-19T21:00:39.640Z"
   },
   {
    "duration": 184,
    "start_time": "2024-11-19T21:03:55.709Z"
   },
   {
    "duration": 6,
    "start_time": "2024-11-19T21:04:00.551Z"
   },
   {
    "duration": 2214,
    "start_time": "2024-11-19T22:43:01.465Z"
   },
   {
    "duration": 1030,
    "start_time": "2024-11-19T22:43:03.681Z"
   },
   {
    "duration": 18,
    "start_time": "2024-11-19T22:43:04.713Z"
   },
   {
    "duration": 11,
    "start_time": "2024-11-19T22:43:04.734Z"
   },
   {
    "duration": 9,
    "start_time": "2024-11-19T22:43:04.746Z"
   },
   {
    "duration": 9,
    "start_time": "2024-11-19T22:43:04.757Z"
   },
   {
    "duration": 25,
    "start_time": "2024-11-19T22:43:04.768Z"
   },
   {
    "duration": 208,
    "start_time": "2024-11-19T22:43:04.795Z"
   },
   {
    "duration": 8,
    "start_time": "2024-11-19T22:43:05.004Z"
   },
   {
    "duration": 183,
    "start_time": "2024-11-19T22:43:05.024Z"
   },
   {
    "duration": 93,
    "start_time": "2024-11-19T22:43:05.209Z"
   },
   {
    "duration": 34,
    "start_time": "2024-11-19T22:43:05.304Z"
   },
   {
    "duration": 11,
    "start_time": "2024-11-19T22:43:05.340Z"
   },
   {
    "duration": 3,
    "start_time": "2024-11-19T22:43:05.352Z"
   },
   {
    "duration": 19,
    "start_time": "2024-11-19T22:43:05.357Z"
   },
   {
    "duration": 21,
    "start_time": "2024-11-19T22:43:05.379Z"
   },
   {
    "duration": 24,
    "start_time": "2024-11-19T22:43:05.401Z"
   },
   {
    "duration": 3,
    "start_time": "2024-11-19T22:43:05.426Z"
   },
   {
    "duration": 4,
    "start_time": "2024-11-19T22:43:05.431Z"
   },
   {
    "duration": 3,
    "start_time": "2024-11-19T22:43:05.437Z"
   },
   {
    "duration": 784,
    "start_time": "2024-11-19T22:43:05.442Z"
   },
   {
    "duration": 671,
    "start_time": "2024-11-19T22:43:06.227Z"
   },
   {
    "duration": 9,
    "start_time": "2024-11-19T22:43:06.900Z"
   },
   {
    "duration": 4,
    "start_time": "2024-11-19T22:43:06.923Z"
   },
   {
    "duration": 6,
    "start_time": "2024-11-19T22:43:06.929Z"
   },
   {
    "duration": 8,
    "start_time": "2024-11-19T22:43:06.937Z"
   },
   {
    "duration": 13,
    "start_time": "2024-11-19T22:43:06.946Z"
   },
   {
    "duration": 14,
    "start_time": "2024-11-19T22:43:06.964Z"
   },
   {
    "duration": 46,
    "start_time": "2024-11-19T22:43:06.980Z"
   },
   {
    "duration": 24,
    "start_time": "2024-11-19T22:43:07.028Z"
   },
   {
    "duration": 28,
    "start_time": "2024-11-19T22:43:07.054Z"
   },
   {
    "duration": 7,
    "start_time": "2024-11-19T22:43:07.084Z"
   },
   {
    "duration": 49,
    "start_time": "2024-11-19T22:43:07.092Z"
   },
   {
    "duration": 24,
    "start_time": "2024-11-19T22:43:07.143Z"
   },
   {
    "duration": 5,
    "start_time": "2024-11-19T22:43:07.170Z"
   },
   {
    "duration": 5,
    "start_time": "2024-11-19T22:43:07.176Z"
   },
   {
    "duration": 269,
    "start_time": "2024-11-19T22:43:07.182Z"
   },
   {
    "duration": 127,
    "start_time": "2024-11-19T22:43:07.452Z"
   },
   {
    "duration": 259,
    "start_time": "2024-11-19T22:43:07.581Z"
   },
   {
    "duration": 8,
    "start_time": "2024-11-19T22:43:07.843Z"
   },
   {
    "duration": 8,
    "start_time": "2024-11-19T22:43:07.853Z"
   },
   {
    "duration": 273,
    "start_time": "2024-11-19T22:43:07.862Z"
   },
   {
    "duration": 6,
    "start_time": "2024-11-19T23:01:31.513Z"
   },
   {
    "duration": 2,
    "start_time": "2024-11-19T23:01:39.537Z"
   },
   {
    "duration": 2210,
    "start_time": "2024-11-20T00:31:20.877Z"
   },
   {
    "duration": 1008,
    "start_time": "2024-11-20T00:31:23.090Z"
   },
   {
    "duration": 18,
    "start_time": "2024-11-20T00:31:24.100Z"
   },
   {
    "duration": 23,
    "start_time": "2024-11-20T00:31:24.121Z"
   },
   {
    "duration": 10,
    "start_time": "2024-11-20T00:31:24.146Z"
   },
   {
    "duration": 11,
    "start_time": "2024-11-20T00:31:24.158Z"
   },
   {
    "duration": 28,
    "start_time": "2024-11-20T00:31:24.171Z"
   },
   {
    "duration": 230,
    "start_time": "2024-11-20T00:31:24.201Z"
   },
   {
    "duration": 8,
    "start_time": "2024-11-20T00:31:24.433Z"
   },
   {
    "duration": 222,
    "start_time": "2024-11-20T00:31:24.445Z"
   },
   {
    "duration": 127,
    "start_time": "2024-11-20T00:31:24.669Z"
   },
   {
    "duration": 40,
    "start_time": "2024-11-20T00:31:24.798Z"
   },
   {
    "duration": 14,
    "start_time": "2024-11-20T00:31:24.840Z"
   },
   {
    "duration": 8,
    "start_time": "2024-11-20T00:31:24.856Z"
   },
   {
    "duration": 25,
    "start_time": "2024-11-20T00:31:24.865Z"
   },
   {
    "duration": 45,
    "start_time": "2024-11-20T00:31:24.893Z"
   },
   {
    "duration": 4,
    "start_time": "2024-11-20T00:31:24.940Z"
   },
   {
    "duration": 4,
    "start_time": "2024-11-20T00:31:24.946Z"
   },
   {
    "duration": 4,
    "start_time": "2024-11-20T00:31:24.951Z"
   },
   {
    "duration": 4,
    "start_time": "2024-11-20T00:31:24.957Z"
   },
   {
    "duration": 836,
    "start_time": "2024-11-20T00:31:24.963Z"
   },
   {
    "duration": 730,
    "start_time": "2024-11-20T00:31:25.801Z"
   },
   {
    "duration": 10,
    "start_time": "2024-11-20T00:31:26.533Z"
   },
   {
    "duration": 7,
    "start_time": "2024-11-20T00:31:26.545Z"
   },
   {
    "duration": 5,
    "start_time": "2024-11-20T00:31:26.553Z"
   },
   {
    "duration": 6,
    "start_time": "2024-11-20T00:31:26.560Z"
   },
   {
    "duration": 13,
    "start_time": "2024-11-20T00:31:26.568Z"
   },
   {
    "duration": 46,
    "start_time": "2024-11-20T00:31:26.585Z"
   },
   {
    "duration": 14,
    "start_time": "2024-11-20T00:31:26.633Z"
   },
   {
    "duration": 22,
    "start_time": "2024-11-20T00:31:26.648Z"
   },
   {
    "duration": 32,
    "start_time": "2024-11-20T00:31:26.672Z"
   },
   {
    "duration": 29,
    "start_time": "2024-11-20T00:31:26.706Z"
   },
   {
    "duration": 26,
    "start_time": "2024-11-20T00:31:26.736Z"
   },
   {
    "duration": 30,
    "start_time": "2024-11-20T00:31:26.764Z"
   },
   {
    "duration": 35,
    "start_time": "2024-11-20T00:31:26.796Z"
   },
   {
    "duration": 5,
    "start_time": "2024-11-20T00:31:26.834Z"
   },
   {
    "duration": 269,
    "start_time": "2024-11-20T00:31:26.841Z"
   },
   {
    "duration": 162,
    "start_time": "2024-11-20T00:31:27.111Z"
   },
   {
    "duration": 208,
    "start_time": "2024-11-20T00:31:27.274Z"
   },
   {
    "duration": 8,
    "start_time": "2024-11-20T00:31:27.484Z"
   },
   {
    "duration": 8,
    "start_time": "2024-11-20T00:31:27.494Z"
   },
   {
    "duration": 274,
    "start_time": "2024-11-20T00:31:27.504Z"
   },
   {
    "duration": 3,
    "start_time": "2024-11-20T00:31:27.780Z"
   },
   {
    "duration": 5,
    "start_time": "2024-11-20T00:31:27.785Z"
   },
   {
    "duration": 36,
    "start_time": "2024-11-20T01:10:12.188Z"
   },
   {
    "duration": 142,
    "start_time": "2024-11-20T01:10:43.453Z"
   },
   {
    "duration": 139,
    "start_time": "2024-11-20T01:23:07.104Z"
   },
   {
    "duration": 169,
    "start_time": "2024-11-20T01:23:31.208Z"
   },
   {
    "duration": 234,
    "start_time": "2024-11-20T01:25:13.619Z"
   },
   {
    "duration": 450,
    "start_time": "2024-11-20T01:33:41.234Z"
   },
   {
    "duration": 210,
    "start_time": "2024-11-20T01:33:49.295Z"
   },
   {
    "duration": 236,
    "start_time": "2024-11-20T01:34:10.027Z"
   },
   {
    "duration": 47,
    "start_time": "2024-11-20T01:42:23.431Z"
   },
   {
    "duration": 238,
    "start_time": "2024-11-20T01:42:28.628Z"
   },
   {
    "duration": 431,
    "start_time": "2024-11-20T02:34:25.225Z"
   },
   {
    "duration": 469,
    "start_time": "2024-11-20T02:34:38.450Z"
   },
   {
    "duration": 929,
    "start_time": "2024-11-20T02:34:38.921Z"
   },
   {
    "duration": 15,
    "start_time": "2024-11-20T02:34:39.851Z"
   },
   {
    "duration": 13,
    "start_time": "2024-11-20T02:34:39.868Z"
   },
   {
    "duration": 11,
    "start_time": "2024-11-20T02:34:39.882Z"
   },
   {
    "duration": 37,
    "start_time": "2024-11-20T02:34:39.895Z"
   },
   {
    "duration": 30,
    "start_time": "2024-11-20T02:34:39.934Z"
   },
   {
    "duration": 202,
    "start_time": "2024-11-20T02:34:39.967Z"
   },
   {
    "duration": 9,
    "start_time": "2024-11-20T02:34:40.171Z"
   },
   {
    "duration": 215,
    "start_time": "2024-11-20T02:34:40.184Z"
   },
   {
    "duration": 143,
    "start_time": "2024-11-20T02:34:40.402Z"
   },
   {
    "duration": 43,
    "start_time": "2024-11-20T02:34:40.550Z"
   },
   {
    "duration": 14,
    "start_time": "2024-11-20T02:34:40.594Z"
   },
   {
    "duration": 3,
    "start_time": "2024-11-20T02:34:40.611Z"
   },
   {
    "duration": 22,
    "start_time": "2024-11-20T02:34:40.631Z"
   },
   {
    "duration": 25,
    "start_time": "2024-11-20T02:34:40.655Z"
   },
   {
    "duration": 4,
    "start_time": "2024-11-20T02:34:40.681Z"
   },
   {
    "duration": 4,
    "start_time": "2024-11-20T02:34:40.686Z"
   },
   {
    "duration": 40,
    "start_time": "2024-11-20T02:34:40.692Z"
   },
   {
    "duration": 4,
    "start_time": "2024-11-20T02:34:40.734Z"
   },
   {
    "duration": 925,
    "start_time": "2024-11-20T02:34:40.740Z"
   },
   {
    "duration": 1055,
    "start_time": "2024-11-20T02:34:41.667Z"
   },
   {
    "duration": 16,
    "start_time": "2024-11-20T02:34:42.724Z"
   },
   {
    "duration": 4,
    "start_time": "2024-11-20T02:34:42.743Z"
   },
   {
    "duration": 6,
    "start_time": "2024-11-20T02:34:42.751Z"
   },
   {
    "duration": 8,
    "start_time": "2024-11-20T02:34:42.759Z"
   },
   {
    "duration": 17,
    "start_time": "2024-11-20T02:34:42.769Z"
   },
   {
    "duration": 50,
    "start_time": "2024-11-20T02:34:42.792Z"
   },
   {
    "duration": 23,
    "start_time": "2024-11-20T02:34:42.844Z"
   },
   {
    "duration": 36,
    "start_time": "2024-11-20T02:34:42.870Z"
   },
   {
    "duration": 47,
    "start_time": "2024-11-20T02:34:42.908Z"
   },
   {
    "duration": 10,
    "start_time": "2024-11-20T02:34:42.959Z"
   },
   {
    "duration": 28,
    "start_time": "2024-11-20T02:34:42.971Z"
   },
   {
    "duration": 55,
    "start_time": "2024-11-20T02:34:43.001Z"
   },
   {
    "duration": 5,
    "start_time": "2024-11-20T02:34:43.057Z"
   },
   {
    "duration": 5,
    "start_time": "2024-11-20T02:34:43.064Z"
   },
   {
    "duration": 388,
    "start_time": "2024-11-20T02:34:43.071Z"
   },
   {
    "duration": 173,
    "start_time": "2024-11-20T02:34:43.461Z"
   },
   {
    "duration": 296,
    "start_time": "2024-11-20T02:34:43.636Z"
   },
   {
    "duration": 9,
    "start_time": "2024-11-20T02:34:43.934Z"
   },
   {
    "duration": 9,
    "start_time": "2024-11-20T02:34:43.945Z"
   },
   {
    "duration": 239,
    "start_time": "2024-11-20T02:34:43.956Z"
   },
   {
    "duration": 2,
    "start_time": "2024-11-20T02:34:44.197Z"
   },
   {
    "duration": 266,
    "start_time": "2024-11-20T02:34:44.201Z"
   },
   {
    "duration": 2,
    "start_time": "2024-11-20T02:34:44.470Z"
   },
   {
    "duration": 654,
    "start_time": "2024-11-20T02:34:44.474Z"
   },
   {
    "duration": 437,
    "start_time": "2024-11-20T02:37:23.881Z"
   },
   {
    "duration": 961,
    "start_time": "2024-11-20T02:37:24.320Z"
   },
   {
    "duration": 15,
    "start_time": "2024-11-20T02:37:25.282Z"
   },
   {
    "duration": 12,
    "start_time": "2024-11-20T02:37:25.300Z"
   },
   {
    "duration": 26,
    "start_time": "2024-11-20T02:37:25.313Z"
   },
   {
    "duration": 8,
    "start_time": "2024-11-20T02:37:25.341Z"
   },
   {
    "duration": 26,
    "start_time": "2024-11-20T02:37:25.351Z"
   },
   {
    "duration": 206,
    "start_time": "2024-11-20T02:37:25.379Z"
   },
   {
    "duration": 9,
    "start_time": "2024-11-20T02:37:25.586Z"
   },
   {
    "duration": 206,
    "start_time": "2024-11-20T02:37:25.597Z"
   },
   {
    "duration": 98,
    "start_time": "2024-11-20T02:37:25.805Z"
   },
   {
    "duration": 39,
    "start_time": "2024-11-20T02:37:25.905Z"
   },
   {
    "duration": 12,
    "start_time": "2024-11-20T02:37:25.946Z"
   },
   {
    "duration": 4,
    "start_time": "2024-11-20T02:37:25.960Z"
   },
   {
    "duration": 22,
    "start_time": "2024-11-20T02:37:25.965Z"
   },
   {
    "duration": 46,
    "start_time": "2024-11-20T02:37:25.988Z"
   },
   {
    "duration": 4,
    "start_time": "2024-11-20T02:37:26.035Z"
   },
   {
    "duration": 3,
    "start_time": "2024-11-20T02:37:26.041Z"
   },
   {
    "duration": 4,
    "start_time": "2024-11-20T02:37:26.046Z"
   },
   {
    "duration": 4,
    "start_time": "2024-11-20T02:37:26.051Z"
   },
   {
    "duration": 854,
    "start_time": "2024-11-20T02:37:26.057Z"
   },
   {
    "duration": 710,
    "start_time": "2024-11-20T02:37:26.913Z"
   },
   {
    "duration": 14,
    "start_time": "2024-11-20T02:37:27.624Z"
   },
   {
    "duration": 5,
    "start_time": "2024-11-20T02:37:27.640Z"
   },
   {
    "duration": 7,
    "start_time": "2024-11-20T02:37:27.649Z"
   },
   {
    "duration": 8,
    "start_time": "2024-11-20T02:37:27.658Z"
   },
   {
    "duration": 19,
    "start_time": "2024-11-20T02:37:27.668Z"
   },
   {
    "duration": 41,
    "start_time": "2024-11-20T02:37:27.694Z"
   },
   {
    "duration": 19,
    "start_time": "2024-11-20T02:37:27.737Z"
   },
   {
    "duration": 26,
    "start_time": "2024-11-20T02:37:27.758Z"
   },
   {
    "duration": 51,
    "start_time": "2024-11-20T02:37:27.786Z"
   },
   {
    "duration": 7,
    "start_time": "2024-11-20T02:37:27.840Z"
   },
   {
    "duration": 26,
    "start_time": "2024-11-20T02:37:27.849Z"
   },
   {
    "duration": 27,
    "start_time": "2024-11-20T02:37:27.877Z"
   },
   {
    "duration": 29,
    "start_time": "2024-11-20T02:37:27.906Z"
   },
   {
    "duration": 6,
    "start_time": "2024-11-20T02:37:27.937Z"
   },
   {
    "duration": 270,
    "start_time": "2024-11-20T02:37:27.945Z"
   },
   {
    "duration": 125,
    "start_time": "2024-11-20T02:37:28.217Z"
   },
   {
    "duration": 213,
    "start_time": "2024-11-20T02:37:28.344Z"
   },
   {
    "duration": 8,
    "start_time": "2024-11-20T02:37:28.559Z"
   },
   {
    "duration": 7,
    "start_time": "2024-11-20T02:37:28.569Z"
   },
   {
    "duration": 238,
    "start_time": "2024-11-20T02:37:28.578Z"
   },
   {
    "duration": 2,
    "start_time": "2024-11-20T02:37:28.818Z"
   },
   {
    "duration": 239,
    "start_time": "2024-11-20T02:37:28.830Z"
   },
   {
    "duration": 4,
    "start_time": "2024-11-20T02:37:29.071Z"
   },
   {
    "duration": 587,
    "start_time": "2024-11-20T02:37:29.076Z"
   },
   {
    "duration": 5,
    "start_time": "2024-11-20T02:38:02.028Z"
   },
   {
    "duration": 3,
    "start_time": "2024-11-20T02:42:14.143Z"
   },
   {
    "duration": 191,
    "start_time": "2024-11-20T02:43:00.184Z"
   },
   {
    "duration": 94,
    "start_time": "2024-11-20T02:44:55.270Z"
   },
   {
    "duration": 99,
    "start_time": "2024-11-20T02:50:04.915Z"
   },
   {
    "duration": 106,
    "start_time": "2024-11-20T02:50:14.107Z"
   },
   {
    "duration": 88,
    "start_time": "2024-11-20T02:51:39.810Z"
   },
   {
    "duration": 89,
    "start_time": "2024-11-20T02:51:51.838Z"
   },
   {
    "duration": 95,
    "start_time": "2024-11-20T02:52:00.182Z"
   },
   {
    "duration": 123,
    "start_time": "2024-11-20T02:55:34.562Z"
   },
   {
    "duration": 106,
    "start_time": "2024-11-20T03:05:12.712Z"
   },
   {
    "duration": 4,
    "start_time": "2024-11-20T03:06:53.104Z"
   },
   {
    "duration": 109,
    "start_time": "2024-11-20T03:07:07.753Z"
   },
   {
    "duration": 124,
    "start_time": "2024-11-20T03:31:58.738Z"
   },
   {
    "duration": 12,
    "start_time": "2024-11-20T03:32:15.852Z"
   },
   {
    "duration": 96,
    "start_time": "2024-11-20T03:32:39.598Z"
   },
   {
    "duration": 6,
    "start_time": "2024-11-20T04:02:22.422Z"
   },
   {
    "duration": 6,
    "start_time": "2024-11-20T04:02:40.435Z"
   },
   {
    "duration": 378,
    "start_time": "2024-11-20T04:03:28.097Z"
   },
   {
    "duration": 14,
    "start_time": "2024-11-20T04:06:23.587Z"
   },
   {
    "duration": 279,
    "start_time": "2024-11-20T04:07:15.111Z"
   },
   {
    "duration": 292,
    "start_time": "2024-11-20T04:07:26.513Z"
   },
   {
    "duration": 284,
    "start_time": "2024-11-20T04:08:15.178Z"
   },
   {
    "duration": 296,
    "start_time": "2024-11-20T04:08:41.353Z"
   },
   {
    "duration": 281,
    "start_time": "2024-11-20T04:09:06.687Z"
   },
   {
    "duration": 138,
    "start_time": "2024-11-20T04:11:14.076Z"
   },
   {
    "duration": 5,
    "start_time": "2024-11-20T04:17:53.616Z"
   },
   {
    "duration": 143,
    "start_time": "2024-11-20T04:18:03.088Z"
   },
   {
    "duration": 121,
    "start_time": "2024-11-20T04:18:21.524Z"
   },
   {
    "duration": 141,
    "start_time": "2024-11-20T04:18:41.368Z"
   },
   {
    "duration": 127,
    "start_time": "2024-11-20T04:18:54.637Z"
   },
   {
    "duration": 137,
    "start_time": "2024-11-20T04:19:14.175Z"
   },
   {
    "duration": 50,
    "start_time": "2024-11-20T04:34:17.427Z"
   },
   {
    "duration": 54,
    "start_time": "2024-11-20T04:34:26.957Z"
   },
   {
    "duration": 90,
    "start_time": "2024-11-20T04:40:46.208Z"
   },
   {
    "duration": 6,
    "start_time": "2024-11-20T04:47:48.845Z"
   },
   {
    "duration": 6,
    "start_time": "2024-11-20T04:48:03.482Z"
   },
   {
    "duration": 9,
    "start_time": "2024-11-20T04:48:52.660Z"
   },
   {
    "duration": 163,
    "start_time": "2024-11-20T04:51:28.834Z"
   },
   {
    "duration": 112,
    "start_time": "2024-11-20T04:51:57.354Z"
   },
   {
    "duration": 6,
    "start_time": "2024-11-20T04:52:00.082Z"
   },
   {
    "duration": 6,
    "start_time": "2024-11-20T04:52:51.037Z"
   },
   {
    "duration": 7,
    "start_time": "2024-11-20T04:53:07.701Z"
   },
   {
    "duration": 14,
    "start_time": "2024-11-20T04:57:26.501Z"
   },
   {
    "duration": 6,
    "start_time": "2024-11-20T04:57:33.262Z"
   },
   {
    "duration": 13,
    "start_time": "2024-11-20T04:57:35.410Z"
   },
   {
    "duration": 252,
    "start_time": "2024-11-20T04:57:51.058Z"
   },
   {
    "duration": 23,
    "start_time": "2024-11-20T04:58:34.392Z"
   },
   {
    "duration": 141,
    "start_time": "2024-11-20T04:58:45.041Z"
   },
   {
    "duration": 33,
    "start_time": "2024-11-20T04:59:49.889Z"
   },
   {
    "duration": 34,
    "start_time": "2024-11-20T05:00:26.625Z"
   },
   {
    "duration": 3,
    "start_time": "2024-11-20T05:00:50.043Z"
   },
   {
    "duration": 33,
    "start_time": "2024-11-20T05:01:03.414Z"
   },
   {
    "duration": 38,
    "start_time": "2024-11-20T05:16:37.619Z"
   },
   {
    "duration": 35,
    "start_time": "2024-11-20T05:17:07.488Z"
   },
   {
    "duration": 34,
    "start_time": "2024-11-20T05:18:11.496Z"
   },
   {
    "duration": 13,
    "start_time": "2024-11-20T05:19:27.850Z"
   },
   {
    "duration": 6,
    "start_time": "2024-11-20T05:20:06.793Z"
   },
   {
    "duration": 13,
    "start_time": "2024-11-20T05:20:48.153Z"
   },
   {
    "duration": 202,
    "start_time": "2024-11-20T05:26:20.191Z"
   },
   {
    "duration": 6,
    "start_time": "2024-11-20T05:26:41.001Z"
   },
   {
    "duration": 8,
    "start_time": "2024-11-20T05:26:43.952Z"
   },
   {
    "duration": 4,
    "start_time": "2024-11-20T05:27:19.342Z"
   },
   {
    "duration": 231,
    "start_time": "2024-11-20T05:30:19.070Z"
   },
   {
    "duration": 3,
    "start_time": "2024-11-20T05:31:29.319Z"
   },
   {
    "duration": 50,
    "start_time": "2024-11-20T05:31:50.227Z"
   },
   {
    "duration": 53,
    "start_time": "2024-11-20T05:32:48.861Z"
   },
   {
    "duration": 2365,
    "start_time": "2024-11-20T18:15:45.720Z"
   },
   {
    "duration": 1013,
    "start_time": "2024-11-20T18:15:48.087Z"
   },
   {
    "duration": 13,
    "start_time": "2024-11-20T18:15:49.102Z"
   },
   {
    "duration": 11,
    "start_time": "2024-11-20T18:15:49.117Z"
   },
   {
    "duration": 10,
    "start_time": "2024-11-20T18:15:49.130Z"
   },
   {
    "duration": 32,
    "start_time": "2024-11-20T18:15:49.142Z"
   },
   {
    "duration": 25,
    "start_time": "2024-11-20T18:15:49.175Z"
   },
   {
    "duration": 177,
    "start_time": "2024-11-20T18:15:49.202Z"
   },
   {
    "duration": 8,
    "start_time": "2024-11-20T18:15:49.380Z"
   },
   {
    "duration": 197,
    "start_time": "2024-11-20T18:15:49.390Z"
   },
   {
    "duration": 85,
    "start_time": "2024-11-20T18:15:49.589Z"
   },
   {
    "duration": 27,
    "start_time": "2024-11-20T18:15:49.675Z"
   },
   {
    "duration": 11,
    "start_time": "2024-11-20T18:15:49.703Z"
   },
   {
    "duration": 3,
    "start_time": "2024-11-20T18:15:49.718Z"
   },
   {
    "duration": 47,
    "start_time": "2024-11-20T18:15:49.722Z"
   },
   {
    "duration": 20,
    "start_time": "2024-11-20T18:15:49.771Z"
   },
   {
    "duration": 4,
    "start_time": "2024-11-20T18:15:49.793Z"
   },
   {
    "duration": 4,
    "start_time": "2024-11-20T18:15:49.799Z"
   },
   {
    "duration": 3,
    "start_time": "2024-11-20T18:15:49.805Z"
   },
   {
    "duration": 3,
    "start_time": "2024-11-20T18:15:49.811Z"
   },
   {
    "duration": 795,
    "start_time": "2024-11-20T18:15:49.816Z"
   },
   {
    "duration": 672,
    "start_time": "2024-11-20T18:15:50.613Z"
   },
   {
    "duration": 10,
    "start_time": "2024-11-20T18:15:51.287Z"
   },
   {
    "duration": 4,
    "start_time": "2024-11-20T18:15:51.298Z"
   },
   {
    "duration": 5,
    "start_time": "2024-11-20T18:15:51.304Z"
   },
   {
    "duration": 6,
    "start_time": "2024-11-20T18:15:51.310Z"
   },
   {
    "duration": 13,
    "start_time": "2024-11-20T18:15:51.317Z"
   },
   {
    "duration": 48,
    "start_time": "2024-11-20T18:15:51.331Z"
   },
   {
    "duration": 17,
    "start_time": "2024-11-20T18:15:51.381Z"
   },
   {
    "duration": 25,
    "start_time": "2024-11-20T18:15:51.400Z"
   },
   {
    "duration": 53,
    "start_time": "2024-11-20T18:15:51.427Z"
   },
   {
    "duration": 7,
    "start_time": "2024-11-20T18:15:51.483Z"
   },
   {
    "duration": 26,
    "start_time": "2024-11-20T18:15:51.491Z"
   },
   {
    "duration": 6,
    "start_time": "2024-11-20T18:15:51.518Z"
   },
   {
    "duration": 0,
    "start_time": "2024-11-20T18:15:51.527Z"
   },
   {
    "duration": 0,
    "start_time": "2024-11-20T18:15:51.529Z"
   },
   {
    "duration": 0,
    "start_time": "2024-11-20T18:15:51.530Z"
   },
   {
    "duration": 0,
    "start_time": "2024-11-20T18:15:51.531Z"
   },
   {
    "duration": 0,
    "start_time": "2024-11-20T18:15:51.533Z"
   },
   {
    "duration": 0,
    "start_time": "2024-11-20T18:15:51.534Z"
   },
   {
    "duration": 0,
    "start_time": "2024-11-20T18:15:51.535Z"
   },
   {
    "duration": 0,
    "start_time": "2024-11-20T18:15:51.536Z"
   },
   {
    "duration": 0,
    "start_time": "2024-11-20T18:15:51.537Z"
   },
   {
    "duration": 0,
    "start_time": "2024-11-20T18:15:51.571Z"
   },
   {
    "duration": 0,
    "start_time": "2024-11-20T18:15:51.574Z"
   },
   {
    "duration": 0,
    "start_time": "2024-11-20T18:15:51.576Z"
   },
   {
    "duration": 0,
    "start_time": "2024-11-20T18:15:51.577Z"
   },
   {
    "duration": 0,
    "start_time": "2024-11-20T18:15:51.582Z"
   },
   {
    "duration": 0,
    "start_time": "2024-11-20T18:15:51.583Z"
   },
   {
    "duration": 0,
    "start_time": "2024-11-20T18:15:51.584Z"
   },
   {
    "duration": 0,
    "start_time": "2024-11-20T18:15:51.585Z"
   },
   {
    "duration": 0,
    "start_time": "2024-11-20T18:15:51.586Z"
   },
   {
    "duration": 0,
    "start_time": "2024-11-20T18:15:51.587Z"
   },
   {
    "duration": 0,
    "start_time": "2024-11-20T18:15:51.589Z"
   },
   {
    "duration": 0,
    "start_time": "2024-11-20T18:15:51.590Z"
   },
   {
    "duration": 0,
    "start_time": "2024-11-20T18:15:51.592Z"
   },
   {
    "duration": 25,
    "start_time": "2024-11-20T18:15:59.958Z"
   },
   {
    "duration": 20,
    "start_time": "2024-11-20T18:16:02.240Z"
   },
   {
    "duration": 6,
    "start_time": "2024-11-20T18:16:02.263Z"
   },
   {
    "duration": 5,
    "start_time": "2024-11-20T18:16:02.270Z"
   },
   {
    "duration": 251,
    "start_time": "2024-11-20T18:16:02.278Z"
   },
   {
    "duration": 122,
    "start_time": "2024-11-20T18:16:02.531Z"
   },
   {
    "duration": 239,
    "start_time": "2024-11-20T18:16:02.655Z"
   },
   {
    "duration": 8,
    "start_time": "2024-11-20T18:16:02.896Z"
   },
   {
    "duration": 8,
    "start_time": "2024-11-20T18:16:02.906Z"
   },
   {
    "duration": 223,
    "start_time": "2024-11-20T18:16:02.915Z"
   },
   {
    "duration": 2,
    "start_time": "2024-11-20T18:16:03.142Z"
   },
   {
    "duration": 243,
    "start_time": "2024-11-20T18:16:03.146Z"
   },
   {
    "duration": 2,
    "start_time": "2024-11-20T18:16:03.391Z"
   },
   {
    "duration": 102,
    "start_time": "2024-11-20T18:16:03.395Z"
   },
   {
    "duration": 11,
    "start_time": "2024-11-20T18:16:03.499Z"
   },
   {
    "duration": 287,
    "start_time": "2024-11-20T18:16:03.512Z"
   },
   {
    "duration": 144,
    "start_time": "2024-11-20T18:16:03.801Z"
   },
   {
    "duration": 174,
    "start_time": "2024-11-20T18:16:03.947Z"
   },
   {
    "duration": 5,
    "start_time": "2024-11-20T18:16:04.123Z"
   },
   {
    "duration": 12,
    "start_time": "2024-11-20T18:16:04.129Z"
   },
   {
    "duration": 211,
    "start_time": "2024-11-20T18:16:04.143Z"
   },
   {
    "duration": 14,
    "start_time": "2024-11-20T18:16:04.356Z"
   },
   {
    "duration": 2,
    "start_time": "2024-11-20T18:16:04.372Z"
   },
   {
    "duration": 50,
    "start_time": "2024-11-20T18:16:04.378Z"
   },
   {
    "duration": 157,
    "start_time": "2025-01-06T22:03:30.017Z"
   },
   {
    "duration": 11,
    "start_time": "2025-01-06T22:03:35.820Z"
   },
   {
    "duration": 15,
    "start_time": "2025-01-06T22:04:17.613Z"
   },
   {
    "duration": 13,
    "start_time": "2025-01-06T22:04:17.754Z"
   },
   {
    "duration": 2185,
    "start_time": "2025-01-06T22:04:33.036Z"
   },
   {
    "duration": 1032,
    "start_time": "2025-01-06T22:04:35.223Z"
   },
   {
    "duration": 15,
    "start_time": "2025-01-06T22:04:36.257Z"
   },
   {
    "duration": 13,
    "start_time": "2025-01-06T22:04:36.273Z"
   },
   {
    "duration": 12,
    "start_time": "2025-01-06T22:04:36.309Z"
   },
   {
    "duration": 10,
    "start_time": "2025-01-06T22:04:36.323Z"
   },
   {
    "duration": 32,
    "start_time": "2025-01-06T22:04:36.335Z"
   },
   {
    "duration": 200,
    "start_time": "2025-01-06T22:04:36.369Z"
   },
   {
    "duration": 8,
    "start_time": "2025-01-06T22:04:36.571Z"
   },
   {
    "duration": 203,
    "start_time": "2025-01-06T22:04:36.581Z"
   },
   {
    "duration": 96,
    "start_time": "2025-01-06T22:04:36.786Z"
   },
   {
    "duration": 36,
    "start_time": "2025-01-06T22:04:36.885Z"
   },
   {
    "duration": 14,
    "start_time": "2025-01-06T22:04:36.922Z"
   },
   {
    "duration": 3,
    "start_time": "2025-01-06T22:04:36.940Z"
   },
   {
    "duration": 22,
    "start_time": "2025-01-06T22:04:36.945Z"
   },
   {
    "duration": 47,
    "start_time": "2025-01-06T22:04:36.969Z"
   },
   {
    "duration": 4,
    "start_time": "2025-01-06T22:04:37.018Z"
   },
   {
    "duration": 4,
    "start_time": "2025-01-06T22:04:37.023Z"
   },
   {
    "duration": 4,
    "start_time": "2025-01-06T22:04:37.029Z"
   },
   {
    "duration": 3,
    "start_time": "2025-01-06T22:04:37.034Z"
   },
   {
    "duration": 923,
    "start_time": "2025-01-06T22:04:37.039Z"
   },
   {
    "duration": 735,
    "start_time": "2025-01-06T22:04:37.964Z"
   },
   {
    "duration": 10,
    "start_time": "2025-01-06T22:04:38.709Z"
   },
   {
    "duration": 5,
    "start_time": "2025-01-06T22:04:38.720Z"
   },
   {
    "duration": 4,
    "start_time": "2025-01-06T22:04:38.727Z"
   },
   {
    "duration": 5,
    "start_time": "2025-01-06T22:04:38.733Z"
   },
   {
    "duration": 11,
    "start_time": "2025-01-06T22:04:38.739Z"
   },
   {
    "duration": 11,
    "start_time": "2025-01-06T22:04:38.752Z"
   },
   {
    "duration": 53,
    "start_time": "2025-01-06T22:04:38.765Z"
   },
   {
    "duration": 29,
    "start_time": "2025-01-06T22:04:38.819Z"
   },
   {
    "duration": 31,
    "start_time": "2025-01-06T22:04:38.850Z"
   },
   {
    "duration": 28,
    "start_time": "2025-01-06T22:04:38.884Z"
   },
   {
    "duration": 26,
    "start_time": "2025-01-06T22:04:38.914Z"
   },
   {
    "duration": 28,
    "start_time": "2025-01-06T22:04:38.941Z"
   },
   {
    "duration": 4,
    "start_time": "2025-01-06T22:04:38.971Z"
   },
   {
    "duration": 32,
    "start_time": "2025-01-06T22:04:38.978Z"
   },
   {
    "duration": 257,
    "start_time": "2025-01-06T22:04:39.012Z"
   },
   {
    "duration": 127,
    "start_time": "2025-01-06T22:04:39.271Z"
   },
   {
    "duration": 268,
    "start_time": "2025-01-06T22:04:39.400Z"
   },
   {
    "duration": 9,
    "start_time": "2025-01-06T22:04:39.670Z"
   },
   {
    "duration": 8,
    "start_time": "2025-01-06T22:04:39.684Z"
   },
   {
    "duration": 227,
    "start_time": "2025-01-06T22:04:39.709Z"
   },
   {
    "duration": 246,
    "start_time": "2025-01-06T22:04:39.938Z"
   },
   {
    "duration": 100,
    "start_time": "2025-01-06T22:04:40.186Z"
   },
   {
    "duration": 20,
    "start_time": "2025-01-06T22:04:40.289Z"
   },
   {
    "duration": 293,
    "start_time": "2025-01-06T22:04:40.311Z"
   },
   {
    "duration": 151,
    "start_time": "2025-01-06T22:04:40.609Z"
   },
   {
    "duration": 181,
    "start_time": "2025-01-06T22:04:40.762Z"
   },
   {
    "duration": 6,
    "start_time": "2025-01-06T22:04:40.945Z"
   },
   {
    "duration": 11,
    "start_time": "2025-01-06T22:04:40.952Z"
   },
   {
    "duration": 214,
    "start_time": "2025-01-06T22:04:40.965Z"
   },
   {
    "duration": 4,
    "start_time": "2025-01-06T22:04:41.181Z"
   },
   {
    "duration": 3,
    "start_time": "2025-01-06T22:04:41.187Z"
   },
   {
    "duration": 64,
    "start_time": "2025-01-06T22:04:41.192Z"
   },
   {
    "duration": 248,
    "start_time": "2025-01-06T22:07:29.914Z"
   },
   {
    "duration": 2136,
    "start_time": "2025-01-06T22:10:08.618Z"
   },
   {
    "duration": 399,
    "start_time": "2025-01-06T22:10:41.039Z"
   },
   {
    "duration": 242,
    "start_time": "2025-01-06T22:10:49.855Z"
   },
   {
    "duration": 164,
    "start_time": "2025-01-06T22:12:10.540Z"
   },
   {
    "duration": 246,
    "start_time": "2025-01-06T22:13:25.555Z"
   },
   {
    "duration": 376,
    "start_time": "2025-01-06T22:20:30.977Z"
   },
   {
    "duration": 14,
    "start_time": "2025-01-06T22:20:44.729Z"
   },
   {
    "duration": 142,
    "start_time": "2025-01-06T22:43:28.619Z"
   },
   {
    "duration": 34,
    "start_time": "2025-01-06T22:43:40.650Z"
   },
   {
    "duration": 436,
    "start_time": "2025-01-06T22:43:50.170Z"
   },
   {
    "duration": 941,
    "start_time": "2025-01-06T22:43:50.610Z"
   },
   {
    "duration": 17,
    "start_time": "2025-01-06T22:43:51.553Z"
   },
   {
    "duration": 12,
    "start_time": "2025-01-06T22:43:51.572Z"
   },
   {
    "duration": 26,
    "start_time": "2025-01-06T22:43:51.586Z"
   },
   {
    "duration": 9,
    "start_time": "2025-01-06T22:43:51.615Z"
   },
   {
    "duration": 27,
    "start_time": "2025-01-06T22:43:51.625Z"
   },
   {
    "duration": 208,
    "start_time": "2025-01-06T22:43:51.654Z"
   },
   {
    "duration": 8,
    "start_time": "2025-01-06T22:43:51.864Z"
   },
   {
    "duration": 204,
    "start_time": "2025-01-06T22:43:51.876Z"
   },
   {
    "duration": 104,
    "start_time": "2025-01-06T22:43:52.081Z"
   },
   {
    "duration": 40,
    "start_time": "2025-01-06T22:43:52.187Z"
   },
   {
    "duration": 13,
    "start_time": "2025-01-06T22:43:52.229Z"
   },
   {
    "duration": 3,
    "start_time": "2025-01-06T22:43:52.244Z"
   },
   {
    "duration": 21,
    "start_time": "2025-01-06T22:43:52.249Z"
   },
   {
    "duration": 48,
    "start_time": "2025-01-06T22:43:52.272Z"
   },
   {
    "duration": 3,
    "start_time": "2025-01-06T22:43:52.322Z"
   },
   {
    "duration": 4,
    "start_time": "2025-01-06T22:43:52.327Z"
   },
   {
    "duration": 4,
    "start_time": "2025-01-06T22:43:52.332Z"
   },
   {
    "duration": 3,
    "start_time": "2025-01-06T22:43:52.338Z"
   },
   {
    "duration": 833,
    "start_time": "2025-01-06T22:43:52.343Z"
   },
   {
    "duration": 748,
    "start_time": "2025-01-06T22:43:53.178Z"
   },
   {
    "duration": 9,
    "start_time": "2025-01-06T22:43:53.928Z"
   },
   {
    "duration": 4,
    "start_time": "2025-01-06T22:43:53.939Z"
   },
   {
    "duration": 5,
    "start_time": "2025-01-06T22:43:53.945Z"
   },
   {
    "duration": 6,
    "start_time": "2025-01-06T22:43:53.951Z"
   },
   {
    "duration": 13,
    "start_time": "2025-01-06T22:43:53.959Z"
   },
   {
    "duration": 12,
    "start_time": "2025-01-06T22:43:54.008Z"
   },
   {
    "duration": 12,
    "start_time": "2025-01-06T22:43:54.022Z"
   },
   {
    "duration": 21,
    "start_time": "2025-01-06T22:43:54.035Z"
   },
   {
    "duration": 57,
    "start_time": "2025-01-06T22:43:54.058Z"
   },
   {
    "duration": 7,
    "start_time": "2025-01-06T22:43:54.117Z"
   },
   {
    "duration": 25,
    "start_time": "2025-01-06T22:43:54.126Z"
   },
   {
    "duration": 27,
    "start_time": "2025-01-06T22:43:54.153Z"
   },
   {
    "duration": 25,
    "start_time": "2025-01-06T22:43:54.184Z"
   },
   {
    "duration": 6,
    "start_time": "2025-01-06T22:43:54.210Z"
   },
   {
    "duration": 266,
    "start_time": "2025-01-06T22:43:54.217Z"
   },
   {
    "duration": 127,
    "start_time": "2025-01-06T22:43:54.485Z"
   },
   {
    "duration": 208,
    "start_time": "2025-01-06T22:43:54.614Z"
   },
   {
    "duration": 9,
    "start_time": "2025-01-06T22:43:54.824Z"
   },
   {
    "duration": 8,
    "start_time": "2025-01-06T22:43:54.835Z"
   },
   {
    "duration": 235,
    "start_time": "2025-01-06T22:43:54.844Z"
   },
   {
    "duration": 246,
    "start_time": "2025-01-06T22:43:55.081Z"
   },
   {
    "duration": 106,
    "start_time": "2025-01-06T22:43:55.329Z"
   },
   {
    "duration": 271,
    "start_time": "2025-01-06T22:43:55.437Z"
   },
   {
    "duration": 297,
    "start_time": "2025-01-06T22:43:55.710Z"
   },
   {
    "duration": 151,
    "start_time": "2025-01-06T22:43:56.010Z"
   },
   {
    "duration": 180,
    "start_time": "2025-01-06T22:43:56.164Z"
   },
   {
    "duration": 6,
    "start_time": "2025-01-06T22:43:56.346Z"
   },
   {
    "duration": 15,
    "start_time": "2025-01-06T22:43:56.354Z"
   },
   {
    "duration": 227,
    "start_time": "2025-01-06T22:43:56.370Z"
   },
   {
    "duration": 4,
    "start_time": "2025-01-06T22:43:56.599Z"
   },
   {
    "duration": 2,
    "start_time": "2025-01-06T22:43:56.610Z"
   },
   {
    "duration": 117,
    "start_time": "2025-01-06T22:43:56.614Z"
   },
   {
    "duration": 544,
    "start_time": "2025-01-06T22:46:26.735Z"
   },
   {
    "duration": 13,
    "start_time": "2025-01-06T22:47:01.815Z"
   },
   {
    "duration": 4,
    "start_time": "2025-01-06T22:47:51.625Z"
   },
   {
    "duration": 145,
    "start_time": "2025-01-06T22:48:09.889Z"
   },
   {
    "duration": 36,
    "start_time": "2025-01-06T22:48:19.088Z"
   },
   {
    "duration": 36,
    "start_time": "2025-01-06T22:48:36.219Z"
   },
   {
    "duration": 37,
    "start_time": "2025-01-06T22:48:54.295Z"
   },
   {
    "duration": 440,
    "start_time": "2025-01-06T22:49:02.602Z"
   },
   {
    "duration": 931,
    "start_time": "2025-01-06T22:49:03.045Z"
   },
   {
    "duration": 15,
    "start_time": "2025-01-06T22:49:03.978Z"
   },
   {
    "duration": 21,
    "start_time": "2025-01-06T22:49:03.995Z"
   },
   {
    "duration": 10,
    "start_time": "2025-01-06T22:49:04.019Z"
   },
   {
    "duration": 10,
    "start_time": "2025-01-06T22:49:04.030Z"
   },
   {
    "duration": 26,
    "start_time": "2025-01-06T22:49:04.041Z"
   },
   {
    "duration": 219,
    "start_time": "2025-01-06T22:49:04.069Z"
   },
   {
    "duration": 20,
    "start_time": "2025-01-06T22:49:04.290Z"
   },
   {
    "duration": 198,
    "start_time": "2025-01-06T22:49:04.312Z"
   },
   {
    "duration": 98,
    "start_time": "2025-01-06T22:49:04.512Z"
   },
   {
    "duration": 29,
    "start_time": "2025-01-06T22:49:04.612Z"
   },
   {
    "duration": 15,
    "start_time": "2025-01-06T22:49:04.642Z"
   },
   {
    "duration": 3,
    "start_time": "2025-01-06T22:49:04.660Z"
   },
   {
    "duration": 52,
    "start_time": "2025-01-06T22:49:04.665Z"
   },
   {
    "duration": 23,
    "start_time": "2025-01-06T22:49:04.720Z"
   },
   {
    "duration": 3,
    "start_time": "2025-01-06T22:49:04.745Z"
   },
   {
    "duration": 4,
    "start_time": "2025-01-06T22:49:04.750Z"
   },
   {
    "duration": 5,
    "start_time": "2025-01-06T22:49:04.755Z"
   },
   {
    "duration": 4,
    "start_time": "2025-01-06T22:49:04.762Z"
   },
   {
    "duration": 894,
    "start_time": "2025-01-06T22:49:04.768Z"
   },
   {
    "duration": 755,
    "start_time": "2025-01-06T22:49:05.664Z"
   },
   {
    "duration": 9,
    "start_time": "2025-01-06T22:49:06.421Z"
   },
   {
    "duration": 4,
    "start_time": "2025-01-06T22:49:06.432Z"
   },
   {
    "duration": 5,
    "start_time": "2025-01-06T22:49:06.438Z"
   },
   {
    "duration": 7,
    "start_time": "2025-01-06T22:49:06.444Z"
   },
   {
    "duration": 12,
    "start_time": "2025-01-06T22:49:06.452Z"
   },
   {
    "duration": 44,
    "start_time": "2025-01-06T22:49:06.465Z"
   },
   {
    "duration": 16,
    "start_time": "2025-01-06T22:49:06.511Z"
   },
   {
    "duration": 26,
    "start_time": "2025-01-06T22:49:06.528Z"
   },
   {
    "duration": 53,
    "start_time": "2025-01-06T22:49:06.556Z"
   },
   {
    "duration": 7,
    "start_time": "2025-01-06T22:49:06.611Z"
   },
   {
    "duration": 26,
    "start_time": "2025-01-06T22:49:06.619Z"
   },
   {
    "duration": 26,
    "start_time": "2025-01-06T22:49:06.647Z"
   },
   {
    "duration": 4,
    "start_time": "2025-01-06T22:49:06.675Z"
   },
   {
    "duration": 5,
    "start_time": "2025-01-06T22:49:06.708Z"
   },
   {
    "duration": 259,
    "start_time": "2025-01-06T22:49:06.715Z"
   },
   {
    "duration": 120,
    "start_time": "2025-01-06T22:49:06.976Z"
   },
   {
    "duration": 228,
    "start_time": "2025-01-06T22:49:07.097Z"
   },
   {
    "duration": 9,
    "start_time": "2025-01-06T22:49:07.327Z"
   },
   {
    "duration": 7,
    "start_time": "2025-01-06T22:49:07.342Z"
   },
   {
    "duration": 241,
    "start_time": "2025-01-06T22:49:07.351Z"
   },
   {
    "duration": 248,
    "start_time": "2025-01-06T22:49:07.594Z"
   },
   {
    "duration": 105,
    "start_time": "2025-01-06T22:49:07.844Z"
   },
   {
    "duration": 260,
    "start_time": "2025-01-06T22:49:07.951Z"
   },
   {
    "duration": 295,
    "start_time": "2025-01-06T22:49:08.213Z"
   },
   {
    "duration": 150,
    "start_time": "2025-01-06T22:49:08.510Z"
   },
   {
    "duration": 175,
    "start_time": "2025-01-06T22:49:08.662Z"
   },
   {
    "duration": 6,
    "start_time": "2025-01-06T22:49:08.839Z"
   },
   {
    "duration": 13,
    "start_time": "2025-01-06T22:49:08.847Z"
   },
   {
    "duration": 212,
    "start_time": "2025-01-06T22:49:08.861Z"
   },
   {
    "duration": 5,
    "start_time": "2025-01-06T22:49:09.075Z"
   },
   {
    "duration": 3,
    "start_time": "2025-01-06T22:49:09.082Z"
   },
   {
    "duration": 122,
    "start_time": "2025-01-06T22:49:09.086Z"
   },
   {
    "duration": 544,
    "start_time": "2025-01-06T22:51:57.304Z"
   },
   {
    "duration": 422,
    "start_time": "2025-01-06T22:54:01.830Z"
   },
   {
    "duration": 241,
    "start_time": "2025-01-06T22:55:13.391Z"
   },
   {
    "duration": 38,
    "start_time": "2025-01-06T22:55:47.800Z"
   },
   {
    "duration": 461,
    "start_time": "2025-01-06T22:55:56.749Z"
   },
   {
    "duration": 962,
    "start_time": "2025-01-06T22:55:57.213Z"
   },
   {
    "duration": 15,
    "start_time": "2025-01-06T22:55:58.177Z"
   },
   {
    "duration": 23,
    "start_time": "2025-01-06T22:55:58.193Z"
   },
   {
    "duration": 10,
    "start_time": "2025-01-06T22:55:58.219Z"
   },
   {
    "duration": 9,
    "start_time": "2025-01-06T22:55:58.230Z"
   },
   {
    "duration": 26,
    "start_time": "2025-01-06T22:55:58.241Z"
   },
   {
    "duration": 214,
    "start_time": "2025-01-06T22:55:58.269Z"
   },
   {
    "duration": 8,
    "start_time": "2025-01-06T22:55:58.485Z"
   },
   {
    "duration": 214,
    "start_time": "2025-01-06T22:55:58.495Z"
   },
   {
    "duration": 99,
    "start_time": "2025-01-06T22:55:58.710Z"
   },
   {
    "duration": 30,
    "start_time": "2025-01-06T22:55:58.811Z"
   },
   {
    "duration": 12,
    "start_time": "2025-01-06T22:55:58.843Z"
   },
   {
    "duration": 3,
    "start_time": "2025-01-06T22:55:58.858Z"
   },
   {
    "duration": 20,
    "start_time": "2025-01-06T22:55:58.863Z"
   },
   {
    "duration": 22,
    "start_time": "2025-01-06T22:55:58.909Z"
   },
   {
    "duration": 3,
    "start_time": "2025-01-06T22:55:58.933Z"
   },
   {
    "duration": 4,
    "start_time": "2025-01-06T22:55:58.938Z"
   },
   {
    "duration": 4,
    "start_time": "2025-01-06T22:55:58.943Z"
   },
   {
    "duration": 4,
    "start_time": "2025-01-06T22:55:58.949Z"
   },
   {
    "duration": 876,
    "start_time": "2025-01-06T22:55:58.955Z"
   },
   {
    "duration": 732,
    "start_time": "2025-01-06T22:55:59.833Z"
   },
   {
    "duration": 9,
    "start_time": "2025-01-06T22:56:00.568Z"
   },
   {
    "duration": 4,
    "start_time": "2025-01-06T22:56:00.579Z"
   },
   {
    "duration": 5,
    "start_time": "2025-01-06T22:56:00.585Z"
   },
   {
    "duration": 6,
    "start_time": "2025-01-06T22:56:00.609Z"
   },
   {
    "duration": 11,
    "start_time": "2025-01-06T22:56:00.617Z"
   },
   {
    "duration": 11,
    "start_time": "2025-01-06T22:56:00.630Z"
   },
   {
    "duration": 17,
    "start_time": "2025-01-06T22:56:00.643Z"
   },
   {
    "duration": 57,
    "start_time": "2025-01-06T22:56:00.662Z"
   },
   {
    "duration": 30,
    "start_time": "2025-01-06T22:56:00.721Z"
   },
   {
    "duration": 7,
    "start_time": "2025-01-06T22:56:00.753Z"
   },
   {
    "duration": 48,
    "start_time": "2025-01-06T22:56:00.762Z"
   },
   {
    "duration": 28,
    "start_time": "2025-01-06T22:56:00.811Z"
   },
   {
    "duration": 6,
    "start_time": "2025-01-06T22:56:00.841Z"
   },
   {
    "duration": 5,
    "start_time": "2025-01-06T22:56:00.849Z"
   },
   {
    "duration": 278,
    "start_time": "2025-01-06T22:56:00.856Z"
   },
   {
    "duration": 124,
    "start_time": "2025-01-06T22:56:01.135Z"
   },
   {
    "duration": 210,
    "start_time": "2025-01-06T22:56:01.262Z"
   },
   {
    "duration": 9,
    "start_time": "2025-01-06T22:56:01.475Z"
   },
   {
    "duration": 24,
    "start_time": "2025-01-06T22:56:01.488Z"
   },
   {
    "duration": 225,
    "start_time": "2025-01-06T22:56:01.516Z"
   },
   {
    "duration": 253,
    "start_time": "2025-01-06T22:56:01.743Z"
   },
   {
    "duration": 112,
    "start_time": "2025-01-06T22:56:01.998Z"
   },
   {
    "duration": 260,
    "start_time": "2025-01-06T22:56:02.112Z"
   },
   {
    "duration": 313,
    "start_time": "2025-01-06T22:56:02.374Z"
   },
   {
    "duration": 148,
    "start_time": "2025-01-06T22:56:02.689Z"
   },
   {
    "duration": 180,
    "start_time": "2025-01-06T22:56:02.839Z"
   },
   {
    "duration": 6,
    "start_time": "2025-01-06T22:56:03.021Z"
   },
   {
    "duration": 13,
    "start_time": "2025-01-06T22:56:03.029Z"
   },
   {
    "duration": 219,
    "start_time": "2025-01-06T22:56:03.043Z"
   },
   {
    "duration": 5,
    "start_time": "2025-01-06T22:56:03.264Z"
   },
   {
    "duration": 3,
    "start_time": "2025-01-06T22:56:03.270Z"
   },
   {
    "duration": 121,
    "start_time": "2025-01-06T22:56:03.276Z"
   },
   {
    "duration": 562,
    "start_time": "2025-01-06T22:57:10.539Z"
   },
   {
    "duration": 14,
    "start_time": "2025-01-06T22:57:31.592Z"
   },
   {
    "duration": 813,
    "start_time": "2025-01-06T23:44:16.406Z"
   },
   {
    "duration": 792,
    "start_time": "2025-01-06T23:44:42.418Z"
   },
   {
    "duration": 814,
    "start_time": "2025-01-06T23:45:21.629Z"
   },
   {
    "duration": 1160,
    "start_time": "2025-01-06T23:49:21.906Z"
   },
   {
    "duration": 1889,
    "start_time": "2025-01-06T23:51:07.949Z"
   },
   {
    "duration": 232,
    "start_time": "2025-01-06T23:53:16.986Z"
   }
  ],
  "colab": {
   "provenance": []
  },
  "kernelspec": {
   "display_name": "Python 3 (ipykernel)",
   "language": "python",
   "name": "python3"
  },
  "language_info": {
   "codemirror_mode": {
    "name": "ipython",
    "version": 3
   },
   "file_extension": ".py",
   "mimetype": "text/x-python",
   "name": "python",
   "nbconvert_exporter": "python",
   "pygments_lexer": "ipython3",
   "version": "3.9.19"
  },
  "toc": {
   "base_numbering": 1,
   "nav_menu": {},
   "number_sections": true,
   "sideBar": true,
   "skip_h1_title": true,
   "title_cell": "Table of Contents",
   "title_sidebar": "Contents",
   "toc_cell": false,
   "toc_position": {},
   "toc_section_display": true,
   "toc_window_display": false
  },
  "vscode": {
   "interpreter": {
    "hash": "01a7be9ec63e704a62cefc5fe7a4756944464ee731be31632bdf42a4cb4688cf"
   }
  }
 },
 "nbformat": 4,
 "nbformat_minor": 5
}
