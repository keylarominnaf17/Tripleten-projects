{
 "cells": [
  {
   "cell_type": "markdown",
   "metadata": {},
   "source": [
    "Hola, Keyla!\n",
    "\n",
    "Mi nombre es Tonatiuh Cruz. Me complace revisar tu proyecto hoy.\n",
    "\n",
    "Al identificar cualquier error inicialmente, simplemente los destacaré. Te animo a localizar y abordar los problemas de forma independiente como parte de tu preparación para un rol como data-scientist. En un entorno profesional, tu líder de equipo seguiría un enfoque similar. Si encuentras la tarea desafiante, proporcionaré una pista más específica en la próxima iteración.\n",
    "\n",
    "Encontrarás mis comentarios a continuación - **por favor no los muevas, modifiques o elimines**.\n",
    "\n",
    "Puedes encontrar mis comentarios en cajas verdes, amarillas o rojas como esta:\n",
    "\n",
    "<div class=\"alert alert-block alert-success\">\n",
    "<b>Comentario del revisor</b> <a class=\"tocSkip\"></a>\n",
    "\n",
    "Éxito. Todo está hecho correctamente.\n",
    "</div>\n",
    "\n",
    "<div class=\"alert alert-block alert-warning\">\n",
    "<b>Comentario del revisor</b> <a class=\"tocSkip\"></a>\n",
    "\n",
    "Observaciones. Algunas recomendaciones.\n",
    "</div>\n",
    "\n",
    "<div class=\"alert alert-block alert-danger\">\n",
    "<b>Comentario del revisor</b> <a class=\"tocSkip\"></a>\n",
    "\n",
    "Necesita corrección. El bloque requiere algunas correcciones. El trabajo no puede ser aceptado con comentarios en rojo.\n",
    "</div>\n",
    "\n",
    "Puedes responderme utilizando esto:\n",
    "\n",
    "<div class=\"alert alert-block alert-info\">"
   ]
  },
  {
   "cell_type": "markdown",
   "metadata": {},
   "source": [
    "\n",
    "<div class=\"alert alert-block alert-success\">\n",
    "<b>Resumen de la revisión 1</b> <a class=\"tocSkip\"></a>\n",
    "\n",
    "Hola Keyla! Has hecho un excelente trabajo con el proyecto, cada vez más cercas de convertirte en un analista de datos. Realizaste la carga de bases, su análisis inicial, sus ajustes, un análisis de algunos variables conmplementado con gráficas y el desarrollo de las pruebas d ehipótesis. Solamente te dejo algunos comentarios para complementar el análisis. \n",
    "\n",
    "Sigue con el excelente trabajo!\n",
    "</div>"
   ]
  },
  {
   "cell_type": "markdown",
   "metadata": {
    "id": "3rYiDeEH0q0f"
   },
   "source": [
    "# ¿Cuál es la mejor tarifa?\n",
    "\n",
    "Trabajas como analista para el operador de telecomunicaciones Megaline. La empresa ofrece a sus clientes dos tarifas de prepago, Surf y Ultimate. El departamento comercial quiere saber cuál de las tarifas genera más ingresos para poder ajustar el presupuesto de publicidad.\n",
    "\n",
    "Vas a realizar un análisis preliminar de las tarifas basado en una selección de clientes relativamente pequeña. Tendrás los datos de 500 clientes de Megaline: quiénes son los clientes, de dónde son, qué tarifa usan, así como la cantidad de llamadas que hicieron y los mensajes de texto que enviaron en 2018. Tu trabajo es analizar el comportamiento de los clientes y determinar qué tarifa de prepago genera más ingresos."
   ]
  },
  {
   "cell_type": "markdown",
   "metadata": {
    "id": "VNddPNRQ0q0w"
   },
   "source": [
    "[Te proporcionamos algunos comentarios para orientarte mientras completas este proyecto. Pero debes asegurarte de eliminar todos los comentarios entre corchetes antes de entregar tu proyecto.]\n",
    "\n",
    "[Antes de sumergirte en el análisis de datos, explica por tu propia cuenta el propósito del proyecto y las acciones que planeas realizar.]\n",
    "\n",
    "[Ten en cuenta que estudiar, modificar y analizar datos es un proceso iterativo. Es normal volver a los pasos anteriores y corregirlos/ampliarlos para permitir nuevos pasos.]"
   ]
  },
  {
   "cell_type": "markdown",
   "metadata": {
    "id": "MQi4IPy70q0y"
   },
   "source": [
    "## Inicialización"
   ]
  },
  {
   "cell_type": "code",
   "execution_count": 2,
   "metadata": {
    "id": "MtYIuBxu0q0z"
   },
   "outputs": [],
   "source": [
    "# Cargar todas las librerías\n",
    "import pandas as pd\n",
    "import numpy as np\n",
    "import math"
   ]
  },
  {
   "cell_type": "markdown",
   "metadata": {},
   "source": [
    "<div class=\"alert alert-block alert-warning\">\n",
    "<b>Comentario revisor</b> <a class=\"tocSkip\"></a>\n",
    "\n",
    "\n",
    "Recomiendo cargar la libreria math. De esta manera, puedes realizar redondeos con otros métodos. \n",
    "</div>"
   ]
  },
  {
   "cell_type": "markdown",
   "metadata": {},
   "source": [
    "\n",
    "<div class=\"alert alert-block alert-success\">\n",
    "<b>Comentario del revisor:</b> <a class=\"tocSkip\"></a>\n",
    "    \n",
    "Gran trabajo con el ajuste!"
   ]
  },
  {
   "cell_type": "markdown",
   "metadata": {
    "id": "4ysWWC5i0q00"
   },
   "source": [
    "## Cargar datos"
   ]
  },
  {
   "cell_type": "code",
   "execution_count": 3,
   "metadata": {
    "id": "CCqPW7rS0q01"
   },
   "outputs": [],
   "source": [
    "# Carga los archivos de datos en diferentes DataFrames\n",
    "df_calls= pd.read_csv(\"/datasets/megaline_calls.csv\")\n",
    "\n",
    "df_internet= pd.read_csv(\"/datasets/megaline_internet.csv\")\n",
    "\n",
    "df_messages= pd.read_csv(\"/datasets/megaline_messages.csv\")\n",
    "\n",
    "df_plans= pd.read_csv(\"/datasets/megaline_plans.csv\")\n",
    "\n",
    "df_users= pd.read_csv(\"/datasets/megaline_users.csv\")\n",
    "\n",
    "\n"
   ]
  },
  {
   "cell_type": "markdown",
   "metadata": {
    "id": "69qqoJ3r0q01"
   },
   "source": [
    "## Preparar los datos"
   ]
  },
  {
   "cell_type": "markdown",
   "metadata": {
    "id": "vUuZw80S0q01"
   },
   "source": [
    "[Los datos para este proyecto se dividen en varias tablas. Explora cada una para tener una comprensión inicial de los datos. Si es necesario, haz las correcciones requeridas en cada tabla.]"
   ]
  },
  {
   "cell_type": "markdown",
   "metadata": {
    "id": "ohBhimvH0q01"
   },
   "source": [
    "## Tarifas"
   ]
  },
  {
   "cell_type": "code",
   "execution_count": 4,
   "metadata": {
    "id": "GptqP3Q40q02"
   },
   "outputs": [
    {
     "name": "stdout",
     "output_type": "stream",
     "text": [
      "<class 'pandas.core.frame.DataFrame'>\n",
      "RangeIndex: 2 entries, 0 to 1\n",
      "Data columns (total 8 columns):\n",
      " #   Column                 Non-Null Count  Dtype  \n",
      "---  ------                 --------------  -----  \n",
      " 0   messages_included      2 non-null      int64  \n",
      " 1   mb_per_month_included  2 non-null      int64  \n",
      " 2   minutes_included       2 non-null      int64  \n",
      " 3   usd_monthly_pay        2 non-null      int64  \n",
      " 4   usd_per_gb             2 non-null      int64  \n",
      " 5   usd_per_message        2 non-null      float64\n",
      " 6   usd_per_minute         2 non-null      float64\n",
      " 7   plan_name              2 non-null      object \n",
      "dtypes: float64(2), int64(5), object(1)\n",
      "memory usage: 256.0+ bytes\n"
     ]
    }
   ],
   "source": [
    "# Imprime la información general/resumida sobre el DataFrame de las tarifas\n",
    "df_plans.info()"
   ]
  },
  {
   "cell_type": "code",
   "execution_count": 5,
   "metadata": {
    "id": "64xzjwL70q02"
   },
   "outputs": [
    {
     "name": "stdout",
     "output_type": "stream",
     "text": [
      "   messages_included  mb_per_month_included  minutes_included  \\\n",
      "0                 50                  15360               500   \n",
      "1               1000                  30720              3000   \n",
      "\n",
      "   usd_monthly_pay  usd_per_gb  usd_per_message  usd_per_minute plan_name  \n",
      "0               20          10             0.03            0.03      surf  \n",
      "1               70           7             0.01            0.01  ultimate  \n"
     ]
    }
   ],
   "source": [
    "# Imprime una muestra de los datos para las tarifas\n",
    "print(df_plans.head())"
   ]
  },
  {
   "cell_type": "markdown",
   "metadata": {
    "id": "mEc_3_hs0q02"
   },
   "source": [
    "[Describe lo que ves y observas en la información general y en la muestra de datos impresa para el precio de datos anterior. ¿Hay algún problema (tipos de datos no adecuados, datos ausentes, etc.) que pudieran necesitar investigación y cambios adicionales? ¿Cómo se puede arreglar?]\n",
    "\n",
    "Dentro de la informacion anterior se observa el plan de tarifas. Este contiene 2 entradas y 0 valores ausentes. Tiene 3 tipos de datos: int64, float64, object. En mi opinion, estos datos son correctos. Yo no cambiaria nada de la información presentada. "
   ]
  },
  {
   "cell_type": "markdown",
   "metadata": {
    "id": "R3C05i1l0q03"
   },
   "source": [
    "## Corregir datos"
   ]
  },
  {
   "cell_type": "markdown",
   "metadata": {
    "id": "bIi8StZI0q03"
   },
   "source": [
    "[Corrige los problemas obvios con los datos basándote en las observaciones iniciales.]"
   ]
  },
  {
   "cell_type": "code",
   "execution_count": null,
   "metadata": {
    "id": "Y7SVmjGn0q03"
   },
   "outputs": [],
   "source": []
  },
  {
   "cell_type": "markdown",
   "metadata": {
    "id": "LJir7bml0q03"
   },
   "source": [
    "## Enriquecer los datos"
   ]
  },
  {
   "cell_type": "markdown",
   "metadata": {
    "id": "eqADpCfg0q04"
   },
   "source": [
    "[Agrega factores adicionales a los datos si crees que pudieran ser útiles.]"
   ]
  },
  {
   "cell_type": "markdown",
   "metadata": {},
   "source": [
    "Durante el analisis de consumo e ingresos los datos utilizados actualmente como mb seran transformados a gb redondeandolos hacia arriba. "
   ]
  },
  {
   "cell_type": "markdown",
   "metadata": {
    "id": "gfcIEuXV0q04"
   },
   "source": [
    "\n",
    "<div class=\"alert alert-block alert-warning\">\n",
    "<b>Comentario Revisor</b> <a class=\"tocSkip\"></a>\n",
    "\n",
    "Muy buen trabajo, solamente te sugiero que en este apartado menciones un poco sobre la transformación que se debe realizar de megabytes a gigabytes. \n",
    "</div>"
   ]
  },
  {
   "cell_type": "markdown",
   "metadata": {},
   "source": [
    "\n",
    "<div class=\"alert alert-block alert-success\">\n",
    "<b>Comentario del revisor:</b> <a class=\"tocSkip\"></a>\n",
    "    \n",
    "Gran trabajo con el ajuste!"
   ]
  },
  {
   "cell_type": "markdown",
   "metadata": {
    "id": "1n2X6WXf0q04"
   },
   "source": [
    "## Usuarios/as"
   ]
  },
  {
   "cell_type": "code",
   "execution_count": 6,
   "metadata": {
    "id": "2NgjWFqx0q05"
   },
   "outputs": [
    {
     "name": "stdout",
     "output_type": "stream",
     "text": [
      "<class 'pandas.core.frame.DataFrame'>\n",
      "RangeIndex: 500 entries, 0 to 499\n",
      "Data columns (total 8 columns):\n",
      " #   Column      Non-Null Count  Dtype \n",
      "---  ------      --------------  ----- \n",
      " 0   user_id     500 non-null    int64 \n",
      " 1   first_name  500 non-null    object\n",
      " 2   last_name   500 non-null    object\n",
      " 3   age         500 non-null    int64 \n",
      " 4   city        500 non-null    object\n",
      " 5   reg_date    500 non-null    object\n",
      " 6   plan        500 non-null    object\n",
      " 7   churn_date  34 non-null     object\n",
      "dtypes: int64(2), object(6)\n",
      "memory usage: 31.4+ KB\n"
     ]
    }
   ],
   "source": [
    "# Imprime la información general/resumida sobre el DataFrame de usuarios\n",
    "df_users.info()\n"
   ]
  },
  {
   "cell_type": "code",
   "execution_count": 7,
   "metadata": {
    "id": "1IN1L9uh0q05"
   },
   "outputs": [
    {
     "name": "stdout",
     "output_type": "stream",
     "text": [
      "   user_id first_name  last_name  age                                   city  \\\n",
      "0     1000   Anamaria      Bauer   45  Atlanta-Sandy Springs-Roswell, GA MSA   \n",
      "1     1001     Mickey  Wilkerson   28        Seattle-Tacoma-Bellevue, WA MSA   \n",
      "2     1002     Carlee    Hoffman   36   Las Vegas-Henderson-Paradise, NV MSA   \n",
      "3     1003   Reynaldo    Jenkins   52                          Tulsa, OK MSA   \n",
      "4     1004    Leonila   Thompson   40        Seattle-Tacoma-Bellevue, WA MSA   \n",
      "\n",
      "     reg_date      plan churn_date  \n",
      "0  2018-12-24  ultimate        NaN  \n",
      "1  2018-08-13      surf        NaN  \n",
      "2  2018-10-21      surf        NaN  \n",
      "3  2018-01-28      surf        NaN  \n",
      "4  2018-05-23      surf        NaN  \n"
     ]
    }
   ],
   "source": [
    "# Imprime una muestra de datos para usuarios\n",
    "print(df_users.head(5))\n"
   ]
  },
  {
   "cell_type": "markdown",
   "metadata": {
    "id": "dCZoUq4f0q06"
   },
   "source": [
    "[Describe lo que ves y observas en la información general y en la muestra de datos impresa para el precio de datos anterior. ¿Hay algún problema (tipos de datos no adecuados, datos ausentes, etc.) que pudieran necesitar investigación y cambios adicionales? ¿Cómo se puede arreglar?]\n",
    "\n",
    "Dentro de la informacion anterior se observan los datos del dataframe de usuarios. Este contiene 500 entradas y algunos valores ausentes en la columna de churn_date. Los valores ausentes en la columna de churn_date significa que la tarifa estaba siendo utilizada al momento de la extracción de datos. Tiene 2 tipos de datos: int64 y object. Cambiar el tipo de datos para las columnas reg_date y churn_date de object a datetime64 optimizaria el analisis de datos.  "
   ]
  },
  {
   "cell_type": "markdown",
   "metadata": {
    "id": "BX5FQh_I0q06"
   },
   "source": [
    "### Corregir los datos"
   ]
  },
  {
   "cell_type": "markdown",
   "metadata": {
    "id": "8OdKMwJv0q06"
   },
   "source": [
    "[Corrige los problemas obvios con los datos basándote en las observaciones iniciales.]"
   ]
  },
  {
   "cell_type": "code",
   "execution_count": 8,
   "metadata": {
    "id": "yUqX-K0C0q07"
   },
   "outputs": [
    {
     "name": "stdout",
     "output_type": "stream",
     "text": [
      "<class 'pandas.core.frame.DataFrame'>\n",
      "RangeIndex: 500 entries, 0 to 499\n",
      "Data columns (total 8 columns):\n",
      " #   Column      Non-Null Count  Dtype         \n",
      "---  ------      --------------  -----         \n",
      " 0   user_id     500 non-null    int64         \n",
      " 1   first_name  500 non-null    object        \n",
      " 2   last_name   500 non-null    object        \n",
      " 3   age         500 non-null    int64         \n",
      " 4   city        500 non-null    object        \n",
      " 5   reg_date    500 non-null    datetime64[ns]\n",
      " 6   plan        500 non-null    object        \n",
      " 7   churn_date  34 non-null     datetime64[ns]\n",
      "dtypes: datetime64[ns](2), int64(2), object(4)\n",
      "memory usage: 31.4+ KB\n"
     ]
    }
   ],
   "source": [
    "df_users[\"reg_date\"] = pd.to_datetime(df_users[\"reg_date\"], format='%Y-%m-%d')\n",
    "df_users[\"churn_date\"] = pd.to_datetime(df_users[\"churn_date\"], format='%Y-%m-%d')\n",
    "df_users.info()"
   ]
  },
  {
   "cell_type": "markdown",
   "metadata": {},
   "source": [
    "\n",
    "<div class=\"alert alert-block alert-warning\">\n",
    "<b>Comentario Revisor</b> <a class=\"tocSkip\"></a>\n",
    "\n",
    "En todos los casos en los que cambiamos el tipo de variable a datetime, te recomiendo agregar el argumento \"format='%Y-%m-%d'\" dentro de la función to_datetime(). De esta manera, puedes asegurarte siempre de que el formato de la fecha que deseas cambiar sea el que necesitas.\n",
    "</div>"
   ]
  },
  {
   "cell_type": "markdown",
   "metadata": {},
   "source": [
    "\n",
    "<div class=\"alert alert-block alert-success\">\n",
    "<b>Comentario del revisor:</b> <a class=\"tocSkip\"></a>\n",
    "    \n",
    "Gran trabajo con el ajuste!"
   ]
  },
  {
   "cell_type": "markdown",
   "metadata": {
    "id": "ycwuARJp0q07"
   },
   "source": [
    "### Enriquecer los datos"
   ]
  },
  {
   "cell_type": "markdown",
   "metadata": {
    "id": "96NIh4CJ0q08"
   },
   "source": [
    "[Agrega factores adicionales a los datos si crees que pudieran ser útiles.]"
   ]
  },
  {
   "cell_type": "code",
   "execution_count": null,
   "metadata": {
    "id": "iq0AaBS90q08"
   },
   "outputs": [],
   "source": []
  },
  {
   "cell_type": "markdown",
   "metadata": {
    "id": "o7MeKCid0q08"
   },
   "source": [
    "## Llamadas"
   ]
  },
  {
   "cell_type": "code",
   "execution_count": 9,
   "metadata": {
    "id": "6dDlnoDm0q08"
   },
   "outputs": [
    {
     "name": "stdout",
     "output_type": "stream",
     "text": [
      "<class 'pandas.core.frame.DataFrame'>\n",
      "RangeIndex: 137735 entries, 0 to 137734\n",
      "Data columns (total 4 columns):\n",
      " #   Column     Non-Null Count   Dtype  \n",
      "---  ------     --------------   -----  \n",
      " 0   id         137735 non-null  object \n",
      " 1   user_id    137735 non-null  int64  \n",
      " 2   call_date  137735 non-null  object \n",
      " 3   duration   137735 non-null  float64\n",
      "dtypes: float64(1), int64(1), object(2)\n",
      "memory usage: 4.2+ MB\n"
     ]
    }
   ],
   "source": [
    "# Imprime la información general/resumida sobre el DataFrame de las llamadas\n",
    "df_calls.info()\n"
   ]
  },
  {
   "cell_type": "code",
   "execution_count": 10,
   "metadata": {
    "id": "kuh1vlNB0q09"
   },
   "outputs": [
    {
     "name": "stdout",
     "output_type": "stream",
     "text": [
      "         id  user_id   call_date  duration\n",
      "0   1000_93     1000  2018-12-27      8.52\n",
      "1  1000_145     1000  2018-12-27     13.66\n",
      "2  1000_247     1000  2018-12-27     14.48\n",
      "3  1000_309     1000  2018-12-28      5.76\n",
      "4  1000_380     1000  2018-12-30      4.22\n"
     ]
    }
   ],
   "source": [
    "# Imprime una muestra de datos para las llamadas\n",
    "print(df_calls.head(5))\n"
   ]
  },
  {
   "cell_type": "markdown",
   "metadata": {
    "id": "DOAxYJSx0q09"
   },
   "source": [
    "[Describe lo que ves y observas en la información general y en la muestra de datos impresa para el precio de datos anterior. ¿Hay algún problema (tipos de datos no adecuados, datos ausentes, etc.) que pudieran necesitar investigación y cambios adicionales? ¿Cómo se puede arreglar?]\n",
    "\n",
    "Dentro de la informacion anterior se observan los datos del dataframe de llamadas. Este contiene 137,735 entradas y no contiene valores ausentes. Tiene 3 tipos de datos: int64, float64, y object. Cambiar el tipo de datos para user_id de int64 a object, call_date de object a datetime64 optimizaria el analisis de dichos datos. "
   ]
  },
  {
   "cell_type": "markdown",
   "metadata": {
    "id": "S7hzxmbX0q0-"
   },
   "source": [
    "### Corregir los datos"
   ]
  },
  {
   "cell_type": "markdown",
   "metadata": {
    "id": "YxWyAjD20q0-"
   },
   "source": [
    "[Corrige los problemas obvios con los datos basándote en las observaciones iniciales.]"
   ]
  },
  {
   "cell_type": "code",
   "execution_count": 11,
   "metadata": {
    "id": "S2r8xA4f0q0-"
   },
   "outputs": [
    {
     "name": "stdout",
     "output_type": "stream",
     "text": [
      "<class 'pandas.core.frame.DataFrame'>\n",
      "RangeIndex: 137735 entries, 0 to 137734\n",
      "Data columns (total 5 columns):\n",
      " #   Column     Non-Null Count   Dtype         \n",
      "---  ------     --------------   -----         \n",
      " 0   id         137735 non-null  object        \n",
      " 1   user_id    137735 non-null  object        \n",
      " 2   call_date  137735 non-null  datetime64[ns]\n",
      " 3   duration   137735 non-null  float64       \n",
      " 4   month      137735 non-null  int64         \n",
      "dtypes: datetime64[ns](1), float64(1), int64(1), object(2)\n",
      "memory usage: 5.3+ MB\n"
     ]
    }
   ],
   "source": [
    "df_calls[\"user_id\"] = df_calls[\"user_id\"].astype(\"object\")\n",
    "df_calls[\"call_date\"] = pd.to_datetime(df_calls[\"call_date\"], format='%Y-%m-%d')\n",
    "df_calls[\"month\"] = df_calls[\"call_date\"].dt.month\n",
    "df_calls.info()"
   ]
  },
  {
   "cell_type": "markdown",
   "metadata": {
    "id": "KrMgTrlG0q0_"
   },
   "source": [
    "### Enriquecer los datos"
   ]
  },
  {
   "cell_type": "markdown",
   "metadata": {
    "id": "a9MbmEvE0q0_"
   },
   "source": [
    "[Agrega factores adicionales a los datos si crees que pudieran ser útiles.]\n",
    "\n",
    "No se observan valores no-nulos en el apartado de duration, lo que quiere decir que aunque hayan llamadas con un valor de 0, es por que los usuarios no han realizado llamadas, no por que no haya ningun valor."
   ]
  },
  {
   "cell_type": "markdown",
   "metadata": {
    "id": "iZ1avpA_0q0_"
   },
   "source": [
    "<div class=\"alert alert-block alert-warning\">\n",
    "<b>Comentario Revisor</b> <a class=\"tocSkip\"></a>\n",
    "\n",
    "Qué podríamos decir hasta el momento de las llamadas que tienen una duración de 0?\n",
    "</div>"
   ]
  },
  {
   "cell_type": "markdown",
   "metadata": {},
   "source": [
    "\n",
    "<div class=\"alert alert-block alert-success\">\n",
    "<b>Comentario del revisor:</b> <a class=\"tocSkip\"></a>\n",
    "    \n",
    "Gran trabajo con el ajuste!"
   ]
  },
  {
   "cell_type": "markdown",
   "metadata": {
    "id": "mOUZSi180q0_"
   },
   "source": [
    "## Mensajes"
   ]
  },
  {
   "cell_type": "code",
   "execution_count": 12,
   "metadata": {
    "id": "R-bYJpdV0q1A"
   },
   "outputs": [
    {
     "name": "stdout",
     "output_type": "stream",
     "text": [
      "<class 'pandas.core.frame.DataFrame'>\n",
      "RangeIndex: 76051 entries, 0 to 76050\n",
      "Data columns (total 3 columns):\n",
      " #   Column        Non-Null Count  Dtype \n",
      "---  ------        --------------  ----- \n",
      " 0   id            76051 non-null  object\n",
      " 1   user_id       76051 non-null  int64 \n",
      " 2   message_date  76051 non-null  object\n",
      "dtypes: int64(1), object(2)\n",
      "memory usage: 1.7+ MB\n"
     ]
    }
   ],
   "source": [
    "# Imprime la información general/resumida sobre el DataFrame de los mensajes\n",
    "df_messages.info()"
   ]
  },
  {
   "cell_type": "code",
   "execution_count": 13,
   "metadata": {
    "id": "mCEl2iGE0q1A",
    "scrolled": true
   },
   "outputs": [
    {
     "name": "stdout",
     "output_type": "stream",
     "text": [
      "         id  user_id message_date\n",
      "0  1000_125     1000   2018-12-27\n",
      "1  1000_160     1000   2018-12-31\n",
      "2  1000_223     1000   2018-12-31\n",
      "3  1000_251     1000   2018-12-27\n",
      "4  1000_255     1000   2018-12-26\n"
     ]
    }
   ],
   "source": [
    "# Imprime una muestra de datos para los mensajes\n",
    "print(df_messages.head(5))"
   ]
  },
  {
   "cell_type": "markdown",
   "metadata": {
    "id": "04xDj7KH0q1A"
   },
   "source": [
    "[Describe lo que ves y observas en la información general y en la muestra de datos impresa para el precio de datos anterior. ¿Hay algún problema (tipos de datos no adecuados, datos ausentes, etc.) que pudieran necesitar investigación y cambios adicionales? ¿Cómo se puede arreglar?]\n",
    "\n",
    "Dentro de la informacion anterior se observan los datos del dataframe de mensajes. Este contiene 76,051 entradas y no contiene valores ausentes. Tiene 2 tipos de datos: int64 y object. Cambiar el tipo de datos para user_id de int64 a object, message_date de object a datetime64 optimizaria el analisis de dichos datos. "
   ]
  },
  {
   "cell_type": "markdown",
   "metadata": {
    "id": "Sprfak900q1B"
   },
   "source": [
    "### Corregir los datos"
   ]
  },
  {
   "cell_type": "markdown",
   "metadata": {
    "id": "eGw7d9j10q1B"
   },
   "source": [
    "[Corrige los problemas obvios con los datos basándote en las observaciones iniciales.]"
   ]
  },
  {
   "cell_type": "code",
   "execution_count": 14,
   "metadata": {
    "id": "vsllvkoa0q1B"
   },
   "outputs": [
    {
     "name": "stdout",
     "output_type": "stream",
     "text": [
      "<class 'pandas.core.frame.DataFrame'>\n",
      "RangeIndex: 76051 entries, 0 to 76050\n",
      "Data columns (total 4 columns):\n",
      " #   Column        Non-Null Count  Dtype         \n",
      "---  ------        --------------  -----         \n",
      " 0   id            76051 non-null  object        \n",
      " 1   user_id       76051 non-null  object        \n",
      " 2   message_date  76051 non-null  datetime64[ns]\n",
      " 3   month         76051 non-null  int64         \n",
      "dtypes: datetime64[ns](1), int64(1), object(2)\n",
      "memory usage: 2.3+ MB\n"
     ]
    }
   ],
   "source": [
    "df_messages[\"user_id\"] = df_messages[\"user_id\"].astype(\"object\")\n",
    "df_messages[\"message_date\"] = pd.to_datetime(df_messages[\"message_date\"], format='%Y-%m-%d')\n",
    "df_messages[\"month\"]= df_messages[\"message_date\"].dt.month\n",
    "df_messages.info()"
   ]
  },
  {
   "cell_type": "markdown",
   "metadata": {
    "id": "HvLid7iD0q1B"
   },
   "source": [
    "### Enriquecer los datos"
   ]
  },
  {
   "cell_type": "markdown",
   "metadata": {
    "id": "8nhPFKIe0q1C"
   },
   "source": [
    "[Agrega factores adicionales a los datos si crees que pudieran ser útiles.]"
   ]
  },
  {
   "cell_type": "code",
   "execution_count": null,
   "metadata": {
    "id": "zYEXZac10q1C"
   },
   "outputs": [],
   "source": []
  },
  {
   "cell_type": "markdown",
   "metadata": {
    "id": "bStkaxn40q1C"
   },
   "source": [
    "## Internet"
   ]
  },
  {
   "cell_type": "code",
   "execution_count": 15,
   "metadata": {
    "id": "e-Uz5qyn0q1C"
   },
   "outputs": [
    {
     "name": "stdout",
     "output_type": "stream",
     "text": [
      "<class 'pandas.core.frame.DataFrame'>\n",
      "RangeIndex: 104825 entries, 0 to 104824\n",
      "Data columns (total 4 columns):\n",
      " #   Column        Non-Null Count   Dtype  \n",
      "---  ------        --------------   -----  \n",
      " 0   id            104825 non-null  object \n",
      " 1   user_id       104825 non-null  int64  \n",
      " 2   session_date  104825 non-null  object \n",
      " 3   mb_used       104825 non-null  float64\n",
      "dtypes: float64(1), int64(1), object(2)\n",
      "memory usage: 3.2+ MB\n"
     ]
    }
   ],
   "source": [
    "# Imprime la información general/resumida sobre el DataFrame de internet\n",
    "\n",
    "df_internet.info()"
   ]
  },
  {
   "cell_type": "code",
   "execution_count": 16,
   "metadata": {
    "id": "9r3x_XLw0q1C"
   },
   "outputs": [
    {
     "name": "stdout",
     "output_type": "stream",
     "text": [
      "         id  user_id session_date  mb_used\n",
      "0   1000_13     1000   2018-12-29    89.86\n",
      "1  1000_204     1000   2018-12-31     0.00\n",
      "2  1000_379     1000   2018-12-28   660.40\n",
      "3  1000_413     1000   2018-12-26   270.99\n",
      "4  1000_442     1000   2018-12-27   880.22\n"
     ]
    }
   ],
   "source": [
    "# Imprime una muestra de datos para el tráfico de internet\n",
    "\n",
    "print(df_internet.head(5))"
   ]
  },
  {
   "cell_type": "markdown",
   "metadata": {
    "id": "EzOG5ik30q1D"
   },
   "source": [
    "[Describe lo que ves y observas en la información general y en la muestra de datos impresa para el precio de datos anterior. ¿Hay algún problema (tipos de datos no adecuados, datos ausentes, etc.) que pudieran necesitar investigación y cambios adicionales? ¿Cómo se puede arreglar?]\n",
    "\n",
    "Dentro de la informacion anterior se observan los datos del dataframe de internet. Este contiene 104,825 entradas y no contiene valores ausentes. Tiene 3 tipos de datos: int64, float64 y object. Cambiar el tipo de datos para user_id de int64 a object, session_date de object a datetime64 optimizaria el analisis de dichos datos."
   ]
  },
  {
   "cell_type": "markdown",
   "metadata": {
    "id": "yA0tkPFg0q1D"
   },
   "source": [
    "### Corregir los datos"
   ]
  },
  {
   "cell_type": "markdown",
   "metadata": {
    "id": "zlZMuIEK0q1D"
   },
   "source": [
    "[Corrige los problemas obvios con los datos basándote en las observaciones iniciales.]"
   ]
  },
  {
   "cell_type": "code",
   "execution_count": 17,
   "metadata": {
    "id": "zVeanzdd0q1E"
   },
   "outputs": [
    {
     "name": "stdout",
     "output_type": "stream",
     "text": [
      "<class 'pandas.core.frame.DataFrame'>\n",
      "RangeIndex: 104825 entries, 0 to 104824\n",
      "Data columns (total 5 columns):\n",
      " #   Column        Non-Null Count   Dtype         \n",
      "---  ------        --------------   -----         \n",
      " 0   id            104825 non-null  object        \n",
      " 1   user_id       104825 non-null  object        \n",
      " 2   session_date  104825 non-null  datetime64[ns]\n",
      " 3   mb_used       104825 non-null  float64       \n",
      " 4   month         104825 non-null  int64         \n",
      "dtypes: datetime64[ns](1), float64(1), int64(1), object(2)\n",
      "memory usage: 4.0+ MB\n"
     ]
    }
   ],
   "source": [
    "df_internet[\"user_id\"] = df_internet[\"user_id\"].astype(\"object\")\n",
    "df_internet[\"session_date\"] = pd.to_datetime(df_internet[\"session_date\"], format='%Y-%m-%d')\n",
    "df_internet[\"month\"]= df_internet[\"session_date\"].dt.month\n",
    "df_internet.info()"
   ]
  },
  {
   "cell_type": "markdown",
   "metadata": {
    "id": "e8_mLF4a0q1E"
   },
   "source": [
    "### Enriquecer los datos"
   ]
  },
  {
   "cell_type": "markdown",
   "metadata": {
    "id": "xhNdn2tE0q1E"
   },
   "source": [
    "[Agrega factores adicionales a los datos si crees que pudieran ser útiles.]\n",
    "\n",
    "Durante el analisis de ingresos la compañia cobra el exceso como gb completo. Es decir, si el usuario consumio 1030mb este se redondeara hacia el gb superior. Por esta cuestion el consumo se convertira en gb y posteriormente se redondeara. "
   ]
  },
  {
   "cell_type": "markdown",
   "metadata": {
    "id": "ESiYPIEK0q1E"
   },
   "source": [
    "<div class=\"alert alert-block alert-warning\">\n",
    "<b>Comentario revisor</b> <a class=\"tocSkip\"></a>\n",
    "\n",
    "\n",
    "Te recomiendo solamente comentar que cuando agrupemos los datos vamos a tener que redondear hacia arriba lo valores de la transformación de mbegabyter a gigabyte, para este ejercicio debemos hacer el redondeo superior dado que se cobra el costo extra en cuanto se pasa de los límites.Por lo que es necesario hacer la transformación de mb a gb y después hacer el redondeo.  \n",
    "</div>"
   ]
  },
  {
   "cell_type": "markdown",
   "metadata": {},
   "source": [
    "\n",
    "<div class=\"alert alert-block alert-success\">\n",
    "<b>Comentario del revisor:</b> <a class=\"tocSkip\"></a>\n",
    "    \n",
    "Gran trabajo con el ajuste!"
   ]
  },
  {
   "cell_type": "markdown",
   "metadata": {
    "id": "3UA2cqIW0q1E"
   },
   "source": [
    "## Estudiar las condiciones de las tarifas"
   ]
  },
  {
   "cell_type": "markdown",
   "metadata": {
    "id": "T86Sqltq0q1F"
   },
   "source": [
    "[Es sumamente importante entender cómo funcionan las tarifas, cómo se les cobra a los usuarios en función de su plan de suscripción. Así que te sugerimos imprimir la información de la tarifa para ver una vez más sus condiciones.]"
   ]
  },
  {
   "cell_type": "code",
   "execution_count": 18,
   "metadata": {
    "id": "i409op8p0q1F"
   },
   "outputs": [
    {
     "name": "stdout",
     "output_type": "stream",
     "text": [
      "<class 'pandas.core.frame.DataFrame'>\n",
      "RangeIndex: 2 entries, 0 to 1\n",
      "Data columns (total 8 columns):\n",
      " #   Column                 Non-Null Count  Dtype  \n",
      "---  ------                 --------------  -----  \n",
      " 0   messages_included      2 non-null      int64  \n",
      " 1   mb_per_month_included  2 non-null      int64  \n",
      " 2   minutes_included       2 non-null      int64  \n",
      " 3   usd_monthly_pay        2 non-null      int64  \n",
      " 4   usd_per_gb             2 non-null      int64  \n",
      " 5   usd_per_message        2 non-null      float64\n",
      " 6   usd_per_minute         2 non-null      float64\n",
      " 7   plan_name              2 non-null      object \n",
      "dtypes: float64(2), int64(5), object(1)\n",
      "memory usage: 256.0+ bytes\n",
      "\n",
      "   messages_included  mb_per_month_included  minutes_included  \\\n",
      "0                 50                  15360               500   \n",
      "1               1000                  30720              3000   \n",
      "\n",
      "   usd_monthly_pay  usd_per_gb  usd_per_message  usd_per_minute plan_name  \n",
      "0               20          10             0.03            0.03      surf  \n",
      "1               70           7             0.01            0.01  ultimate  \n"
     ]
    }
   ],
   "source": [
    "# Imprime las condiciones de la tarifa y asegúrate de que te quedan claras\n",
    "df_plans.info()\n",
    "print()\n",
    "print(df_plans)"
   ]
  },
  {
   "cell_type": "markdown",
   "metadata": {
    "id": "hMR1tP5d0q1F"
   },
   "source": [
    "## Agregar datos por usuario\n",
    "\n",
    "[Ahora que los datos están limpios, agrega los datos por usuario y por periodo para que solo haya un registro por usuario y por periodo. Esto facilitará mucho el análisis posterior.]"
   ]
  },
  {
   "cell_type": "code",
   "execution_count": 19,
   "metadata": {
    "id": "A332cedB0q1G"
   },
   "outputs": [
    {
     "name": "stdout",
     "output_type": "stream",
     "text": [
      "   user_id  month  id\n",
      "0     1000     12  16\n",
      "1     1001      8  27\n",
      "2     1001      9  49\n",
      "3     1001     10  65\n",
      "4     1001     11  64\n"
     ]
    }
   ],
   "source": [
    "# Calcula el número de llamadas hechas por cada usuario al mes. Guarda el resultado.\n",
    "call_count = df_calls.groupby(['user_id', 'month'])['id'].count().reset_index()\n",
    "print(call_count.head(5))"
   ]
  },
  {
   "cell_type": "markdown",
   "metadata": {},
   "source": [
    "\n",
    "<div class=\"alert alert-block alert-warning\">\n",
    "\n",
    "<b>Comentario revisor</b> <a class=\"tocSkip\"></a>\n",
    "\n",
    "Si bien es correcta la forma de agrupar para sacar la duración de las llamadas por cada ususario, para proximas ocasiones puedes hacer uso de la siguiente forma:\n",
    "    \n",
    "    pivot_calls = calls.pivot_table(index=['user_id', 'month'],\n",
    "                                values=['duration'],\n",
    "                                aggfunc=['sum','count']).reset_index()\n",
    "\n",
    "</div>"
   ]
  },
  {
   "cell_type": "markdown",
   "metadata": {},
   "source": [
    "Intente hacer el pivot table que mencionas pero ya no supe como fusionarlo mas abajo con todos los demas datos (mensajes, mb, etc)"
   ]
  },
  {
   "cell_type": "code",
   "execution_count": 20,
   "metadata": {
    "id": "aw2cmuql0q1G"
   },
   "outputs": [
    {
     "name": "stdout",
     "output_type": "stream",
     "text": [
      "   user_id  month  duration\n",
      "0     1000     12    116.83\n",
      "1     1001      8    171.14\n",
      "2     1001      9    297.69\n",
      "3     1001     10    374.11\n",
      "4     1001     11    404.59\n"
     ]
    }
   ],
   "source": [
    "# Calcula la cantidad de minutos usados por cada usuario al mes. Guarda el resultado.\n",
    "\n",
    "minute_count = df_calls.groupby([\"user_id\", \"month\"]).sum().reset_index()\n",
    "print(minute_count.head(5))"
   ]
  },
  {
   "cell_type": "code",
   "execution_count": 21,
   "metadata": {
    "id": "CcQvNHn60q1G"
   },
   "outputs": [
    {
     "name": "stdout",
     "output_type": "stream",
     "text": [
      "   user_id  month  id\n",
      "0     1000     12  11\n",
      "1     1001      8  30\n",
      "2     1001      9  44\n",
      "3     1001     10  53\n",
      "4     1001     11  36\n"
     ]
    }
   ],
   "source": [
    "# Calcula el número de mensajes enviados por cada usuario al mes. Guarda el resultado.\n",
    "message_count= df_messages.groupby([\"user_id\",\"month\"])[\"id\"].count().reset_index()\n",
    "print(message_count.head(5))"
   ]
  },
  {
   "cell_type": "code",
   "execution_count": 22,
   "metadata": {
    "id": "H1AqN2eG0q1H"
   },
   "outputs": [
    {
     "name": "stdout",
     "output_type": "stream",
     "text": [
      "   user_id  month   mb_used\n",
      "0     1000     12   1901.47\n",
      "1     1001      8   6919.15\n",
      "2     1001      9  13314.82\n",
      "3     1001     10  22330.49\n",
      "4     1001     11  18504.30\n"
     ]
    }
   ],
   "source": [
    "# Calcula el volumen del tráfico de Internet usado por cada usuario al mes. Guarda el resultado.\n",
    "internet_traffic= df_internet.groupby([\"user_id\", \"month\"])[\"mb_used\"].sum().reset_index()\n",
    "print(internet_traffic.head(5))"
   ]
  },
  {
   "cell_type": "markdown",
   "metadata": {
    "id": "VDfYXnj80q1H"
   },
   "source": [
    "[Junta los datos agregados en un DataFrame para que haya un registro que represente lo que consumió un usuario único en un mes determinado.]"
   ]
  },
  {
   "cell_type": "code",
   "execution_count": 23,
   "metadata": {
    "id": "FW99ykyf0q1H"
   },
   "outputs": [
    {
     "name": "stdout",
     "output_type": "stream",
     "text": [
      "   user_id  month  call_count  duration  message_count   mb_used\n",
      "0     1000     12          16    116.83             11   1901.47\n",
      "1     1001      8          27    171.14             30   6919.15\n",
      "2     1001      9          49    297.69             44  13314.82\n",
      "3     1001     10          65    374.11             53  22330.49\n",
      "4     1001     11          64    404.59             36  18504.30\n"
     ]
    }
   ],
   "source": [
    "# Fusiona los datos de llamadas, minutos, mensajes e Internet con base en user_id y month\n",
    "\n",
    "user_total= pd.merge(call_count, minute_count, on=[\"user_id\", \"month\"])\n",
    "user_total= pd.merge(user_total, message_count, on=[\"user_id\", \"month\"])\n",
    "user_total= pd.merge(user_total, internet_traffic, on=[\"user_id\", \"month\"])\n",
    "user_total = user_total.rename(columns={\"id_x\": \"call_count\", \"id_y\": \"message_count\"})\n",
    "\n",
    "print(user_total.head(5))"
   ]
  },
  {
   "cell_type": "code",
   "execution_count": 24,
   "metadata": {
    "id": "0dNOXHag0q1H"
   },
   "outputs": [
    {
     "name": "stdout",
     "output_type": "stream",
     "text": [
      "   user_id  month  call_count  duration  message_count   mb_used      plan\n",
      "0     1000     12          16    116.83             11   1901.47  ultimate\n",
      "1     1001      8          27    171.14             30   6919.15      surf\n",
      "2     1001      9          49    297.69             44  13314.82      surf\n",
      "3     1001     10          65    374.11             53  22330.49      surf\n",
      "4     1001     11          64    404.59             36  18504.30      surf\n"
     ]
    }
   ],
   "source": [
    "# Añade la información de la tarifa\n",
    "\n",
    "user_total = pd.merge(user_total, df_users[[\"user_id\", \"plan\"]], on=\"user_id\", how=\"left\")\n",
    "print(user_total.head(5))\n",
    "            "
   ]
  },
  {
   "cell_type": "markdown",
   "metadata": {},
   "source": [
    "<div class=\"alert alert-block alert-success\">\n",
    "<b>Comentario del revisor</b> <a class=\"tocSkip\"></a>\n",
    "\n",
    "Muy buen trabajo!! el merge es correcto para unir todas las bases trabajadas.\n",
    "    \n",
    "</div>"
   ]
  },
  {
   "cell_type": "markdown",
   "metadata": {
    "id": "1IwGo4wg0q1I"
   },
   "source": [
    "[Calcula los ingresos mensuales por usuario (resta el límite del paquete gratuito del número total de llamadas, mensajes de texto y datos; multiplica el resultado por el valor del plan de llamadas; añade la tarifa mensual en función del plan de llamadas). Nota: Dadas las condiciones del plan, ¡esto podría no ser tan trivial como un par de líneas! Así que no pasa nada si dedicas algo de tiempo a ello.]"
   ]
  },
  {
   "cell_type": "code",
   "execution_count": 25,
   "metadata": {
    "id": "5FGCf_c60q1I"
   },
   "outputs": [
    {
     "name": "stdout",
     "output_type": "stream",
     "text": [
      "      user_id  month  call_count  duration  message_count   mb_used      plan  \\\n",
      "0        1000     12          16    116.83             11   1901.47  ultimate   \n",
      "1        1001      8          27    171.14             30   6919.15      surf   \n",
      "2        1001      9          49    297.69             44  13314.82      surf   \n",
      "3        1001     10          65    374.11             53  22330.49      surf   \n",
      "4        1001     11          64    404.59             36  18504.30      surf   \n",
      "...       ...    ...         ...       ...            ...       ...       ...   \n",
      "1754     1496      9          52    389.94             21  16389.27      surf   \n",
      "1755     1496     10          46    301.16             18  14287.36      surf   \n",
      "1756     1496     11          39    291.88             13   8547.36      surf   \n",
      "1757     1496     12          40    278.61             11  16438.99      surf   \n",
      "1758     1497     12          54    276.53             50  11106.55  ultimate   \n",
      "\n",
      "      messages_included  mb_per_month_included  minutes_included  ...  \\\n",
      "0                  1000                  30720              3000  ...   \n",
      "1                    50                  15360               500  ...   \n",
      "2                    50                  15360               500  ...   \n",
      "3                    50                  15360               500  ...   \n",
      "4                    50                  15360               500  ...   \n",
      "...                 ...                    ...               ...  ...   \n",
      "1754                 50                  15360               500  ...   \n",
      "1755                 50                  15360               500  ...   \n",
      "1756                 50                  15360               500  ...   \n",
      "1757                 50                  15360               500  ...   \n",
      "1758               1000                  30720              3000  ...   \n",
      "\n",
      "      usd_per_minute  plan_name  excess_messages  excess_minutes excess_mb  \\\n",
      "0               0.01   ultimate                0             0.0 -28818.53   \n",
      "1               0.03       surf                0             0.0  -8440.85   \n",
      "2               0.03       surf                0             0.0  -2045.18   \n",
      "3               0.03       surf                3             0.0   6970.49   \n",
      "4               0.03       surf                0             0.0   3144.30   \n",
      "...              ...        ...              ...             ...       ...   \n",
      "1754            0.03       surf                0             0.0   1029.27   \n",
      "1755            0.03       surf                0             0.0  -1072.64   \n",
      "1756            0.03       surf                0             0.0  -6812.64   \n",
      "1757            0.03       surf                0             0.0   1078.99   \n",
      "1758            0.01   ultimate                0             0.0 -19613.45   \n",
      "\n",
      "      excess_gb  excess_gb_rounded  excess_messages_charge  \\\n",
      "0    -28.143096                  0                    0.00   \n",
      "1     -8.243018                  0                    0.00   \n",
      "2     -1.997246                  0                    0.00   \n",
      "3      6.807119                  7                    0.09   \n",
      "4      3.070605                  4                    0.00   \n",
      "...         ...                ...                     ...   \n",
      "1754   1.005146                  2                    0.00   \n",
      "1755  -1.047500                  0                    0.00   \n",
      "1756  -6.652969                  0                    0.00   \n",
      "1757   1.053701                  2                    0.00   \n",
      "1758 -19.153760                  0                    0.00   \n",
      "\n",
      "      excess_minutes_charge  excess_gb_charge  \n",
      "0                       0.0                 0  \n",
      "1                       0.0                 0  \n",
      "2                       0.0                 0  \n",
      "3                       0.0                70  \n",
      "4                       0.0                40  \n",
      "...                     ...               ...  \n",
      "1754                    0.0                20  \n",
      "1755                    0.0                 0  \n",
      "1756                    0.0                 0  \n",
      "1757                    0.0                20  \n",
      "1758                    0.0                 0  \n",
      "\n",
      "[1759 rows x 23 columns]\n"
     ]
    }
   ],
   "source": [
    "# Calcula el ingreso mensual para cada usuario\n",
    "user_total = pd.merge(user_total, df_plans, left_on=\"plan\", right_on=\"plan_name\", how=\"left\")\n",
    "user_total[\"excess_messages\"]= user_total[\"message_count\"] - user_total[\"messages_included\"]\n",
    "user_total[\"excess_minutes\"]= user_total[\"duration\"] - user_total[\"minutes_included\"]\n",
    "user_total[\"excess_mb\"]= user_total[\"mb_used\"] - user_total[\"mb_per_month_included\"]\n",
    "user_total[\"excess_gb\"] = user_total[\"excess_mb\"] / 1024\n",
    "user_total[\"excess_gb_rounded\"] = np.ceil(user_total[\"excess_gb\"]).astype(int)\n",
    "\n",
    "user_total[\"excess_messages\"]= user_total[\"excess_messages\"].clip(lower=0)\n",
    "user_total[\"excess_minutes\"]= user_total[\"excess_minutes\"].clip(lower=0)\n",
    "user_total[\"excess_gb_rounded\"]= user_total[\"excess_gb_rounded\"].clip(lower=0)\n",
    "\n",
    "user_total[\"excess_messages_charge\"]= user_total[\"excess_messages\"] * user_total[\"usd_per_message\"]\n",
    "user_total[\"excess_minutes_charge\"]= user_total[\"excess_minutes\"] * user_total[\"usd_per_minute\"]\n",
    "user_total[\"excess_gb_charge\"] = user_total[\"excess_gb_rounded\"] * user_total[\"usd_per_gb\"]\n",
    "\n",
    "print(user_total)"
   ]
  },
  {
   "cell_type": "markdown",
   "metadata": {},
   "source": [
    "<div class=\"alert alert-block alert-danger\">\n",
    "<b>Comentario revisor</b> <a class=\"tocSkip\"></a>\n",
    "\n",
    "\n",
    "Recuerda que para este punto, es necesario que ya tengamos los valores redondeados de la duración de las llamadas y redondear la transformación de megabytes a gigabytes. Esto cobra importancia dado que estamos calculando por cuanto se paso cada usuario, entonces el no redondear puede alterar este valor.\n",
    "</div>"
   ]
  },
  {
   "cell_type": "markdown",
   "metadata": {},
   "source": [
    "\n",
    "<div class=\"alert alert-block alert-success\">\n",
    "<b>Comentario del revisor:</b> <a class=\"tocSkip\"></a>\n",
    "    \n",
    "Gran trabajo con el redondeo de las variables antes de hacer el calculo"
   ]
  },
  {
   "cell_type": "markdown",
   "metadata": {},
   "source": [
    "Para transformaar los megabytes a gigabytes los dividi por 1024, el resultado lo redondee hacia arriba utilizando la funcion ceil y cambiando el tipo datos a int64. "
   ]
  },
  {
   "cell_type": "markdown",
   "metadata": {
    "id": "-jtyHzJb0q1I"
   },
   "source": [
    "## Estudia el comportamiento de usuario"
   ]
  },
  {
   "cell_type": "markdown",
   "metadata": {
    "id": "AxU3Y0N70q1J"
   },
   "source": [
    "[Calcula algunas estadísticas descriptivas para los datos agregados y fusionados que nos sean útiles y que muestren un panorama general captado por los datos. Dibuja gráficos útiles para facilitar la comprensión. Dado que la tarea principal es comparar las tarifas y decidir cuál es más rentable, las estadísticas y gráficas deben calcularse por tarifa.]\n",
    "\n",
    "[En los comentarios hallarás pistas relevantes para las llamadas, pero no las hay para los mensajes e Internet. Sin embargo, el principio del estudio estadístico que se aplica para ellos es el mismo que para las llamadas.]"
   ]
  },
  {
   "cell_type": "markdown",
   "metadata": {
    "id": "vtW4CJEe0q1J"
   },
   "source": [
    "### Llamadas"
   ]
  },
  {
   "cell_type": "code",
   "execution_count": 26,
   "metadata": {
    "id": "Jf5v5--k0q1J"
   },
   "outputs": [
    {
     "name": "stdout",
     "output_type": "stream",
     "text": [
      "        plan  month  duration_mean\n",
      "0       surf      1     278.850000\n",
      "1       surf      2     313.240000\n",
      "2       surf      3     324.985625\n",
      "3       surf      4     346.206286\n",
      "4       surf      5     418.675283\n",
      "5       surf      6     401.525429\n",
      "6       surf      7     426.454382\n",
      "7       surf      8     404.183950\n",
      "8       surf      9     402.010068\n",
      "9       surf     10     417.628785\n",
      "10      surf     11     418.942202\n",
      "11      surf     12     467.447073\n",
      "12  ultimate      1     187.453333\n",
      "13  ultimate      2     458.316000\n",
      "14  ultimate      3     389.648571\n",
      "15  ultimate      4     303.301250\n",
      "16  ultimate      5     387.340952\n",
      "17  ultimate      6     349.536757\n",
      "18  ultimate      7     415.912979\n",
      "19  ultimate      8     411.488246\n",
      "20  ultimate      9     413.126479\n",
      "21  ultimate     10     438.700795\n",
      "22  ultimate     11     438.496569\n",
      "23  ultimate     12     436.801040\n"
     ]
    },
    {
     "data": {
      "text/plain": [
       "<matplotlib.legend.Legend at 0x7fd06861edf0>"
      ]
     },
     "execution_count": 26,
     "metadata": {},
     "output_type": "execute_result"
    },
    {
     "data": {
      "image/png": "[encoded data removed]",
      "text/plain": [
       "<Figure size 1000x600 with 1 Axes>"
      ]
     },
     "metadata": {},
     "output_type": "display_data"
    }
   ],
   "source": [
    "# Compara la duración promedio de llamadas por cada plan y por cada mes. Traza un gráfico de barras para visualizarla.\n",
    "import matplotlib.pyplot as plt\n",
    "import seaborn as sns\n",
    "\n",
    "avg_duration= user_total.groupby([\"plan\", \"month\"])[\"duration\"].mean().reset_index()\n",
    "avg_duration.rename(columns={\"duration\":\"duration_mean\"}, inplace=True)\n",
    "print(avg_duration)\n",
    "plt.figure(figsize=(10, 6))\n",
    "sns.barplot(data=avg_duration, x=\"month\", y=\"duration_mean\", hue=\"plan\")\n",
    "plt.title('Average Duration by Plan and Month')\n",
    "plt.legend(title=\"Plan\")"
   ]
  },
  {
   "cell_type": "code",
   "execution_count": 27,
   "metadata": {
    "id": "QoLqW1S_0q1J"
   },
   "outputs": [
    {
     "data": {
      "image/png": "[encoded data removed]",
      "text/plain": [
       "<Figure size 1000x600 with 1 Axes>"
      ]
     },
     "metadata": {},
     "output_type": "display_data"
    }
   ],
   "source": [
    "# Compara el número de minutos mensuales que necesitan los usuarios de cada plan. Traza un histograma.\n",
    "plt.figure(figsize=(10, 6))\n",
    "sns.histplot(data=user_total, x=\"duration\", hue=\"plan\", kde=False, bins=30)\n",
    "plt.title('Distribución de Minutos Mensuales por Plan', fontsize=12)\n",
    "plt.xlabel('Minutos Mensuales', fontsize=12)\n",
    "plt.ylabel('Frecuencia de usuarios', fontsize=12)\n",
    "plt.show()"
   ]
  },
  {
   "cell_type": "markdown",
   "metadata": {
    "id": "bLS9T8OH0q1K"
   },
   "source": [
    "[Calcula la media y la variable de la duración de las llamadas para averiguar si los usuarios de los distintos planes se comportan de forma diferente al realizar sus llamadas.]"
   ]
  },
  {
   "cell_type": "code",
   "execution_count": 28,
   "metadata": {
    "id": "oSndbAnt0q1K"
   },
   "outputs": [
    {
     "name": "stdout",
     "output_type": "stream",
     "text": [
      "        plan  month   call_mean\n",
      "0       surf      1  278.850000\n",
      "1       surf      2  313.240000\n",
      "2       surf      3  324.985625\n",
      "3       surf      4  346.206286\n",
      "4       surf      5  418.675283\n",
      "5       surf      6  401.525429\n",
      "6       surf      7  426.454382\n",
      "7       surf      8  404.183950\n",
      "8       surf      9  402.010068\n",
      "9       surf     10  417.628785\n",
      "10      surf     11  418.942202\n",
      "11      surf     12  467.447073\n",
      "12  ultimate      1  187.453333\n",
      "13  ultimate      2  458.316000\n",
      "14  ultimate      3  389.648571\n",
      "15  ultimate      4  303.301250\n",
      "16  ultimate      5  387.340952\n",
      "17  ultimate      6  349.536757\n",
      "18  ultimate      7  415.912979\n",
      "19  ultimate      8  411.488246\n",
      "20  ultimate      9  413.126479\n",
      "21  ultimate     10  438.700795\n",
      "22  ultimate     11  438.496569\n",
      "23  ultimate     12  436.801040\n"
     ]
    },
    {
     "data": {
      "image/png": "[encoded data removed]",
      "text/plain": [
       "<Figure size 1400x700 with 1 Axes>"
      ]
     },
     "metadata": {},
     "output_type": "display_data"
    },
    {
     "name": "stdout",
     "output_type": "stream",
     "text": [
      "        plan  month      varianza\n",
      "0       surf      1           NaN\n",
      "1       surf      2  90934.192950\n",
      "2       surf      3  38165.741733\n",
      "3       surf      4  56226.026948\n",
      "4       surf      5  55324.752668\n",
      "5       surf      6  43182.147964\n",
      "6       surf      7  57923.159823\n",
      "7       surf      8  48244.970507\n",
      "8       surf      9  41696.916513\n",
      "9       surf     10  46581.795937\n",
      "10      surf     11  44585.274097\n",
      "11      surf     12  55667.000587\n",
      "12  ultimate      1  22376.587433\n",
      "13  ultimate      2  59004.345680\n",
      "14  ultimate      3  53331.785381\n",
      "15  ultimate      4  36280.868692\n",
      "16  ultimate      5  49426.122669\n",
      "17  ultimate      6  35334.114628\n",
      "18  ultimate      7  72298.842704\n",
      "19  ultimate      8  52808.925215\n",
      "20  ultimate      9  57056.019895\n",
      "21  ultimate     10  51267.766909\n",
      "22  ultimate     11  58637.117613\n",
      "23  ultimate     12  59435.742379\n"
     ]
    },
    {
     "data": {
      "image/png": "[encoded data removed]",
      "text/plain": [
       "<Figure size 1400x700 with 1 Axes>"
      ]
     },
     "metadata": {},
     "output_type": "display_data"
    }
   ],
   "source": [
    "# Calcula la media y la varianza de la duración mensual de llamadas.\n",
    "#Dataframe con media\n",
    "call_stats = user_total.groupby([\"plan\", \"month\"])[\"duration\"].mean().reset_index()\n",
    "call_stats.columns = [\"plan\", \"month\", \"call_mean\"]\n",
    "print(call_stats)\n",
    "#Grafica de media\n",
    "plt.figure(figsize=(14, 7))\n",
    "sns.lineplot(data=call_stats, x=\"month\", y=\"call_mean\", hue=\"plan\", marker=\"o\")\n",
    "plt.title(\"Duracion media mensual\")\n",
    "plt.xlabel(\"Mes\")\n",
    "plt.ylabel(\"Duracion media\")\n",
    "plt.xticks(rotation=45)\n",
    "plt.legend(title=\"Plan\")\n",
    "plt.tight_layout()\n",
    "plt.show()\n",
    "\n",
    "#Dataframe con varianza\n",
    "call_var = user_total.groupby([\"plan\", \"month\"])[\"duration\"].var().reset_index()\n",
    "call_var.columns = [\"plan\", \"month\", \"varianza\"]\n",
    "print(call_var)\n",
    "#Grafica varianza\n",
    "plt.figure(figsize=(14, 7))\n",
    "sns.lineplot(data=call_var, x=\"month\", y=\"varianza\", hue=\"plan\", marker=\"o\")\n",
    "plt.title(\"Varianza Mensual de la Duración de las Llamadas por Plan\")\n",
    "plt.xlabel(\"Mes\")\n",
    "plt.ylabel(\"Varianza de Duración\")\n",
    "plt.xticks(rotation=45)\n",
    "plt.legend(title=\"Plan\")\n",
    "plt.tight_layout()\n",
    "plt.show()"
   ]
  },
  {
   "cell_type": "code",
   "execution_count": 29,
   "metadata": {
    "id": "nZzoRUKc0q1K"
   },
   "outputs": [
    {
     "data": {
      "image/png": "[encoded data removed]",
      "text/plain": [
       "<Figure size 1400x700 with 1 Axes>"
      ]
     },
     "metadata": {},
     "output_type": "display_data"
    }
   ],
   "source": [
    "# Traza un diagrama de caja para visualizar la distribución de la duración mensual de llamadas\n",
    "plt.figure(figsize=(14, 7))\n",
    "sns.boxplot(data=user_total, x=\"month\", y=\"duration\", hue=\"plan\")\n",
    "\n",
    "plt.title(\"Distribución mensual de la duración de las llamadas por plan\")\n",
    "plt.xlabel(\"Mes\")\n",
    "plt.ylabel(\"Duración de la llamada (minutos)\")\n",
    "plt.xticks(rotation=45)\n",
    "plt.legend(title=\"Plan\")\n",
    "plt.tight_layout()\n",
    "\n",
    "plt.show()\n"
   ]
  },
  {
   "cell_type": "markdown",
   "metadata": {
    "id": "r627zBO50q1K"
   },
   "source": [
    "[Elabora las conclusiones sobre el comportamiento de los usuarios con respecto a las llamadas. ¿Su comportamiento varía en función del plan?]\n",
    "\n",
    "Los usuarios del plan surf parecen tener una duración media de las llamadas más alta que los usuarios del plan ultimate a lo largo del año. Apesar de las fluctuaciones mensuales, la media del plan surf es mas alta que la del plan ultimate. \n",
    "Los usuarios del plan ultimate tienen duraciones medias de llamadas más bajas, pero muestran fluctuaciones significativas con picos notables.\n",
    "Por otra parte, las medias de ambos planes incrementan conforme pasa el año. "
   ]
  },
  {
   "cell_type": "markdown",
   "metadata": {
    "id": "8idKy8Wh0q1L"
   },
   "source": [
    "### Mensajes"
   ]
  },
  {
   "cell_type": "code",
   "execution_count": 30,
   "metadata": {
    "id": "NXLxiTit0q1L"
   },
   "outputs": [
    {
     "name": "stdout",
     "output_type": "stream",
     "text": [
      "        plan  month  message_mean\n",
      "0       surf      1     21.000000\n",
      "1       surf      2     21.600000\n",
      "2       surf      3     21.937500\n",
      "3       surf      4     24.685714\n",
      "4       surf      5     33.547170\n",
      "5       surf      6     32.742857\n",
      "6       surf      7     34.786517\n",
      "7       surf      8     37.302521\n",
      "8       surf      9     38.585034\n",
      "9       surf     10     41.475138\n",
      "10      surf     11     40.087156\n",
      "11      surf     12     47.686992\n",
      "12  ultimate      1     20.666667\n",
      "13  ultimate      2     27.800000\n",
      "14  ultimate      3     34.714286\n",
      "15  ultimate      4     28.937500\n",
      "16  ultimate      5     44.333333\n",
      "17  ultimate      6     37.135135\n",
      "18  ultimate      7     41.212766\n",
      "19  ultimate      8     47.929825\n",
      "20  ultimate      9     45.901408\n",
      "21  ultimate     10     47.488636\n",
      "22  ultimate     11     47.656863\n",
      "23  ultimate     12     53.744000\n"
     ]
    },
    {
     "data": {
      "text/plain": [
       "<matplotlib.legend.Legend at 0x7fd0566a2910>"
      ]
     },
     "execution_count": 30,
     "metadata": {},
     "output_type": "execute_result"
    },
    {
     "data": {
      "image/png": "[encoded data removed]",
      "text/plain": [
       "<Figure size 1000x600 with 1 Axes>"
      ]
     },
     "metadata": {},
     "output_type": "display_data"
    }
   ],
   "source": [
    "# Comprara el número de mensajes que tienden a enviar cada mes los usuarios de cada plan\n",
    "\n",
    "avg_message= user_total.groupby([\"plan\", \"month\"])[\"message_count\"].mean().reset_index()\n",
    "avg_message.rename(columns={\"message_count\":\"message_mean\"}, inplace=True)\n",
    "print(avg_message)\n",
    "plt.figure(figsize=(10, 6))\n",
    "sns.barplot(data=avg_message, x=\"month\", y=\"message_mean\", hue=\"plan\")\n",
    "plt.title('Average Message by Plan and Month')\n",
    "plt.legend(title=\"Plan\")"
   ]
  },
  {
   "cell_type": "code",
   "execution_count": null,
   "metadata": {
    "id": "GRI_R7xF0q1L"
   },
   "outputs": [],
   "source": []
  },
  {
   "cell_type": "code",
   "execution_count": null,
   "metadata": {
    "id": "dtFwCGAp0q1M"
   },
   "outputs": [],
   "source": []
  },
  {
   "cell_type": "markdown",
   "metadata": {
    "id": "390SSL480q1M"
   },
   "source": [
    "[Elabora las conclusiones sobre el comportamiento de los usuarios con respecto a los mensajes. ¿Su comportamiento varía en función del plan?]\n",
    "\n",
    "Al igual que en el analisis de llamadas, ambos usuarios tienden a aumentar su actividad promedio a lo largo del año. Sin embargo, en este caso los usuarios del plan ultimate tienen medias mas altas en todos los meses menos en enero.  "
   ]
  },
  {
   "cell_type": "markdown",
   "metadata": {
    "id": "42YSypXz0q1M"
   },
   "source": [
    "### Internet"
   ]
  },
  {
   "cell_type": "code",
   "execution_count": 31,
   "metadata": {
    "id": "lSuKPtjh0q1M"
   },
   "outputs": [
    {
     "name": "stdout",
     "output_type": "stream",
     "text": [
      "        plan  month  mb_used_mean\n",
      "0       surf      1   7894.790000\n",
      "1       surf      2   9310.764000\n",
      "2       surf      3  12397.342500\n",
      "3       surf      4  11851.091429\n",
      "4       surf      5  14851.419623\n",
      "5       surf      6  15565.743286\n",
      "6       surf      7  16708.588315\n",
      "7       surf      8  17161.736891\n",
      "8       surf      9  16492.743197\n",
      "9       surf     10  17406.222376\n",
      "10      surf     11  16300.159358\n",
      "11      surf     12  17968.352602\n",
      "12  ultimate      1   6953.200000\n",
      "13  ultimate      2  17335.756000\n",
      "14  ultimate      3  23835.722857\n",
      "15  ultimate      4  14285.791875\n",
      "16  ultimate      5  16993.530000\n",
      "17  ultimate      6  15451.022162\n",
      "18  ultimate      7  16499.324255\n",
      "19  ultimate      8  17976.983333\n",
      "20  ultimate      9  16410.551549\n",
      "21  ultimate     10  17512.219205\n",
      "22  ultimate     11  17323.745686\n",
      "23  ultimate     12  18267.285840\n"
     ]
    },
    {
     "data": {
      "text/plain": [
       "<matplotlib.legend.Legend at 0x7fd0564c8310>"
      ]
     },
     "execution_count": 31,
     "metadata": {},
     "output_type": "execute_result"
    },
    {
     "data": {
      "image/png": "[encoded data removed]",
      "text/plain": [
       "<Figure size 1000x600 with 1 Axes>"
      ]
     },
     "metadata": {},
     "output_type": "display_data"
    }
   ],
   "source": [
    "# Compara la cantidad de tráfico de Internet consumido por usuarios por plan\n",
    "\n",
    "avg_internet_traffic= user_total.groupby([\"plan\", \"month\"])[\"mb_used\"].mean().reset_index()\n",
    "avg_internet_traffic.rename(columns={\"mb_used\":\"mb_used_mean\"}, inplace=True)\n",
    "print(avg_internet_traffic)\n",
    "plt.figure(figsize=(10, 6))\n",
    "sns.barplot(data=avg_internet_traffic, x=\"month\", y=\"mb_used_mean\", hue=\"plan\")\n",
    "plt.title('Average MB usage by Plan and Month')\n",
    "plt.legend(title=\"Plan\")"
   ]
  },
  {
   "cell_type": "code",
   "execution_count": null,
   "metadata": {
    "id": "wnh8jYXi0q1N"
   },
   "outputs": [],
   "source": []
  },
  {
   "cell_type": "code",
   "execution_count": null,
   "metadata": {
    "id": "5VlyJ9ry0q1N"
   },
   "outputs": [],
   "source": []
  },
  {
   "cell_type": "markdown",
   "metadata": {
    "id": "UN9zwuMP0q1N"
   },
   "source": [
    "[Elabora las conclusiones sobre cómo los usuarios tienden a consumir el tráfico de Internet. ¿Su comportamiento varía en función del plan?]\n",
    "\n",
    "Los usuarios del plan Ultimate consumen más datos que los usuarios del plan Surf durante todo el año, con una diferencia creciente a medida que avanzan los meses.\n",
    "Ambos planes muestran un aumento en el uso de datos en la segunda mitad del año\n"
   ]
  },
  {
   "cell_type": "markdown",
   "metadata": {
    "id": "tCijq3260q1N"
   },
   "source": [
    "## Ingreso"
   ]
  },
  {
   "cell_type": "markdown",
   "metadata": {
    "id": "9nq5IAcy0q1O"
   },
   "source": [
    "[Del mismo modo que has estudiado el comportamiento de los usuarios, describe estadísticamente los ingresos de los planes.]"
   ]
  },
  {
   "cell_type": "code",
   "execution_count": 32,
   "metadata": {
    "id": "tz-dq_V00q1O"
   },
   "outputs": [
    {
     "name": "stdout",
     "output_type": "stream",
     "text": [
      "        plan  month    charge\n",
      "0       surf      1    0.0000\n",
      "1       surf      2    8.0706\n",
      "2       surf      3   12.7860\n",
      "3       surf      4   36.5721\n",
      "4       surf      5   89.6856\n",
      "5       surf      6   90.5328\n",
      "6       surf      7  165.8379\n",
      "7       surf      8  171.3801\n",
      "8       surf      9  175.0959\n",
      "9       surf     10  276.9426\n",
      "10      surf     11  329.1309\n",
      "11      surf     12  561.8226\n",
      "12  ultimate      1    0.0000\n",
      "13  ultimate      2    0.0000\n",
      "14  ultimate      3    0.0000\n",
      "15  ultimate      4    0.0000\n",
      "16  ultimate      5    0.0000\n",
      "17  ultimate      6    0.0000\n",
      "18  ultimate      7    0.0000\n",
      "19  ultimate      8    0.0000\n",
      "20  ultimate      9    0.0000\n",
      "21  ultimate     10    0.0000\n",
      "22  ultimate     11    0.0000\n",
      "23  ultimate     12    0.0000\n",
      "\n",
      "Ingreso total de minutos en exceso:\n",
      "       plan     charge\n",
      "0      surf  1917.8571\n",
      "1  ultimate     0.0000\n"
     ]
    },
    {
     "data": {
      "image/png": "[encoded data removed]",
      "text/plain": [
       "<Figure size 1000x600 with 1 Axes>"
      ]
     },
     "metadata": {},
     "output_type": "display_data"
    }
   ],
   "source": [
    "avg_call_charge= user_total.groupby([\"plan\", \"month\"])[\"excess_minutes_charge\"].sum().reset_index()\n",
    "avg_call_charge.rename(columns={\"excess_minutes_charge\":\"charge\"}, inplace=True)\n",
    "print(avg_call_charge)\n",
    "\n",
    "plt.figure(figsize=(10, 6))\n",
    "sns.barplot(data=avg_call_charge, x=\"month\", y=\"charge\", hue=\"plan\")\n",
    "plt.title('Excess Call Charge by Plan and Month')\n",
    "plt.legend(title=\"Plan\")\n",
    "\n",
    "call_charge_plan= user_total.groupby(\"plan\")[\"excess_minutes_charge\"].sum().reset_index()\n",
    "call_charge_plan.rename(columns={\"excess_minutes_charge\":\"charge\"}, inplace=True)\n",
    "print()\n",
    "print(\"Ingreso total de minutos en exceso:\")\n",
    "print(call_charge_plan)"
   ]
  },
  {
   "cell_type": "code",
   "execution_count": 33,
   "metadata": {
    "id": "0Y1v8ZUz0q1P"
   },
   "outputs": [
    {
     "name": "stdout",
     "output_type": "stream",
     "text": [
      "        plan  month  charge\n",
      "0       surf      1    0.00\n",
      "1       surf      2    0.24\n",
      "2       surf      3    0.39\n",
      "3       surf      4    2.61\n",
      "4       surf      5    9.63\n",
      "5       surf      6   12.00\n",
      "6       surf      7   14.67\n",
      "7       surf      8   26.46\n",
      "8       surf      9   32.49\n",
      "9       surf     10   54.18\n",
      "10      surf     11   55.02\n",
      "11      surf     12   95.94\n",
      "12  ultimate      1    0.00\n",
      "13  ultimate      2    0.00\n",
      "14  ultimate      3    0.00\n",
      "15  ultimate      4    0.00\n",
      "16  ultimate      5    0.00\n",
      "17  ultimate      6    0.00\n",
      "18  ultimate      7    0.00\n",
      "19  ultimate      8    0.00\n",
      "20  ultimate      9    0.00\n",
      "21  ultimate     10    0.00\n",
      "22  ultimate     11    0.00\n",
      "23  ultimate     12    0.00\n",
      "\n",
      "Ingreso total de mensajes en exceso:\n",
      "       plan  charge\n",
      "0      surf  303.63\n",
      "1  ultimate    0.00\n"
     ]
    },
    {
     "data": {
      "image/png": "[encoded data removed]",
      "text/plain": [
       "<Figure size 1000x600 with 1 Axes>"
      ]
     },
     "metadata": {},
     "output_type": "display_data"
    }
   ],
   "source": [
    "avg_message_charge= user_total.groupby([\"plan\", \"month\"])[\"excess_messages_charge\"].sum().reset_index()\n",
    "avg_message_charge.rename(columns={\"excess_messages_charge\":\"charge\"}, inplace=True)\n",
    "print(avg_message_charge)\n",
    "plt.figure(figsize=(10, 6))\n",
    "sns.barplot(data=avg_message_charge, x=\"month\", y=\"charge\", hue=\"plan\")\n",
    "plt.title('Excess Message Charge by Plan and Month')\n",
    "plt.legend(title=\"Plan\")\n",
    "print()\n",
    "print(\"Ingreso total de mensajes en exceso:\")\n",
    "message_charge_plan= user_total.groupby(\"plan\")[\"excess_messages_charge\"].sum().reset_index()\n",
    "message_charge_plan.rename(columns={\"excess_messages_charge\":\"charge\"}, inplace=True)\n",
    "print(message_charge_plan)"
   ]
  },
  {
   "cell_type": "code",
   "execution_count": 34,
   "metadata": {
    "id": "bYmwxyVh0q1P"
   },
   "outputs": [
    {
     "name": "stdout",
     "output_type": "stream",
     "text": [
      "        plan  month  charge\n",
      "0       surf      1       0\n",
      "1       surf      2      10\n",
      "2       surf      3     280\n",
      "3       surf      4     670\n",
      "4       surf      5    1510\n",
      "5       surf      6    2120\n",
      "6       surf      7    3500\n",
      "7       surf      8    5040\n",
      "8       surf      9    5210\n",
      "9       surf     10    7810\n",
      "10      surf     11    7620\n",
      "11      surf     12   11220\n",
      "12  ultimate      1       0\n",
      "13  ultimate      2       0\n",
      "14  ultimate      3      56\n",
      "15  ultimate      4      49\n",
      "16  ultimate      5      21\n",
      "17  ultimate      6      77\n",
      "18  ultimate      7     112\n",
      "19  ultimate      8     140\n",
      "20  ultimate      9      98\n",
      "21  ultimate     10     189\n",
      "22  ultimate     11     217\n",
      "23  ultimate     12     343\n",
      "\n",
      "Ingreso total de gigabytes en exceso:\n",
      "       plan  charge\n",
      "0      surf   44990\n",
      "1  ultimate    1302\n"
     ]
    },
    {
     "data": {
      "image/png": "[encoded data removed]",
      "text/plain": [
       "<Figure size 1000x600 with 1 Axes>"
      ]
     },
     "metadata": {},
     "output_type": "display_data"
    }
   ],
   "source": [
    "avg_internet_charge= user_total.groupby([\"plan\", \"month\"])[\"excess_gb_charge\"].sum().reset_index()\n",
    "avg_internet_charge.rename(columns={\"excess_gb_charge\":\"charge\"}, inplace=True)\n",
    "print(avg_internet_charge)\n",
    "\n",
    "plt.figure(figsize=(10, 6))\n",
    "sns.barplot(data=avg_internet_charge, x=\"month\", y=\"charge\", hue=\"plan\")\n",
    "plt.title('Excess GB charge by Plan and Month')\n",
    "plt.legend(title=\"Plan\")\n",
    "print()\n",
    "print(\"Ingreso total de gigabytes en exceso:\")\n",
    "internet_charge_plan= user_total.groupby(\"plan\")[\"excess_gb_charge\"].sum().reset_index()\n",
    "internet_charge_plan.rename(columns={\"excess_gb_charge\":\"charge\"}, inplace=True)\n",
    "print(internet_charge_plan)"
   ]
  },
  {
   "cell_type": "markdown",
   "metadata": {
    "id": "KAFidcXZ0q1P"
   },
   "source": [
    "[Elabora las conclusiones sobre cómo difiere el ingreso entre los planes.]\n",
    "\n",
    "Debido a lo que podemos observar, el plan que resulta mas completo es el ultimate ya que en llamadas y mensajes ningun usuario se excede ya que cuenta con mas que suficiente. En el caso de megabytes, algunos usuarios tienden a excederse pero esta cifra es muy baja. \n",
    "\n",
    "Por el contrario los usuarios del plan surf tienden a excederse en todos los servicios, minutuos, mensajes y megabytes resultando asi en un ingreso mayor para la compañia de megaline. "
   ]
  },
  {
   "cell_type": "markdown",
   "metadata": {},
   "source": [
    "<div class=\"alert alert-block alert-success\">\n",
    "<b>Comentario revisor</b> <a class=\"tocSkip\"></a>\n",
    "\n",
    " Muy buena prática la de usar distintos tipos de gráficas identificar algunos hallazgos y llegar a conclusiones. En este caso las gráficas de box-plots nos ayudan a identificar outiers que pueden sesgar nuestros resultados, especificamente las pruebas de hipótesis. Es por ello que con estás gráficas puedes complementar el análisis eliminando los valores atipicos. \n",
    "</div>"
   ]
  },
  {
   "cell_type": "markdown",
   "metadata": {
    "id": "ajJ7VKeI0q1Q"
   },
   "source": [
    "## Prueba las hipótesis estadísticas"
   ]
  },
  {
   "cell_type": "markdown",
   "metadata": {
    "id": "AdXAZ-yL0q1Q"
   },
   "source": [
    "[Prueba la hipótesis de que son diferentes los ingresos promedio procedentes de los usuarios de los planes de llamada Ultimate y Surf.]"
   ]
  },
  {
   "cell_type": "markdown",
   "metadata": {
    "id": "IQwa_hsh0q1Q"
   },
   "source": [
    "[Elabora las hipótesis nula y alternativa, escoge la prueba estadística, determina el valor alfa.]"
   ]
  },
  {
   "cell_type": "markdown",
   "metadata": {},
   "source": [
    "\n",
    "<div class=\"alert alert-block alert-danger\">\n",
    "<b>Comentario del revisor:</b> <a class=\"tocSkip\"></a>\n",
    "    \n",
    "Hola, Keyla! Para el ajuste de la prueba debemos de cobrar el exceso de internet sobre la variable transformada a gb. Para que puedas seguir con los cursos voy a pedir a un tutor si puede tener una sesión contigo para ver las dudas y ver el proyecto paso a paso. Por favor, no mandes tu proyecto hasta que tengas la sesión con el tutor. "
   ]
  },
  {
   "cell_type": "markdown",
   "metadata": {},
   "source": [
    "\n",
    "<div class=\"alert alert-block alert-danger\">\n",
    "<b>Comentario del revisor:</b> <a class=\"tocSkip\"></a>\n",
    "    \n",
    "Ya casi tienes el proyecto. Si te fijas en la gráfica anterior, la diferencia es muy amplia de lo que se cobra de exceso en cada variables. Para complementar ese análisis realiza una con el costo total incluyendo los precios fijos del plan. Esto en el sentido de identificar de donde esta saliendo el valor de nan en la prueba"
   ]
  },
  {
   "cell_type": "code",
   "execution_count": 35,
   "metadata": {
    "id": "nFoPNlPq0q1R"
   },
   "outputs": [
    {
     "name": "stdout",
     "output_type": "stream",
     "text": [
      "valor p: 5.643038983408445e-08\n",
      "Rechazamos la hipótesis nula\n"
     ]
    }
   ],
   "source": [
    "# Prueba las hipótesis\n",
    "user_total[\"total_charge\"]= user_total[\"excess_messages_charge\"] + user_total[\"excess_minutes_charge\"] + user_total[\"excess_gb_charge\"] + user_total[\"usd_monthly_pay\"]\n",
    "\n",
    "\n",
    "from scipy import stats as st\n",
    "ultimate_income = user_total[user_total[\"plan\"] == \"ultimate\"][\"total_charge\"].dropna()\n",
    "surf_income = user_total[user_total[\"plan\"] == \"surf\"][\"total_charge\"].dropna()\n",
    "alpha= 0.05\n",
    "\n",
    "results = st.ttest_ind(ultimate_income, surf_income)\n",
    "print(\"valor p:\", results.pvalue)\n",
    "if (results.pvalue < alpha):\n",
    "    print(\"Rechazamos la hipótesis nula\")\n",
    "else:\n",
    "    print(\"No podemos rechazar la hipótesis nula\")"
   ]
  },
  {
   "cell_type": "code",
   "execution_count": null,
   "metadata": {},
   "outputs": [],
   "source": [
    "print(ingreso_mensual_plan.head(5))"
   ]
  },
  {
   "cell_type": "markdown",
   "metadata": {},
   "source": [
    "<div class=\"alert alert-block alert-danger\">\n",
    "\n",
    "<b>Comentario revisor</b> <a class=\"tocSkip\"></a>\n",
    "\n",
    "Gran trabajo! Solamente para hacer el conteo te puedes apoyar de la siguiente función:\n",
    "    \n",
    "    nunique()\n",
    "    \n",
    "Con esto puedes interpretar el resultado de la prueba de hipótesis y continuar con la segunda prueba    "
   ]
  },
  {
   "cell_type": "markdown",
   "metadata": {},
   "source": [
    "<div class=\"alert alert-block alert-danger\">\n",
    "\n",
    "<b>Comentario revisor</b> <a class=\"tocSkip\"></a>\n",
    "\n",
    "Solamente verifica que no tenemos valores nulos que esten haciendo que el valor p sea nan. Con esto puedes continuar con el desarrollo de la segunda prueba"
   ]
  },
  {
   "cell_type": "markdown",
   "metadata": {},
   "source": [
    "\n",
    "<div class=\"alert alert-block alert-danger\">\n",
    "<b>Comentario del revisor:</b> <a class=\"tocSkip\"></a>\n",
    "    \n",
    "Gran trabajo con el ajuste! Solamente para terminar de verificar, imprime la estadistica descriptiva de cada plan para determinar y eoncontrar de donde puede venir el resulto del valor p de nan"
   ]
  },
  {
   "cell_type": "markdown",
   "metadata": {},
   "source": [
    "\n",
    "<div class=\"alert alert-block alert-success\">\n",
    "<b>Comentario del revisor:</b> <a class=\"tocSkip\"></a>\n",
    "    \n",
    "Gran trabajo con el ajuste! De esta manera podemos identificar un valor p , solamente agrega una interpretación a este resultado. Sigue disfrutando los siguientes cursos!"
   ]
  },
  {
   "cell_type": "markdown",
   "metadata": {},
   "source": [
    "No se por que me sale que valor p es nan, pero busco valores nulos y me sale que ninguno, tambien en la informacion presentada inicialmente sale que no hay valores nulos. "
   ]
  },
  {
   "cell_type": "markdown",
   "metadata": {
    "id": "tCcAruM60q1R"
   },
   "source": [
    "[Prueba la hipótesis de que el ingreso promedio de los usuarios del área NY-NJ es diferente al de los usuarios de otras regiones.]"
   ]
  },
  {
   "cell_type": "markdown",
   "metadata": {
    "id": "LsBgitqj0q1R"
   },
   "source": [
    "[Elabora las hipótesis nula y alternativa, escoge la prueba estadística, determina el valor alfa.]"
   ]
  },
  {
   "cell_type": "code",
   "execution_count": 38,
   "metadata": {
    "id": "Cqcj7wrZ0q1S"
   },
   "outputs": [
    {
     "name": "stdout",
     "output_type": "stream",
     "text": [
      "      user_id  month  call_count  duration  message_count   mb_used plan_x  \\\n",
      "37       1014     11          28    149.33              9   1175.59   surf   \n",
      "38       1014     12         150   1050.62             64   7792.41   surf   \n",
      "59       1027      7          46    327.90             18  11516.06   surf   \n",
      "60       1027      8          49    341.30             13  20351.10   surf   \n",
      "61       1027      9          53    304.12             12  17075.76   surf   \n",
      "...       ...    ...         ...       ...            ...       ...    ...   \n",
      "1748     1494      8          78    458.57             27  16492.04   surf   \n",
      "1749     1494      9          67    459.02             21  16181.14   surf   \n",
      "1750     1494     10          78    585.82             38  14498.50   surf   \n",
      "1751     1494     11          82    473.23             35  18405.82   surf   \n",
      "1752     1494     12          72    396.19             33  15302.45   surf   \n",
      "\n",
      "      messages_included  mb_per_month_included  minutes_included  ...  \\\n",
      "37                   50                  15360               500  ...   \n",
      "38                   50                  15360               500  ...   \n",
      "59                   50                  15360               500  ...   \n",
      "60                   50                  15360               500  ...   \n",
      "61                   50                  15360               500  ...   \n",
      "...                 ...                    ...               ...  ...   \n",
      "1748                 50                  15360               500  ...   \n",
      "1749                 50                  15360               500  ...   \n",
      "1750                 50                  15360               500  ...   \n",
      "1751                 50                  15360               500  ...   \n",
      "1752                 50                  15360               500  ...   \n",
      "\n",
      "      excess_minutes_charge  excess_gb_charge  total_charge  first_name  \\\n",
      "37                   0.0000                 0       20.0000     Edmundo   \n",
      "38                  16.5186                 0       36.9386     Edmundo   \n",
      "59                   0.0000                 0       20.0000  Georgeanna   \n",
      "60                   0.0000                50       70.0000  Georgeanna   \n",
      "61                   0.0000                20       40.0000  Georgeanna   \n",
      "...                     ...               ...           ...         ...   \n",
      "1748                 0.0000                20       40.0000     Preston   \n",
      "1749                 0.0000                10       30.0000     Preston   \n",
      "1750                 2.5746                 0       22.5746     Preston   \n",
      "1751                 0.0000                30       50.0000     Preston   \n",
      "1752                 0.0000                 0       20.0000     Preston   \n",
      "\n",
      "     last_name  age                                       city   reg_date  \\\n",
      "37       Simon   61  New York-Newark-Jersey City, NY-NJ-PA MSA 2018-11-25   \n",
      "38       Simon   61  New York-Newark-Jersey City, NY-NJ-PA MSA 2018-11-25   \n",
      "59    Cardenas   38  New York-Newark-Jersey City, NY-NJ-PA MSA 2018-06-26   \n",
      "60    Cardenas   38  New York-Newark-Jersey City, NY-NJ-PA MSA 2018-06-26   \n",
      "61    Cardenas   38  New York-Newark-Jersey City, NY-NJ-PA MSA 2018-06-26   \n",
      "...        ...  ...                                        ...        ...   \n",
      "1748     Downs   70  New York-Newark-Jersey City, NY-NJ-PA MSA 2018-04-19   \n",
      "1749     Downs   70  New York-Newark-Jersey City, NY-NJ-PA MSA 2018-04-19   \n",
      "1750     Downs   70  New York-Newark-Jersey City, NY-NJ-PA MSA 2018-04-19   \n",
      "1751     Downs   70  New York-Newark-Jersey City, NY-NJ-PA MSA 2018-04-19   \n",
      "1752     Downs   70  New York-Newark-Jersey City, NY-NJ-PA MSA 2018-04-19   \n",
      "\n",
      "      plan_y  churn_date  \n",
      "37      surf         NaT  \n",
      "38      surf         NaT  \n",
      "59      surf         NaT  \n",
      "60      surf         NaT  \n",
      "61      surf         NaT  \n",
      "...      ...         ...  \n",
      "1748    surf         NaT  \n",
      "1749    surf         NaT  \n",
      "1750    surf         NaT  \n",
      "1751    surf         NaT  \n",
      "1752    surf         NaT  \n",
      "\n",
      "[279 rows x 31 columns]\n",
      "\n",
      "Valor p: 0.004024256220178592\n",
      "Rechazamos la hipótesis nula\n"
     ]
    }
   ],
   "source": [
    "# Prueba las hipótesis\n",
    "user_total= pd.merge(user_total, df_users, on=\"user_id\")\n",
    "ny_nj_income= user_total[user_total[\"city\"] == \"New York-Newark-Jersey City, NY-NJ-PA MSA\"]\n",
    "print(ny_nj_income)\n",
    "print()\n",
    "other_income= user_total[user_total[\"city\"] != \"New York-Newark-Jersey City, NY-NJ-PA MSA\"]\n",
    "\n",
    "results = st.ttest_ind(ny_nj_income[\"total_charge\"].dropna(), other_income[\"total_charge\"].dropna(), equal_var=False)\n",
    "print(\"Valor p:\", results.pvalue)\n",
    "\n",
    "if results.pvalue < 0.05:\n",
    "    print(\"Rechazamos la hipótesis nula\")\n",
    "else:\n",
    "    print(\"No podemos rechazar la hipótesis nula.\")\n"
   ]
  },
  {
   "cell_type": "markdown",
   "metadata": {
    "id": "bbTR8UQO0q1T"
   },
   "source": [
    "## Conclusión general\n",
    "\n",
    "[En esta sección final, enumera tus conclusiones importantes. Asegúrate de que estas abarquen todas las decisiones (suposiciones) importantes que adoptaste y que determinaron la forma elegida para procesar y analizar los datos.]\n",
    "\n",
    "Preprocesamiento de datos:\n",
    "Para garantizar un análisis eficiente y preciso, se realizaron transformaciones en los datos. Por ejemplo, las columnas de fechas, originalmente de tipo \"object,\" se convirtieron al formato datetime para facilitar su manipulación y permitir cálculos temporales más efectivos.\n",
    "\n",
    "Agrupaciones:\n",
    "Los datos se agruparon por usuarios y meses, y posteriormente por planes y meses. Este enfoque permitió identificar patrones de comportamiento tanto a nivel individual como agregado, facilitando un análisis más detallado de las tendencias de consumo.\n",
    "\n",
    "Patrones de actividad:\n",
    "Se observó un aumento en la actividad de ambos planes durante los últimos meses del año, en comparación con el inicio. Este incremento podría atribuirse a factores como promociones específicas, ofertas estacionales, o un mayor uso durante las festividades de fin de año.\n",
    "\n",
    "Consumo de internet en el plan Ultimate:\n",
    "Los usuarios del plan Ultimate mostraron un tráfico constante y elevado de datos móviles a lo largo del año. Sin embargo, en pocas ocasiones excedieron el límite de megabytes establecido, lo que indica que este plan satisface las necesidades de la mayoría de sus usuarios.\n",
    "\n",
    "Sobrecargos en el plan Surf:\n",
    "Los usuarios del plan Surf tendieron a exceder los límites establecidos en su plan con mayor frecuencia, lo que resultó en pagos más elevados por actividad mensual en comparación con los usuarios del plan Ultimate.\n",
    "\n",
    "Proyecciones: \n",
    "Eficiencia del plan Ultimate:\n",
    "El bajo número de usuarios que exceden los límites de datos en el plan Ultimate sugiere que este plan está diseñado para atender a consumidores de alto tráfico, promoviendo la satisfacción del cliente al minimizar sobrecargos inesperados.\n",
    "\n",
    "Rentabilidad del plan Surf:\n",
    "Aunque los usuarios del plan Surf pagan más en general debido a los sobrecargos, esto podría representar una estrategia comercial para maximizar ingresos de usuarios con patrones de consumo variables. Sin embargo, un porcentaje elevado de sobrecargos podría derivar en insatisfacción a largo plazo y fomentar migraciones al plan Ultimate.  esto también podría aumentar las quejas de los clientes y elevar las tasas de cancelación."
   ]
  },
  {
   "cell_type": "code",
   "execution_count": null,
   "metadata": {},
   "outputs": [],
   "source": []
  },
  {
   "cell_type": "code",
   "execution_count": null,
   "metadata": {},
   "outputs": [],
   "source": []
  }
 ],
 "metadata": {
  "ExecuteTimeLog": [
   {
    "duration": 828,
    "start_time": "2021-11-16T09:21:11.304Z"
   },
   {
    "duration": 893,
    "start_time": "2021-11-16T09:21:17.728Z"
   },
   {
    "duration": 1150,
    "start_time": "2021-11-16T09:21:29.568Z"
   },
   {
    "duration": 3,
    "start_time": "2021-11-16T09:24:14.495Z"
   },
   {
    "duration": 120,
    "start_time": "2021-11-16T09:24:46.630Z"
   },
   {
    "duration": 3,
    "start_time": "2021-11-16T09:28:27.882Z"
   },
   {
    "duration": 4,
    "start_time": "2021-11-16T09:29:54.281Z"
   },
   {
    "duration": 3,
    "start_time": "2021-11-16T09:30:45.936Z"
   },
   {
    "duration": 4,
    "start_time": "2021-11-16T09:31:06.300Z"
   },
   {
    "duration": 113,
    "start_time": "2021-11-16T09:31:37.208Z"
   },
   {
    "duration": 143,
    "start_time": "2021-11-16T09:31:48.656Z"
   },
   {
    "duration": 98,
    "start_time": "2021-11-16T09:31:55.678Z"
   },
   {
    "duration": 3,
    "start_time": "2021-11-16T09:32:08.535Z"
   },
   {
    "duration": 111,
    "start_time": "2021-11-16T09:32:10.120Z"
   },
   {
    "duration": 3,
    "start_time": "2021-11-16T09:32:15.732Z"
   },
   {
    "duration": 4,
    "start_time": "2021-11-16T09:32:29.423Z"
   },
   {
    "duration": 3,
    "start_time": "2021-11-16T10:03:03.074Z"
   },
   {
    "duration": 3,
    "start_time": "2021-11-16T10:10:01.288Z"
   },
   {
    "duration": 3,
    "start_time": "2021-11-16T10:10:46.923Z"
   },
   {
    "duration": 121,
    "start_time": "2021-11-16T10:37:46.494Z"
   },
   {
    "duration": 125,
    "start_time": "2021-11-16T10:38:20.632Z"
   },
   {
    "duration": 112,
    "start_time": "2021-11-16T10:46:53.001Z"
   },
   {
    "duration": 110,
    "start_time": "2021-11-16T10:48:25.775Z"
   },
   {
    "duration": 3,
    "start_time": "2021-11-16T10:50:18.720Z"
   },
   {
    "duration": 4,
    "start_time": "2021-11-16T10:50:37.649Z"
   },
   {
    "duration": 2,
    "start_time": "2021-11-16T10:50:51.884Z"
   },
   {
    "duration": 3,
    "start_time": "2021-11-16T10:51:56.237Z"
   },
   {
    "duration": 101,
    "start_time": "2021-11-16T10:53:13.791Z"
   },
   {
    "duration": 3,
    "start_time": "2021-11-16T10:55:59.186Z"
   },
   {
    "duration": 3,
    "start_time": "2021-11-16T10:56:10.751Z"
   },
   {
    "duration": 3,
    "start_time": "2021-11-16T10:56:49.038Z"
   },
   {
    "duration": 3,
    "start_time": "2021-11-16T10:56:49.174Z"
   },
   {
    "duration": 4,
    "start_time": "2021-11-16T10:56:49.414Z"
   },
   {
    "duration": 3,
    "start_time": "2021-11-16T10:56:49.680Z"
   },
   {
    "duration": 3,
    "start_time": "2021-11-16T10:56:50.370Z"
   },
   {
    "duration": 114,
    "start_time": "2021-11-16T10:59:34.518Z"
   },
   {
    "duration": 3,
    "start_time": "2021-11-16T11:01:41.201Z"
   },
   {
    "duration": 116,
    "start_time": "2021-11-16T11:01:48.754Z"
   },
   {
    "duration": 3,
    "start_time": "2021-11-16T11:02:16.685Z"
   },
   {
    "duration": 3,
    "start_time": "2021-11-16T11:02:19.479Z"
   },
   {
    "duration": 3,
    "start_time": "2021-11-16T11:02:47.067Z"
   },
   {
    "duration": 3,
    "start_time": "2021-11-16T11:02:49.353Z"
   },
   {
    "duration": 3,
    "start_time": "2021-11-16T11:03:07.835Z"
   },
   {
    "duration": 3,
    "start_time": "2021-11-16T11:03:07.953Z"
   },
   {
    "duration": 112,
    "start_time": "2021-11-16T11:07:52.072Z"
   },
   {
    "duration": 187,
    "start_time": "2021-11-16T11:09:23.468Z"
   },
   {
    "duration": 4,
    "start_time": "2021-11-16T11:10:01.455Z"
   },
   {
    "duration": 3,
    "start_time": "2021-11-16T11:10:05.069Z"
   },
   {
    "duration": 4,
    "start_time": "2021-11-16T11:10:13.376Z"
   },
   {
    "duration": 3,
    "start_time": "2021-11-16T11:10:14.434Z"
   },
   {
    "duration": 3,
    "start_time": "2021-11-16T11:10:22.853Z"
   },
   {
    "duration": 4,
    "start_time": "2021-11-16T11:27:29.279Z"
   },
   {
    "duration": 4,
    "start_time": "2021-11-16T11:29:08.919Z"
   },
   {
    "duration": 118,
    "start_time": "2021-11-16T11:29:46.703Z"
   },
   {
    "duration": 437,
    "start_time": "2021-11-16T11:36:02.181Z"
   },
   {
    "duration": 157,
    "start_time": "2021-11-16T11:36:14.388Z"
   },
   {
    "duration": 207,
    "start_time": "2021-11-16T11:47:15.898Z"
   },
   {
    "duration": 3,
    "start_time": "2021-11-16T11:53:52.092Z"
   },
   {
    "duration": 3,
    "start_time": "2021-11-16T11:53:52.236Z"
   },
   {
    "duration": 3,
    "start_time": "2021-11-16T11:59:12.005Z"
   },
   {
    "duration": 112,
    "start_time": "2021-11-16T12:00:33.446Z"
   },
   {
    "duration": 3,
    "start_time": "2021-11-16T12:02:14.453Z"
   },
   {
    "duration": 3,
    "start_time": "2021-11-16T12:02:39.512Z"
   },
   {
    "duration": 106,
    "start_time": "2021-11-16T12:03:03.460Z"
   },
   {
    "duration": 3,
    "start_time": "2021-11-17T20:37:21.139Z"
   },
   {
    "duration": 3,
    "start_time": "2021-11-17T20:37:22.229Z"
   },
   {
    "duration": 3,
    "start_time": "2021-11-17T20:38:38.806Z"
   },
   {
    "duration": 3,
    "start_time": "2021-11-17T20:38:41.958Z"
   },
   {
    "duration": 3,
    "start_time": "2021-11-17T20:43:46.551Z"
   },
   {
    "duration": 4,
    "start_time": "2021-11-17T20:58:21.835Z"
   },
   {
    "duration": 3,
    "start_time": "2021-11-17T20:59:21.872Z"
   },
   {
    "duration": 4,
    "start_time": "2021-11-17T20:59:45.352Z"
   },
   {
    "duration": 4,
    "start_time": "2021-11-17T20:59:49.646Z"
   },
   {
    "duration": 159,
    "start_time": "2021-11-17T21:02:26.949Z"
   },
   {
    "duration": 3,
    "start_time": "2021-11-17T21:03:53.461Z"
   },
   {
    "duration": 3,
    "start_time": "2021-11-17T21:03:53.694Z"
   },
   {
    "duration": 3,
    "start_time": "2021-11-17T21:05:28.145Z"
   },
   {
    "duration": 116,
    "start_time": "2021-11-17T21:05:57.787Z"
   },
   {
    "duration": 3,
    "start_time": "2021-11-17T21:06:37.993Z"
   },
   {
    "duration": 3,
    "start_time": "2021-11-17T21:06:38.261Z"
   },
   {
    "duration": 3,
    "start_time": "2021-11-17T21:11:54.358Z"
   },
   {
    "duration": 3,
    "start_time": "2021-11-17T21:12:43.846Z"
   },
   {
    "duration": 4,
    "start_time": "2021-11-17T21:13:08.773Z"
   },
   {
    "duration": 3,
    "start_time": "2021-11-17T21:14:44.441Z"
   },
   {
    "duration": 3,
    "start_time": "2021-11-17T21:15:42.059Z"
   },
   {
    "duration": 4,
    "start_time": "2021-11-17T21:15:51.995Z"
   },
   {
    "duration": 3,
    "start_time": "2021-11-17T21:15:53.923Z"
   },
   {
    "duration": 3,
    "start_time": "2021-11-17T21:15:55.282Z"
   },
   {
    "duration": 3,
    "start_time": "2021-11-17T21:16:28.492Z"
   },
   {
    "duration": 3,
    "start_time": "2021-11-17T21:16:32.603Z"
   },
   {
    "duration": 3,
    "start_time": "2021-11-17T21:17:06.941Z"
   },
   {
    "duration": 98,
    "start_time": "2021-11-17T21:18:05.733Z"
   },
   {
    "duration": 4,
    "start_time": "2021-11-17T21:21:35.255Z"
   },
   {
    "duration": 3,
    "start_time": "2021-11-17T21:21:37.804Z"
   },
   {
    "duration": 4,
    "start_time": "2021-11-17T21:23:06.071Z"
   },
   {
    "duration": 3,
    "start_time": "2021-11-17T21:23:24.799Z"
   },
   {
    "duration": 3,
    "start_time": "2021-11-17T21:23:32.591Z"
   },
   {
    "duration": 98,
    "start_time": "2021-11-17T21:28:31.559Z"
   },
   {
    "duration": 3,
    "start_time": "2021-11-17T21:28:45.448Z"
   },
   {
    "duration": 3,
    "start_time": "2021-11-17T21:29:17.303Z"
   },
   {
    "duration": 3,
    "start_time": "2021-11-17T21:29:29.617Z"
   },
   {
    "duration": 3,
    "start_time": "2021-11-17T21:29:32.681Z"
   },
   {
    "duration": 3,
    "start_time": "2021-11-17T21:36:11.474Z"
   },
   {
    "duration": 3,
    "start_time": "2021-11-17T21:36:14.791Z"
   },
   {
    "duration": 3,
    "start_time": "2021-11-17T21:36:53.943Z"
   },
   {
    "duration": 3,
    "start_time": "2021-11-17T21:36:56.165Z"
   },
   {
    "duration": 4,
    "start_time": "2021-11-17T21:37:16.590Z"
   },
   {
    "duration": 3,
    "start_time": "2021-11-17T21:37:22.702Z"
   },
   {
    "duration": 4,
    "start_time": "2021-11-17T21:38:03.479Z"
   },
   {
    "duration": 3,
    "start_time": "2021-11-17T21:38:08.601Z"
   },
   {
    "duration": 3,
    "start_time": "2021-11-17T21:38:12.928Z"
   },
   {
    "duration": 3,
    "start_time": "2021-11-17T21:38:48.896Z"
   },
   {
    "duration": 2,
    "start_time": "2021-11-17T21:38:49.171Z"
   },
   {
    "duration": 4,
    "start_time": "2021-11-17T21:39:57.889Z"
   },
   {
    "duration": 3,
    "start_time": "2021-11-17T21:39:58.057Z"
   },
   {
    "duration": 3,
    "start_time": "2021-11-17T21:41:20.108Z"
   },
   {
    "duration": 3,
    "start_time": "2021-11-17T21:41:20.629Z"
   },
   {
    "duration": 3,
    "start_time": "2021-11-17T21:42:49.136Z"
   },
   {
    "duration": 3,
    "start_time": "2021-11-17T21:43:15.137Z"
   },
   {
    "duration": 4,
    "start_time": "2021-11-17T21:43:16.766Z"
   },
   {
    "duration": 4,
    "start_time": "2021-11-17T21:43:31.711Z"
   },
   {
    "duration": 3,
    "start_time": "2021-11-17T21:43:36.312Z"
   },
   {
    "duration": 4,
    "start_time": "2021-11-17T21:45:08.825Z"
   },
   {
    "duration": 4,
    "start_time": "2021-11-17T21:45:10.119Z"
   },
   {
    "duration": 4,
    "start_time": "2021-11-17T21:45:13.748Z"
   },
   {
    "duration": 3,
    "start_time": "2021-11-17T21:45:22.219Z"
   },
   {
    "duration": 3,
    "start_time": "2021-11-17T21:45:33.412Z"
   },
   {
    "duration": 2,
    "start_time": "2021-11-17T21:46:01.885Z"
   },
   {
    "duration": 3,
    "start_time": "2021-11-17T21:46:03.628Z"
   },
   {
    "duration": 107,
    "start_time": "2021-11-17T21:47:32.512Z"
   },
   {
    "duration": 103,
    "start_time": "2021-11-17T21:50:36.243Z"
   },
   {
    "duration": 3,
    "start_time": "2021-11-18T06:28:31.440Z"
   },
   {
    "duration": 3,
    "start_time": "2021-11-18T06:29:00.168Z"
   },
   {
    "duration": 3,
    "start_time": "2021-11-18T06:31:27.008Z"
   },
   {
    "duration": 2,
    "start_time": "2021-11-18T06:35:34.288Z"
   },
   {
    "duration": 2,
    "start_time": "2021-11-18T06:38:04.527Z"
   },
   {
    "duration": 341,
    "start_time": "2025-01-15T00:17:49.648Z"
   },
   {
    "duration": 6,
    "start_time": "2025-01-15T00:18:48.556Z"
   },
   {
    "duration": 321,
    "start_time": "2025-01-15T21:40:52.633Z"
   },
   {
    "duration": 6,
    "start_time": "2025-01-15T21:40:56.935Z"
   },
   {
    "duration": 176,
    "start_time": "2025-01-15T21:41:08.914Z"
   },
   {
    "duration": 206,
    "start_time": "2025-01-15T21:42:25.727Z"
   },
   {
    "duration": 155,
    "start_time": "2025-01-15T21:43:40.630Z"
   },
   {
    "duration": 41,
    "start_time": "2025-01-15T21:45:27.612Z"
   },
   {
    "duration": 9,
    "start_time": "2025-01-15T21:46:54.660Z"
   },
   {
    "duration": 7,
    "start_time": "2025-01-15T21:47:56.839Z"
   },
   {
    "duration": 11,
    "start_time": "2025-01-15T23:11:52.108Z"
   },
   {
    "duration": 6,
    "start_time": "2025-01-15T23:14:44.724Z"
   },
   {
    "duration": 277,
    "start_time": "2025-01-15T23:31:54.773Z"
   },
   {
    "duration": 272,
    "start_time": "2025-01-15T23:34:15.071Z"
   },
   {
    "duration": 10,
    "start_time": "2025-01-15T23:36:10.265Z"
   },
   {
    "duration": 11,
    "start_time": "2025-01-15T23:36:44.458Z"
   },
   {
    "duration": 15,
    "start_time": "2025-01-15T23:42:42.260Z"
   },
   {
    "duration": 5,
    "start_time": "2025-01-15T23:43:56.803Z"
   },
   {
    "duration": 34,
    "start_time": "2025-01-15T23:48:30.613Z"
   },
   {
    "duration": 12,
    "start_time": "2025-01-15T23:48:41.055Z"
   },
   {
    "duration": 12,
    "start_time": "2025-01-15T23:50:39.468Z"
   },
   {
    "duration": 5,
    "start_time": "2025-01-15T23:50:54.951Z"
   },
   {
    "duration": 22,
    "start_time": "2025-01-15T23:53:33.625Z"
   },
   {
    "duration": 11,
    "start_time": "2025-01-15T23:53:39.516Z"
   },
   {
    "duration": 14,
    "start_time": "2025-01-15T23:54:55.925Z"
   },
   {
    "duration": 5,
    "start_time": "2025-01-15T23:55:12.814Z"
   },
   {
    "duration": 27,
    "start_time": "2025-01-15T23:59:21.991Z"
   },
   {
    "duration": 8,
    "start_time": "2025-01-16T00:15:24.044Z"
   },
   {
    "duration": 22,
    "start_time": "2025-01-16T00:21:03.110Z"
   },
   {
    "duration": 9,
    "start_time": "2025-01-16T00:24:22.719Z"
   },
   {
    "duration": 14,
    "start_time": "2025-01-16T00:43:58.794Z"
   },
   {
    "duration": 35,
    "start_time": "2025-01-16T01:01:54.548Z"
   },
   {
    "duration": 27,
    "start_time": "2025-01-16T01:01:59.360Z"
   },
   {
    "duration": 28,
    "start_time": "2025-01-16T01:05:14.926Z"
   },
   {
    "duration": 26,
    "start_time": "2025-01-16T01:17:22.829Z"
   },
   {
    "duration": 20,
    "start_time": "2025-01-16T01:17:32.926Z"
   },
   {
    "duration": 11,
    "start_time": "2025-01-16T01:20:40.167Z"
   },
   {
    "duration": 19,
    "start_time": "2025-01-16T01:21:34.396Z"
   },
   {
    "duration": 17,
    "start_time": "2025-01-16T01:22:33.028Z"
   },
   {
    "duration": 202,
    "start_time": "2025-01-16T01:23:47.871Z"
   },
   {
    "duration": 19,
    "start_time": "2025-01-16T01:25:02.607Z"
   },
   {
    "duration": 334,
    "start_time": "2025-01-16T02:03:39.333Z"
   },
   {
    "duration": 212,
    "start_time": "2025-01-16T02:03:39.669Z"
   },
   {
    "duration": 10,
    "start_time": "2025-01-16T02:03:39.883Z"
   },
   {
    "duration": 7,
    "start_time": "2025-01-16T02:03:39.896Z"
   },
   {
    "duration": 8,
    "start_time": "2025-01-16T02:03:39.905Z"
   },
   {
    "duration": 6,
    "start_time": "2025-01-16T02:03:39.915Z"
   },
   {
    "duration": 10,
    "start_time": "2025-01-16T02:03:39.922Z"
   },
   {
    "duration": 15,
    "start_time": "2025-01-16T02:03:39.933Z"
   },
   {
    "duration": 4,
    "start_time": "2025-01-16T02:03:39.950Z"
   },
   {
    "duration": 53,
    "start_time": "2025-01-16T02:03:39.958Z"
   },
   {
    "duration": 14,
    "start_time": "2025-01-16T02:03:40.013Z"
   },
   {
    "duration": 3,
    "start_time": "2025-01-16T02:03:40.029Z"
   },
   {
    "duration": 13,
    "start_time": "2025-01-16T02:03:40.034Z"
   },
   {
    "duration": 14,
    "start_time": "2025-01-16T02:03:40.049Z"
   },
   {
    "duration": 5,
    "start_time": "2025-01-16T02:03:40.065Z"
   },
   {
    "duration": 19,
    "start_time": "2025-01-16T02:03:40.107Z"
   },
   {
    "duration": 11,
    "start_time": "2025-01-16T02:03:40.127Z"
   },
   {
    "duration": 28,
    "start_time": "2025-01-16T02:03:40.139Z"
   },
   {
    "duration": 52,
    "start_time": "2025-01-16T02:03:40.169Z"
   },
   {
    "duration": 16,
    "start_time": "2025-01-16T02:03:40.223Z"
   },
   {
    "duration": 114,
    "start_time": "2025-01-16T02:03:40.241Z"
   },
   {
    "duration": 0,
    "start_time": "2025-01-16T02:03:40.357Z"
   },
   {
    "duration": 0,
    "start_time": "2025-01-16T02:03:40.359Z"
   },
   {
    "duration": 0,
    "start_time": "2025-01-16T02:03:40.360Z"
   },
   {
    "duration": 0,
    "start_time": "2025-01-16T02:03:40.361Z"
   },
   {
    "duration": 0,
    "start_time": "2025-01-16T02:03:40.362Z"
   },
   {
    "duration": 0,
    "start_time": "2025-01-16T02:03:40.363Z"
   },
   {
    "duration": 0,
    "start_time": "2025-01-16T02:03:40.364Z"
   },
   {
    "duration": 0,
    "start_time": "2025-01-16T02:03:40.365Z"
   },
   {
    "duration": 0,
    "start_time": "2025-01-16T02:03:40.366Z"
   },
   {
    "duration": 0,
    "start_time": "2025-01-16T02:03:40.367Z"
   },
   {
    "duration": 0,
    "start_time": "2025-01-16T02:03:40.368Z"
   },
   {
    "duration": 125,
    "start_time": "2025-01-16T02:04:12.541Z"
   },
   {
    "duration": 19,
    "start_time": "2025-01-16T02:04:43.972Z"
   },
   {
    "duration": 302,
    "start_time": "2025-01-16T02:35:17.845Z"
   },
   {
    "duration": 155,
    "start_time": "2025-01-16T02:35:18.149Z"
   },
   {
    "duration": 9,
    "start_time": "2025-01-16T02:35:18.306Z"
   },
   {
    "duration": 7,
    "start_time": "2025-01-16T02:35:18.316Z"
   },
   {
    "duration": 8,
    "start_time": "2025-01-16T02:35:18.325Z"
   },
   {
    "duration": 5,
    "start_time": "2025-01-16T02:35:18.334Z"
   },
   {
    "duration": 10,
    "start_time": "2025-01-16T02:35:18.341Z"
   },
   {
    "duration": 14,
    "start_time": "2025-01-16T02:35:18.353Z"
   },
   {
    "duration": 38,
    "start_time": "2025-01-16T02:35:18.368Z"
   },
   {
    "duration": 22,
    "start_time": "2025-01-16T02:35:18.408Z"
   },
   {
    "duration": 12,
    "start_time": "2025-01-16T02:35:18.431Z"
   },
   {
    "duration": 4,
    "start_time": "2025-01-16T02:35:18.445Z"
   },
   {
    "duration": 13,
    "start_time": "2025-01-16T02:35:18.451Z"
   },
   {
    "duration": 45,
    "start_time": "2025-01-16T02:35:18.466Z"
   },
   {
    "duration": 5,
    "start_time": "2025-01-16T02:35:18.513Z"
   },
   {
    "duration": 17,
    "start_time": "2025-01-16T02:35:18.520Z"
   },
   {
    "duration": 7,
    "start_time": "2025-01-16T02:35:18.539Z"
   },
   {
    "duration": 27,
    "start_time": "2025-01-16T02:35:18.548Z"
   },
   {
    "duration": 53,
    "start_time": "2025-01-16T02:35:18.577Z"
   },
   {
    "duration": 16,
    "start_time": "2025-01-16T02:35:18.632Z"
   },
   {
    "duration": 19,
    "start_time": "2025-01-16T02:35:18.650Z"
   },
   {
    "duration": 77,
    "start_time": "2025-01-16T02:35:18.671Z"
   },
   {
    "duration": 2,
    "start_time": "2025-01-16T02:35:18.750Z"
   },
   {
    "duration": 2,
    "start_time": "2025-01-16T02:35:18.754Z"
   },
   {
    "duration": 2,
    "start_time": "2025-01-16T02:35:18.758Z"
   },
   {
    "duration": 2,
    "start_time": "2025-01-16T02:35:18.763Z"
   },
   {
    "duration": 2,
    "start_time": "2025-01-16T02:35:18.766Z"
   },
   {
    "duration": 2,
    "start_time": "2025-01-16T02:35:18.770Z"
   },
   {
    "duration": 3,
    "start_time": "2025-01-16T02:35:18.806Z"
   },
   {
    "duration": 3,
    "start_time": "2025-01-16T02:35:18.810Z"
   },
   {
    "duration": 3,
    "start_time": "2025-01-16T02:35:18.814Z"
   },
   {
    "duration": 3,
    "start_time": "2025-01-16T02:35:18.818Z"
   },
   {
    "duration": 3,
    "start_time": "2025-01-16T02:37:48.531Z"
   },
   {
    "duration": 3,
    "start_time": "2025-01-16T02:37:59.371Z"
   },
   {
    "duration": 4,
    "start_time": "2025-01-16T02:38:27.655Z"
   },
   {
    "duration": 15,
    "start_time": "2025-01-16T02:39:20.782Z"
   },
   {
    "duration": 11,
    "start_time": "2025-01-16T03:45:02.703Z"
   },
   {
    "duration": 5,
    "start_time": "2025-01-16T03:45:23.976Z"
   },
   {
    "duration": 11,
    "start_time": "2025-01-16T03:45:41.287Z"
   },
   {
    "duration": 9,
    "start_time": "2025-01-16T03:45:47.592Z"
   },
   {
    "duration": 14,
    "start_time": "2025-01-16T04:16:17.518Z"
   },
   {
    "duration": 553,
    "start_time": "2025-01-16T04:19:06.879Z"
   },
   {
    "duration": 28,
    "start_time": "2025-01-16T04:23:07.036Z"
   },
   {
    "duration": 29,
    "start_time": "2025-01-16T04:23:35.578Z"
   },
   {
    "duration": 14,
    "start_time": "2025-01-16T04:26:39.824Z"
   },
   {
    "duration": 26,
    "start_time": "2025-01-16T04:29:20.455Z"
   },
   {
    "duration": 15,
    "start_time": "2025-01-16T04:29:40.993Z"
   },
   {
    "duration": 27,
    "start_time": "2025-01-16T04:47:40.707Z"
   },
   {
    "duration": 10,
    "start_time": "2025-01-16T04:48:00.168Z"
   },
   {
    "duration": 20,
    "start_time": "2025-01-16T04:48:08.117Z"
   },
   {
    "duration": 71,
    "start_time": "2025-01-16T04:48:31.518Z"
   },
   {
    "duration": 20,
    "start_time": "2025-01-16T04:54:00.298Z"
   },
   {
    "duration": 294,
    "start_time": "2025-01-16T04:54:18.257Z"
   },
   {
    "duration": 154,
    "start_time": "2025-01-16T04:54:18.553Z"
   },
   {
    "duration": 11,
    "start_time": "2025-01-16T04:54:18.709Z"
   },
   {
    "duration": 6,
    "start_time": "2025-01-16T04:54:18.722Z"
   },
   {
    "duration": 8,
    "start_time": "2025-01-16T04:54:18.730Z"
   },
   {
    "duration": 5,
    "start_time": "2025-01-16T04:54:18.740Z"
   },
   {
    "duration": 10,
    "start_time": "2025-01-16T04:54:18.746Z"
   },
   {
    "duration": 47,
    "start_time": "2025-01-16T04:54:18.758Z"
   },
   {
    "duration": 5,
    "start_time": "2025-01-16T04:54:18.807Z"
   },
   {
    "duration": 36,
    "start_time": "2025-01-16T04:54:18.816Z"
   },
   {
    "duration": 12,
    "start_time": "2025-01-16T04:54:18.853Z"
   },
   {
    "duration": 4,
    "start_time": "2025-01-16T04:54:18.867Z"
   },
   {
    "duration": 54,
    "start_time": "2025-01-16T04:54:18.873Z"
   },
   {
    "duration": 13,
    "start_time": "2025-01-16T04:54:18.929Z"
   },
   {
    "duration": 5,
    "start_time": "2025-01-16T04:54:18.943Z"
   },
   {
    "duration": 27,
    "start_time": "2025-01-16T04:54:18.949Z"
   },
   {
    "duration": 32,
    "start_time": "2025-01-16T04:54:18.977Z"
   },
   {
    "duration": 27,
    "start_time": "2025-01-16T04:54:19.011Z"
   },
   {
    "duration": 25,
    "start_time": "2025-01-16T04:54:19.040Z"
   },
   {
    "duration": 38,
    "start_time": "2025-01-16T04:54:19.067Z"
   },
   {
    "duration": 18,
    "start_time": "2025-01-16T04:54:19.107Z"
   },
   {
    "duration": 14,
    "start_time": "2025-01-16T04:54:19.126Z"
   },
   {
    "duration": 4,
    "start_time": "2025-01-16T04:54:19.142Z"
   },
   {
    "duration": 119,
    "start_time": "2025-01-16T04:54:19.148Z"
   },
   {
    "duration": 0,
    "start_time": "2025-01-16T04:54:19.269Z"
   },
   {
    "duration": 0,
    "start_time": "2025-01-16T04:54:19.270Z"
   },
   {
    "duration": 0,
    "start_time": "2025-01-16T04:54:19.271Z"
   },
   {
    "duration": 0,
    "start_time": "2025-01-16T04:54:19.272Z"
   },
   {
    "duration": 0,
    "start_time": "2025-01-16T04:54:19.273Z"
   },
   {
    "duration": 0,
    "start_time": "2025-01-16T04:54:19.275Z"
   },
   {
    "duration": 0,
    "start_time": "2025-01-16T04:54:19.276Z"
   },
   {
    "duration": 0,
    "start_time": "2025-01-16T04:54:19.277Z"
   },
   {
    "duration": 17,
    "start_time": "2025-01-16T04:55:18.543Z"
   },
   {
    "duration": 14,
    "start_time": "2025-01-16T05:15:28.134Z"
   },
   {
    "duration": 10,
    "start_time": "2025-01-16T05:16:00.846Z"
   },
   {
    "duration": 11,
    "start_time": "2025-01-16T05:17:37.218Z"
   },
   {
    "duration": 18,
    "start_time": "2025-01-16T05:23:04.094Z"
   },
   {
    "duration": 15,
    "start_time": "2025-01-16T05:24:14.936Z"
   },
   {
    "duration": 551,
    "start_time": "2025-01-16T05:51:03.206Z"
   },
   {
    "duration": 21,
    "start_time": "2025-01-16T05:51:48.777Z"
   },
   {
    "duration": 41,
    "start_time": "2025-01-16T05:56:14.756Z"
   },
   {
    "duration": 16,
    "start_time": "2025-01-16T05:57:04.058Z"
   },
   {
    "duration": 15,
    "start_time": "2025-01-16T06:04:03.591Z"
   },
   {
    "duration": 17,
    "start_time": "2025-01-16T06:06:14.971Z"
   },
   {
    "duration": 15,
    "start_time": "2025-01-16T06:09:38.870Z"
   },
   {
    "duration": 18,
    "start_time": "2025-01-16T06:15:25.310Z"
   },
   {
    "duration": 10,
    "start_time": "2025-01-16T06:29:25.239Z"
   },
   {
    "duration": 103,
    "start_time": "2025-01-16T07:05:00.053Z"
   },
   {
    "duration": 12,
    "start_time": "2025-01-16T07:23:04.398Z"
   },
   {
    "duration": 12,
    "start_time": "2025-01-16T07:23:26.253Z"
   },
   {
    "duration": 48,
    "start_time": "2025-01-16T07:26:08.395Z"
   },
   {
    "duration": 13,
    "start_time": "2025-01-16T07:27:04.189Z"
   },
   {
    "duration": 14,
    "start_time": "2025-01-16T07:29:09.151Z"
   },
   {
    "duration": 16,
    "start_time": "2025-01-16T07:33:10.821Z"
   },
   {
    "duration": 13,
    "start_time": "2025-01-16T07:34:02.827Z"
   },
   {
    "duration": 13,
    "start_time": "2025-01-16T07:34:18.997Z"
   },
   {
    "duration": 304,
    "start_time": "2025-01-16T07:34:28.242Z"
   },
   {
    "duration": 164,
    "start_time": "2025-01-16T07:34:28.548Z"
   },
   {
    "duration": 9,
    "start_time": "2025-01-16T07:34:28.714Z"
   },
   {
    "duration": 7,
    "start_time": "2025-01-16T07:34:28.725Z"
   },
   {
    "duration": 8,
    "start_time": "2025-01-16T07:34:28.735Z"
   },
   {
    "duration": 5,
    "start_time": "2025-01-16T07:34:28.744Z"
   },
   {
    "duration": 11,
    "start_time": "2025-01-16T07:34:28.750Z"
   },
   {
    "duration": 44,
    "start_time": "2025-01-16T07:34:28.762Z"
   },
   {
    "duration": 5,
    "start_time": "2025-01-16T07:34:28.808Z"
   },
   {
    "duration": 35,
    "start_time": "2025-01-16T07:34:28.815Z"
   },
   {
    "duration": 13,
    "start_time": "2025-01-16T07:34:28.851Z"
   },
   {
    "duration": 4,
    "start_time": "2025-01-16T07:34:28.865Z"
   },
   {
    "duration": 54,
    "start_time": "2025-01-16T07:34:28.871Z"
   },
   {
    "duration": 13,
    "start_time": "2025-01-16T07:34:28.929Z"
   },
   {
    "duration": 5,
    "start_time": "2025-01-16T07:34:28.943Z"
   },
   {
    "duration": 27,
    "start_time": "2025-01-16T07:34:28.949Z"
   },
   {
    "duration": 35,
    "start_time": "2025-01-16T07:34:28.978Z"
   },
   {
    "duration": 27,
    "start_time": "2025-01-16T07:34:29.015Z"
   },
   {
    "duration": 27,
    "start_time": "2025-01-16T07:34:29.044Z"
   },
   {
    "duration": 37,
    "start_time": "2025-01-16T07:34:29.073Z"
   },
   {
    "duration": 19,
    "start_time": "2025-01-16T07:34:29.112Z"
   },
   {
    "duration": 14,
    "start_time": "2025-01-16T07:34:29.133Z"
   },
   {
    "duration": 9,
    "start_time": "2025-01-16T07:34:29.148Z"
   },
   {
    "duration": 201,
    "start_time": "2025-01-16T07:34:29.159Z"
   },
   {
    "duration": 0,
    "start_time": "2025-01-16T07:34:29.362Z"
   },
   {
    "duration": 0,
    "start_time": "2025-01-16T07:34:29.364Z"
   },
   {
    "duration": 0,
    "start_time": "2025-01-16T07:34:29.365Z"
   },
   {
    "duration": 0,
    "start_time": "2025-01-16T07:34:29.367Z"
   },
   {
    "duration": 0,
    "start_time": "2025-01-16T07:34:29.368Z"
   },
   {
    "duration": 0,
    "start_time": "2025-01-16T07:34:29.370Z"
   },
   {
    "duration": 0,
    "start_time": "2025-01-16T07:34:29.371Z"
   },
   {
    "duration": 0,
    "start_time": "2025-01-16T07:34:29.372Z"
   },
   {
    "duration": 5,
    "start_time": "2025-01-16T07:34:43.199Z"
   },
   {
    "duration": 8,
    "start_time": "2025-01-16T07:42:14.090Z"
   },
   {
    "duration": 15,
    "start_time": "2025-01-16T07:42:35.847Z"
   },
   {
    "duration": 14,
    "start_time": "2025-01-16T07:42:41.741Z"
   },
   {
    "duration": 326,
    "start_time": "2025-01-16T21:15:00.236Z"
   },
   {
    "duration": 228,
    "start_time": "2025-01-16T21:15:00.564Z"
   },
   {
    "duration": 10,
    "start_time": "2025-01-16T21:15:00.793Z"
   },
   {
    "duration": 7,
    "start_time": "2025-01-16T21:15:00.806Z"
   },
   {
    "duration": 8,
    "start_time": "2025-01-16T21:15:00.814Z"
   },
   {
    "duration": 5,
    "start_time": "2025-01-16T21:15:00.824Z"
   },
   {
    "duration": 10,
    "start_time": "2025-01-16T21:15:00.830Z"
   },
   {
    "duration": 14,
    "start_time": "2025-01-16T21:15:00.842Z"
   },
   {
    "duration": 4,
    "start_time": "2025-01-16T21:15:00.857Z"
   },
   {
    "duration": 65,
    "start_time": "2025-01-16T21:15:00.864Z"
   },
   {
    "duration": 11,
    "start_time": "2025-01-16T21:15:00.930Z"
   },
   {
    "duration": 4,
    "start_time": "2025-01-16T21:15:00.943Z"
   },
   {
    "duration": 22,
    "start_time": "2025-01-16T21:15:00.948Z"
   },
   {
    "duration": 13,
    "start_time": "2025-01-16T21:15:00.972Z"
   },
   {
    "duration": 5,
    "start_time": "2025-01-16T21:15:01.012Z"
   },
   {
    "duration": 26,
    "start_time": "2025-01-16T21:15:01.018Z"
   },
   {
    "duration": 9,
    "start_time": "2025-01-16T21:15:01.046Z"
   },
   {
    "duration": 28,
    "start_time": "2025-01-16T21:15:01.057Z"
   },
   {
    "duration": 50,
    "start_time": "2025-01-16T21:15:01.086Z"
   },
   {
    "duration": 16,
    "start_time": "2025-01-16T21:15:01.139Z"
   },
   {
    "duration": 18,
    "start_time": "2025-01-16T21:15:01.157Z"
   },
   {
    "duration": 38,
    "start_time": "2025-01-16T21:15:01.176Z"
   },
   {
    "duration": 10,
    "start_time": "2025-01-16T21:15:01.216Z"
   },
   {
    "duration": 5,
    "start_time": "2025-01-16T21:15:01.227Z"
   },
   {
    "duration": 0,
    "start_time": "2025-01-16T21:15:01.234Z"
   },
   {
    "duration": 0,
    "start_time": "2025-01-16T21:15:01.235Z"
   },
   {
    "duration": 0,
    "start_time": "2025-01-16T21:15:01.236Z"
   },
   {
    "duration": 0,
    "start_time": "2025-01-16T21:15:01.237Z"
   },
   {
    "duration": 0,
    "start_time": "2025-01-16T21:15:01.238Z"
   },
   {
    "duration": 0,
    "start_time": "2025-01-16T21:15:01.240Z"
   },
   {
    "duration": 0,
    "start_time": "2025-01-16T21:15:01.241Z"
   },
   {
    "duration": 0,
    "start_time": "2025-01-16T21:15:01.243Z"
   },
   {
    "duration": 10,
    "start_time": "2025-01-16T21:38:31.055Z"
   },
   {
    "duration": 4,
    "start_time": "2025-01-16T21:40:28.944Z"
   },
   {
    "duration": 17,
    "start_time": "2025-01-16T21:59:21.462Z"
   },
   {
    "duration": 271,
    "start_time": "2025-01-16T22:35:56.486Z"
   },
   {
    "duration": 5,
    "start_time": "2025-01-16T22:36:09.096Z"
   },
   {
    "duration": 13,
    "start_time": "2025-01-16T22:36:15.491Z"
   },
   {
    "duration": 12,
    "start_time": "2025-01-16T22:36:49.689Z"
   },
   {
    "duration": 14,
    "start_time": "2025-01-16T22:37:16.532Z"
   },
   {
    "duration": 306,
    "start_time": "2025-01-16T22:40:17.551Z"
   },
   {
    "duration": 167,
    "start_time": "2025-01-16T22:40:17.859Z"
   },
   {
    "duration": 11,
    "start_time": "2025-01-16T22:40:18.029Z"
   },
   {
    "duration": 6,
    "start_time": "2025-01-16T22:40:18.043Z"
   },
   {
    "duration": 7,
    "start_time": "2025-01-16T22:40:18.051Z"
   },
   {
    "duration": 7,
    "start_time": "2025-01-16T22:40:18.060Z"
   },
   {
    "duration": 10,
    "start_time": "2025-01-16T22:40:18.068Z"
   },
   {
    "duration": 37,
    "start_time": "2025-01-16T22:40:18.080Z"
   },
   {
    "duration": 4,
    "start_time": "2025-01-16T22:40:18.118Z"
   },
   {
    "duration": 33,
    "start_time": "2025-01-16T22:40:18.127Z"
   },
   {
    "duration": 11,
    "start_time": "2025-01-16T22:40:18.162Z"
   },
   {
    "duration": 5,
    "start_time": "2025-01-16T22:40:18.174Z"
   },
   {
    "duration": 48,
    "start_time": "2025-01-16T22:40:18.181Z"
   },
   {
    "duration": 12,
    "start_time": "2025-01-16T22:40:18.231Z"
   },
   {
    "duration": 4,
    "start_time": "2025-01-16T22:40:18.245Z"
   },
   {
    "duration": 27,
    "start_time": "2025-01-16T22:40:18.251Z"
   },
   {
    "duration": 38,
    "start_time": "2025-01-16T22:40:18.279Z"
   },
   {
    "duration": 27,
    "start_time": "2025-01-16T22:40:18.319Z"
   },
   {
    "duration": 25,
    "start_time": "2025-01-16T22:40:18.348Z"
   },
   {
    "duration": 17,
    "start_time": "2025-01-16T22:40:18.375Z"
   },
   {
    "duration": 18,
    "start_time": "2025-01-16T22:40:18.413Z"
   },
   {
    "duration": 14,
    "start_time": "2025-01-16T22:40:18.432Z"
   },
   {
    "duration": 9,
    "start_time": "2025-01-16T22:40:18.447Z"
   },
   {
    "duration": 10,
    "start_time": "2025-01-16T22:40:18.457Z"
   },
   {
    "duration": 2,
    "start_time": "2025-01-16T22:40:18.468Z"
   },
   {
    "duration": 2,
    "start_time": "2025-01-16T22:40:18.472Z"
   },
   {
    "duration": 36,
    "start_time": "2025-01-16T22:40:18.476Z"
   },
   {
    "duration": 1,
    "start_time": "2025-01-16T22:40:18.517Z"
   },
   {
    "duration": 3,
    "start_time": "2025-01-16T22:40:18.520Z"
   },
   {
    "duration": 3,
    "start_time": "2025-01-16T22:40:18.524Z"
   },
   {
    "duration": 3,
    "start_time": "2025-01-16T22:40:18.528Z"
   },
   {
    "duration": 3,
    "start_time": "2025-01-16T22:40:18.533Z"
   },
   {
    "duration": 8,
    "start_time": "2025-01-16T23:29:23.262Z"
   },
   {
    "duration": 559,
    "start_time": "2025-01-16T23:33:39.522Z"
   },
   {
    "duration": 316,
    "start_time": "2025-01-16T23:34:01.243Z"
   },
   {
    "duration": 174,
    "start_time": "2025-01-16T23:34:01.561Z"
   },
   {
    "duration": 9,
    "start_time": "2025-01-16T23:34:01.737Z"
   },
   {
    "duration": 6,
    "start_time": "2025-01-16T23:34:01.748Z"
   },
   {
    "duration": 7,
    "start_time": "2025-01-16T23:34:01.756Z"
   },
   {
    "duration": 6,
    "start_time": "2025-01-16T23:34:01.765Z"
   },
   {
    "duration": 11,
    "start_time": "2025-01-16T23:34:01.772Z"
   },
   {
    "duration": 35,
    "start_time": "2025-01-16T23:34:01.784Z"
   },
   {
    "duration": 4,
    "start_time": "2025-01-16T23:34:01.821Z"
   },
   {
    "duration": 33,
    "start_time": "2025-01-16T23:34:01.830Z"
   },
   {
    "duration": 12,
    "start_time": "2025-01-16T23:34:01.864Z"
   },
   {
    "duration": 7,
    "start_time": "2025-01-16T23:34:01.877Z"
   },
   {
    "duration": 21,
    "start_time": "2025-01-16T23:34:01.912Z"
   },
   {
    "duration": 13,
    "start_time": "2025-01-16T23:34:01.935Z"
   },
   {
    "duration": 4,
    "start_time": "2025-01-16T23:34:01.949Z"
   },
   {
    "duration": 26,
    "start_time": "2025-01-16T23:34:01.955Z"
   },
   {
    "duration": 36,
    "start_time": "2025-01-16T23:34:01.983Z"
   },
   {
    "duration": 26,
    "start_time": "2025-01-16T23:34:02.021Z"
   },
   {
    "duration": 26,
    "start_time": "2025-01-16T23:34:02.049Z"
   },
   {
    "duration": 37,
    "start_time": "2025-01-16T23:34:02.076Z"
   },
   {
    "duration": 17,
    "start_time": "2025-01-16T23:34:02.115Z"
   },
   {
    "duration": 13,
    "start_time": "2025-01-16T23:34:02.134Z"
   },
   {
    "duration": 9,
    "start_time": "2025-01-16T23:34:02.149Z"
   },
   {
    "duration": 575,
    "start_time": "2025-01-16T23:34:02.160Z"
   },
   {
    "duration": 0,
    "start_time": "2025-01-16T23:34:02.737Z"
   },
   {
    "duration": 0,
    "start_time": "2025-01-16T23:34:02.738Z"
   },
   {
    "duration": 0,
    "start_time": "2025-01-16T23:34:02.740Z"
   },
   {
    "duration": 0,
    "start_time": "2025-01-16T23:34:02.741Z"
   },
   {
    "duration": 0,
    "start_time": "2025-01-16T23:34:02.742Z"
   },
   {
    "duration": 0,
    "start_time": "2025-01-16T23:34:02.743Z"
   },
   {
    "duration": 0,
    "start_time": "2025-01-16T23:34:02.744Z"
   },
   {
    "duration": 0,
    "start_time": "2025-01-16T23:34:02.745Z"
   },
   {
    "duration": 46,
    "start_time": "2025-01-16T23:34:36.485Z"
   },
   {
    "duration": 324,
    "start_time": "2025-01-16T23:34:47.339Z"
   },
   {
    "duration": 157,
    "start_time": "2025-01-16T23:34:47.665Z"
   },
   {
    "duration": 9,
    "start_time": "2025-01-16T23:34:47.824Z"
   },
   {
    "duration": 6,
    "start_time": "2025-01-16T23:34:47.834Z"
   },
   {
    "duration": 7,
    "start_time": "2025-01-16T23:34:47.843Z"
   },
   {
    "duration": 5,
    "start_time": "2025-01-16T23:34:47.852Z"
   },
   {
    "duration": 10,
    "start_time": "2025-01-16T23:34:47.859Z"
   },
   {
    "duration": 43,
    "start_time": "2025-01-16T23:34:47.871Z"
   },
   {
    "duration": 4,
    "start_time": "2025-01-16T23:34:47.915Z"
   },
   {
    "duration": 34,
    "start_time": "2025-01-16T23:34:47.921Z"
   },
   {
    "duration": 12,
    "start_time": "2025-01-16T23:34:47.956Z"
   },
   {
    "duration": 4,
    "start_time": "2025-01-16T23:34:47.969Z"
   },
   {
    "duration": 58,
    "start_time": "2025-01-16T23:34:47.974Z"
   },
   {
    "duration": 18,
    "start_time": "2025-01-16T23:34:48.037Z"
   },
   {
    "duration": 5,
    "start_time": "2025-01-16T23:34:48.058Z"
   },
   {
    "duration": 28,
    "start_time": "2025-01-16T23:34:48.066Z"
   },
   {
    "duration": 24,
    "start_time": "2025-01-16T23:34:48.095Z"
   },
   {
    "duration": 28,
    "start_time": "2025-01-16T23:34:48.122Z"
   },
   {
    "duration": 26,
    "start_time": "2025-01-16T23:34:48.151Z"
   },
   {
    "duration": 37,
    "start_time": "2025-01-16T23:34:48.179Z"
   },
   {
    "duration": 18,
    "start_time": "2025-01-16T23:34:48.218Z"
   },
   {
    "duration": 13,
    "start_time": "2025-01-16T23:34:48.238Z"
   },
   {
    "duration": 9,
    "start_time": "2025-01-16T23:34:48.253Z"
   },
   {
    "duration": 15,
    "start_time": "2025-01-16T23:34:48.264Z"
   },
   {
    "duration": 31,
    "start_time": "2025-01-16T23:34:48.281Z"
   },
   {
    "duration": 2,
    "start_time": "2025-01-16T23:34:48.314Z"
   },
   {
    "duration": 3,
    "start_time": "2025-01-16T23:34:48.317Z"
   },
   {
    "duration": 2,
    "start_time": "2025-01-16T23:34:48.323Z"
   },
   {
    "duration": 3,
    "start_time": "2025-01-16T23:34:48.326Z"
   },
   {
    "duration": 3,
    "start_time": "2025-01-16T23:34:48.331Z"
   },
   {
    "duration": 3,
    "start_time": "2025-01-16T23:34:48.336Z"
   },
   {
    "duration": 3,
    "start_time": "2025-01-16T23:34:48.340Z"
   },
   {
    "duration": 302,
    "start_time": "2025-01-16T23:35:27.268Z"
   },
   {
    "duration": 156,
    "start_time": "2025-01-16T23:35:27.572Z"
   },
   {
    "duration": 9,
    "start_time": "2025-01-16T23:35:27.730Z"
   },
   {
    "duration": 7,
    "start_time": "2025-01-16T23:35:27.740Z"
   },
   {
    "duration": 8,
    "start_time": "2025-01-16T23:35:27.749Z"
   },
   {
    "duration": 7,
    "start_time": "2025-01-16T23:35:27.758Z"
   },
   {
    "duration": 10,
    "start_time": "2025-01-16T23:35:27.767Z"
   },
   {
    "duration": 45,
    "start_time": "2025-01-16T23:35:27.778Z"
   },
   {
    "duration": 4,
    "start_time": "2025-01-16T23:35:27.825Z"
   },
   {
    "duration": 33,
    "start_time": "2025-01-16T23:35:27.831Z"
   },
   {
    "duration": 12,
    "start_time": "2025-01-16T23:35:27.866Z"
   },
   {
    "duration": 4,
    "start_time": "2025-01-16T23:35:27.879Z"
   },
   {
    "duration": 45,
    "start_time": "2025-01-16T23:35:27.886Z"
   },
   {
    "duration": 12,
    "start_time": "2025-01-16T23:35:27.935Z"
   },
   {
    "duration": 4,
    "start_time": "2025-01-16T23:35:27.949Z"
   },
   {
    "duration": 26,
    "start_time": "2025-01-16T23:35:27.955Z"
   },
   {
    "duration": 33,
    "start_time": "2025-01-16T23:35:27.983Z"
   },
   {
    "duration": 32,
    "start_time": "2025-01-16T23:35:28.018Z"
   },
   {
    "duration": 30,
    "start_time": "2025-01-16T23:35:28.053Z"
   },
   {
    "duration": 36,
    "start_time": "2025-01-16T23:35:28.085Z"
   },
   {
    "duration": 19,
    "start_time": "2025-01-16T23:35:28.123Z"
   },
   {
    "duration": 14,
    "start_time": "2025-01-16T23:35:28.144Z"
   },
   {
    "duration": 10,
    "start_time": "2025-01-16T23:35:28.160Z"
   },
   {
    "duration": 48,
    "start_time": "2025-01-16T23:35:28.171Z"
   },
   {
    "duration": 3,
    "start_time": "2025-01-16T23:35:28.220Z"
   },
   {
    "duration": 2,
    "start_time": "2025-01-16T23:35:28.226Z"
   },
   {
    "duration": 2,
    "start_time": "2025-01-16T23:35:28.230Z"
   },
   {
    "duration": 3,
    "start_time": "2025-01-16T23:35:28.234Z"
   },
   {
    "duration": 3,
    "start_time": "2025-01-16T23:35:28.239Z"
   },
   {
    "duration": 3,
    "start_time": "2025-01-16T23:35:28.243Z"
   },
   {
    "duration": 3,
    "start_time": "2025-01-16T23:35:28.248Z"
   },
   {
    "duration": 3,
    "start_time": "2025-01-16T23:35:28.253Z"
   },
   {
    "duration": 355,
    "start_time": "2025-01-16T23:47:37.225Z"
   },
   {
    "duration": 166,
    "start_time": "2025-01-16T23:47:37.582Z"
   },
   {
    "duration": 10,
    "start_time": "2025-01-16T23:47:37.749Z"
   },
   {
    "duration": 7,
    "start_time": "2025-01-16T23:47:37.761Z"
   },
   {
    "duration": 9,
    "start_time": "2025-01-16T23:47:37.771Z"
   },
   {
    "duration": 6,
    "start_time": "2025-01-16T23:47:37.783Z"
   },
   {
    "duration": 33,
    "start_time": "2025-01-16T23:47:37.790Z"
   },
   {
    "duration": 14,
    "start_time": "2025-01-16T23:47:37.825Z"
   },
   {
    "duration": 4,
    "start_time": "2025-01-16T23:47:37.841Z"
   },
   {
    "duration": 37,
    "start_time": "2025-01-16T23:47:37.847Z"
   },
   {
    "duration": 11,
    "start_time": "2025-01-16T23:47:37.912Z"
   },
   {
    "duration": 4,
    "start_time": "2025-01-16T23:47:37.927Z"
   },
   {
    "duration": 22,
    "start_time": "2025-01-16T23:47:37.933Z"
   },
   {
    "duration": 13,
    "start_time": "2025-01-16T23:47:37.959Z"
   },
   {
    "duration": 4,
    "start_time": "2025-01-16T23:47:37.974Z"
   },
   {
    "duration": 40,
    "start_time": "2025-01-16T23:47:38.011Z"
   },
   {
    "duration": 11,
    "start_time": "2025-01-16T23:47:38.053Z"
   },
   {
    "duration": 30,
    "start_time": "2025-01-16T23:47:38.066Z"
   },
   {
    "duration": 26,
    "start_time": "2025-01-16T23:47:38.112Z"
   },
   {
    "duration": 25,
    "start_time": "2025-01-16T23:47:38.140Z"
   },
   {
    "duration": 44,
    "start_time": "2025-01-16T23:47:38.168Z"
   },
   {
    "duration": 15,
    "start_time": "2025-01-16T23:47:38.214Z"
   },
   {
    "duration": 11,
    "start_time": "2025-01-16T23:47:38.231Z"
   },
   {
    "duration": 19,
    "start_time": "2025-01-16T23:47:38.244Z"
   },
   {
    "duration": 2,
    "start_time": "2025-01-16T23:47:38.265Z"
   },
   {
    "duration": 3,
    "start_time": "2025-01-16T23:47:38.268Z"
   },
   {
    "duration": 3,
    "start_time": "2025-01-16T23:47:38.273Z"
   },
   {
    "duration": 33,
    "start_time": "2025-01-16T23:47:38.279Z"
   },
   {
    "duration": 2,
    "start_time": "2025-01-16T23:47:38.314Z"
   },
   {
    "duration": 3,
    "start_time": "2025-01-16T23:47:38.318Z"
   },
   {
    "duration": 3,
    "start_time": "2025-01-16T23:47:38.322Z"
   },
   {
    "duration": 2,
    "start_time": "2025-01-16T23:47:38.327Z"
   },
   {
    "duration": 297,
    "start_time": "2025-01-16T23:48:11.109Z"
   },
   {
    "duration": 154,
    "start_time": "2025-01-16T23:48:11.408Z"
   },
   {
    "duration": 9,
    "start_time": "2025-01-16T23:48:11.563Z"
   },
   {
    "duration": 7,
    "start_time": "2025-01-16T23:48:11.574Z"
   },
   {
    "duration": 8,
    "start_time": "2025-01-16T23:48:11.585Z"
   },
   {
    "duration": 4,
    "start_time": "2025-01-16T23:48:11.614Z"
   },
   {
    "duration": 11,
    "start_time": "2025-01-16T23:48:11.620Z"
   },
   {
    "duration": 14,
    "start_time": "2025-01-16T23:48:11.632Z"
   },
   {
    "duration": 4,
    "start_time": "2025-01-16T23:48:11.648Z"
   },
   {
    "duration": 58,
    "start_time": "2025-01-16T23:48:11.654Z"
   },
   {
    "duration": 11,
    "start_time": "2025-01-16T23:48:11.714Z"
   },
   {
    "duration": 5,
    "start_time": "2025-01-16T23:48:11.727Z"
   },
   {
    "duration": 20,
    "start_time": "2025-01-16T23:48:11.734Z"
   },
   {
    "duration": 14,
    "start_time": "2025-01-16T23:48:11.758Z"
   },
   {
    "duration": 5,
    "start_time": "2025-01-16T23:48:11.773Z"
   },
   {
    "duration": 57,
    "start_time": "2025-01-16T23:48:11.779Z"
   },
   {
    "duration": 9,
    "start_time": "2025-01-16T23:48:11.838Z"
   },
   {
    "duration": 35,
    "start_time": "2025-01-16T23:48:11.848Z"
   },
   {
    "duration": 47,
    "start_time": "2025-01-16T23:48:11.885Z"
   },
   {
    "duration": 17,
    "start_time": "2025-01-16T23:48:11.934Z"
   },
   {
    "duration": 18,
    "start_time": "2025-01-16T23:48:11.953Z"
   },
   {
    "duration": 13,
    "start_time": "2025-01-16T23:48:11.973Z"
   },
   {
    "duration": 30,
    "start_time": "2025-01-16T23:48:11.988Z"
   },
   {
    "duration": 18,
    "start_time": "2025-01-16T23:48:12.020Z"
   },
   {
    "duration": 2,
    "start_time": "2025-01-16T23:48:12.040Z"
   },
   {
    "duration": 4,
    "start_time": "2025-01-16T23:48:12.043Z"
   },
   {
    "duration": 3,
    "start_time": "2025-01-16T23:48:12.048Z"
   },
   {
    "duration": 4,
    "start_time": "2025-01-16T23:48:12.052Z"
   },
   {
    "duration": 3,
    "start_time": "2025-01-16T23:48:12.057Z"
   },
   {
    "duration": 3,
    "start_time": "2025-01-16T23:48:12.062Z"
   },
   {
    "duration": 3,
    "start_time": "2025-01-16T23:48:12.067Z"
   },
   {
    "duration": 4,
    "start_time": "2025-01-16T23:48:12.071Z"
   },
   {
    "duration": 2138,
    "start_time": "2025-01-17T00:13:12.275Z"
   },
   {
    "duration": 94,
    "start_time": "2025-01-17T00:13:41.003Z"
   },
   {
    "duration": 597,
    "start_time": "2025-01-17T00:16:00.573Z"
   },
   {
    "duration": 140,
    "start_time": "2025-01-17T00:16:52.508Z"
   },
   {
    "duration": 14,
    "start_time": "2025-01-17T00:17:06.510Z"
   },
   {
    "duration": 190,
    "start_time": "2025-01-17T00:21:46.815Z"
   },
   {
    "duration": 21,
    "start_time": "2025-01-17T00:22:26.689Z"
   },
   {
    "duration": 33,
    "start_time": "2025-01-17T00:22:42.780Z"
   },
   {
    "duration": 11,
    "start_time": "2025-01-17T00:23:15.618Z"
   },
   {
    "duration": 111,
    "start_time": "2025-01-17T00:24:41.359Z"
   },
   {
    "duration": 287,
    "start_time": "2025-01-17T00:25:07.321Z"
   },
   {
    "duration": 113,
    "start_time": "2025-01-17T00:25:18.376Z"
   },
   {
    "duration": 17,
    "start_time": "2025-01-17T00:28:28.742Z"
   },
   {
    "duration": 11,
    "start_time": "2025-01-17T00:29:23.208Z"
   },
   {
    "duration": 314,
    "start_time": "2025-01-17T00:42:22.840Z"
   },
   {
    "duration": 170,
    "start_time": "2025-01-17T00:42:23.156Z"
   },
   {
    "duration": 8,
    "start_time": "2025-01-17T00:42:23.328Z"
   },
   {
    "duration": 6,
    "start_time": "2025-01-17T00:42:23.338Z"
   },
   {
    "duration": 7,
    "start_time": "2025-01-17T00:42:23.348Z"
   },
   {
    "duration": 6,
    "start_time": "2025-01-17T00:42:23.356Z"
   },
   {
    "duration": 10,
    "start_time": "2025-01-17T00:42:23.363Z"
   },
   {
    "duration": 39,
    "start_time": "2025-01-17T00:42:23.375Z"
   },
   {
    "duration": 4,
    "start_time": "2025-01-17T00:42:23.416Z"
   },
   {
    "duration": 33,
    "start_time": "2025-01-17T00:42:23.422Z"
   },
   {
    "duration": 11,
    "start_time": "2025-01-17T00:42:23.457Z"
   },
   {
    "duration": 4,
    "start_time": "2025-01-17T00:42:23.469Z"
   },
   {
    "duration": 50,
    "start_time": "2025-01-17T00:42:23.475Z"
   },
   {
    "duration": 13,
    "start_time": "2025-01-17T00:42:23.529Z"
   },
   {
    "duration": 4,
    "start_time": "2025-01-17T00:42:23.544Z"
   },
   {
    "duration": 27,
    "start_time": "2025-01-17T00:42:23.550Z"
   },
   {
    "duration": 9,
    "start_time": "2025-01-17T00:42:23.578Z"
   },
   {
    "duration": 29,
    "start_time": "2025-01-17T00:42:23.611Z"
   },
   {
    "duration": 28,
    "start_time": "2025-01-17T00:42:23.642Z"
   },
   {
    "duration": 40,
    "start_time": "2025-01-17T00:42:23.672Z"
   },
   {
    "duration": 19,
    "start_time": "2025-01-17T00:42:23.713Z"
   },
   {
    "duration": 14,
    "start_time": "2025-01-17T00:42:23.734Z"
   },
   {
    "duration": 9,
    "start_time": "2025-01-17T00:42:23.749Z"
   },
   {
    "duration": 20,
    "start_time": "2025-01-17T00:42:23.759Z"
   },
   {
    "duration": 37,
    "start_time": "2025-01-17T00:42:23.780Z"
   },
   {
    "duration": 2,
    "start_time": "2025-01-17T00:42:23.820Z"
   },
   {
    "duration": 2,
    "start_time": "2025-01-17T00:42:23.824Z"
   },
   {
    "duration": 5,
    "start_time": "2025-01-17T00:42:23.828Z"
   },
   {
    "duration": 3,
    "start_time": "2025-01-17T00:42:23.834Z"
   },
   {
    "duration": 4,
    "start_time": "2025-01-17T00:42:23.838Z"
   },
   {
    "duration": 3,
    "start_time": "2025-01-17T00:42:23.843Z"
   },
   {
    "duration": 4,
    "start_time": "2025-01-17T00:42:23.847Z"
   },
   {
    "duration": 8,
    "start_time": "2025-01-17T00:42:52.631Z"
   },
   {
    "duration": 7,
    "start_time": "2025-01-17T00:42:59.267Z"
   },
   {
    "duration": 6,
    "start_time": "2025-01-17T00:43:10.564Z"
   },
   {
    "duration": 8,
    "start_time": "2025-01-17T00:43:30.184Z"
   },
   {
    "duration": 7,
    "start_time": "2025-01-17T00:43:35.646Z"
   },
   {
    "duration": 8,
    "start_time": "2025-01-17T00:43:45.406Z"
   },
   {
    "duration": 9,
    "start_time": "2025-01-17T00:44:28.994Z"
   },
   {
    "duration": 8,
    "start_time": "2025-01-17T00:58:53.632Z"
   },
   {
    "duration": 8,
    "start_time": "2025-01-17T00:59:02.741Z"
   },
   {
    "duration": 272,
    "start_time": "2025-01-17T00:59:49.966Z"
   },
   {
    "duration": 193,
    "start_time": "2025-01-17T01:00:05.036Z"
   },
   {
    "duration": 20,
    "start_time": "2025-01-17T01:00:10.459Z"
   },
   {
    "duration": 439,
    "start_time": "2025-01-17T01:06:06.750Z"
   },
   {
    "duration": 39,
    "start_time": "2025-01-17T01:06:14.918Z"
   },
   {
    "duration": 23,
    "start_time": "2025-01-17T01:07:07.087Z"
   },
   {
    "duration": 10,
    "start_time": "2025-01-17T01:07:18.470Z"
   },
   {
    "duration": 255,
    "start_time": "2025-01-17T01:07:26.003Z"
   },
   {
    "duration": 241,
    "start_time": "2025-01-17T01:07:46.635Z"
   },
   {
    "duration": 320,
    "start_time": "2025-01-17T01:08:15.547Z"
   },
   {
    "duration": 166,
    "start_time": "2025-01-17T01:08:15.869Z"
   },
   {
    "duration": 12,
    "start_time": "2025-01-17T01:08:16.037Z"
   },
   {
    "duration": 8,
    "start_time": "2025-01-17T01:08:16.052Z"
   },
   {
    "duration": 12,
    "start_time": "2025-01-17T01:08:16.063Z"
   },
   {
    "duration": 6,
    "start_time": "2025-01-17T01:08:16.077Z"
   },
   {
    "duration": 28,
    "start_time": "2025-01-17T01:08:16.085Z"
   },
   {
    "duration": 19,
    "start_time": "2025-01-17T01:08:16.115Z"
   },
   {
    "duration": 5,
    "start_time": "2025-01-17T01:08:16.135Z"
   },
   {
    "duration": 33,
    "start_time": "2025-01-17T01:08:16.143Z"
   },
   {
    "duration": 36,
    "start_time": "2025-01-17T01:08:16.178Z"
   },
   {
    "duration": 4,
    "start_time": "2025-01-17T01:08:16.216Z"
   },
   {
    "duration": 21,
    "start_time": "2025-01-17T01:08:16.221Z"
   },
   {
    "duration": 13,
    "start_time": "2025-01-17T01:08:16.244Z"
   },
   {
    "duration": 4,
    "start_time": "2025-01-17T01:08:16.259Z"
   },
   {
    "duration": 55,
    "start_time": "2025-01-17T01:08:16.265Z"
   },
   {
    "duration": 9,
    "start_time": "2025-01-17T01:08:16.322Z"
   },
   {
    "duration": 28,
    "start_time": "2025-01-17T01:08:16.333Z"
   },
   {
    "duration": 25,
    "start_time": "2025-01-17T01:08:16.363Z"
   },
   {
    "duration": 17,
    "start_time": "2025-01-17T01:08:16.411Z"
   },
   {
    "duration": 18,
    "start_time": "2025-01-17T01:08:16.430Z"
   },
   {
    "duration": 15,
    "start_time": "2025-01-17T01:08:16.449Z"
   },
   {
    "duration": 9,
    "start_time": "2025-01-17T01:08:16.466Z"
   },
   {
    "duration": 49,
    "start_time": "2025-01-17T01:08:16.477Z"
   },
   {
    "duration": 806,
    "start_time": "2025-01-17T01:08:16.528Z"
   },
   {
    "duration": 2,
    "start_time": "2025-01-17T01:08:17.336Z"
   },
   {
    "duration": 3,
    "start_time": "2025-01-17T01:08:17.340Z"
   },
   {
    "duration": 2,
    "start_time": "2025-01-17T01:08:17.347Z"
   },
   {
    "duration": 4,
    "start_time": "2025-01-17T01:08:17.350Z"
   },
   {
    "duration": 2,
    "start_time": "2025-01-17T01:08:17.357Z"
   },
   {
    "duration": 3,
    "start_time": "2025-01-17T01:08:17.361Z"
   },
   {
    "duration": 2,
    "start_time": "2025-01-17T01:08:17.367Z"
   },
   {
    "duration": 243,
    "start_time": "2025-01-17T01:08:30.366Z"
   },
   {
    "duration": 282,
    "start_time": "2025-01-17T01:25:37.152Z"
   },
   {
    "duration": 101,
    "start_time": "2025-01-17T01:28:56.302Z"
   },
   {
    "duration": 147,
    "start_time": "2025-01-17T01:31:13.716Z"
   },
   {
    "duration": 128,
    "start_time": "2025-01-17T01:32:03.185Z"
   },
   {
    "duration": 141,
    "start_time": "2025-01-17T01:32:18.043Z"
   },
   {
    "duration": 143,
    "start_time": "2025-01-17T01:32:30.354Z"
   },
   {
    "duration": 141,
    "start_time": "2025-01-17T01:32:36.728Z"
   },
   {
    "duration": 1781,
    "start_time": "2025-01-17T01:38:15.406Z"
   },
   {
    "duration": 216,
    "start_time": "2025-01-17T01:38:32.184Z"
   },
   {
    "duration": 6,
    "start_time": "2025-01-17T01:38:47.027Z"
   },
   {
    "duration": 206,
    "start_time": "2025-01-17T01:40:15.767Z"
   },
   {
    "duration": 229,
    "start_time": "2025-01-17T01:40:53.096Z"
   },
   {
    "duration": 221,
    "start_time": "2025-01-17T01:41:19.380Z"
   },
   {
    "duration": 299,
    "start_time": "2025-01-17T01:52:51.960Z"
   },
   {
    "duration": 160,
    "start_time": "2025-01-17T01:52:52.261Z"
   },
   {
    "duration": 10,
    "start_time": "2025-01-17T01:52:52.422Z"
   },
   {
    "duration": 6,
    "start_time": "2025-01-17T01:52:52.435Z"
   },
   {
    "duration": 7,
    "start_time": "2025-01-17T01:52:52.443Z"
   },
   {
    "duration": 6,
    "start_time": "2025-01-17T01:52:52.452Z"
   },
   {
    "duration": 12,
    "start_time": "2025-01-17T01:52:52.459Z"
   },
   {
    "duration": 43,
    "start_time": "2025-01-17T01:52:52.472Z"
   },
   {
    "duration": 4,
    "start_time": "2025-01-17T01:52:52.516Z"
   },
   {
    "duration": 34,
    "start_time": "2025-01-17T01:52:52.524Z"
   },
   {
    "duration": 11,
    "start_time": "2025-01-17T01:52:52.561Z"
   },
   {
    "duration": 4,
    "start_time": "2025-01-17T01:52:52.574Z"
   },
   {
    "duration": 46,
    "start_time": "2025-01-17T01:52:52.580Z"
   },
   {
    "duration": 13,
    "start_time": "2025-01-17T01:52:52.628Z"
   },
   {
    "duration": 5,
    "start_time": "2025-01-17T01:52:52.642Z"
   },
   {
    "duration": 26,
    "start_time": "2025-01-17T01:52:52.649Z"
   },
   {
    "duration": 34,
    "start_time": "2025-01-17T01:52:52.677Z"
   },
   {
    "duration": 29,
    "start_time": "2025-01-17T01:52:52.713Z"
   },
   {
    "duration": 25,
    "start_time": "2025-01-17T01:52:52.744Z"
   },
   {
    "duration": 16,
    "start_time": "2025-01-17T01:52:52.771Z"
   },
   {
    "duration": 39,
    "start_time": "2025-01-17T01:52:52.789Z"
   },
   {
    "duration": 15,
    "start_time": "2025-01-17T01:52:52.829Z"
   },
   {
    "duration": 9,
    "start_time": "2025-01-17T01:52:52.846Z"
   },
   {
    "duration": 20,
    "start_time": "2025-01-17T01:52:52.856Z"
   },
   {
    "duration": 782,
    "start_time": "2025-01-17T01:52:52.879Z"
   },
   {
    "duration": 275,
    "start_time": "2025-01-17T01:52:53.663Z"
   },
   {
    "duration": 2,
    "start_time": "2025-01-17T01:52:53.940Z"
   },
   {
    "duration": 2,
    "start_time": "2025-01-17T01:52:53.947Z"
   },
   {
    "duration": 3,
    "start_time": "2025-01-17T01:52:53.951Z"
   },
   {
    "duration": 4,
    "start_time": "2025-01-17T01:52:53.955Z"
   },
   {
    "duration": 3,
    "start_time": "2025-01-17T01:52:53.961Z"
   },
   {
    "duration": 3,
    "start_time": "2025-01-17T01:52:53.965Z"
   },
   {
    "duration": 5,
    "start_time": "2025-01-17T02:22:54.091Z"
   },
   {
    "duration": 7,
    "start_time": "2025-01-17T02:24:23.194Z"
   },
   {
    "duration": 107,
    "start_time": "2025-01-17T02:24:59.898Z"
   },
   {
    "duration": 576,
    "start_time": "2025-01-17T02:26:00.004Z"
   },
   {
    "duration": 772,
    "start_time": "2025-01-17T02:26:56.071Z"
   },
   {
    "duration": 192,
    "start_time": "2025-01-17T02:27:25.863Z"
   },
   {
    "duration": 11,
    "start_time": "2025-01-17T02:30:52.822Z"
   },
   {
    "duration": 10,
    "start_time": "2025-01-17T02:32:13.720Z"
   },
   {
    "duration": 193,
    "start_time": "2025-01-17T02:45:54.698Z"
   },
   {
    "duration": 291,
    "start_time": "2025-01-17T02:46:38.058Z"
   },
   {
    "duration": 102,
    "start_time": "2025-01-17T02:47:42.139Z"
   },
   {
    "duration": 183,
    "start_time": "2025-01-17T02:53:01.652Z"
   },
   {
    "duration": 175,
    "start_time": "2025-01-17T02:54:32.858Z"
   },
   {
    "duration": 9,
    "start_time": "2025-01-17T02:55:14.971Z"
   },
   {
    "duration": 10,
    "start_time": "2025-01-17T02:55:48.596Z"
   },
   {
    "duration": 8,
    "start_time": "2025-01-17T03:04:04.341Z"
   },
   {
    "duration": 12,
    "start_time": "2025-01-17T03:05:38.015Z"
   },
   {
    "duration": 266,
    "start_time": "2025-01-17T04:09:33.552Z"
   },
   {
    "duration": 12,
    "start_time": "2025-01-17T04:09:47.245Z"
   },
   {
    "duration": 9,
    "start_time": "2025-01-17T04:11:46.380Z"
   },
   {
    "duration": 124,
    "start_time": "2025-01-17T04:18:51.518Z"
   },
   {
    "duration": 36,
    "start_time": "2025-01-17T04:19:56.050Z"
   },
   {
    "duration": 10,
    "start_time": "2025-01-17T04:20:08.000Z"
   },
   {
    "duration": 5,
    "start_time": "2025-01-17T04:27:23.145Z"
   },
   {
    "duration": 4,
    "start_time": "2025-01-17T04:27:59.182Z"
   },
   {
    "duration": 464,
    "start_time": "2025-01-17T04:29:23.240Z"
   },
   {
    "duration": 11,
    "start_time": "2025-01-17T04:29:38.891Z"
   },
   {
    "duration": 8,
    "start_time": "2025-01-17T04:30:27.606Z"
   },
   {
    "duration": 9,
    "start_time": "2025-01-17T04:30:40.312Z"
   },
   {
    "duration": 195,
    "start_time": "2025-01-17T04:31:09.688Z"
   },
   {
    "duration": 13,
    "start_time": "2025-01-17T04:31:33.222Z"
   },
   {
    "duration": 14,
    "start_time": "2025-01-17T04:32:51.246Z"
   },
   {
    "duration": 24,
    "start_time": "2025-01-17T04:33:42.558Z"
   },
   {
    "duration": 28,
    "start_time": "2025-01-17T04:34:38.421Z"
   },
   {
    "duration": 10,
    "start_time": "2025-01-17T04:34:49.056Z"
   },
   {
    "duration": 370,
    "start_time": "2025-01-17T04:35:19.676Z"
   },
   {
    "duration": 327,
    "start_time": "2025-01-17T04:36:58.657Z"
   },
   {
    "duration": 349,
    "start_time": "2025-01-17T04:37:54.619Z"
   },
   {
    "duration": 300,
    "start_time": "2025-01-17T04:38:11.631Z"
   },
   {
    "duration": 333,
    "start_time": "2025-01-17T04:40:39.703Z"
   },
   {
    "duration": 661,
    "start_time": "2025-01-17T04:41:15.399Z"
   },
   {
    "duration": 298,
    "start_time": "2025-01-17T04:41:28.755Z"
   },
   {
    "duration": 164,
    "start_time": "2025-01-17T04:41:29.055Z"
   },
   {
    "duration": 10,
    "start_time": "2025-01-17T04:41:29.220Z"
   },
   {
    "duration": 7,
    "start_time": "2025-01-17T04:41:29.232Z"
   },
   {
    "duration": 8,
    "start_time": "2025-01-17T04:41:29.241Z"
   },
   {
    "duration": 5,
    "start_time": "2025-01-17T04:41:29.250Z"
   },
   {
    "duration": 11,
    "start_time": "2025-01-17T04:41:29.257Z"
   },
   {
    "duration": 44,
    "start_time": "2025-01-17T04:41:29.270Z"
   },
   {
    "duration": 5,
    "start_time": "2025-01-17T04:41:29.315Z"
   },
   {
    "duration": 33,
    "start_time": "2025-01-17T04:41:29.321Z"
   },
   {
    "duration": 11,
    "start_time": "2025-01-17T04:41:29.356Z"
   },
   {
    "duration": 4,
    "start_time": "2025-01-17T04:41:29.369Z"
   },
   {
    "duration": 50,
    "start_time": "2025-01-17T04:41:29.375Z"
   },
   {
    "duration": 13,
    "start_time": "2025-01-17T04:41:29.428Z"
   },
   {
    "duration": 5,
    "start_time": "2025-01-17T04:41:29.442Z"
   },
   {
    "duration": 28,
    "start_time": "2025-01-17T04:41:29.449Z"
   },
   {
    "duration": 33,
    "start_time": "2025-01-17T04:41:29.479Z"
   },
   {
    "duration": 28,
    "start_time": "2025-01-17T04:41:29.514Z"
   },
   {
    "duration": 26,
    "start_time": "2025-01-17T04:41:29.544Z"
   },
   {
    "duration": 17,
    "start_time": "2025-01-17T04:41:29.572Z"
   },
   {
    "duration": 18,
    "start_time": "2025-01-17T04:41:29.612Z"
   },
   {
    "duration": 14,
    "start_time": "2025-01-17T04:41:29.632Z"
   },
   {
    "duration": 10,
    "start_time": "2025-01-17T04:41:29.647Z"
   },
   {
    "duration": 19,
    "start_time": "2025-01-17T04:41:29.659Z"
   },
   {
    "duration": 774,
    "start_time": "2025-01-17T04:41:29.680Z"
   },
   {
    "duration": 275,
    "start_time": "2025-01-17T04:41:30.456Z"
   },
   {
    "duration": 703,
    "start_time": "2025-01-17T04:41:30.733Z"
   },
   {
    "duration": 3,
    "start_time": "2025-01-17T04:41:31.438Z"
   },
   {
    "duration": 2,
    "start_time": "2025-01-17T04:41:31.443Z"
   },
   {
    "duration": 4,
    "start_time": "2025-01-17T04:41:31.446Z"
   },
   {
    "duration": 3,
    "start_time": "2025-01-17T04:41:31.451Z"
   },
   {
    "duration": 3,
    "start_time": "2025-01-17T04:41:31.456Z"
   },
   {
    "duration": 218,
    "start_time": "2025-01-17T04:47:58.485Z"
   },
   {
    "duration": 546,
    "start_time": "2025-01-17T04:48:04.573Z"
   },
   {
    "duration": 308,
    "start_time": "2025-01-17T04:49:24.955Z"
   },
   {
    "duration": 161,
    "start_time": "2025-01-17T04:49:25.265Z"
   },
   {
    "duration": 10,
    "start_time": "2025-01-17T04:49:25.428Z"
   },
   {
    "duration": 6,
    "start_time": "2025-01-17T04:49:25.440Z"
   },
   {
    "duration": 7,
    "start_time": "2025-01-17T04:49:25.448Z"
   },
   {
    "duration": 6,
    "start_time": "2025-01-17T04:49:25.457Z"
   },
   {
    "duration": 10,
    "start_time": "2025-01-17T04:49:25.465Z"
   },
   {
    "duration": 44,
    "start_time": "2025-01-17T04:49:25.476Z"
   },
   {
    "duration": 4,
    "start_time": "2025-01-17T04:49:25.521Z"
   },
   {
    "duration": 35,
    "start_time": "2025-01-17T04:49:25.530Z"
   },
   {
    "duration": 11,
    "start_time": "2025-01-17T04:49:25.567Z"
   },
   {
    "duration": 35,
    "start_time": "2025-01-17T04:49:25.580Z"
   },
   {
    "duration": 22,
    "start_time": "2025-01-17T04:49:25.617Z"
   },
   {
    "duration": 13,
    "start_time": "2025-01-17T04:49:25.640Z"
   },
   {
    "duration": 4,
    "start_time": "2025-01-17T04:49:25.655Z"
   },
   {
    "duration": 51,
    "start_time": "2025-01-17T04:49:25.661Z"
   },
   {
    "duration": 10,
    "start_time": "2025-01-17T04:49:25.714Z"
   },
   {
    "duration": 27,
    "start_time": "2025-01-17T04:49:25.725Z"
   },
   {
    "duration": 26,
    "start_time": "2025-01-17T04:49:25.753Z"
   },
   {
    "duration": 38,
    "start_time": "2025-01-17T04:49:25.781Z"
   },
   {
    "duration": 17,
    "start_time": "2025-01-17T04:49:25.821Z"
   },
   {
    "duration": 14,
    "start_time": "2025-01-17T04:49:25.840Z"
   },
   {
    "duration": 9,
    "start_time": "2025-01-17T04:49:25.856Z"
   },
   {
    "duration": 49,
    "start_time": "2025-01-17T04:49:25.866Z"
   },
   {
    "duration": 746,
    "start_time": "2025-01-17T04:49:25.916Z"
   },
   {
    "duration": 277,
    "start_time": "2025-01-17T04:49:26.664Z"
   },
   {
    "duration": 698,
    "start_time": "2025-01-17T04:49:26.943Z"
   },
   {
    "duration": 518,
    "start_time": "2025-01-17T04:49:27.645Z"
   },
   {
    "duration": 4,
    "start_time": "2025-01-17T04:49:28.164Z"
   },
   {
    "duration": 2,
    "start_time": "2025-01-17T04:49:28.170Z"
   },
   {
    "duration": 3,
    "start_time": "2025-01-17T04:49:28.174Z"
   },
   {
    "duration": 2,
    "start_time": "2025-01-17T04:49:28.179Z"
   },
   {
    "duration": 212,
    "start_time": "2025-01-17T04:57:23.019Z"
   },
   {
    "duration": 226,
    "start_time": "2025-01-17T04:58:36.714Z"
   },
   {
    "duration": 211,
    "start_time": "2025-01-17T05:01:27.282Z"
   },
   {
    "duration": 279,
    "start_time": "2025-01-17T05:07:40.504Z"
   },
   {
    "duration": 217,
    "start_time": "2025-01-17T05:11:29.886Z"
   },
   {
    "duration": 307,
    "start_time": "2025-01-17T18:07:41.724Z"
   },
   {
    "duration": 236,
    "start_time": "2025-01-17T18:07:42.033Z"
   },
   {
    "duration": 9,
    "start_time": "2025-01-17T18:07:42.271Z"
   },
   {
    "duration": 7,
    "start_time": "2025-01-17T18:07:42.282Z"
   },
   {
    "duration": 8,
    "start_time": "2025-01-17T18:07:42.291Z"
   },
   {
    "duration": 6,
    "start_time": "2025-01-17T18:07:42.301Z"
   },
   {
    "duration": 30,
    "start_time": "2025-01-17T18:07:42.308Z"
   },
   {
    "duration": 14,
    "start_time": "2025-01-17T18:07:42.340Z"
   },
   {
    "duration": 4,
    "start_time": "2025-01-17T18:07:42.356Z"
   },
   {
    "duration": 36,
    "start_time": "2025-01-17T18:07:42.362Z"
   },
   {
    "duration": 32,
    "start_time": "2025-01-17T18:07:42.400Z"
   },
   {
    "duration": 4,
    "start_time": "2025-01-17T18:07:42.434Z"
   },
   {
    "duration": 23,
    "start_time": "2025-01-17T18:07:42.440Z"
   },
   {
    "duration": 14,
    "start_time": "2025-01-17T18:07:42.467Z"
   },
   {
    "duration": 5,
    "start_time": "2025-01-17T18:07:42.482Z"
   },
   {
    "duration": 64,
    "start_time": "2025-01-17T18:07:42.489Z"
   },
   {
    "duration": 11,
    "start_time": "2025-01-17T18:07:42.555Z"
   },
   {
    "duration": 28,
    "start_time": "2025-01-17T18:07:42.568Z"
   },
   {
    "duration": 46,
    "start_time": "2025-01-17T18:07:42.598Z"
   },
   {
    "duration": 17,
    "start_time": "2025-01-17T18:07:42.645Z"
   },
   {
    "duration": 19,
    "start_time": "2025-01-17T18:07:42.664Z"
   },
   {
    "duration": 16,
    "start_time": "2025-01-17T18:07:42.684Z"
   },
   {
    "duration": 38,
    "start_time": "2025-01-17T18:07:42.702Z"
   },
   {
    "duration": 22,
    "start_time": "2025-01-17T18:07:42.742Z"
   },
   {
    "duration": 2572,
    "start_time": "2025-01-17T18:07:42.766Z"
   },
   {
    "duration": 230,
    "start_time": "2025-01-17T18:07:45.340Z"
   },
   {
    "duration": 750,
    "start_time": "2025-01-17T18:07:45.572Z"
   },
   {
    "duration": 604,
    "start_time": "2025-01-17T18:07:46.325Z"
   },
   {
    "duration": 229,
    "start_time": "2025-01-17T18:07:46.931Z"
   },
   {
    "duration": 225,
    "start_time": "2025-01-17T18:07:47.162Z"
   },
   {
    "duration": 2,
    "start_time": "2025-01-17T18:07:47.389Z"
   },
   {
    "duration": 11,
    "start_time": "2025-01-17T18:07:47.392Z"
   },
   {
    "duration": 3110,
    "start_time": "2025-01-17T20:39:05.130Z"
   },
   {
    "duration": 315,
    "start_time": "2025-01-17T20:39:25.314Z"
   },
   {
    "duration": 257,
    "start_time": "2025-01-17T20:39:25.631Z"
   },
   {
    "duration": 10,
    "start_time": "2025-01-17T20:39:25.891Z"
   },
   {
    "duration": 6,
    "start_time": "2025-01-17T20:39:25.903Z"
   },
   {
    "duration": 8,
    "start_time": "2025-01-17T20:39:25.911Z"
   },
   {
    "duration": 5,
    "start_time": "2025-01-17T20:39:25.921Z"
   },
   {
    "duration": 21,
    "start_time": "2025-01-17T20:39:25.928Z"
   },
   {
    "duration": 23,
    "start_time": "2025-01-17T20:39:25.954Z"
   },
   {
    "duration": 10,
    "start_time": "2025-01-17T20:39:25.978Z"
   },
   {
    "duration": 34,
    "start_time": "2025-01-17T20:39:25.990Z"
   },
   {
    "duration": 25,
    "start_time": "2025-01-17T20:39:26.026Z"
   },
   {
    "duration": 11,
    "start_time": "2025-01-17T20:39:26.054Z"
   },
   {
    "duration": 24,
    "start_time": "2025-01-17T20:39:26.068Z"
   },
   {
    "duration": 15,
    "start_time": "2025-01-17T20:39:26.096Z"
   },
   {
    "duration": 5,
    "start_time": "2025-01-17T20:39:26.113Z"
   },
   {
    "duration": 28,
    "start_time": "2025-01-17T20:39:26.144Z"
   },
   {
    "duration": 12,
    "start_time": "2025-01-17T20:39:26.174Z"
   },
   {
    "duration": 27,
    "start_time": "2025-01-17T20:39:26.188Z"
   },
   {
    "duration": 53,
    "start_time": "2025-01-17T20:39:26.217Z"
   },
   {
    "duration": 18,
    "start_time": "2025-01-17T20:39:26.272Z"
   },
   {
    "duration": 19,
    "start_time": "2025-01-17T20:39:26.292Z"
   },
   {
    "duration": 44,
    "start_time": "2025-01-17T20:39:26.312Z"
   },
   {
    "duration": 14,
    "start_time": "2025-01-17T20:39:26.358Z"
   },
   {
    "duration": 25,
    "start_time": "2025-01-17T20:39:26.374Z"
   },
   {
    "duration": 871,
    "start_time": "2025-01-17T20:39:26.401Z"
   },
   {
    "duration": 336,
    "start_time": "2025-01-17T20:39:27.274Z"
   },
   {
    "duration": 795,
    "start_time": "2025-01-17T20:39:27.613Z"
   },
   {
    "duration": 595,
    "start_time": "2025-01-17T20:39:28.410Z"
   },
   {
    "duration": 268,
    "start_time": "2025-01-17T20:39:29.007Z"
   },
   {
    "duration": 267,
    "start_time": "2025-01-17T20:39:29.277Z"
   },
   {
    "duration": 2,
    "start_time": "2025-01-17T20:39:29.547Z"
   },
   {
    "duration": 2,
    "start_time": "2025-01-17T20:39:29.551Z"
   },
   {
    "duration": 436,
    "start_time": "2025-01-17T21:07:41.458Z"
   },
   {
    "duration": 10,
    "start_time": "2025-01-17T21:08:17.047Z"
   },
   {
    "duration": 311,
    "start_time": "2025-01-17T21:25:45.084Z"
   },
   {
    "duration": 161,
    "start_time": "2025-01-17T21:25:45.398Z"
   },
   {
    "duration": 11,
    "start_time": "2025-01-17T21:25:45.561Z"
   },
   {
    "duration": 8,
    "start_time": "2025-01-17T21:25:45.573Z"
   },
   {
    "duration": 10,
    "start_time": "2025-01-17T21:25:45.584Z"
   },
   {
    "duration": 4,
    "start_time": "2025-01-17T21:25:45.597Z"
   },
   {
    "duration": 12,
    "start_time": "2025-01-17T21:25:45.603Z"
   },
   {
    "duration": 34,
    "start_time": "2025-01-17T21:25:45.617Z"
   },
   {
    "duration": 5,
    "start_time": "2025-01-17T21:25:45.653Z"
   },
   {
    "duration": 34,
    "start_time": "2025-01-17T21:25:45.660Z"
   },
   {
    "duration": 13,
    "start_time": "2025-01-17T21:25:45.695Z"
   },
   {
    "duration": 4,
    "start_time": "2025-01-17T21:25:45.710Z"
   },
   {
    "duration": 23,
    "start_time": "2025-01-17T21:25:45.743Z"
   },
   {
    "duration": 15,
    "start_time": "2025-01-17T21:25:45.770Z"
   },
   {
    "duration": 6,
    "start_time": "2025-01-17T21:25:45.787Z"
   },
   {
    "duration": 66,
    "start_time": "2025-01-17T21:25:45.795Z"
   },
   {
    "duration": 11,
    "start_time": "2025-01-17T21:25:45.863Z"
   },
   {
    "duration": 31,
    "start_time": "2025-01-17T21:25:45.876Z"
   },
   {
    "duration": 42,
    "start_time": "2025-01-17T21:25:45.911Z"
   },
   {
    "duration": 18,
    "start_time": "2025-01-17T21:25:45.956Z"
   },
   {
    "duration": 19,
    "start_time": "2025-01-17T21:25:45.976Z"
   },
   {
    "duration": 14,
    "start_time": "2025-01-17T21:25:45.997Z"
   },
   {
    "duration": 36,
    "start_time": "2025-01-17T21:25:46.013Z"
   },
   {
    "duration": 7,
    "start_time": "2025-01-17T21:25:46.051Z"
   },
   {
    "duration": 0,
    "start_time": "2025-01-17T21:25:46.059Z"
   },
   {
    "duration": 0,
    "start_time": "2025-01-17T21:25:46.062Z"
   },
   {
    "duration": 0,
    "start_time": "2025-01-17T21:25:46.067Z"
   },
   {
    "duration": 0,
    "start_time": "2025-01-17T21:25:46.068Z"
   },
   {
    "duration": 0,
    "start_time": "2025-01-17T21:25:46.069Z"
   },
   {
    "duration": 0,
    "start_time": "2025-01-17T21:25:46.070Z"
   },
   {
    "duration": 0,
    "start_time": "2025-01-17T21:25:46.071Z"
   },
   {
    "duration": 0,
    "start_time": "2025-01-17T21:25:46.072Z"
   },
   {
    "duration": 0,
    "start_time": "2025-01-17T21:25:46.073Z"
   },
   {
    "duration": 322,
    "start_time": "2025-01-17T21:27:32.965Z"
   },
   {
    "duration": 165,
    "start_time": "2025-01-17T21:27:33.289Z"
   },
   {
    "duration": 10,
    "start_time": "2025-01-17T21:27:33.455Z"
   },
   {
    "duration": 6,
    "start_time": "2025-01-17T21:27:33.467Z"
   },
   {
    "duration": 7,
    "start_time": "2025-01-17T21:27:33.476Z"
   },
   {
    "duration": 5,
    "start_time": "2025-01-17T21:27:33.485Z"
   },
   {
    "duration": 11,
    "start_time": "2025-01-17T21:27:33.492Z"
   },
   {
    "duration": 43,
    "start_time": "2025-01-17T21:27:33.505Z"
   },
   {
    "duration": 4,
    "start_time": "2025-01-17T21:27:33.550Z"
   },
   {
    "duration": 34,
    "start_time": "2025-01-17T21:27:33.556Z"
   },
   {
    "duration": 11,
    "start_time": "2025-01-17T21:27:33.592Z"
   },
   {
    "duration": 5,
    "start_time": "2025-01-17T21:27:33.604Z"
   },
   {
    "duration": 50,
    "start_time": "2025-01-17T21:27:33.610Z"
   },
   {
    "duration": 13,
    "start_time": "2025-01-17T21:27:33.664Z"
   },
   {
    "duration": 4,
    "start_time": "2025-01-17T21:27:33.679Z"
   },
   {
    "duration": 28,
    "start_time": "2025-01-17T21:27:33.685Z"
   },
   {
    "duration": 34,
    "start_time": "2025-01-17T21:27:33.715Z"
   },
   {
    "duration": 27,
    "start_time": "2025-01-17T21:27:33.751Z"
   },
   {
    "duration": 26,
    "start_time": "2025-01-17T21:27:33.780Z"
   },
   {
    "duration": 44,
    "start_time": "2025-01-17T21:27:33.808Z"
   },
   {
    "duration": 20,
    "start_time": "2025-01-17T21:27:33.853Z"
   },
   {
    "duration": 15,
    "start_time": "2025-01-17T21:27:33.876Z"
   },
   {
    "duration": 9,
    "start_time": "2025-01-17T21:27:33.893Z"
   },
   {
    "duration": 48,
    "start_time": "2025-01-17T21:27:33.904Z"
   },
   {
    "duration": 796,
    "start_time": "2025-01-17T21:27:33.954Z"
   },
   {
    "duration": 290,
    "start_time": "2025-01-17T21:27:34.754Z"
   },
   {
    "duration": 708,
    "start_time": "2025-01-17T21:27:35.046Z"
   },
   {
    "duration": 510,
    "start_time": "2025-01-17T21:27:35.756Z"
   },
   {
    "duration": 226,
    "start_time": "2025-01-17T21:27:36.268Z"
   },
   {
    "duration": 225,
    "start_time": "2025-01-17T21:27:36.496Z"
   },
   {
    "duration": 19,
    "start_time": "2025-01-17T21:27:36.723Z"
   },
   {
    "duration": 3,
    "start_time": "2025-01-17T21:27:36.743Z"
   },
   {
    "duration": 3,
    "start_time": "2025-01-17T21:27:36.747Z"
   },
   {
    "duration": 324,
    "start_time": "2025-01-17T21:37:03.162Z"
   },
   {
    "duration": 221,
    "start_time": "2025-01-17T21:37:09.504Z"
   },
   {
    "duration": 230,
    "start_time": "2025-01-17T21:37:43.015Z"
   },
   {
    "duration": 218,
    "start_time": "2025-01-17T21:40:19.488Z"
   },
   {
    "duration": 243,
    "start_time": "2025-01-17T21:40:24.589Z"
   },
   {
    "duration": 47,
    "start_time": "2025-01-17T21:40:54.010Z"
   },
   {
    "duration": 235,
    "start_time": "2025-01-17T21:41:16.493Z"
   },
   {
    "duration": 228,
    "start_time": "2025-01-17T21:43:35.156Z"
   },
   {
    "duration": 215,
    "start_time": "2025-01-17T22:13:05.408Z"
   },
   {
    "duration": 218,
    "start_time": "2025-01-17T22:13:20.841Z"
   },
   {
    "duration": 216,
    "start_time": "2025-01-17T22:14:12.379Z"
   },
   {
    "duration": 215,
    "start_time": "2025-01-17T22:16:44.160Z"
   },
   {
    "duration": 216,
    "start_time": "2025-01-17T22:17:55.950Z"
   },
   {
    "duration": 222,
    "start_time": "2025-01-17T22:18:14.296Z"
   },
   {
    "duration": 314,
    "start_time": "2025-01-17T22:19:45.259Z"
   },
   {
    "duration": 208,
    "start_time": "2025-01-17T22:19:53.203Z"
   },
   {
    "duration": 208,
    "start_time": "2025-01-17T22:20:15.413Z"
   },
   {
    "duration": 219,
    "start_time": "2025-01-17T22:20:24.893Z"
   },
   {
    "duration": 212,
    "start_time": "2025-01-17T22:45:13.951Z"
   },
   {
    "duration": 11,
    "start_time": "2025-01-17T22:54:26.966Z"
   },
   {
    "duration": 8,
    "start_time": "2025-01-17T22:54:51.677Z"
   },
   {
    "duration": 4,
    "start_time": "2025-01-17T22:56:18.304Z"
   },
   {
    "duration": 9,
    "start_time": "2025-01-17T22:56:28.549Z"
   },
   {
    "duration": 10,
    "start_time": "2025-01-17T22:56:37.792Z"
   },
   {
    "duration": 25,
    "start_time": "2025-01-17T23:00:15.277Z"
   },
   {
    "duration": 13,
    "start_time": "2025-01-17T23:00:36.003Z"
   },
   {
    "duration": 12,
    "start_time": "2025-01-17T23:01:15.510Z"
   },
   {
    "duration": 13,
    "start_time": "2025-01-17T23:42:05.173Z"
   },
   {
    "duration": 161,
    "start_time": "2025-01-17T23:43:12.167Z"
   },
   {
    "duration": 15,
    "start_time": "2025-01-17T23:43:22.521Z"
   },
   {
    "duration": 312,
    "start_time": "2025-01-17T23:43:50.683Z"
   },
   {
    "duration": 219,
    "start_time": "2025-01-17T23:43:50.997Z"
   },
   {
    "duration": 9,
    "start_time": "2025-01-17T23:43:51.218Z"
   },
   {
    "duration": 7,
    "start_time": "2025-01-17T23:43:51.230Z"
   },
   {
    "duration": 8,
    "start_time": "2025-01-17T23:43:51.240Z"
   },
   {
    "duration": 5,
    "start_time": "2025-01-17T23:43:51.250Z"
   },
   {
    "duration": 10,
    "start_time": "2025-01-17T23:43:51.257Z"
   },
   {
    "duration": 15,
    "start_time": "2025-01-17T23:43:51.269Z"
   },
   {
    "duration": 44,
    "start_time": "2025-01-17T23:43:51.286Z"
   },
   {
    "duration": 34,
    "start_time": "2025-01-17T23:43:51.334Z"
   },
   {
    "duration": 14,
    "start_time": "2025-01-17T23:43:51.369Z"
   },
   {
    "duration": 4,
    "start_time": "2025-01-17T23:43:51.386Z"
   },
   {
    "duration": 48,
    "start_time": "2025-01-17T23:43:51.391Z"
   },
   {
    "duration": 15,
    "start_time": "2025-01-17T23:43:51.440Z"
   },
   {
    "duration": 5,
    "start_time": "2025-01-17T23:43:51.456Z"
   },
   {
    "duration": 28,
    "start_time": "2025-01-17T23:43:51.462Z"
   },
   {
    "duration": 10,
    "start_time": "2025-01-17T23:43:51.492Z"
   },
   {
    "duration": 27,
    "start_time": "2025-01-17T23:43:51.531Z"
   },
   {
    "duration": 27,
    "start_time": "2025-01-17T23:43:51.559Z"
   },
   {
    "duration": 16,
    "start_time": "2025-01-17T23:43:51.588Z"
   },
   {
    "duration": 40,
    "start_time": "2025-01-17T23:43:51.605Z"
   },
   {
    "duration": 18,
    "start_time": "2025-01-17T23:43:51.647Z"
   },
   {
    "duration": 11,
    "start_time": "2025-01-17T23:43:51.667Z"
   },
   {
    "duration": 56,
    "start_time": "2025-01-17T23:43:51.681Z"
   },
   {
    "duration": 2603,
    "start_time": "2025-01-17T23:43:51.739Z"
   },
   {
    "duration": 239,
    "start_time": "2025-01-17T23:43:54.344Z"
   },
   {
    "duration": 762,
    "start_time": "2025-01-17T23:43:54.585Z"
   },
   {
    "duration": 592,
    "start_time": "2025-01-17T23:43:55.351Z"
   },
   {
    "duration": 237,
    "start_time": "2025-01-17T23:43:55.945Z"
   },
   {
    "duration": 234,
    "start_time": "2025-01-17T23:43:56.184Z"
   },
   {
    "duration": 220,
    "start_time": "2025-01-17T23:43:56.420Z"
   },
   {
    "duration": 228,
    "start_time": "2025-01-17T23:43:56.642Z"
   },
   {
    "duration": 247,
    "start_time": "2025-01-17T23:43:56.872Z"
   },
   {
    "duration": 24,
    "start_time": "2025-01-17T23:43:57.121Z"
   },
   {
    "duration": 2,
    "start_time": "2025-01-17T23:43:57.147Z"
   },
   {
    "duration": 15,
    "start_time": "2025-01-17T23:52:06.223Z"
   },
   {
    "duration": 15,
    "start_time": "2025-01-17T23:52:15.705Z"
   },
   {
    "duration": 15,
    "start_time": "2025-01-17T23:52:29.320Z"
   },
   {
    "duration": 15,
    "start_time": "2025-01-17T23:52:42.419Z"
   },
   {
    "duration": 583,
    "start_time": "2025-01-17T23:57:50.939Z"
   },
   {
    "duration": 77,
    "start_time": "2025-01-17T23:58:26.800Z"
   },
   {
    "duration": 155,
    "start_time": "2025-01-17T23:58:38.868Z"
   },
   {
    "duration": 60,
    "start_time": "2025-01-18T00:01:37.533Z"
   },
   {
    "duration": 67,
    "start_time": "2025-01-18T00:02:34.470Z"
   },
   {
    "duration": 354,
    "start_time": "2025-01-18T00:02:48.552Z"
   },
   {
    "duration": 168,
    "start_time": "2025-01-18T00:02:48.908Z"
   },
   {
    "duration": 10,
    "start_time": "2025-01-18T00:02:49.078Z"
   },
   {
    "duration": 7,
    "start_time": "2025-01-18T00:02:49.090Z"
   },
   {
    "duration": 9,
    "start_time": "2025-01-18T00:02:49.099Z"
   },
   {
    "duration": 5,
    "start_time": "2025-01-18T00:02:49.109Z"
   },
   {
    "duration": 12,
    "start_time": "2025-01-18T00:02:49.130Z"
   },
   {
    "duration": 16,
    "start_time": "2025-01-18T00:02:49.144Z"
   },
   {
    "duration": 4,
    "start_time": "2025-01-18T00:02:49.162Z"
   },
   {
    "duration": 35,
    "start_time": "2025-01-18T00:02:49.169Z"
   },
   {
    "duration": 35,
    "start_time": "2025-01-18T00:02:49.206Z"
   },
   {
    "duration": 5,
    "start_time": "2025-01-18T00:02:49.243Z"
   },
   {
    "duration": 25,
    "start_time": "2025-01-18T00:02:49.249Z"
   },
   {
    "duration": 14,
    "start_time": "2025-01-18T00:02:49.278Z"
   },
   {
    "duration": 4,
    "start_time": "2025-01-18T00:02:49.294Z"
   },
   {
    "duration": 28,
    "start_time": "2025-01-18T00:02:49.332Z"
   },
   {
    "duration": 10,
    "start_time": "2025-01-18T00:02:49.361Z"
   },
   {
    "duration": 28,
    "start_time": "2025-01-18T00:02:49.372Z"
   },
   {
    "duration": 56,
    "start_time": "2025-01-18T00:02:49.402Z"
   },
   {
    "duration": 19,
    "start_time": "2025-01-18T00:02:49.460Z"
   },
   {
    "duration": 19,
    "start_time": "2025-01-18T00:02:49.481Z"
   },
   {
    "duration": 35,
    "start_time": "2025-01-18T00:02:49.503Z"
   },
   {
    "duration": 10,
    "start_time": "2025-01-18T00:02:49.540Z"
   },
   {
    "duration": 24,
    "start_time": "2025-01-18T00:02:49.551Z"
   },
   {
    "duration": 810,
    "start_time": "2025-01-18T00:02:49.577Z"
   },
   {
    "duration": 315,
    "start_time": "2025-01-18T00:02:50.389Z"
   },
   {
    "duration": 706,
    "start_time": "2025-01-18T00:02:50.705Z"
   },
   {
    "duration": 549,
    "start_time": "2025-01-18T00:02:51.413Z"
   },
   {
    "duration": 229,
    "start_time": "2025-01-18T00:02:51.964Z"
   },
   {
    "duration": 232,
    "start_time": "2025-01-18T00:02:52.195Z"
   },
   {
    "duration": 227,
    "start_time": "2025-01-18T00:02:52.429Z"
   },
   {
    "duration": 326,
    "start_time": "2025-01-18T00:02:52.658Z"
   },
   {
    "duration": 224,
    "start_time": "2025-01-18T00:02:52.986Z"
   },
   {
    "duration": 630,
    "start_time": "2025-01-18T00:02:53.212Z"
   },
   {
    "duration": 0,
    "start_time": "2025-01-18T00:02:53.844Z"
   },
   {
    "duration": 15,
    "start_time": "2025-01-18T00:08:57.234Z"
   },
   {
    "duration": 284,
    "start_time": "2025-01-20T17:47:13.115Z"
   },
   {
    "duration": 230,
    "start_time": "2025-01-20T17:47:13.404Z"
   },
   {
    "duration": 10,
    "start_time": "2025-01-20T17:47:13.638Z"
   },
   {
    "duration": 7,
    "start_time": "2025-01-20T17:47:13.650Z"
   },
   {
    "duration": 9,
    "start_time": "2025-01-20T17:47:13.660Z"
   },
   {
    "duration": 5,
    "start_time": "2025-01-20T17:47:13.672Z"
   },
   {
    "duration": 11,
    "start_time": "2025-01-20T17:47:13.679Z"
   },
   {
    "duration": 19,
    "start_time": "2025-01-20T17:47:13.693Z"
   },
   {
    "duration": 33,
    "start_time": "2025-01-20T17:47:13.713Z"
   },
   {
    "duration": 47,
    "start_time": "2025-01-20T17:47:13.748Z"
   },
   {
    "duration": 15,
    "start_time": "2025-01-20T17:47:13.797Z"
   },
   {
    "duration": 4,
    "start_time": "2025-01-20T17:47:13.814Z"
   },
   {
    "duration": 44,
    "start_time": "2025-01-20T17:47:13.820Z"
   },
   {
    "duration": 16,
    "start_time": "2025-01-20T17:47:13.868Z"
   },
   {
    "duration": 8,
    "start_time": "2025-01-20T17:47:13.886Z"
   },
   {
    "duration": 25,
    "start_time": "2025-01-20T17:47:13.896Z"
   },
   {
    "duration": 11,
    "start_time": "2025-01-20T17:47:13.942Z"
   },
   {
    "duration": 27,
    "start_time": "2025-01-20T17:47:13.956Z"
   },
   {
    "duration": 35,
    "start_time": "2025-01-20T17:47:13.985Z"
   },
   {
    "duration": 45,
    "start_time": "2025-01-20T17:47:14.022Z"
   },
   {
    "duration": 21,
    "start_time": "2025-01-20T17:47:14.069Z"
   },
   {
    "duration": 15,
    "start_time": "2025-01-20T17:47:14.092Z"
   },
   {
    "duration": 35,
    "start_time": "2025-01-20T17:47:14.108Z"
   },
   {
    "duration": 25,
    "start_time": "2025-01-20T17:47:14.145Z"
   },
   {
    "duration": 2706,
    "start_time": "2025-01-20T17:47:14.172Z"
   },
   {
    "duration": 254,
    "start_time": "2025-01-20T17:47:16.880Z"
   },
   {
    "duration": 731,
    "start_time": "2025-01-20T17:47:17.142Z"
   },
   {
    "duration": 561,
    "start_time": "2025-01-20T17:47:17.875Z"
   },
   {
    "duration": 319,
    "start_time": "2025-01-20T17:47:18.442Z"
   },
   {
    "duration": 235,
    "start_time": "2025-01-20T17:47:18.762Z"
   },
   {
    "duration": 255,
    "start_time": "2025-01-20T17:47:18.999Z"
   },
   {
    "duration": 216,
    "start_time": "2025-01-20T17:47:19.256Z"
   },
   {
    "duration": 249,
    "start_time": "2025-01-20T17:47:19.474Z"
   },
   {
    "duration": 25,
    "start_time": "2025-01-20T17:47:19.725Z"
   },
   {
    "duration": 2,
    "start_time": "2025-01-20T17:47:19.752Z"
   },
   {
    "duration": 314,
    "start_time": "2025-01-20T20:20:59.225Z"
   },
   {
    "duration": 209,
    "start_time": "2025-01-20T20:20:59.541Z"
   },
   {
    "duration": 9,
    "start_time": "2025-01-20T20:20:59.751Z"
   },
   {
    "duration": 7,
    "start_time": "2025-01-20T20:20:59.761Z"
   },
   {
    "duration": 8,
    "start_time": "2025-01-20T20:20:59.771Z"
   },
   {
    "duration": 6,
    "start_time": "2025-01-20T20:20:59.780Z"
   },
   {
    "duration": 11,
    "start_time": "2025-01-20T20:20:59.787Z"
   },
   {
    "duration": 14,
    "start_time": "2025-01-20T20:20:59.799Z"
   },
   {
    "duration": 4,
    "start_time": "2025-01-20T20:20:59.814Z"
   },
   {
    "duration": 67,
    "start_time": "2025-01-20T20:20:59.820Z"
   },
   {
    "duration": 12,
    "start_time": "2025-01-20T20:20:59.889Z"
   },
   {
    "duration": 4,
    "start_time": "2025-01-20T20:20:59.902Z"
   },
   {
    "duration": 22,
    "start_time": "2025-01-20T20:20:59.908Z"
   },
   {
    "duration": 39,
    "start_time": "2025-01-20T20:20:59.934Z"
   },
   {
    "duration": 5,
    "start_time": "2025-01-20T20:20:59.974Z"
   },
   {
    "duration": 26,
    "start_time": "2025-01-20T20:20:59.980Z"
   },
   {
    "duration": 11,
    "start_time": "2025-01-20T20:21:00.008Z"
   },
   {
    "duration": 56,
    "start_time": "2025-01-20T20:21:00.021Z"
   },
   {
    "duration": 26,
    "start_time": "2025-01-20T20:21:00.079Z"
   },
   {
    "duration": 17,
    "start_time": "2025-01-20T20:21:00.107Z"
   },
   {
    "duration": 18,
    "start_time": "2025-01-20T20:21:00.126Z"
   },
   {
    "duration": 35,
    "start_time": "2025-01-20T20:21:00.146Z"
   },
   {
    "duration": 8,
    "start_time": "2025-01-20T20:21:00.183Z"
   },
   {
    "duration": 23,
    "start_time": "2025-01-20T20:21:00.192Z"
   },
   {
    "duration": 2534,
    "start_time": "2025-01-20T20:21:00.217Z"
   },
   {
    "duration": 235,
    "start_time": "2025-01-20T20:21:02.754Z"
   },
   {
    "duration": 713,
    "start_time": "2025-01-20T20:21:02.991Z"
   },
   {
    "duration": 585,
    "start_time": "2025-01-20T20:21:03.706Z"
   },
   {
    "duration": 220,
    "start_time": "2025-01-20T20:21:04.293Z"
   },
   {
    "duration": 219,
    "start_time": "2025-01-20T20:21:04.515Z"
   },
   {
    "duration": 236,
    "start_time": "2025-01-20T20:21:04.736Z"
   },
   {
    "duration": 222,
    "start_time": "2025-01-20T20:21:04.973Z"
   },
   {
    "duration": 224,
    "start_time": "2025-01-20T20:21:05.196Z"
   },
   {
    "duration": 16,
    "start_time": "2025-01-20T20:21:05.421Z"
   },
   {
    "duration": 2,
    "start_time": "2025-01-20T20:21:05.438Z"
   },
   {
    "duration": 6,
    "start_time": "2025-01-20T20:57:09.861Z"
   },
   {
    "duration": 309,
    "start_time": "2025-01-20T20:57:13.895Z"
   },
   {
    "duration": 277,
    "start_time": "2025-01-20T20:57:23.632Z"
   },
   {
    "duration": 153,
    "start_time": "2025-01-20T20:57:23.911Z"
   },
   {
    "duration": 9,
    "start_time": "2025-01-20T20:57:24.066Z"
   },
   {
    "duration": 6,
    "start_time": "2025-01-20T20:57:24.077Z"
   },
   {
    "duration": 8,
    "start_time": "2025-01-20T20:57:24.085Z"
   },
   {
    "duration": 5,
    "start_time": "2025-01-20T20:57:24.094Z"
   },
   {
    "duration": 10,
    "start_time": "2025-01-20T20:57:24.101Z"
   },
   {
    "duration": 15,
    "start_time": "2025-01-20T20:57:24.113Z"
   },
   {
    "duration": 4,
    "start_time": "2025-01-20T20:57:24.129Z"
   },
   {
    "duration": 67,
    "start_time": "2025-01-20T20:57:24.136Z"
   },
   {
    "duration": 11,
    "start_time": "2025-01-20T20:57:24.205Z"
   },
   {
    "duration": 5,
    "start_time": "2025-01-20T20:57:24.218Z"
   },
   {
    "duration": 21,
    "start_time": "2025-01-20T20:57:24.225Z"
   },
   {
    "duration": 13,
    "start_time": "2025-01-20T20:57:24.271Z"
   },
   {
    "duration": 4,
    "start_time": "2025-01-20T20:57:24.286Z"
   },
   {
    "duration": 27,
    "start_time": "2025-01-20T20:57:24.292Z"
   },
   {
    "duration": 10,
    "start_time": "2025-01-20T20:57:24.321Z"
   },
   {
    "duration": 56,
    "start_time": "2025-01-20T20:57:24.333Z"
   },
   {
    "duration": 26,
    "start_time": "2025-01-20T20:57:24.391Z"
   },
   {
    "duration": 15,
    "start_time": "2025-01-20T20:57:24.419Z"
   },
   {
    "duration": 45,
    "start_time": "2025-01-20T20:57:24.436Z"
   },
   {
    "duration": 15,
    "start_time": "2025-01-20T20:57:24.483Z"
   },
   {
    "duration": 12,
    "start_time": "2025-01-20T20:57:24.499Z"
   },
   {
    "duration": 27,
    "start_time": "2025-01-20T20:57:24.513Z"
   },
   {
    "duration": 768,
    "start_time": "2025-01-20T20:57:24.542Z"
   },
   {
    "duration": 285,
    "start_time": "2025-01-20T20:57:25.312Z"
   },
   {
    "duration": 700,
    "start_time": "2025-01-20T20:57:25.599Z"
   },
   {
    "duration": 560,
    "start_time": "2025-01-20T20:57:26.303Z"
   },
   {
    "duration": 232,
    "start_time": "2025-01-20T20:57:26.865Z"
   },
   {
    "duration": 230,
    "start_time": "2025-01-20T20:57:27.100Z"
   },
   {
    "duration": 230,
    "start_time": "2025-01-20T20:57:27.332Z"
   },
   {
    "duration": 311,
    "start_time": "2025-01-20T20:57:27.564Z"
   },
   {
    "duration": 225,
    "start_time": "2025-01-20T20:57:27.877Z"
   },
   {
    "duration": 247,
    "start_time": "2025-01-20T20:57:28.104Z"
   },
   {
    "duration": 0,
    "start_time": "2025-01-20T20:57:28.353Z"
   },
   {
    "duration": 18,
    "start_time": "2025-01-20T20:57:48.663Z"
   },
   {
    "duration": 19,
    "start_time": "2025-01-20T20:58:14.131Z"
   },
   {
    "duration": 17,
    "start_time": "2025-01-20T20:58:49.010Z"
   },
   {
    "duration": 274,
    "start_time": "2025-01-21T17:56:54.358Z"
   },
   {
    "duration": 219,
    "start_time": "2025-01-21T17:56:54.634Z"
   },
   {
    "duration": 10,
    "start_time": "2025-01-21T17:56:54.855Z"
   },
   {
    "duration": 6,
    "start_time": "2025-01-21T17:56:54.868Z"
   },
   {
    "duration": 7,
    "start_time": "2025-01-21T17:56:54.876Z"
   },
   {
    "duration": 6,
    "start_time": "2025-01-21T17:56:54.884Z"
   },
   {
    "duration": 11,
    "start_time": "2025-01-21T17:56:54.891Z"
   },
   {
    "duration": 15,
    "start_time": "2025-01-21T17:56:54.903Z"
   },
   {
    "duration": 4,
    "start_time": "2025-01-21T17:56:54.920Z"
   },
   {
    "duration": 67,
    "start_time": "2025-01-21T17:56:54.927Z"
   },
   {
    "duration": 12,
    "start_time": "2025-01-21T17:56:54.995Z"
   },
   {
    "duration": 4,
    "start_time": "2025-01-21T17:56:55.009Z"
   },
   {
    "duration": 21,
    "start_time": "2025-01-21T17:56:55.014Z"
   },
   {
    "duration": 39,
    "start_time": "2025-01-21T17:56:55.037Z"
   },
   {
    "duration": 4,
    "start_time": "2025-01-21T17:56:55.078Z"
   },
   {
    "duration": 26,
    "start_time": "2025-01-21T17:56:55.084Z"
   },
   {
    "duration": 9,
    "start_time": "2025-01-21T17:56:55.112Z"
   },
   {
    "duration": 58,
    "start_time": "2025-01-21T17:56:55.123Z"
   },
   {
    "duration": 26,
    "start_time": "2025-01-21T17:56:55.183Z"
   },
   {
    "duration": 17,
    "start_time": "2025-01-21T17:56:55.211Z"
   },
   {
    "duration": 39,
    "start_time": "2025-01-21T17:56:55.231Z"
   },
   {
    "duration": 14,
    "start_time": "2025-01-21T17:56:55.271Z"
   },
   {
    "duration": 8,
    "start_time": "2025-01-21T17:56:55.287Z"
   },
   {
    "duration": 22,
    "start_time": "2025-01-21T17:56:55.297Z"
   },
   {
    "duration": 2536,
    "start_time": "2025-01-21T17:56:55.320Z"
   },
   {
    "duration": 230,
    "start_time": "2025-01-21T17:56:57.857Z"
   },
   {
    "duration": 714,
    "start_time": "2025-01-21T17:56:58.088Z"
   },
   {
    "duration": 528,
    "start_time": "2025-01-21T17:56:58.803Z"
   },
   {
    "duration": 218,
    "start_time": "2025-01-21T17:56:59.333Z"
   },
   {
    "duration": 224,
    "start_time": "2025-01-21T17:56:59.553Z"
   },
   {
    "duration": 222,
    "start_time": "2025-01-21T17:56:59.781Z"
   },
   {
    "duration": 224,
    "start_time": "2025-01-21T17:57:00.005Z"
   },
   {
    "duration": 305,
    "start_time": "2025-01-21T17:57:00.231Z"
   },
   {
    "duration": 17,
    "start_time": "2025-01-21T17:57:00.540Z"
   },
   {
    "duration": 11,
    "start_time": "2025-01-21T17:57:00.559Z"
   },
   {
    "duration": 26,
    "start_time": "2025-01-21T17:57:42.365Z"
   },
   {
    "duration": 12,
    "start_time": "2025-01-21T17:58:08.287Z"
   },
   {
    "duration": 305,
    "start_time": "2025-01-21T17:59:00.169Z"
   },
   {
    "duration": 155,
    "start_time": "2025-01-21T17:59:00.476Z"
   },
   {
    "duration": 9,
    "start_time": "2025-01-21T17:59:00.632Z"
   },
   {
    "duration": 8,
    "start_time": "2025-01-21T17:59:00.643Z"
   },
   {
    "duration": 18,
    "start_time": "2025-01-21T17:59:00.653Z"
   },
   {
    "duration": 6,
    "start_time": "2025-01-21T17:59:00.672Z"
   },
   {
    "duration": 11,
    "start_time": "2025-01-21T17:59:00.679Z"
   },
   {
    "duration": 15,
    "start_time": "2025-01-21T17:59:00.691Z"
   },
   {
    "duration": 5,
    "start_time": "2025-01-21T17:59:00.707Z"
   },
   {
    "duration": 62,
    "start_time": "2025-01-21T17:59:00.714Z"
   },
   {
    "duration": 12,
    "start_time": "2025-01-21T17:59:00.777Z"
   },
   {
    "duration": 5,
    "start_time": "2025-01-21T17:59:00.790Z"
   },
   {
    "duration": 22,
    "start_time": "2025-01-21T17:59:00.796Z"
   },
   {
    "duration": 13,
    "start_time": "2025-01-21T17:59:00.823Z"
   },
   {
    "duration": 32,
    "start_time": "2025-01-21T17:59:00.838Z"
   },
   {
    "duration": 27,
    "start_time": "2025-01-21T17:59:00.872Z"
   },
   {
    "duration": 9,
    "start_time": "2025-01-21T17:59:00.901Z"
   },
   {
    "duration": 27,
    "start_time": "2025-01-21T17:59:00.911Z"
   },
   {
    "duration": 51,
    "start_time": "2025-01-21T17:59:00.940Z"
   },
   {
    "duration": 18,
    "start_time": "2025-01-21T17:59:00.994Z"
   },
   {
    "duration": 20,
    "start_time": "2025-01-21T17:59:01.013Z"
   },
   {
    "duration": 39,
    "start_time": "2025-01-21T17:59:01.035Z"
   },
   {
    "duration": 9,
    "start_time": "2025-01-21T17:59:01.075Z"
   },
   {
    "duration": 22,
    "start_time": "2025-01-21T17:59:01.086Z"
   },
   {
    "duration": 788,
    "start_time": "2025-01-21T17:59:01.110Z"
   },
   {
    "duration": 298,
    "start_time": "2025-01-21T17:59:01.900Z"
   },
   {
    "duration": 695,
    "start_time": "2025-01-21T17:59:02.200Z"
   },
   {
    "duration": 527,
    "start_time": "2025-01-21T17:59:02.897Z"
   },
   {
    "duration": 221,
    "start_time": "2025-01-21T17:59:03.426Z"
   },
   {
    "duration": 226,
    "start_time": "2025-01-21T17:59:03.649Z"
   },
   {
    "duration": 238,
    "start_time": "2025-01-21T17:59:03.877Z"
   },
   {
    "duration": 318,
    "start_time": "2025-01-21T17:59:04.117Z"
   },
   {
    "duration": 222,
    "start_time": "2025-01-21T17:59:04.437Z"
   },
   {
    "duration": 26,
    "start_time": "2025-01-21T17:59:04.661Z"
   },
   {
    "duration": 2,
    "start_time": "2025-01-21T17:59:04.690Z"
   },
   {
    "duration": 160,
    "start_time": "2025-01-21T21:53:09.956Z"
   },
   {
    "duration": 291,
    "start_time": "2025-01-21T21:53:32.775Z"
   },
   {
    "duration": 211,
    "start_time": "2025-01-21T21:53:33.068Z"
   },
   {
    "duration": 10,
    "start_time": "2025-01-21T21:53:33.281Z"
   },
   {
    "duration": 7,
    "start_time": "2025-01-21T21:53:33.293Z"
   },
   {
    "duration": 9,
    "start_time": "2025-01-21T21:53:33.303Z"
   },
   {
    "duration": 5,
    "start_time": "2025-01-21T21:53:33.314Z"
   },
   {
    "duration": 10,
    "start_time": "2025-01-21T21:53:33.321Z"
   },
   {
    "duration": 16,
    "start_time": "2025-01-21T21:53:33.332Z"
   },
   {
    "duration": 5,
    "start_time": "2025-01-21T21:53:33.349Z"
   },
   {
    "duration": 65,
    "start_time": "2025-01-21T21:53:33.356Z"
   },
   {
    "duration": 12,
    "start_time": "2025-01-21T21:53:33.424Z"
   },
   {
    "duration": 4,
    "start_time": "2025-01-21T21:53:33.438Z"
   },
   {
    "duration": 21,
    "start_time": "2025-01-21T21:53:33.443Z"
   },
   {
    "duration": 38,
    "start_time": "2025-01-21T21:53:33.469Z"
   },
   {
    "duration": 5,
    "start_time": "2025-01-21T21:53:33.508Z"
   },
   {
    "duration": 28,
    "start_time": "2025-01-21T21:53:33.514Z"
   },
   {
    "duration": 10,
    "start_time": "2025-01-21T21:53:33.543Z"
   },
   {
    "duration": 52,
    "start_time": "2025-01-21T21:53:33.554Z"
   },
   {
    "duration": 27,
    "start_time": "2025-01-21T21:53:33.608Z"
   },
   {
    "duration": 17,
    "start_time": "2025-01-21T21:53:33.637Z"
   },
   {
    "duration": 18,
    "start_time": "2025-01-21T21:53:33.656Z"
   },
   {
    "duration": 39,
    "start_time": "2025-01-21T21:53:33.675Z"
   },
   {
    "duration": 9,
    "start_time": "2025-01-21T21:53:33.716Z"
   },
   {
    "duration": 23,
    "start_time": "2025-01-21T21:53:33.727Z"
   },
   {
    "duration": 2704,
    "start_time": "2025-01-21T21:53:33.751Z"
   },
   {
    "duration": 263,
    "start_time": "2025-01-21T21:53:36.458Z"
   },
   {
    "duration": 715,
    "start_time": "2025-01-21T21:53:36.724Z"
   },
   {
    "duration": 511,
    "start_time": "2025-01-21T21:53:37.441Z"
   },
   {
    "duration": 302,
    "start_time": "2025-01-21T21:53:37.953Z"
   },
   {
    "duration": 237,
    "start_time": "2025-01-21T21:53:38.257Z"
   },
   {
    "duration": 225,
    "start_time": "2025-01-21T21:53:38.496Z"
   },
   {
    "duration": 227,
    "start_time": "2025-01-21T21:53:38.722Z"
   },
   {
    "duration": 223,
    "start_time": "2025-01-21T21:53:38.953Z"
   },
   {
    "duration": 29,
    "start_time": "2025-01-21T21:53:39.178Z"
   },
   {
    "duration": 2,
    "start_time": "2025-01-21T21:53:39.209Z"
   },
   {
    "duration": 99,
    "start_time": "2025-01-21T21:54:23.062Z"
   },
   {
    "duration": 278,
    "start_time": "2025-01-21T21:54:36.176Z"
   },
   {
    "duration": 168,
    "start_time": "2025-01-21T21:54:36.457Z"
   },
   {
    "duration": 10,
    "start_time": "2025-01-21T21:54:36.627Z"
   },
   {
    "duration": 7,
    "start_time": "2025-01-21T21:54:36.638Z"
   },
   {
    "duration": 8,
    "start_time": "2025-01-21T21:54:36.647Z"
   },
   {
    "duration": 5,
    "start_time": "2025-01-21T21:54:36.657Z"
   },
   {
    "duration": 10,
    "start_time": "2025-01-21T21:54:36.664Z"
   },
   {
    "duration": 46,
    "start_time": "2025-01-21T21:54:36.675Z"
   },
   {
    "duration": 4,
    "start_time": "2025-01-21T21:54:36.723Z"
   },
   {
    "duration": 35,
    "start_time": "2025-01-21T21:54:36.729Z"
   },
   {
    "duration": 13,
    "start_time": "2025-01-21T21:54:36.765Z"
   },
   {
    "duration": 29,
    "start_time": "2025-01-21T21:54:36.780Z"
   },
   {
    "duration": 24,
    "start_time": "2025-01-21T21:54:36.812Z"
   },
   {
    "duration": 14,
    "start_time": "2025-01-21T21:54:36.840Z"
   },
   {
    "duration": 4,
    "start_time": "2025-01-21T21:54:36.856Z"
   },
   {
    "duration": 54,
    "start_time": "2025-01-21T21:54:36.862Z"
   },
   {
    "duration": 9,
    "start_time": "2025-01-21T21:54:36.919Z"
   },
   {
    "duration": 27,
    "start_time": "2025-01-21T21:54:36.930Z"
   },
   {
    "duration": 46,
    "start_time": "2025-01-21T21:54:36.959Z"
   },
   {
    "duration": 17,
    "start_time": "2025-01-21T21:54:37.007Z"
   },
   {
    "duration": 17,
    "start_time": "2025-01-21T21:54:37.025Z"
   },
   {
    "duration": 14,
    "start_time": "2025-01-21T21:54:37.044Z"
   },
   {
    "duration": 8,
    "start_time": "2025-01-21T21:54:37.060Z"
   },
   {
    "duration": 53,
    "start_time": "2025-01-21T21:54:37.070Z"
   },
   {
    "duration": 762,
    "start_time": "2025-01-21T21:54:37.125Z"
   },
   {
    "duration": 284,
    "start_time": "2025-01-21T21:54:37.889Z"
   },
   {
    "duration": 701,
    "start_time": "2025-01-21T21:54:38.175Z"
   },
   {
    "duration": 523,
    "start_time": "2025-01-21T21:54:38.878Z"
   },
   {
    "duration": 228,
    "start_time": "2025-01-21T21:54:39.402Z"
   },
   {
    "duration": 248,
    "start_time": "2025-01-21T21:54:39.633Z"
   },
   {
    "duration": 241,
    "start_time": "2025-01-21T21:54:39.883Z"
   },
   {
    "duration": 306,
    "start_time": "2025-01-21T21:54:40.126Z"
   },
   {
    "duration": 224,
    "start_time": "2025-01-21T21:54:40.433Z"
   },
   {
    "duration": 24,
    "start_time": "2025-01-21T21:54:40.659Z"
   },
   {
    "duration": 20,
    "start_time": "2025-01-21T21:54:40.685Z"
   },
   {
    "duration": 691,
    "start_time": "2025-01-21T21:57:03.201Z"
   },
   {
    "duration": 29,
    "start_time": "2025-01-21T23:17:01.901Z"
   },
   {
    "duration": 103,
    "start_time": "2025-01-21T23:27:39.279Z"
   },
   {
    "duration": 23,
    "start_time": "2025-01-21T23:27:44.401Z"
   },
   {
    "duration": 23,
    "start_time": "2025-01-21T23:27:52.883Z"
   },
   {
    "duration": 32,
    "start_time": "2025-01-21T23:28:26.184Z"
   },
   {
    "duration": 356,
    "start_time": "2025-01-21T23:28:37.641Z"
   },
   {
    "duration": 205,
    "start_time": "2025-01-21T23:28:38.000Z"
   },
   {
    "duration": 9,
    "start_time": "2025-01-21T23:28:38.207Z"
   },
   {
    "duration": 8,
    "start_time": "2025-01-21T23:28:38.218Z"
   },
   {
    "duration": 9,
    "start_time": "2025-01-21T23:28:38.228Z"
   },
   {
    "duration": 6,
    "start_time": "2025-01-21T23:28:38.239Z"
   },
   {
    "duration": 13,
    "start_time": "2025-01-21T23:28:38.247Z"
   },
   {
    "duration": 52,
    "start_time": "2025-01-21T23:28:38.262Z"
   },
   {
    "duration": 8,
    "start_time": "2025-01-21T23:28:38.316Z"
   },
   {
    "duration": 47,
    "start_time": "2025-01-21T23:28:38.326Z"
   },
   {
    "duration": 13,
    "start_time": "2025-01-21T23:28:38.375Z"
   },
   {
    "duration": 4,
    "start_time": "2025-01-21T23:28:38.405Z"
   },
   {
    "duration": 27,
    "start_time": "2025-01-21T23:28:38.411Z"
   },
   {
    "duration": 12,
    "start_time": "2025-01-21T23:28:38.441Z"
   },
   {
    "duration": 4,
    "start_time": "2025-01-21T23:28:38.455Z"
   },
   {
    "duration": 61,
    "start_time": "2025-01-21T23:28:38.461Z"
   },
   {
    "duration": 11,
    "start_time": "2025-01-21T23:28:38.523Z"
   },
   {
    "duration": 70,
    "start_time": "2025-01-21T23:28:38.535Z"
   },
   {
    "duration": 521,
    "start_time": "2025-01-21T23:28:38.607Z"
   },
   {
    "duration": 0,
    "start_time": "2025-01-21T23:28:39.129Z"
   },
   {
    "duration": 0,
    "start_time": "2025-01-21T23:28:39.131Z"
   },
   {
    "duration": 0,
    "start_time": "2025-01-21T23:28:39.133Z"
   },
   {
    "duration": 0,
    "start_time": "2025-01-21T23:28:39.134Z"
   },
   {
    "duration": 0,
    "start_time": "2025-01-21T23:28:39.135Z"
   },
   {
    "duration": 0,
    "start_time": "2025-01-21T23:28:39.137Z"
   },
   {
    "duration": 0,
    "start_time": "2025-01-21T23:28:39.138Z"
   },
   {
    "duration": 0,
    "start_time": "2025-01-21T23:28:39.140Z"
   },
   {
    "duration": 0,
    "start_time": "2025-01-21T23:28:39.141Z"
   },
   {
    "duration": 0,
    "start_time": "2025-01-21T23:28:39.142Z"
   },
   {
    "duration": 0,
    "start_time": "2025-01-21T23:28:39.144Z"
   },
   {
    "duration": 0,
    "start_time": "2025-01-21T23:28:39.145Z"
   },
   {
    "duration": 0,
    "start_time": "2025-01-21T23:28:39.147Z"
   },
   {
    "duration": 0,
    "start_time": "2025-01-21T23:28:39.148Z"
   },
   {
    "duration": 0,
    "start_time": "2025-01-21T23:28:39.150Z"
   },
   {
    "duration": 0,
    "start_time": "2025-01-21T23:28:39.152Z"
   },
   {
    "duration": 301,
    "start_time": "2025-01-21T23:39:26.556Z"
   },
   {
    "duration": 162,
    "start_time": "2025-01-21T23:39:26.859Z"
   },
   {
    "duration": 9,
    "start_time": "2025-01-21T23:39:27.022Z"
   },
   {
    "duration": 6,
    "start_time": "2025-01-21T23:39:27.034Z"
   },
   {
    "duration": 8,
    "start_time": "2025-01-21T23:39:27.042Z"
   },
   {
    "duration": 5,
    "start_time": "2025-01-21T23:39:27.051Z"
   },
   {
    "duration": 11,
    "start_time": "2025-01-21T23:39:27.058Z"
   },
   {
    "duration": 43,
    "start_time": "2025-01-21T23:39:27.070Z"
   },
   {
    "duration": 4,
    "start_time": "2025-01-21T23:39:27.115Z"
   },
   {
    "duration": 39,
    "start_time": "2025-01-21T23:39:27.123Z"
   },
   {
    "duration": 11,
    "start_time": "2025-01-21T23:39:27.164Z"
   },
   {
    "duration": 30,
    "start_time": "2025-01-21T23:39:27.176Z"
   },
   {
    "duration": 27,
    "start_time": "2025-01-21T23:39:27.207Z"
   },
   {
    "duration": 13,
    "start_time": "2025-01-21T23:39:27.236Z"
   },
   {
    "duration": 4,
    "start_time": "2025-01-21T23:39:27.251Z"
   },
   {
    "duration": 54,
    "start_time": "2025-01-21T23:39:27.257Z"
   },
   {
    "duration": 11,
    "start_time": "2025-01-21T23:39:27.313Z"
   },
   {
    "duration": 47,
    "start_time": "2025-01-21T23:39:27.325Z"
   },
   {
    "duration": 35,
    "start_time": "2025-01-21T23:39:27.374Z"
   },
   {
    "duration": 14,
    "start_time": "2025-01-21T23:39:27.411Z"
   },
   {
    "duration": 17,
    "start_time": "2025-01-21T23:39:27.427Z"
   },
   {
    "duration": 36,
    "start_time": "2025-01-21T23:39:27.446Z"
   },
   {
    "duration": 0,
    "start_time": "2025-01-21T23:39:27.506Z"
   },
   {
    "duration": 0,
    "start_time": "2025-01-21T23:39:27.507Z"
   },
   {
    "duration": 0,
    "start_time": "2025-01-21T23:39:27.508Z"
   },
   {
    "duration": 0,
    "start_time": "2025-01-21T23:39:27.510Z"
   },
   {
    "duration": 0,
    "start_time": "2025-01-21T23:39:27.512Z"
   },
   {
    "duration": 0,
    "start_time": "2025-01-21T23:39:27.513Z"
   },
   {
    "duration": 0,
    "start_time": "2025-01-21T23:39:27.515Z"
   },
   {
    "duration": 0,
    "start_time": "2025-01-21T23:39:27.516Z"
   },
   {
    "duration": 0,
    "start_time": "2025-01-21T23:39:27.517Z"
   },
   {
    "duration": 0,
    "start_time": "2025-01-21T23:39:27.518Z"
   },
   {
    "duration": 0,
    "start_time": "2025-01-21T23:39:27.520Z"
   },
   {
    "duration": 0,
    "start_time": "2025-01-21T23:39:27.522Z"
   },
   {
    "duration": 0,
    "start_time": "2025-01-21T23:39:27.523Z"
   },
   {
    "duration": 13,
    "start_time": "2025-01-21T23:39:49.103Z"
   },
   {
    "duration": 299,
    "start_time": "2025-01-21T23:40:06.950Z"
   },
   {
    "duration": 177,
    "start_time": "2025-01-21T23:40:07.253Z"
   },
   {
    "duration": 10,
    "start_time": "2025-01-21T23:40:07.432Z"
   },
   {
    "duration": 7,
    "start_time": "2025-01-21T23:40:07.444Z"
   },
   {
    "duration": 9,
    "start_time": "2025-01-21T23:40:07.453Z"
   },
   {
    "duration": 6,
    "start_time": "2025-01-21T23:40:07.463Z"
   },
   {
    "duration": 35,
    "start_time": "2025-01-21T23:40:07.471Z"
   },
   {
    "duration": 18,
    "start_time": "2025-01-21T23:40:07.508Z"
   },
   {
    "duration": 6,
    "start_time": "2025-01-21T23:40:07.528Z"
   },
   {
    "duration": 72,
    "start_time": "2025-01-21T23:40:07.537Z"
   },
   {
    "duration": 14,
    "start_time": "2025-01-21T23:40:07.611Z"
   },
   {
    "duration": 6,
    "start_time": "2025-01-21T23:40:07.627Z"
   },
   {
    "duration": 25,
    "start_time": "2025-01-21T23:40:07.636Z"
   },
   {
    "duration": 12,
    "start_time": "2025-01-21T23:40:07.663Z"
   },
   {
    "duration": 28,
    "start_time": "2025-01-21T23:40:07.677Z"
   },
   {
    "duration": 32,
    "start_time": "2025-01-21T23:40:07.707Z"
   },
   {
    "duration": 10,
    "start_time": "2025-01-21T23:40:07.742Z"
   },
   {
    "duration": 67,
    "start_time": "2025-01-21T23:40:07.754Z"
   },
   {
    "duration": 23,
    "start_time": "2025-01-21T23:40:07.823Z"
   },
   {
    "duration": 12,
    "start_time": "2025-01-21T23:40:07.848Z"
   },
   {
    "duration": 15,
    "start_time": "2025-01-21T23:40:07.861Z"
   },
   {
    "duration": 232,
    "start_time": "2025-01-21T23:40:07.878Z"
   },
   {
    "duration": 0,
    "start_time": "2025-01-21T23:40:08.112Z"
   },
   {
    "duration": 0,
    "start_time": "2025-01-21T23:40:08.113Z"
   },
   {
    "duration": 0,
    "start_time": "2025-01-21T23:40:08.115Z"
   },
   {
    "duration": 0,
    "start_time": "2025-01-21T23:40:08.116Z"
   },
   {
    "duration": 0,
    "start_time": "2025-01-21T23:40:08.117Z"
   },
   {
    "duration": 0,
    "start_time": "2025-01-21T23:40:08.118Z"
   },
   {
    "duration": 0,
    "start_time": "2025-01-21T23:40:08.119Z"
   },
   {
    "duration": 0,
    "start_time": "2025-01-21T23:40:08.120Z"
   },
   {
    "duration": 0,
    "start_time": "2025-01-21T23:40:08.121Z"
   },
   {
    "duration": 0,
    "start_time": "2025-01-21T23:40:08.122Z"
   },
   {
    "duration": 0,
    "start_time": "2025-01-21T23:40:08.122Z"
   },
   {
    "duration": 0,
    "start_time": "2025-01-21T23:40:08.123Z"
   },
   {
    "duration": 0,
    "start_time": "2025-01-21T23:40:08.124Z"
   },
   {
    "duration": 17,
    "start_time": "2025-01-21T23:40:36.076Z"
   },
   {
    "duration": 14,
    "start_time": "2025-01-21T23:41:31.321Z"
   },
   {
    "duration": 46,
    "start_time": "2025-01-21T23:43:06.216Z"
   },
   {
    "duration": 5,
    "start_time": "2025-01-21T23:44:24.409Z"
   },
   {
    "duration": 4,
    "start_time": "2025-01-21T23:45:07.011Z"
   },
   {
    "duration": 49,
    "start_time": "2025-01-21T23:45:50.171Z"
   },
   {
    "duration": 298,
    "start_time": "2025-01-21T23:46:03.983Z"
   },
   {
    "duration": 179,
    "start_time": "2025-01-21T23:46:04.283Z"
   },
   {
    "duration": 11,
    "start_time": "2025-01-21T23:46:04.464Z"
   },
   {
    "duration": 7,
    "start_time": "2025-01-21T23:46:04.478Z"
   },
   {
    "duration": 19,
    "start_time": "2025-01-21T23:46:04.487Z"
   },
   {
    "duration": 5,
    "start_time": "2025-01-21T23:46:04.509Z"
   },
   {
    "duration": 13,
    "start_time": "2025-01-21T23:46:04.517Z"
   },
   {
    "duration": 19,
    "start_time": "2025-01-21T23:46:04.531Z"
   },
   {
    "duration": 5,
    "start_time": "2025-01-21T23:46:04.552Z"
   },
   {
    "duration": 70,
    "start_time": "2025-01-21T23:46:04.561Z"
   },
   {
    "duration": 11,
    "start_time": "2025-01-21T23:46:04.633Z"
   },
   {
    "duration": 4,
    "start_time": "2025-01-21T23:46:04.646Z"
   },
   {
    "duration": 25,
    "start_time": "2025-01-21T23:46:04.651Z"
   },
   {
    "duration": 37,
    "start_time": "2025-01-21T23:46:04.678Z"
   },
   {
    "duration": 5,
    "start_time": "2025-01-21T23:46:04.716Z"
   },
   {
    "duration": 42,
    "start_time": "2025-01-21T23:46:04.722Z"
   },
   {
    "duration": 10,
    "start_time": "2025-01-21T23:46:04.766Z"
   },
   {
    "duration": 85,
    "start_time": "2025-01-21T23:46:04.778Z"
   },
   {
    "duration": 20,
    "start_time": "2025-01-21T23:46:04.865Z"
   },
   {
    "duration": 30,
    "start_time": "2025-01-21T23:46:04.887Z"
   },
   {
    "duration": 12,
    "start_time": "2025-01-21T23:46:04.919Z"
   },
   {
    "duration": 196,
    "start_time": "2025-01-21T23:46:04.933Z"
   },
   {
    "duration": 0,
    "start_time": "2025-01-21T23:46:05.131Z"
   },
   {
    "duration": 0,
    "start_time": "2025-01-21T23:46:05.132Z"
   },
   {
    "duration": 0,
    "start_time": "2025-01-21T23:46:05.133Z"
   },
   {
    "duration": 0,
    "start_time": "2025-01-21T23:46:05.134Z"
   },
   {
    "duration": 0,
    "start_time": "2025-01-21T23:46:05.135Z"
   },
   {
    "duration": 0,
    "start_time": "2025-01-21T23:46:05.136Z"
   },
   {
    "duration": 0,
    "start_time": "2025-01-21T23:46:05.137Z"
   },
   {
    "duration": 0,
    "start_time": "2025-01-21T23:46:05.138Z"
   },
   {
    "duration": 0,
    "start_time": "2025-01-21T23:46:05.139Z"
   },
   {
    "duration": 0,
    "start_time": "2025-01-21T23:46:05.140Z"
   },
   {
    "duration": 0,
    "start_time": "2025-01-21T23:46:05.141Z"
   },
   {
    "duration": 0,
    "start_time": "2025-01-21T23:46:05.142Z"
   },
   {
    "duration": 0,
    "start_time": "2025-01-21T23:46:05.143Z"
   },
   {
    "duration": 29,
    "start_time": "2025-01-21T23:48:20.407Z"
   },
   {
    "duration": 28,
    "start_time": "2025-01-21T23:48:33.404Z"
   },
   {
    "duration": 15,
    "start_time": "2025-01-21T23:48:48.088Z"
   },
   {
    "duration": 28,
    "start_time": "2025-01-21T23:51:39.540Z"
   },
   {
    "duration": 18,
    "start_time": "2025-01-21T23:51:45.840Z"
   },
   {
    "duration": 315,
    "start_time": "2025-01-21T23:52:37.900Z"
   },
   {
    "duration": 182,
    "start_time": "2025-01-21T23:52:38.217Z"
   },
   {
    "duration": 11,
    "start_time": "2025-01-21T23:52:38.401Z"
   },
   {
    "duration": 7,
    "start_time": "2025-01-21T23:52:38.414Z"
   },
   {
    "duration": 8,
    "start_time": "2025-01-21T23:52:38.424Z"
   },
   {
    "duration": 5,
    "start_time": "2025-01-21T23:52:38.434Z"
   },
   {
    "duration": 10,
    "start_time": "2025-01-21T23:52:38.443Z"
   },
   {
    "duration": 26,
    "start_time": "2025-01-21T23:52:38.456Z"
   },
   {
    "duration": 26,
    "start_time": "2025-01-21T23:52:38.483Z"
   },
   {
    "duration": 51,
    "start_time": "2025-01-21T23:52:38.513Z"
   },
   {
    "duration": 13,
    "start_time": "2025-01-21T23:52:38.566Z"
   },
   {
    "duration": 28,
    "start_time": "2025-01-21T23:52:38.580Z"
   },
   {
    "duration": 29,
    "start_time": "2025-01-21T23:52:38.610Z"
   },
   {
    "duration": 14,
    "start_time": "2025-01-21T23:52:38.641Z"
   },
   {
    "duration": 4,
    "start_time": "2025-01-21T23:52:38.657Z"
   },
   {
    "duration": 58,
    "start_time": "2025-01-21T23:52:38.662Z"
   },
   {
    "duration": 11,
    "start_time": "2025-01-21T23:52:38.722Z"
   },
   {
    "duration": 25,
    "start_time": "2025-01-21T23:52:38.735Z"
   },
   {
    "duration": 50,
    "start_time": "2025-01-21T23:52:38.761Z"
   },
   {
    "duration": 15,
    "start_time": "2025-01-21T23:52:38.813Z"
   },
   {
    "duration": 14,
    "start_time": "2025-01-21T23:52:38.830Z"
   },
   {
    "duration": 16,
    "start_time": "2025-01-21T23:52:38.847Z"
   },
   {
    "duration": 9,
    "start_time": "2025-01-21T23:52:38.865Z"
   },
   {
    "duration": 55,
    "start_time": "2025-01-21T23:52:38.876Z"
   },
   {
    "duration": 1160,
    "start_time": "2025-01-21T23:52:38.933Z"
   },
   {
    "duration": 0,
    "start_time": "2025-01-21T23:52:40.095Z"
   },
   {
    "duration": 0,
    "start_time": "2025-01-21T23:52:40.096Z"
   },
   {
    "duration": 0,
    "start_time": "2025-01-21T23:52:40.105Z"
   },
   {
    "duration": 0,
    "start_time": "2025-01-21T23:52:40.106Z"
   },
   {
    "duration": 0,
    "start_time": "2025-01-21T23:52:40.107Z"
   },
   {
    "duration": 0,
    "start_time": "2025-01-21T23:52:40.108Z"
   },
   {
    "duration": 0,
    "start_time": "2025-01-21T23:52:40.109Z"
   },
   {
    "duration": 0,
    "start_time": "2025-01-21T23:52:40.109Z"
   },
   {
    "duration": 0,
    "start_time": "2025-01-21T23:52:40.111Z"
   },
   {
    "duration": 0,
    "start_time": "2025-01-21T23:52:40.112Z"
   },
   {
    "duration": 435,
    "start_time": "2025-01-21T23:53:35.145Z"
   },
   {
    "duration": 308,
    "start_time": "2025-01-22T00:01:10.030Z"
   },
   {
    "duration": 316,
    "start_time": "2025-01-22T00:01:23.783Z"
   },
   {
    "duration": 161,
    "start_time": "2025-01-22T00:01:24.104Z"
   },
   {
    "duration": 12,
    "start_time": "2025-01-22T00:01:24.266Z"
   },
   {
    "duration": 7,
    "start_time": "2025-01-22T00:01:24.281Z"
   },
   {
    "duration": 22,
    "start_time": "2025-01-22T00:01:24.289Z"
   },
   {
    "duration": 6,
    "start_time": "2025-01-22T00:01:24.313Z"
   },
   {
    "duration": 13,
    "start_time": "2025-01-22T00:01:24.320Z"
   },
   {
    "duration": 23,
    "start_time": "2025-01-22T00:01:24.336Z"
   },
   {
    "duration": 7,
    "start_time": "2025-01-22T00:01:24.361Z"
   },
   {
    "duration": 42,
    "start_time": "2025-01-22T00:01:24.407Z"
   },
   {
    "duration": 11,
    "start_time": "2025-01-22T00:01:24.451Z"
   },
   {
    "duration": 4,
    "start_time": "2025-01-22T00:01:24.463Z"
   },
   {
    "duration": 52,
    "start_time": "2025-01-22T00:01:24.469Z"
   },
   {
    "duration": 16,
    "start_time": "2025-01-22T00:01:24.522Z"
   },
   {
    "duration": 4,
    "start_time": "2025-01-22T00:01:24.540Z"
   },
   {
    "duration": 31,
    "start_time": "2025-01-22T00:01:24.545Z"
   },
   {
    "duration": 13,
    "start_time": "2025-01-22T00:01:24.604Z"
   },
   {
    "duration": 29,
    "start_time": "2025-01-22T00:01:24.620Z"
   },
   {
    "duration": 54,
    "start_time": "2025-01-22T00:01:24.651Z"
   },
   {
    "duration": 23,
    "start_time": "2025-01-22T00:01:24.709Z"
   },
   {
    "duration": 18,
    "start_time": "2025-01-22T00:01:24.737Z"
   },
   {
    "duration": 19,
    "start_time": "2025-01-22T00:01:24.757Z"
   },
   {
    "duration": 28,
    "start_time": "2025-01-22T00:01:24.778Z"
   },
   {
    "duration": 27,
    "start_time": "2025-01-22T00:01:24.808Z"
   },
   {
    "duration": 804,
    "start_time": "2025-01-22T00:01:24.836Z"
   },
   {
    "duration": 313,
    "start_time": "2025-01-22T00:01:25.642Z"
   },
   {
    "duration": 620,
    "start_time": "2025-01-22T00:01:25.956Z"
   },
   {
    "duration": 0,
    "start_time": "2025-01-22T00:01:26.578Z"
   },
   {
    "duration": 0,
    "start_time": "2025-01-22T00:01:26.579Z"
   },
   {
    "duration": 0,
    "start_time": "2025-01-22T00:01:26.580Z"
   },
   {
    "duration": 0,
    "start_time": "2025-01-22T00:01:26.581Z"
   },
   {
    "duration": 0,
    "start_time": "2025-01-22T00:01:26.582Z"
   },
   {
    "duration": 0,
    "start_time": "2025-01-22T00:01:26.583Z"
   },
   {
    "duration": 0,
    "start_time": "2025-01-22T00:01:26.584Z"
   },
   {
    "duration": 0,
    "start_time": "2025-01-22T00:01:26.585Z"
   },
   {
    "duration": 270,
    "start_time": "2025-01-22T00:02:26.860Z"
   },
   {
    "duration": 475,
    "start_time": "2025-01-22T00:02:50.446Z"
   },
   {
    "duration": 641,
    "start_time": "2025-01-22T00:03:42.591Z"
   },
   {
    "duration": 208,
    "start_time": "2025-01-22T00:05:37.746Z"
   },
   {
    "duration": 308,
    "start_time": "2025-01-22T00:05:47.650Z"
   },
   {
    "duration": 158,
    "start_time": "2025-01-22T00:05:47.960Z"
   },
   {
    "duration": 10,
    "start_time": "2025-01-22T00:05:48.119Z"
   },
   {
    "duration": 6,
    "start_time": "2025-01-22T00:05:48.132Z"
   },
   {
    "duration": 8,
    "start_time": "2025-01-22T00:05:48.139Z"
   },
   {
    "duration": 5,
    "start_time": "2025-01-22T00:05:48.149Z"
   },
   {
    "duration": 11,
    "start_time": "2025-01-22T00:05:48.156Z"
   },
   {
    "duration": 45,
    "start_time": "2025-01-22T00:05:48.168Z"
   },
   {
    "duration": 5,
    "start_time": "2025-01-22T00:05:48.215Z"
   },
   {
    "duration": 40,
    "start_time": "2025-01-22T00:05:48.223Z"
   },
   {
    "duration": 12,
    "start_time": "2025-01-22T00:05:48.265Z"
   },
   {
    "duration": 28,
    "start_time": "2025-01-22T00:05:48.279Z"
   },
   {
    "duration": 25,
    "start_time": "2025-01-22T00:05:48.309Z"
   },
   {
    "duration": 13,
    "start_time": "2025-01-22T00:05:48.335Z"
   },
   {
    "duration": 4,
    "start_time": "2025-01-22T00:05:48.350Z"
   },
   {
    "duration": 61,
    "start_time": "2025-01-22T00:05:48.355Z"
   },
   {
    "duration": 11,
    "start_time": "2025-01-22T00:05:48.418Z"
   },
   {
    "duration": 23,
    "start_time": "2025-01-22T00:05:48.431Z"
   },
   {
    "duration": 25,
    "start_time": "2025-01-22T00:05:48.456Z"
   },
   {
    "duration": 34,
    "start_time": "2025-01-22T00:05:48.483Z"
   },
   {
    "duration": 13,
    "start_time": "2025-01-22T00:05:48.519Z"
   },
   {
    "duration": 13,
    "start_time": "2025-01-22T00:05:48.533Z"
   },
   {
    "duration": 8,
    "start_time": "2025-01-22T00:05:48.548Z"
   },
   {
    "duration": 56,
    "start_time": "2025-01-22T00:05:48.558Z"
   },
   {
    "duration": 736,
    "start_time": "2025-01-22T00:05:48.616Z"
   },
   {
    "duration": 291,
    "start_time": "2025-01-22T00:05:49.354Z"
   },
   {
    "duration": 675,
    "start_time": "2025-01-22T00:05:49.647Z"
   },
   {
    "duration": 390,
    "start_time": "2025-01-22T00:05:50.325Z"
   },
   {
    "duration": 0,
    "start_time": "2025-01-22T00:05:50.717Z"
   },
   {
    "duration": 0,
    "start_time": "2025-01-22T00:05:50.718Z"
   },
   {
    "duration": 0,
    "start_time": "2025-01-22T00:05:50.719Z"
   },
   {
    "duration": 0,
    "start_time": "2025-01-22T00:05:50.721Z"
   },
   {
    "duration": 0,
    "start_time": "2025-01-22T00:05:50.722Z"
   },
   {
    "duration": 0,
    "start_time": "2025-01-22T00:05:50.723Z"
   },
   {
    "duration": 0,
    "start_time": "2025-01-22T00:05:50.724Z"
   },
   {
    "duration": 593,
    "start_time": "2025-01-22T00:06:31.637Z"
   },
   {
    "duration": 212,
    "start_time": "2025-01-22T00:16:30.630Z"
   },
   {
    "duration": 213,
    "start_time": "2025-01-22T00:19:24.253Z"
   },
   {
    "duration": 16,
    "start_time": "2025-01-22T00:22:37.226Z"
   },
   {
    "duration": 19,
    "start_time": "2025-01-22T00:25:20.326Z"
   },
   {
    "duration": 18,
    "start_time": "2025-01-22T00:27:06.723Z"
   },
   {
    "duration": 307,
    "start_time": "2025-01-22T00:27:30.685Z"
   },
   {
    "duration": 162,
    "start_time": "2025-01-22T00:27:30.994Z"
   },
   {
    "duration": 9,
    "start_time": "2025-01-22T00:27:31.158Z"
   },
   {
    "duration": 6,
    "start_time": "2025-01-22T00:27:31.169Z"
   },
   {
    "duration": 8,
    "start_time": "2025-01-22T00:27:31.177Z"
   },
   {
    "duration": 5,
    "start_time": "2025-01-22T00:27:31.187Z"
   },
   {
    "duration": 21,
    "start_time": "2025-01-22T00:27:31.193Z"
   },
   {
    "duration": 16,
    "start_time": "2025-01-22T00:27:31.215Z"
   },
   {
    "duration": 5,
    "start_time": "2025-01-22T00:27:31.232Z"
   },
   {
    "duration": 77,
    "start_time": "2025-01-22T00:27:31.240Z"
   },
   {
    "duration": 13,
    "start_time": "2025-01-22T00:27:31.319Z"
   },
   {
    "duration": 5,
    "start_time": "2025-01-22T00:27:31.333Z"
   },
   {
    "duration": 25,
    "start_time": "2025-01-22T00:27:31.339Z"
   },
   {
    "duration": 14,
    "start_time": "2025-01-22T00:27:31.366Z"
   },
   {
    "duration": 5,
    "start_time": "2025-01-22T00:27:31.405Z"
   },
   {
    "duration": 32,
    "start_time": "2025-01-22T00:27:31.412Z"
   },
   {
    "duration": 9,
    "start_time": "2025-01-22T00:27:31.445Z"
   },
   {
    "duration": 21,
    "start_time": "2025-01-22T00:27:31.456Z"
   },
   {
    "duration": 29,
    "start_time": "2025-01-22T00:27:31.505Z"
   },
   {
    "duration": 14,
    "start_time": "2025-01-22T00:27:31.536Z"
   },
   {
    "duration": 13,
    "start_time": "2025-01-22T00:27:31.552Z"
   },
   {
    "duration": 46,
    "start_time": "2025-01-22T00:27:31.567Z"
   },
   {
    "duration": 10,
    "start_time": "2025-01-22T00:27:31.615Z"
   },
   {
    "duration": 26,
    "start_time": "2025-01-22T00:27:31.626Z"
   },
   {
    "duration": 806,
    "start_time": "2025-01-22T00:27:31.654Z"
   },
   {
    "duration": 292,
    "start_time": "2025-01-22T00:27:32.462Z"
   },
   {
    "duration": 709,
    "start_time": "2025-01-22T00:27:32.755Z"
   },
   {
    "duration": 550,
    "start_time": "2025-01-22T00:27:33.468Z"
   },
   {
    "duration": 250,
    "start_time": "2025-01-22T00:27:34.019Z"
   },
   {
    "duration": 217,
    "start_time": "2025-01-22T00:27:34.270Z"
   },
   {
    "duration": 300,
    "start_time": "2025-01-22T00:27:34.489Z"
   },
   {
    "duration": 0,
    "start_time": "2025-01-22T00:27:34.791Z"
   },
   {
    "duration": 0,
    "start_time": "2025-01-22T00:27:34.793Z"
   },
   {
    "duration": 0,
    "start_time": "2025-01-22T00:27:34.794Z"
   },
   {
    "duration": 0,
    "start_time": "2025-01-22T00:27:34.795Z"
   },
   {
    "duration": 0,
    "start_time": "2025-01-22T00:27:34.805Z"
   },
   {
    "duration": 377,
    "start_time": "2025-01-22T00:28:13.446Z"
   },
   {
    "duration": 204,
    "start_time": "2025-01-22T00:28:27.475Z"
   },
   {
    "duration": 213,
    "start_time": "2025-01-22T00:28:38.711Z"
   },
   {
    "duration": 136,
    "start_time": "2025-01-22T00:28:54.366Z"
   },
   {
    "duration": 219,
    "start_time": "2025-01-22T00:29:42.610Z"
   },
   {
    "duration": 17,
    "start_time": "2025-01-22T00:32:20.865Z"
   },
   {
    "duration": 18,
    "start_time": "2025-01-22T00:39:00.172Z"
   },
   {
    "duration": 318,
    "start_time": "2025-01-22T00:42:31.502Z"
   },
   {
    "duration": 159,
    "start_time": "2025-01-22T00:42:31.822Z"
   },
   {
    "duration": 9,
    "start_time": "2025-01-22T00:42:31.982Z"
   },
   {
    "duration": 12,
    "start_time": "2025-01-22T00:42:31.993Z"
   },
   {
    "duration": 7,
    "start_time": "2025-01-22T00:42:32.007Z"
   },
   {
    "duration": 7,
    "start_time": "2025-01-22T00:42:32.016Z"
   },
   {
    "duration": 11,
    "start_time": "2025-01-22T00:42:32.025Z"
   },
   {
    "duration": 15,
    "start_time": "2025-01-22T00:42:32.037Z"
   },
   {
    "duration": 4,
    "start_time": "2025-01-22T00:42:32.053Z"
   },
   {
    "duration": 72,
    "start_time": "2025-01-22T00:42:32.060Z"
   },
   {
    "duration": 12,
    "start_time": "2025-01-22T00:42:32.134Z"
   },
   {
    "duration": 4,
    "start_time": "2025-01-22T00:42:32.147Z"
   },
   {
    "duration": 26,
    "start_time": "2025-01-22T00:42:32.154Z"
   },
   {
    "duration": 38,
    "start_time": "2025-01-22T00:42:32.182Z"
   },
   {
    "duration": 5,
    "start_time": "2025-01-22T00:42:32.222Z"
   },
   {
    "duration": 32,
    "start_time": "2025-01-22T00:42:32.229Z"
   },
   {
    "duration": 10,
    "start_time": "2025-01-22T00:42:32.262Z"
   },
   {
    "duration": 49,
    "start_time": "2025-01-22T00:42:32.274Z"
   },
   {
    "duration": 29,
    "start_time": "2025-01-22T00:42:32.326Z"
   },
   {
    "duration": 14,
    "start_time": "2025-01-22T00:42:32.357Z"
   },
   {
    "duration": 39,
    "start_time": "2025-01-22T00:42:32.374Z"
   },
   {
    "duration": 18,
    "start_time": "2025-01-22T00:42:32.415Z"
   },
   {
    "duration": 15,
    "start_time": "2025-01-22T00:42:32.435Z"
   },
   {
    "duration": 26,
    "start_time": "2025-01-22T00:42:32.451Z"
   },
   {
    "duration": 792,
    "start_time": "2025-01-22T00:42:32.478Z"
   },
   {
    "duration": 366,
    "start_time": "2025-01-22T00:42:33.271Z"
   },
   {
    "duration": 681,
    "start_time": "2025-01-22T00:42:33.640Z"
   },
   {
    "duration": 538,
    "start_time": "2025-01-22T00:42:34.325Z"
   },
   {
    "duration": 216,
    "start_time": "2025-01-22T00:42:34.865Z"
   },
   {
    "duration": 236,
    "start_time": "2025-01-22T00:42:35.083Z"
   },
   {
    "duration": 227,
    "start_time": "2025-01-22T00:42:35.322Z"
   },
   {
    "duration": 312,
    "start_time": "2025-01-22T00:42:35.551Z"
   },
   {
    "duration": 219,
    "start_time": "2025-01-22T00:42:35.865Z"
   },
   {
    "duration": 31,
    "start_time": "2025-01-22T00:42:36.086Z"
   },
   {
    "duration": 2,
    "start_time": "2025-01-22T00:42:36.120Z"
   },
   {
    "duration": 21,
    "start_time": "2025-01-22T01:09:49.904Z"
   },
   {
    "duration": 278,
    "start_time": "2025-01-22T05:52:41.519Z"
   },
   {
    "duration": 212,
    "start_time": "2025-01-22T05:52:41.799Z"
   },
   {
    "duration": 11,
    "start_time": "2025-01-22T05:52:42.012Z"
   },
   {
    "duration": 7,
    "start_time": "2025-01-22T05:52:42.024Z"
   },
   {
    "duration": 8,
    "start_time": "2025-01-22T05:52:42.034Z"
   },
   {
    "duration": 6,
    "start_time": "2025-01-22T05:52:42.043Z"
   },
   {
    "duration": 11,
    "start_time": "2025-01-22T05:52:42.051Z"
   },
   {
    "duration": 15,
    "start_time": "2025-01-22T05:52:42.063Z"
   },
   {
    "duration": 5,
    "start_time": "2025-01-22T05:52:42.079Z"
   },
   {
    "duration": 60,
    "start_time": "2025-01-22T05:52:42.086Z"
   },
   {
    "duration": 11,
    "start_time": "2025-01-22T05:52:42.148Z"
   },
   {
    "duration": 3,
    "start_time": "2025-01-22T05:52:42.161Z"
   },
   {
    "duration": 24,
    "start_time": "2025-01-22T05:52:42.166Z"
   },
   {
    "duration": 13,
    "start_time": "2025-01-22T05:52:42.194Z"
   },
   {
    "duration": 4,
    "start_time": "2025-01-22T05:52:42.209Z"
   },
   {
    "duration": 36,
    "start_time": "2025-01-22T05:52:42.242Z"
   },
   {
    "duration": 9,
    "start_time": "2025-01-22T05:52:42.280Z"
   },
   {
    "duration": 22,
    "start_time": "2025-01-22T05:52:42.291Z"
   },
   {
    "duration": 48,
    "start_time": "2025-01-22T05:52:42.315Z"
   },
   {
    "duration": 13,
    "start_time": "2025-01-22T05:52:42.365Z"
   },
   {
    "duration": 12,
    "start_time": "2025-01-22T05:52:42.379Z"
   },
   {
    "duration": 12,
    "start_time": "2025-01-22T05:52:42.393Z"
   },
   {
    "duration": 37,
    "start_time": "2025-01-22T05:52:42.406Z"
   },
   {
    "duration": 24,
    "start_time": "2025-01-22T05:52:42.445Z"
   },
   {
    "duration": 2455,
    "start_time": "2025-01-22T05:52:42.471Z"
   },
   {
    "duration": 224,
    "start_time": "2025-01-22T05:52:44.928Z"
   },
   {
    "duration": 644,
    "start_time": "2025-01-22T05:52:45.153Z"
   },
   {
    "duration": 602,
    "start_time": "2025-01-22T05:52:45.798Z"
   },
   {
    "duration": 217,
    "start_time": "2025-01-22T05:52:46.402Z"
   },
   {
    "duration": 200,
    "start_time": "2025-01-22T05:52:46.621Z"
   },
   {
    "duration": 210,
    "start_time": "2025-01-22T05:52:46.823Z"
   },
   {
    "duration": 213,
    "start_time": "2025-01-22T05:52:47.035Z"
   },
   {
    "duration": 210,
    "start_time": "2025-01-22T05:52:47.250Z"
   },
   {
    "duration": 17,
    "start_time": "2025-01-22T05:52:47.461Z"
   },
   {
    "duration": 2,
    "start_time": "2025-01-22T05:52:47.480Z"
   },
   {
    "duration": 335,
    "start_time": "2025-01-22T06:04:27.657Z"
   },
   {
    "duration": 157,
    "start_time": "2025-01-22T06:04:27.994Z"
   },
   {
    "duration": 10,
    "start_time": "2025-01-22T06:04:28.153Z"
   },
   {
    "duration": 7,
    "start_time": "2025-01-22T06:04:28.164Z"
   },
   {
    "duration": 8,
    "start_time": "2025-01-22T06:04:28.173Z"
   },
   {
    "duration": 7,
    "start_time": "2025-01-22T06:04:28.183Z"
   },
   {
    "duration": 12,
    "start_time": "2025-01-22T06:04:28.193Z"
   },
   {
    "duration": 41,
    "start_time": "2025-01-22T06:04:28.206Z"
   },
   {
    "duration": 4,
    "start_time": "2025-01-22T06:04:28.249Z"
   },
   {
    "duration": 39,
    "start_time": "2025-01-22T06:04:28.255Z"
   },
   {
    "duration": 11,
    "start_time": "2025-01-22T06:04:28.296Z"
   },
   {
    "duration": 4,
    "start_time": "2025-01-22T06:04:28.309Z"
   },
   {
    "duration": 25,
    "start_time": "2025-01-22T06:04:28.342Z"
   },
   {
    "duration": 13,
    "start_time": "2025-01-22T06:04:28.371Z"
   },
   {
    "duration": 4,
    "start_time": "2025-01-22T06:04:28.386Z"
   },
   {
    "duration": 51,
    "start_time": "2025-01-22T06:04:28.391Z"
   },
   {
    "duration": 10,
    "start_time": "2025-01-22T06:04:28.444Z"
   },
   {
    "duration": 21,
    "start_time": "2025-01-22T06:04:28.456Z"
   },
   {
    "duration": 25,
    "start_time": "2025-01-22T06:04:28.478Z"
   },
   {
    "duration": 39,
    "start_time": "2025-01-22T06:04:28.504Z"
   },
   {
    "duration": 12,
    "start_time": "2025-01-22T06:04:28.544Z"
   },
   {
    "duration": 13,
    "start_time": "2025-01-22T06:04:28.558Z"
   },
   {
    "duration": 9,
    "start_time": "2025-01-22T06:04:28.573Z"
   },
   {
    "duration": 22,
    "start_time": "2025-01-22T06:04:28.583Z"
   },
   {
    "duration": 792,
    "start_time": "2025-01-22T06:04:28.607Z"
   },
   {
    "duration": 276,
    "start_time": "2025-01-22T06:04:29.402Z"
   },
   {
    "duration": 676,
    "start_time": "2025-01-22T06:04:29.680Z"
   },
   {
    "duration": 512,
    "start_time": "2025-01-22T06:04:30.359Z"
   },
   {
    "duration": 218,
    "start_time": "2025-01-22T06:04:30.873Z"
   },
   {
    "duration": 220,
    "start_time": "2025-01-22T06:04:31.094Z"
   },
   {
    "duration": 228,
    "start_time": "2025-01-22T06:04:31.316Z"
   },
   {
    "duration": 283,
    "start_time": "2025-01-22T06:04:31.545Z"
   },
   {
    "duration": 218,
    "start_time": "2025-01-22T06:04:31.830Z"
   },
   {
    "duration": 18,
    "start_time": "2025-01-22T06:04:32.050Z"
   },
   {
    "duration": 2,
    "start_time": "2025-01-22T06:04:32.069Z"
   },
   {
    "duration": 18,
    "start_time": "2025-01-22T06:09:59.374Z"
   },
   {
    "duration": 17,
    "start_time": "2025-01-22T06:10:08.624Z"
   },
   {
    "duration": 231,
    "start_time": "2025-01-22T06:12:26.048Z"
   },
   {
    "duration": 349,
    "start_time": "2025-01-22T06:14:27.280Z"
   },
   {
    "duration": 30,
    "start_time": "2025-01-22T06:14:41.980Z"
   },
   {
    "duration": 165,
    "start_time": "2025-01-22T17:57:08.751Z"
   },
   {
    "duration": 281,
    "start_time": "2025-01-22T17:57:15.816Z"
   },
   {
    "duration": 220,
    "start_time": "2025-01-22T17:57:16.099Z"
   },
   {
    "duration": 11,
    "start_time": "2025-01-22T17:57:16.320Z"
   },
   {
    "duration": 7,
    "start_time": "2025-01-22T17:57:16.332Z"
   },
   {
    "duration": 8,
    "start_time": "2025-01-22T17:57:16.341Z"
   },
   {
    "duration": 6,
    "start_time": "2025-01-22T17:57:16.351Z"
   },
   {
    "duration": 11,
    "start_time": "2025-01-22T17:57:16.359Z"
   },
   {
    "duration": 14,
    "start_time": "2025-01-22T17:57:16.373Z"
   },
   {
    "duration": 4,
    "start_time": "2025-01-22T17:57:16.389Z"
   },
   {
    "duration": 74,
    "start_time": "2025-01-22T17:57:16.395Z"
   },
   {
    "duration": 11,
    "start_time": "2025-01-22T17:57:16.471Z"
   },
   {
    "duration": 5,
    "start_time": "2025-01-22T17:57:16.484Z"
   },
   {
    "duration": 45,
    "start_time": "2025-01-22T17:57:16.491Z"
   },
   {
    "duration": 13,
    "start_time": "2025-01-22T17:57:18.694Z"
   },
   {
    "duration": 5,
    "start_time": "2025-01-22T17:57:18.709Z"
   },
   {
    "duration": 32,
    "start_time": "2025-01-22T17:57:18.716Z"
   },
   {
    "duration": 11,
    "start_time": "2025-01-22T17:57:18.750Z"
   },
   {
    "duration": 21,
    "start_time": "2025-01-22T17:57:18.763Z"
   },
   {
    "duration": 45,
    "start_time": "2025-01-22T17:57:18.785Z"
   },
   {
    "duration": 13,
    "start_time": "2025-01-22T17:57:18.832Z"
   },
   {
    "duration": 12,
    "start_time": "2025-01-22T17:57:18.847Z"
   },
   {
    "duration": 13,
    "start_time": "2025-01-22T17:57:18.860Z"
   },
   {
    "duration": 9,
    "start_time": "2025-01-22T17:57:18.875Z"
   },
   {
    "duration": 65,
    "start_time": "2025-01-22T17:57:18.886Z"
   },
   {
    "duration": 2567,
    "start_time": "2025-01-22T17:57:18.954Z"
   },
   {
    "duration": 235,
    "start_time": "2025-01-22T17:57:21.523Z"
   },
   {
    "duration": 690,
    "start_time": "2025-01-22T17:57:21.760Z"
   },
   {
    "duration": 598,
    "start_time": "2025-01-22T17:57:22.452Z"
   },
   {
    "duration": 234,
    "start_time": "2025-01-22T17:57:23.052Z"
   },
   {
    "duration": 216,
    "start_time": "2025-01-22T17:57:23.288Z"
   },
   {
    "duration": 225,
    "start_time": "2025-01-22T17:57:23.507Z"
   },
   {
    "duration": 217,
    "start_time": "2025-01-22T17:57:23.734Z"
   },
   {
    "duration": 219,
    "start_time": "2025-01-22T17:57:23.953Z"
   },
   {
    "duration": 343,
    "start_time": "2025-01-22T17:57:24.174Z"
   },
   {
    "duration": 0,
    "start_time": "2025-01-22T17:57:24.519Z"
   },
   {
    "duration": 307,
    "start_time": "2025-01-22T18:11:54.935Z"
   },
   {
    "duration": 156,
    "start_time": "2025-01-22T18:11:55.245Z"
   },
   {
    "duration": 10,
    "start_time": "2025-01-22T18:11:55.402Z"
   },
   {
    "duration": 7,
    "start_time": "2025-01-22T18:11:55.414Z"
   },
   {
    "duration": 8,
    "start_time": "2025-01-22T18:11:55.432Z"
   },
   {
    "duration": 6,
    "start_time": "2025-01-22T18:11:55.442Z"
   },
   {
    "duration": 12,
    "start_time": "2025-01-22T18:11:55.449Z"
   },
   {
    "duration": 15,
    "start_time": "2025-01-22T18:11:55.463Z"
   },
   {
    "duration": 4,
    "start_time": "2025-01-22T18:11:55.480Z"
   },
   {
    "duration": 73,
    "start_time": "2025-01-22T18:11:55.485Z"
   },
   {
    "duration": 12,
    "start_time": "2025-01-22T18:11:55.560Z"
   },
   {
    "duration": 6,
    "start_time": "2025-01-22T18:11:55.573Z"
   },
   {
    "duration": 24,
    "start_time": "2025-01-22T18:11:55.581Z"
   },
   {
    "duration": 34,
    "start_time": "2025-01-22T18:11:55.609Z"
   },
   {
    "duration": 4,
    "start_time": "2025-01-22T18:11:55.645Z"
   },
   {
    "duration": 32,
    "start_time": "2025-01-22T18:11:55.651Z"
   },
   {
    "duration": 10,
    "start_time": "2025-01-22T18:11:55.685Z"
   },
   {
    "duration": 47,
    "start_time": "2025-01-22T18:11:55.697Z"
   },
   {
    "duration": 26,
    "start_time": "2025-01-22T18:11:55.746Z"
   },
   {
    "duration": 13,
    "start_time": "2025-01-22T18:11:55.774Z"
   },
   {
    "duration": 13,
    "start_time": "2025-01-22T18:11:55.788Z"
   },
   {
    "duration": 40,
    "start_time": "2025-01-22T18:11:55.802Z"
   },
   {
    "duration": 10,
    "start_time": "2025-01-22T18:11:55.844Z"
   },
   {
    "duration": 25,
    "start_time": "2025-01-22T18:11:55.855Z"
   },
   {
    "duration": 788,
    "start_time": "2025-01-22T18:11:55.881Z"
   },
   {
    "duration": 289,
    "start_time": "2025-01-22T18:11:56.671Z"
   },
   {
    "duration": 685,
    "start_time": "2025-01-22T18:11:56.962Z"
   },
   {
    "duration": 592,
    "start_time": "2025-01-22T18:11:57.651Z"
   },
   {
    "duration": 238,
    "start_time": "2025-01-22T18:11:58.245Z"
   },
   {
    "duration": 222,
    "start_time": "2025-01-22T18:11:58.485Z"
   },
   {
    "duration": 210,
    "start_time": "2025-01-22T18:11:58.709Z"
   },
   {
    "duration": 302,
    "start_time": "2025-01-22T18:11:58.921Z"
   },
   {
    "duration": 221,
    "start_time": "2025-01-22T18:11:59.225Z"
   },
   {
    "duration": 251,
    "start_time": "2025-01-22T18:11:59.448Z"
   },
   {
    "duration": 0,
    "start_time": "2025-01-22T18:11:59.701Z"
   },
   {
    "duration": 7,
    "start_time": "2025-01-22T18:12:17.166Z"
   },
   {
    "duration": 7,
    "start_time": "2025-01-22T18:16:55.876Z"
   },
   {
    "duration": 6,
    "start_time": "2025-01-22T18:17:12.869Z"
   },
   {
    "duration": 390,
    "start_time": "2025-01-22T18:17:20.951Z"
   },
   {
    "duration": 295,
    "start_time": "2025-01-22T18:17:40.290Z"
   },
   {
    "duration": 148,
    "start_time": "2025-01-22T18:17:40.586Z"
   },
   {
    "duration": 9,
    "start_time": "2025-01-22T18:17:40.736Z"
   },
   {
    "duration": 6,
    "start_time": "2025-01-22T18:17:40.747Z"
   },
   {
    "duration": 8,
    "start_time": "2025-01-22T18:17:40.755Z"
   },
   {
    "duration": 6,
    "start_time": "2025-01-22T18:17:40.764Z"
   },
   {
    "duration": 11,
    "start_time": "2025-01-22T18:17:40.772Z"
   },
   {
    "duration": 14,
    "start_time": "2025-01-22T18:17:40.784Z"
   },
   {
    "duration": 5,
    "start_time": "2025-01-22T18:17:40.831Z"
   },
   {
    "duration": 40,
    "start_time": "2025-01-22T18:17:40.840Z"
   },
   {
    "duration": 12,
    "start_time": "2025-01-22T18:17:40.882Z"
   },
   {
    "duration": 4,
    "start_time": "2025-01-22T18:17:40.895Z"
   },
   {
    "duration": 52,
    "start_time": "2025-01-22T18:17:40.901Z"
   },
   {
    "duration": 15,
    "start_time": "2025-01-22T18:17:40.955Z"
   },
   {
    "duration": 5,
    "start_time": "2025-01-22T18:17:40.972Z"
   },
   {
    "duration": 58,
    "start_time": "2025-01-22T18:17:40.979Z"
   },
   {
    "duration": 11,
    "start_time": "2025-01-22T18:17:41.038Z"
   },
   {
    "duration": 22,
    "start_time": "2025-01-22T18:17:41.051Z"
   },
   {
    "duration": 27,
    "start_time": "2025-01-22T18:17:41.075Z"
   },
   {
    "duration": 37,
    "start_time": "2025-01-22T18:17:41.104Z"
   },
   {
    "duration": 13,
    "start_time": "2025-01-22T18:17:41.143Z"
   },
   {
    "duration": 14,
    "start_time": "2025-01-22T18:17:41.157Z"
   },
   {
    "duration": 10,
    "start_time": "2025-01-22T18:17:41.173Z"
   },
   {
    "duration": 52,
    "start_time": "2025-01-22T18:17:41.184Z"
   },
   {
    "duration": 799,
    "start_time": "2025-01-22T18:17:41.238Z"
   },
   {
    "duration": 315,
    "start_time": "2025-01-22T18:17:42.039Z"
   },
   {
    "duration": 630,
    "start_time": "2025-01-22T18:17:42.356Z"
   },
   {
    "duration": 569,
    "start_time": "2025-01-22T18:17:42.990Z"
   },
   {
    "duration": 227,
    "start_time": "2025-01-22T18:17:43.561Z"
   },
   {
    "duration": 224,
    "start_time": "2025-01-22T18:17:43.791Z"
   },
   {
    "duration": 226,
    "start_time": "2025-01-22T18:17:44.017Z"
   },
   {
    "duration": 307,
    "start_time": "2025-01-22T18:17:44.246Z"
   },
   {
    "duration": 230,
    "start_time": "2025-01-22T18:17:44.555Z"
   },
   {
    "duration": 612,
    "start_time": "2025-01-22T18:17:44.787Z"
   },
   {
    "duration": 0,
    "start_time": "2025-01-22T18:17:45.401Z"
   },
   {
    "duration": 17,
    "start_time": "2025-01-22T18:23:30.763Z"
   },
   {
    "duration": 19,
    "start_time": "2025-01-22T18:25:33.259Z"
   },
   {
    "duration": 6,
    "start_time": "2025-01-22T18:41:18.105Z"
   },
   {
    "duration": 6,
    "start_time": "2025-01-22T18:42:50.992Z"
   },
   {
    "duration": 19,
    "start_time": "2025-01-22T18:45:42.317Z"
   },
   {
    "duration": 5,
    "start_time": "2025-01-22T18:46:42.788Z"
   },
   {
    "duration": 23,
    "start_time": "2025-01-22T18:47:22.051Z"
   },
   {
    "duration": 5,
    "start_time": "2025-01-22T18:48:34.757Z"
   },
   {
    "duration": 33,
    "start_time": "2025-01-22T18:49:54.959Z"
   },
   {
    "duration": 407,
    "start_time": "2025-01-22T18:52:21.355Z"
   },
   {
    "duration": 48,
    "start_time": "2025-01-22T18:52:48.788Z"
   },
   {
    "duration": 30,
    "start_time": "2025-01-22T18:53:36.744Z"
   },
   {
    "duration": 49,
    "start_time": "2025-01-22T18:54:00.645Z"
   },
   {
    "duration": 59,
    "start_time": "2025-01-22T18:54:20.914Z"
   },
   {
    "duration": 29,
    "start_time": "2025-01-22T18:54:37.080Z"
   },
   {
    "duration": 31,
    "start_time": "2025-01-22T18:56:00.943Z"
   },
   {
    "duration": 30,
    "start_time": "2025-01-22T18:57:13.416Z"
   },
   {
    "duration": 25,
    "start_time": "2025-01-22T19:02:49.587Z"
   },
   {
    "duration": 26,
    "start_time": "2025-01-22T19:03:51.202Z"
   },
   {
    "duration": 22,
    "start_time": "2025-01-22T19:04:22.217Z"
   },
   {
    "duration": 18,
    "start_time": "2025-01-22T19:05:04.268Z"
   },
   {
    "duration": 21,
    "start_time": "2025-01-22T19:05:58.549Z"
   },
   {
    "duration": 323,
    "start_time": "2025-01-22T19:06:35.957Z"
   },
   {
    "duration": 165,
    "start_time": "2025-01-22T19:06:36.283Z"
   },
   {
    "duration": 10,
    "start_time": "2025-01-22T19:06:36.450Z"
   },
   {
    "duration": 7,
    "start_time": "2025-01-22T19:06:36.463Z"
   },
   {
    "duration": 9,
    "start_time": "2025-01-22T19:06:36.472Z"
   },
   {
    "duration": 5,
    "start_time": "2025-01-22T19:06:36.483Z"
   },
   {
    "duration": 11,
    "start_time": "2025-01-22T19:06:36.490Z"
   },
   {
    "duration": 45,
    "start_time": "2025-01-22T19:06:36.503Z"
   },
   {
    "duration": 4,
    "start_time": "2025-01-22T19:06:36.550Z"
   },
   {
    "duration": 56,
    "start_time": "2025-01-22T19:06:36.557Z"
   },
   {
    "duration": 12,
    "start_time": "2025-01-22T19:06:36.630Z"
   },
   {
    "duration": 4,
    "start_time": "2025-01-22T19:06:36.644Z"
   },
   {
    "duration": 27,
    "start_time": "2025-01-22T19:06:36.649Z"
   },
   {
    "duration": 15,
    "start_time": "2025-01-22T19:06:36.677Z"
   },
   {
    "duration": 5,
    "start_time": "2025-01-22T19:06:36.693Z"
   },
   {
    "duration": 37,
    "start_time": "2025-01-22T19:06:36.733Z"
   },
   {
    "duration": 11,
    "start_time": "2025-01-22T19:06:36.772Z"
   },
   {
    "duration": 25,
    "start_time": "2025-01-22T19:06:36.785Z"
   },
   {
    "duration": 44,
    "start_time": "2025-01-22T19:06:36.812Z"
   },
   {
    "duration": 16,
    "start_time": "2025-01-22T19:06:36.858Z"
   },
   {
    "duration": 14,
    "start_time": "2025-01-22T19:06:36.876Z"
   },
   {
    "duration": 39,
    "start_time": "2025-01-22T19:06:36.892Z"
   },
   {
    "duration": 10,
    "start_time": "2025-01-22T19:06:36.933Z"
   },
   {
    "duration": 26,
    "start_time": "2025-01-22T19:06:36.945Z"
   },
   {
    "duration": 865,
    "start_time": "2025-01-22T19:06:36.973Z"
   },
   {
    "duration": 346,
    "start_time": "2025-01-22T19:06:37.840Z"
   },
   {
    "duration": 718,
    "start_time": "2025-01-22T19:06:38.188Z"
   },
   {
    "duration": 563,
    "start_time": "2025-01-22T19:06:38.911Z"
   },
   {
    "duration": 219,
    "start_time": "2025-01-22T19:06:39.476Z"
   },
   {
    "duration": 221,
    "start_time": "2025-01-22T19:06:39.697Z"
   },
   {
    "duration": 276,
    "start_time": "2025-01-22T19:06:39.921Z"
   },
   {
    "duration": 333,
    "start_time": "2025-01-22T19:06:40.198Z"
   },
   {
    "duration": 220,
    "start_time": "2025-01-22T19:06:40.533Z"
   },
   {
    "duration": 18,
    "start_time": "2025-01-22T19:06:40.755Z"
   },
   {
    "duration": 23,
    "start_time": "2025-01-22T19:06:40.775Z"
   },
   {
    "duration": 349,
    "start_time": "2025-01-22T19:08:42.297Z"
   },
   {
    "duration": 24,
    "start_time": "2025-01-22T19:09:26.243Z"
   },
   {
    "duration": 23,
    "start_time": "2025-01-22T19:09:53.923Z"
   },
   {
    "duration": 26,
    "start_time": "2025-01-22T19:10:38.882Z"
   },
   {
    "duration": 30,
    "start_time": "2025-01-22T19:11:47.934Z"
   },
   {
    "duration": 24,
    "start_time": "2025-01-22T19:11:53.991Z"
   },
   {
    "duration": 26,
    "start_time": "2025-01-22T19:12:29.120Z"
   },
   {
    "duration": 26,
    "start_time": "2025-01-22T19:12:43.802Z"
   },
   {
    "duration": 23,
    "start_time": "2025-01-22T19:13:49.697Z"
   },
   {
    "duration": 7,
    "start_time": "2025-01-22T19:14:10.633Z"
   },
   {
    "duration": 30,
    "start_time": "2025-01-22T19:14:37.926Z"
   },
   {
    "duration": 26,
    "start_time": "2025-01-22T19:16:09.113Z"
   },
   {
    "duration": 411,
    "start_time": "2025-01-22T19:20:22.101Z"
   },
   {
    "duration": 25,
    "start_time": "2025-01-22T19:20:36.049Z"
   },
   {
    "duration": 30,
    "start_time": "2025-01-22T19:21:11.558Z"
   },
   {
    "duration": 28,
    "start_time": "2025-01-22T19:22:18.155Z"
   },
   {
    "duration": 31,
    "start_time": "2025-01-22T19:22:44.436Z"
   },
   {
    "duration": 174,
    "start_time": "2025-01-23T21:03:07.612Z"
   },
   {
    "duration": 303,
    "start_time": "2025-01-23T21:03:12.859Z"
   },
   {
    "duration": 217,
    "start_time": "2025-01-23T21:03:13.164Z"
   },
   {
    "duration": 10,
    "start_time": "2025-01-23T21:03:13.382Z"
   },
   {
    "duration": 7,
    "start_time": "2025-01-23T21:03:13.395Z"
   },
   {
    "duration": 10,
    "start_time": "2025-01-23T21:03:13.403Z"
   },
   {
    "duration": 5,
    "start_time": "2025-01-23T21:03:13.415Z"
   },
   {
    "duration": 10,
    "start_time": "2025-01-23T21:03:13.422Z"
   },
   {
    "duration": 14,
    "start_time": "2025-01-23T21:03:13.434Z"
   },
   {
    "duration": 4,
    "start_time": "2025-01-23T21:03:13.449Z"
   },
   {
    "duration": 68,
    "start_time": "2025-01-23T21:03:13.456Z"
   },
   {
    "duration": 12,
    "start_time": "2025-01-23T21:03:13.526Z"
   },
   {
    "duration": 5,
    "start_time": "2025-01-23T21:03:13.540Z"
   },
   {
    "duration": 27,
    "start_time": "2025-01-23T21:03:13.547Z"
   },
   {
    "duration": 38,
    "start_time": "2025-01-23T21:03:13.576Z"
   },
   {
    "duration": 5,
    "start_time": "2025-01-23T21:03:13.616Z"
   },
   {
    "duration": 31,
    "start_time": "2025-01-23T21:03:13.623Z"
   },
   {
    "duration": 9,
    "start_time": "2025-01-23T21:03:13.656Z"
   },
   {
    "duration": 44,
    "start_time": "2025-01-23T21:03:13.667Z"
   },
   {
    "duration": 24,
    "start_time": "2025-01-23T21:03:13.713Z"
   },
   {
    "duration": 12,
    "start_time": "2025-01-23T21:03:13.739Z"
   },
   {
    "duration": 12,
    "start_time": "2025-01-23T21:03:13.752Z"
   },
   {
    "duration": 14,
    "start_time": "2025-01-23T21:03:13.766Z"
   },
   {
    "duration": 9,
    "start_time": "2025-01-23T21:03:13.808Z"
   },
   {
    "duration": 22,
    "start_time": "2025-01-23T21:03:13.819Z"
   },
   {
    "duration": 2753,
    "start_time": "2025-01-23T21:03:13.843Z"
   },
   {
    "duration": 230,
    "start_time": "2025-01-23T21:03:16.600Z"
   },
   {
    "duration": 691,
    "start_time": "2025-01-23T21:03:16.832Z"
   },
   {
    "duration": 543,
    "start_time": "2025-01-23T21:03:17.527Z"
   },
   {
    "duration": 216,
    "start_time": "2025-01-23T21:03:18.073Z"
   },
   {
    "duration": 279,
    "start_time": "2025-01-23T21:03:18.291Z"
   },
   {
    "duration": 211,
    "start_time": "2025-01-23T21:03:18.571Z"
   },
   {
    "duration": 216,
    "start_time": "2025-01-23T21:03:18.784Z"
   },
   {
    "duration": 213,
    "start_time": "2025-01-23T21:03:19.003Z"
   },
   {
    "duration": 25,
    "start_time": "2025-01-23T21:03:19.218Z"
   },
   {
    "duration": 25,
    "start_time": "2025-01-23T21:03:19.244Z"
   },
   {
    "duration": 28,
    "start_time": "2025-01-23T21:05:28.465Z"
   },
   {
    "duration": 28,
    "start_time": "2025-01-23T21:06:35.059Z"
   },
   {
    "duration": 32,
    "start_time": "2025-01-23T21:07:45.849Z"
   },
   {
    "duration": 147,
    "start_time": "2025-01-23T21:09:16.335Z"
   },
   {
    "duration": 296,
    "start_time": "2025-01-23T21:11:05.663Z"
   },
   {
    "duration": 156,
    "start_time": "2025-01-23T21:11:05.961Z"
   },
   {
    "duration": 10,
    "start_time": "2025-01-23T21:11:06.118Z"
   },
   {
    "duration": 6,
    "start_time": "2025-01-23T21:11:06.130Z"
   },
   {
    "duration": 7,
    "start_time": "2025-01-23T21:11:06.138Z"
   },
   {
    "duration": 6,
    "start_time": "2025-01-23T21:11:06.147Z"
   },
   {
    "duration": 11,
    "start_time": "2025-01-23T21:11:06.154Z"
   },
   {
    "duration": 48,
    "start_time": "2025-01-23T21:11:06.167Z"
   },
   {
    "duration": 5,
    "start_time": "2025-01-23T21:11:06.217Z"
   },
   {
    "duration": 41,
    "start_time": "2025-01-23T21:11:06.223Z"
   },
   {
    "duration": 12,
    "start_time": "2025-01-23T21:11:06.266Z"
   },
   {
    "duration": 28,
    "start_time": "2025-01-23T21:11:06.280Z"
   },
   {
    "duration": 30,
    "start_time": "2025-01-23T21:11:06.311Z"
   },
   {
    "duration": 16,
    "start_time": "2025-01-23T21:11:06.346Z"
   },
   {
    "duration": 5,
    "start_time": "2025-01-23T21:11:06.364Z"
   },
   {
    "duration": 58,
    "start_time": "2025-01-23T21:11:06.371Z"
   },
   {
    "duration": 8,
    "start_time": "2025-01-23T21:11:06.431Z"
   },
   {
    "duration": 19,
    "start_time": "2025-01-23T21:11:06.441Z"
   },
   {
    "duration": 49,
    "start_time": "2025-01-23T21:11:06.462Z"
   },
   {
    "duration": 12,
    "start_time": "2025-01-23T21:11:06.513Z"
   },
   {
    "duration": 12,
    "start_time": "2025-01-23T21:11:06.527Z"
   },
   {
    "duration": 13,
    "start_time": "2025-01-23T21:11:06.541Z"
   },
   {
    "duration": 9,
    "start_time": "2025-01-23T21:11:06.555Z"
   },
   {
    "duration": 55,
    "start_time": "2025-01-23T21:11:06.565Z"
   },
   {
    "duration": 747,
    "start_time": "2025-01-23T21:11:06.622Z"
   },
   {
    "duration": 300,
    "start_time": "2025-01-23T21:11:07.370Z"
   },
   {
    "duration": 660,
    "start_time": "2025-01-23T21:11:07.672Z"
   },
   {
    "duration": 524,
    "start_time": "2025-01-23T21:11:08.334Z"
   },
   {
    "duration": 216,
    "start_time": "2025-01-23T21:11:08.860Z"
   },
   {
    "duration": 208,
    "start_time": "2025-01-23T21:11:09.078Z"
   },
   {
    "duration": 213,
    "start_time": "2025-01-23T21:11:09.288Z"
   },
   {
    "duration": 315,
    "start_time": "2025-01-23T21:11:09.502Z"
   },
   {
    "duration": 212,
    "start_time": "2025-01-23T21:11:09.819Z"
   },
   {
    "duration": 150,
    "start_time": "2025-01-23T21:11:10.033Z"
   },
   {
    "duration": 0,
    "start_time": "2025-01-23T21:11:10.185Z"
   },
   {
    "duration": 30,
    "start_time": "2025-01-23T21:14:19.366Z"
   },
   {
    "duration": 531,
    "start_time": "2025-01-24T05:02:46.025Z"
   },
   {
    "duration": 228,
    "start_time": "2025-01-24T05:02:46.558Z"
   },
   {
    "duration": 10,
    "start_time": "2025-01-24T05:02:46.788Z"
   },
   {
    "duration": 7,
    "start_time": "2025-01-24T05:02:46.800Z"
   },
   {
    "duration": 9,
    "start_time": "2025-01-24T05:02:46.810Z"
   },
   {
    "duration": 5,
    "start_time": "2025-01-24T05:02:46.821Z"
   },
   {
    "duration": 10,
    "start_time": "2025-01-24T05:02:46.827Z"
   },
   {
    "duration": 14,
    "start_time": "2025-01-24T05:02:46.839Z"
   },
   {
    "duration": 5,
    "start_time": "2025-01-24T05:02:46.854Z"
   },
   {
    "duration": 78,
    "start_time": "2025-01-24T05:02:46.862Z"
   },
   {
    "duration": 12,
    "start_time": "2025-01-24T05:02:46.941Z"
   },
   {
    "duration": 5,
    "start_time": "2025-01-24T05:02:46.954Z"
   },
   {
    "duration": 45,
    "start_time": "2025-01-24T05:02:46.960Z"
   },
   {
    "duration": 14,
    "start_time": "2025-01-24T05:02:47.009Z"
   },
   {
    "duration": 5,
    "start_time": "2025-01-24T05:02:47.024Z"
   },
   {
    "duration": 31,
    "start_time": "2025-01-24T05:02:47.031Z"
   },
   {
    "duration": 9,
    "start_time": "2025-01-24T05:02:47.064Z"
   },
   {
    "duration": 45,
    "start_time": "2025-01-24T05:02:47.075Z"
   },
   {
    "duration": 27,
    "start_time": "2025-01-24T05:02:47.122Z"
   },
   {
    "duration": 13,
    "start_time": "2025-01-24T05:02:47.151Z"
   },
   {
    "duration": 39,
    "start_time": "2025-01-24T05:02:47.166Z"
   },
   {
    "duration": 13,
    "start_time": "2025-01-24T05:02:47.207Z"
   },
   {
    "duration": 8,
    "start_time": "2025-01-24T05:02:47.222Z"
   },
   {
    "duration": 23,
    "start_time": "2025-01-24T05:02:47.232Z"
   },
   {
    "duration": 2531,
    "start_time": "2025-01-24T05:02:47.257Z"
   },
   {
    "duration": 232,
    "start_time": "2025-01-24T05:02:49.791Z"
   },
   {
    "duration": 670,
    "start_time": "2025-01-24T05:02:50.025Z"
   },
   {
    "duration": 531,
    "start_time": "2025-01-24T05:02:50.697Z"
   },
   {
    "duration": 220,
    "start_time": "2025-01-24T05:02:51.231Z"
   },
   {
    "duration": 301,
    "start_time": "2025-01-24T05:02:51.453Z"
   },
   {
    "duration": 223,
    "start_time": "2025-01-24T05:02:51.756Z"
   },
   {
    "duration": 211,
    "start_time": "2025-01-24T05:02:51.981Z"
   },
   {
    "duration": 223,
    "start_time": "2025-01-24T05:02:52.194Z"
   },
   {
    "duration": 300,
    "start_time": "2025-01-27T21:38:06.061Z"
   },
   {
    "duration": 220,
    "start_time": "2025-01-27T21:38:06.363Z"
   },
   {
    "duration": 9,
    "start_time": "2025-01-27T21:38:06.585Z"
   },
   {
    "duration": 10,
    "start_time": "2025-01-27T21:38:06.596Z"
   },
   {
    "duration": 8,
    "start_time": "2025-01-27T21:38:06.608Z"
   },
   {
    "duration": 6,
    "start_time": "2025-01-27T21:38:06.618Z"
   },
   {
    "duration": 11,
    "start_time": "2025-01-27T21:38:06.625Z"
   },
   {
    "duration": 14,
    "start_time": "2025-01-27T21:38:06.637Z"
   },
   {
    "duration": 3,
    "start_time": "2025-01-27T21:38:06.653Z"
   },
   {
    "duration": 72,
    "start_time": "2025-01-27T21:38:06.658Z"
   },
   {
    "duration": 12,
    "start_time": "2025-01-27T21:38:06.732Z"
   },
   {
    "duration": 4,
    "start_time": "2025-01-27T21:38:06.746Z"
   },
   {
    "duration": 25,
    "start_time": "2025-01-27T21:38:06.752Z"
   },
   {
    "duration": 15,
    "start_time": "2025-01-27T21:38:06.806Z"
   },
   {
    "duration": 4,
    "start_time": "2025-01-27T21:38:06.823Z"
   },
   {
    "duration": 31,
    "start_time": "2025-01-27T21:38:06.830Z"
   },
   {
    "duration": 9,
    "start_time": "2025-01-27T21:38:06.863Z"
   },
   {
    "duration": 50,
    "start_time": "2025-01-27T21:38:06.873Z"
   },
   {
    "duration": 27,
    "start_time": "2025-01-27T21:38:06.925Z"
   },
   {
    "duration": 13,
    "start_time": "2025-01-27T21:38:06.954Z"
   },
   {
    "duration": 37,
    "start_time": "2025-01-27T21:38:06.968Z"
   },
   {
    "duration": 16,
    "start_time": "2025-01-27T21:38:07.007Z"
   },
   {
    "duration": 12,
    "start_time": "2025-01-27T21:38:07.025Z"
   },
   {
    "duration": 24,
    "start_time": "2025-01-27T21:38:07.038Z"
   },
   {
    "duration": 2526,
    "start_time": "2025-01-27T21:38:07.063Z"
   },
   {
    "duration": 233,
    "start_time": "2025-01-27T21:38:09.592Z"
   },
   {
    "duration": 696,
    "start_time": "2025-01-27T21:38:09.827Z"
   },
   {
    "duration": 504,
    "start_time": "2025-01-27T21:38:10.525Z"
   },
   {
    "duration": 292,
    "start_time": "2025-01-27T21:38:11.031Z"
   },
   {
    "duration": 213,
    "start_time": "2025-01-27T21:38:11.325Z"
   },
   {
    "duration": 217,
    "start_time": "2025-01-27T21:38:11.540Z"
   },
   {
    "duration": 225,
    "start_time": "2025-01-27T21:38:11.758Z"
   },
   {
    "duration": 223,
    "start_time": "2025-01-27T21:38:11.985Z"
   },
   {
    "duration": 31,
    "start_time": "2025-01-27T21:38:12.210Z"
   },
   {
    "duration": 25,
    "start_time": "2025-01-27T21:38:12.243Z"
   },
   {
    "duration": 27,
    "start_time": "2025-01-27T21:44:23.286Z"
   },
   {
    "duration": 29,
    "start_time": "2025-01-27T21:44:50.504Z"
   },
   {
    "duration": 30,
    "start_time": "2025-01-27T21:45:13.898Z"
   },
   {
    "duration": 693,
    "start_time": "2025-01-27T21:50:06.669Z"
   },
   {
    "duration": 33,
    "start_time": "2025-01-27T21:53:23.903Z"
   },
   {
    "duration": 27,
    "start_time": "2025-01-27T21:53:42.313Z"
   },
   {
    "duration": 5,
    "start_time": "2025-01-27T21:54:08.093Z"
   },
   {
    "duration": 29,
    "start_time": "2025-01-27T22:02:14.037Z"
   },
   {
    "duration": 20,
    "start_time": "2025-01-27T22:03:04.458Z"
   },
   {
    "duration": 8,
    "start_time": "2025-01-27T22:03:10.088Z"
   },
   {
    "duration": 44,
    "start_time": "2025-01-27T22:03:47.719Z"
   },
   {
    "duration": 167,
    "start_time": "2025-01-28T02:01:05.259Z"
   },
   {
    "duration": 304,
    "start_time": "2025-01-28T02:01:09.509Z"
   },
   {
    "duration": 230,
    "start_time": "2025-01-28T02:01:09.815Z"
   },
   {
    "duration": 10,
    "start_time": "2025-01-28T02:01:10.047Z"
   },
   {
    "duration": 6,
    "start_time": "2025-01-28T02:01:10.059Z"
   },
   {
    "duration": 8,
    "start_time": "2025-01-28T02:01:10.068Z"
   },
   {
    "duration": 6,
    "start_time": "2025-01-28T02:01:10.077Z"
   },
   {
    "duration": 11,
    "start_time": "2025-01-28T02:01:10.084Z"
   },
   {
    "duration": 15,
    "start_time": "2025-01-28T02:01:10.097Z"
   },
   {
    "duration": 4,
    "start_time": "2025-01-28T02:01:10.113Z"
   },
   {
    "duration": 73,
    "start_time": "2025-01-28T02:01:10.118Z"
   },
   {
    "duration": 11,
    "start_time": "2025-01-28T02:01:10.193Z"
   },
   {
    "duration": 5,
    "start_time": "2025-01-28T02:01:10.206Z"
   },
   {
    "duration": 25,
    "start_time": "2025-01-28T02:01:10.213Z"
   },
   {
    "duration": 34,
    "start_time": "2025-01-28T02:01:10.241Z"
   },
   {
    "duration": 5,
    "start_time": "2025-01-28T02:01:10.276Z"
   },
   {
    "duration": 31,
    "start_time": "2025-01-28T02:01:10.282Z"
   },
   {
    "duration": 9,
    "start_time": "2025-01-28T02:01:10.315Z"
   },
   {
    "duration": 44,
    "start_time": "2025-01-28T02:01:10.326Z"
   },
   {
    "duration": 26,
    "start_time": "2025-01-28T02:01:10.371Z"
   },
   {
    "duration": 12,
    "start_time": "2025-01-28T02:01:10.399Z"
   },
   {
    "duration": 11,
    "start_time": "2025-01-28T02:01:10.413Z"
   },
   {
    "duration": 14,
    "start_time": "2025-01-28T02:01:10.426Z"
   },
   {
    "duration": 10,
    "start_time": "2025-01-28T02:01:10.470Z"
   },
   {
    "duration": 25,
    "start_time": "2025-01-28T02:01:10.482Z"
   },
   {
    "duration": 2513,
    "start_time": "2025-01-28T02:01:10.510Z"
   },
   {
    "duration": 283,
    "start_time": "2025-01-28T02:01:13.026Z"
   },
   {
    "duration": 695,
    "start_time": "2025-01-28T02:01:13.311Z"
   },
   {
    "duration": 533,
    "start_time": "2025-01-28T02:01:14.008Z"
   },
   {
    "duration": 218,
    "start_time": "2025-01-28T02:01:14.543Z"
   },
   {
    "duration": 231,
    "start_time": "2025-01-28T02:01:14.763Z"
   },
   {
    "duration": 220,
    "start_time": "2025-01-28T02:01:14.995Z"
   },
   {
    "duration": 301,
    "start_time": "2025-01-28T02:01:15.217Z"
   },
   {
    "duration": 218,
    "start_time": "2025-01-28T02:01:15.519Z"
   },
   {
    "duration": 9,
    "start_time": "2025-01-28T02:01:15.739Z"
   },
   {
    "duration": 89,
    "start_time": "2025-01-28T02:01:15.750Z"
   },
   {
    "duration": 13,
    "start_time": "2025-01-28T02:01:27.019Z"
   },
   {
    "duration": 23,
    "start_time": "2025-01-28T02:01:51.203Z"
   }
  ],
  "colab": {
   "provenance": []
  },
  "kernelspec": {
   "display_name": "Python 3 (ipykernel)",
   "language": "python",
   "name": "python3"
  },
  "language_info": {
   "codemirror_mode": {
    "name": "ipython",
    "version": 3
   },
   "file_extension": ".py",
   "mimetype": "text/x-python",
   "name": "python",
   "nbconvert_exporter": "python",
   "pygments_lexer": "ipython3",
   "version": "3.9.19"
  },
  "toc": {
   "base_numbering": 1,
   "nav_menu": {},
   "number_sections": true,
   "sideBar": true,
   "skip_h1_title": false,
   "title_cell": "Table of Contents",
   "title_sidebar": "Contents",
   "toc_cell": false,
   "toc_position": {},
   "toc_section_display": true,
   "toc_window_display": true
  }
 },
 "nbformat": 4,
 "nbformat_minor": 1
}
